{
 "cells": [
  {
   "cell_type": "code",
   "execution_count": 1,
   "id": "e1e065f6-79f5-4f64-8514-3470899bfddc",
   "metadata": {},
   "outputs": [],
   "source": [
    "import pickle\n",
    "import pandas as pd"
   ]
  },
  {
   "cell_type": "code",
   "execution_count": 8,
   "id": "00658730-126e-4e90-adec-fd118775696e",
   "metadata": {},
   "outputs": [
    {
     "name": "stdout",
     "output_type": "stream",
     "text": [
      "New unseen test data CSV file 'unseen_test_data_original.csv' created successfully.\n"
     ]
    }
   ],
   "source": [
    "columns = [\n",
    "    'Food Product', \n",
    "    'Main Ingredient', \n",
    "    'Sweetener', \n",
    "    'Fat/Oil', \n",
    "    'Seasoning', \n",
    "    'Allergens', \n",
    "    'Price ($)', \n",
    "    'Customer rating'\n",
    "]\n",
    "\n",
    "unseen_data_original = pd.DataFrame([\n",
    "    ['Almond Cookies', 'Almonds', 'Sugar', 'Butter', 'Flour', 'Almonds, Wheat, Dairy', 10.50, 3.5],\n",
    "    ['Chicken Noodle Soup', 'Chicken broth', 'None', 'None', 'Salt', 'Chicken, Wheat, Celery', 11.75, 4.2],\n",
    "    ['Cheddar Cheese', 'Cheese', 'None', 'None', 'Salt', 'Dairy', 18.20, 4.8],\n",
    "    ['Rice Cake', 'Rice', 'None', 'None', 'Salt', 'None', 5.75, 3.8],\n",
    "    ['Pasta Salad', 'Wheat', 'Honey', 'Olive Oil', 'Herbs', 'Wheat, Honey', 12.00, 3.9],\n",
    "    ['Grilled Chicken', 'Chicken', 'None', 'Olive Oil', 'Pepper', 'Chicken', 19.50, 4.5],\n",
    "    ['Vegan Salad', 'Lettuce', 'Agave', 'None', 'Lemon Juice', 'None', 8.50, 4.0]\n",
    "], columns=columns)\n",
    "\n",
    "unseen_data_original.to_csv('../Dataset/unseen_test_data_original.csv', index=False)\n",
    "print(\"New unseen test data CSV file 'unseen_test_data_original.csv' created successfully.\")"
   ]
  },
  {
   "cell_type": "code",
   "execution_count": 9,
   "id": "76c84454-f629-4684-a336-6f3d038abbc8",
   "metadata": {},
   "outputs": [
    {
     "data": {
      "text/html": [
       "<div>\n",
       "<style scoped>\n",
       "    .dataframe tbody tr th:only-of-type {\n",
       "        vertical-align: middle;\n",
       "    }\n",
       "\n",
       "    .dataframe tbody tr th {\n",
       "        vertical-align: top;\n",
       "    }\n",
       "\n",
       "    .dataframe thead th {\n",
       "        text-align: right;\n",
       "    }\n",
       "</style>\n",
       "<table border=\"1\" class=\"dataframe\">\n",
       "  <thead>\n",
       "    <tr style=\"text-align: right;\">\n",
       "      <th></th>\n",
       "      <th>Food Product</th>\n",
       "      <th>Main Ingredient</th>\n",
       "      <th>Sweetener</th>\n",
       "      <th>Fat/Oil</th>\n",
       "      <th>Seasoning</th>\n",
       "      <th>Allergens</th>\n",
       "      <th>Price ($)</th>\n",
       "      <th>Customer rating</th>\n",
       "    </tr>\n",
       "  </thead>\n",
       "  <tbody>\n",
       "    <tr>\n",
       "      <th>0</th>\n",
       "      <td>Almond Cookies</td>\n",
       "      <td>Almonds</td>\n",
       "      <td>Sugar</td>\n",
       "      <td>Butter</td>\n",
       "      <td>Flour</td>\n",
       "      <td>Almonds, Wheat, Dairy</td>\n",
       "      <td>10.50</td>\n",
       "      <td>3.5</td>\n",
       "    </tr>\n",
       "    <tr>\n",
       "      <th>1</th>\n",
       "      <td>Chicken Noodle Soup</td>\n",
       "      <td>Chicken broth</td>\n",
       "      <td>None</td>\n",
       "      <td>None</td>\n",
       "      <td>Salt</td>\n",
       "      <td>Chicken, Wheat, Celery</td>\n",
       "      <td>11.75</td>\n",
       "      <td>4.2</td>\n",
       "    </tr>\n",
       "    <tr>\n",
       "      <th>2</th>\n",
       "      <td>Cheddar Cheese</td>\n",
       "      <td>Cheese</td>\n",
       "      <td>None</td>\n",
       "      <td>None</td>\n",
       "      <td>Salt</td>\n",
       "      <td>Dairy</td>\n",
       "      <td>18.20</td>\n",
       "      <td>4.8</td>\n",
       "    </tr>\n",
       "    <tr>\n",
       "      <th>3</th>\n",
       "      <td>Rice Cake</td>\n",
       "      <td>Rice</td>\n",
       "      <td>None</td>\n",
       "      <td>None</td>\n",
       "      <td>Salt</td>\n",
       "      <td>None</td>\n",
       "      <td>5.75</td>\n",
       "      <td>3.8</td>\n",
       "    </tr>\n",
       "    <tr>\n",
       "      <th>4</th>\n",
       "      <td>Pasta Salad</td>\n",
       "      <td>Wheat</td>\n",
       "      <td>Honey</td>\n",
       "      <td>Olive Oil</td>\n",
       "      <td>Herbs</td>\n",
       "      <td>Wheat, Honey</td>\n",
       "      <td>12.00</td>\n",
       "      <td>3.9</td>\n",
       "    </tr>\n",
       "    <tr>\n",
       "      <th>5</th>\n",
       "      <td>Grilled Chicken</td>\n",
       "      <td>Chicken</td>\n",
       "      <td>None</td>\n",
       "      <td>Olive Oil</td>\n",
       "      <td>Pepper</td>\n",
       "      <td>Chicken</td>\n",
       "      <td>19.50</td>\n",
       "      <td>4.5</td>\n",
       "    </tr>\n",
       "    <tr>\n",
       "      <th>6</th>\n",
       "      <td>Vegan Salad</td>\n",
       "      <td>Lettuce</td>\n",
       "      <td>Agave</td>\n",
       "      <td>None</td>\n",
       "      <td>Lemon Juice</td>\n",
       "      <td>None</td>\n",
       "      <td>8.50</td>\n",
       "      <td>4.0</td>\n",
       "    </tr>\n",
       "  </tbody>\n",
       "</table>\n",
       "</div>"
      ],
      "text/plain": [
       "          Food Product Main Ingredient Sweetener    Fat/Oil    Seasoning  \\\n",
       "0       Almond Cookies         Almonds     Sugar     Butter        Flour   \n",
       "1  Chicken Noodle Soup   Chicken broth      None       None         Salt   \n",
       "2       Cheddar Cheese          Cheese      None       None         Salt   \n",
       "3            Rice Cake            Rice      None       None         Salt   \n",
       "4          Pasta Salad           Wheat     Honey  Olive Oil        Herbs   \n",
       "5      Grilled Chicken         Chicken      None  Olive Oil       Pepper   \n",
       "6          Vegan Salad         Lettuce     Agave       None  Lemon Juice   \n",
       "\n",
       "                Allergens  Price ($)  Customer rating  \n",
       "0   Almonds, Wheat, Dairy      10.50              3.5  \n",
       "1  Chicken, Wheat, Celery      11.75              4.2  \n",
       "2                   Dairy      18.20              4.8  \n",
       "3                    None       5.75              3.8  \n",
       "4            Wheat, Honey      12.00              3.9  \n",
       "5                 Chicken      19.50              4.5  \n",
       "6                    None       8.50              4.0  "
      ]
     },
     "execution_count": 9,
     "metadata": {},
     "output_type": "execute_result"
    }
   ],
   "source": [
    "# Load the dataset\n",
    "example_dataset = pd.read_csv(\"../Dataset/unseen_test_data_original.csv\", keep_default_na = False, na_values = [\"\"])\n",
    "example_dataset"
   ]
  },
  {
   "cell_type": "code",
   "execution_count": 10,
   "id": "be1ceadc-55ab-49b4-98fc-ce609be36df3",
   "metadata": {},
   "outputs": [],
   "source": [
    "with open('../Model/leave_one_out_encoder.pkl', 'rb') as file:\n",
    "    loaded_encoder = pickle.load(file)"
   ]
  },
  {
   "cell_type": "code",
   "execution_count": 11,
   "id": "31f17d66-99ea-4b95-aeaa-3f326bc3f08b",
   "metadata": {},
   "outputs": [],
   "source": [
    "categorical_columns = example_dataset.select_dtypes(['object']).columns\n",
    "eg_encoded = loaded_encoder.transform(example_dataset[categorical_columns])\n",
    "example_dataset = pd.concat([example_dataset.drop(categorical_columns,axis = 1), eg_encoded], axis = 1)"
   ]
  },
  {
   "cell_type": "code",
   "execution_count": 12,
   "id": "1a0c285e-2a1e-401c-b1f9-db868e9ac5e8",
   "metadata": {},
   "outputs": [],
   "source": [
    "import joblib\n",
    "# Load the model\n",
    "model = joblib.load(\"../Model/Allergen_detection.pkl\")\n",
    "\n",
    "# Making prediction on new dataset\n",
    "prediction = model.predict(example_dataset)"
   ]
  },
  {
   "cell_type": "code",
   "execution_count": 13,
   "id": "f715cae9-99e1-4b99-a36e-58e712a428c3",
   "metadata": {},
   "outputs": [
    {
     "data": {
      "text/plain": [
       "array([0, 0, 0, 1, 0, 0, 1])"
      ]
     },
     "execution_count": 13,
     "metadata": {},
     "output_type": "execute_result"
    }
   ],
   "source": [
    "prediction"
   ]
  },
  {
   "cell_type": "code",
   "execution_count": null,
   "id": "1a2cb7ed-2788-494f-9915-25f17c6c7f3b",
   "metadata": {},
   "outputs": [],
   "source": []
  }
 ],
 "metadata": {
  "kernelspec": {
   "display_name": "Python 3 (ipykernel)",
   "language": "python",
   "name": "python3"
  },
  "language_info": {
   "codemirror_mode": {
    "name": "ipython",
    "version": 3
   },
   "file_extension": ".py",
   "mimetype": "text/x-python",
   "name": "python",
   "nbconvert_exporter": "python",
   "pygments_lexer": "ipython3",
   "version": "3.12.7"
  }
 },
 "nbformat": 4,
 "nbformat_minor": 5
}

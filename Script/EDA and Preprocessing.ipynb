{
 "cells": [
  {
   "cell_type": "markdown",
   "id": "cd455806-0d06-418c-9629-617dca45db21",
   "metadata": {},
   "source": [
    "# Import Libraries"
   ]
  },
  {
   "cell_type": "code",
   "execution_count": 127,
   "id": "27f6529a-e84d-45ac-a199-eaa872938757",
   "metadata": {},
   "outputs": [],
   "source": [
    "import pandas as pd\n",
    "import numpy as np\n",
    "import matplotlib.pyplot as plt\n",
    "import seaborn as sns\n",
    "import pickle\n",
    "from sklearn.preprocessing import OneHotEncoder, OrdinalEncoder, LabelEncoder, MinMaxScaler, StandardScaler\n",
    "from sklearn.model_selection import train_test_split\n",
    "from category_encoders import LeaveOneOutEncoder"
   ]
  },
  {
   "cell_type": "markdown",
   "id": "16058778-d697-42d5-a65f-52b30f22d762",
   "metadata": {},
   "source": [
    "# Load Dataset "
   ]
  },
  {
   "cell_type": "code",
   "execution_count": 85,
   "id": "719ceb33-c57c-4054-9a2c-0258b49db6d9",
   "metadata": {},
   "outputs": [],
   "source": [
    "df = pd.read_csv(\"../Dataset/Allergen_Status_of_Food_Products.csv\", keep_default_na = False, na_values = [\"\"])"
   ]
  },
  {
   "cell_type": "markdown",
   "id": "267dd618-d9c3-47c0-8c67-8083e013e59d",
   "metadata": {},
   "source": [
    "# Exploratory Data Analysis"
   ]
  },
  {
   "cell_type": "code",
   "execution_count": 86,
   "id": "9fba3af0-aa0d-4bb9-bfec-9c4a8a589184",
   "metadata": {},
   "outputs": [
    {
     "name": "stdout",
     "output_type": "stream",
     "text": [
      "<class 'pandas.core.frame.DataFrame'>\n",
      "RangeIndex: 399 entries, 0 to 398\n",
      "Data columns (total 9 columns):\n",
      " #   Column                      Non-Null Count  Dtype  \n",
      "---  ------                      --------------  -----  \n",
      " 0   Food Product                399 non-null    object \n",
      " 1   Main Ingredient             399 non-null    object \n",
      " 2   Sweetener                   399 non-null    object \n",
      " 3   Fat/Oil                     399 non-null    object \n",
      " 4   Seasoning                   399 non-null    object \n",
      " 5   Allergens                   399 non-null    object \n",
      " 6   Price ($)                   399 non-null    float64\n",
      " 7   Customer rating (Out of 5)  399 non-null    float64\n",
      " 8   Prediction                  398 non-null    object \n",
      "dtypes: float64(2), object(7)\n",
      "memory usage: 28.2+ KB\n"
     ]
    }
   ],
   "source": [
    "df.info()"
   ]
  },
  {
   "cell_type": "code",
   "execution_count": 87,
   "id": "221f6820-5df8-4728-bb89-e56147c24b97",
   "metadata": {},
   "outputs": [
    {
     "data": {
      "text/html": [
       "<div>\n",
       "<style scoped>\n",
       "    .dataframe tbody tr th:only-of-type {\n",
       "        vertical-align: middle;\n",
       "    }\n",
       "\n",
       "    .dataframe tbody tr th {\n",
       "        vertical-align: top;\n",
       "    }\n",
       "\n",
       "    .dataframe thead th {\n",
       "        text-align: right;\n",
       "    }\n",
       "</style>\n",
       "<table border=\"1\" class=\"dataframe\">\n",
       "  <thead>\n",
       "    <tr style=\"text-align: right;\">\n",
       "      <th></th>\n",
       "      <th>Price ($)</th>\n",
       "      <th>Customer rating (Out of 5)</th>\n",
       "    </tr>\n",
       "  </thead>\n",
       "  <tbody>\n",
       "    <tr>\n",
       "      <th>count</th>\n",
       "      <td>399.000000</td>\n",
       "      <td>399.000000</td>\n",
       "    </tr>\n",
       "    <tr>\n",
       "      <th>mean</th>\n",
       "      <td>12.402356</td>\n",
       "      <td>2.991228</td>\n",
       "    </tr>\n",
       "    <tr>\n",
       "      <th>std</th>\n",
       "      <td>4.368315</td>\n",
       "      <td>1.171049</td>\n",
       "    </tr>\n",
       "    <tr>\n",
       "      <th>min</th>\n",
       "      <td>5.070000</td>\n",
       "      <td>1.000000</td>\n",
       "    </tr>\n",
       "    <tr>\n",
       "      <th>25%</th>\n",
       "      <td>8.650000</td>\n",
       "      <td>1.900000</td>\n",
       "    </tr>\n",
       "    <tr>\n",
       "      <th>50%</th>\n",
       "      <td>12.470000</td>\n",
       "      <td>3.100000</td>\n",
       "    </tr>\n",
       "    <tr>\n",
       "      <th>75%</th>\n",
       "      <td>16.105000</td>\n",
       "      <td>4.000000</td>\n",
       "    </tr>\n",
       "    <tr>\n",
       "      <th>max</th>\n",
       "      <td>19.930000</td>\n",
       "      <td>5.000000</td>\n",
       "    </tr>\n",
       "  </tbody>\n",
       "</table>\n",
       "</div>"
      ],
      "text/plain": [
       "        Price ($)  Customer rating (Out of 5)\n",
       "count  399.000000                  399.000000\n",
       "mean    12.402356                    2.991228\n",
       "std      4.368315                    1.171049\n",
       "min      5.070000                    1.000000\n",
       "25%      8.650000                    1.900000\n",
       "50%     12.470000                    3.100000\n",
       "75%     16.105000                    4.000000\n",
       "max     19.930000                    5.000000"
      ]
     },
     "execution_count": 87,
     "metadata": {},
     "output_type": "execute_result"
    }
   ],
   "source": [
    "df.describe()"
   ]
  },
  {
   "cell_type": "code",
   "execution_count": 88,
   "id": "1980bece-0dee-4a49-b3a0-115e43c60aa5",
   "metadata": {},
   "outputs": [
    {
     "data": {
      "text/html": [
       "<div>\n",
       "<style scoped>\n",
       "    .dataframe tbody tr th:only-of-type {\n",
       "        vertical-align: middle;\n",
       "    }\n",
       "\n",
       "    .dataframe tbody tr th {\n",
       "        vertical-align: top;\n",
       "    }\n",
       "\n",
       "    .dataframe thead th {\n",
       "        text-align: right;\n",
       "    }\n",
       "</style>\n",
       "<table border=\"1\" class=\"dataframe\">\n",
       "  <thead>\n",
       "    <tr style=\"text-align: right;\">\n",
       "      <th></th>\n",
       "      <th>Food Product</th>\n",
       "      <th>Main Ingredient</th>\n",
       "      <th>Sweetener</th>\n",
       "      <th>Fat/Oil</th>\n",
       "      <th>Seasoning</th>\n",
       "      <th>Allergens</th>\n",
       "      <th>Price ($)</th>\n",
       "      <th>Customer rating (Out of 5)</th>\n",
       "      <th>Prediction</th>\n",
       "    </tr>\n",
       "  </thead>\n",
       "  <tbody>\n",
       "    <tr>\n",
       "      <th>0</th>\n",
       "      <td>Almond Cookies</td>\n",
       "      <td>Almonds</td>\n",
       "      <td>Sugar</td>\n",
       "      <td>Butter</td>\n",
       "      <td>Flour</td>\n",
       "      <td>Almonds, Wheat, Dairy</td>\n",
       "      <td>10.15</td>\n",
       "      <td>3.1</td>\n",
       "      <td>Contains</td>\n",
       "    </tr>\n",
       "    <tr>\n",
       "      <th>1</th>\n",
       "      <td>Almond Cookies</td>\n",
       "      <td>Almonds</td>\n",
       "      <td>Sugar</td>\n",
       "      <td>Butter</td>\n",
       "      <td>Flour</td>\n",
       "      <td>Almonds, Wheat, Dairy</td>\n",
       "      <td>6.17</td>\n",
       "      <td>4.5</td>\n",
       "      <td>Contains</td>\n",
       "    </tr>\n",
       "    <tr>\n",
       "      <th>2</th>\n",
       "      <td>Chicken Noodle Soup</td>\n",
       "      <td>Chicken broth</td>\n",
       "      <td>None</td>\n",
       "      <td>None</td>\n",
       "      <td>Salt</td>\n",
       "      <td>Chicken, Wheat, Celery</td>\n",
       "      <td>19.65</td>\n",
       "      <td>4.1</td>\n",
       "      <td>Contains</td>\n",
       "    </tr>\n",
       "    <tr>\n",
       "      <th>3</th>\n",
       "      <td>Chicken Noodle Soup</td>\n",
       "      <td>Chicken broth</td>\n",
       "      <td>None</td>\n",
       "      <td>None</td>\n",
       "      <td>Salt</td>\n",
       "      <td>Chicken, Wheat, Celery</td>\n",
       "      <td>17.48</td>\n",
       "      <td>4.7</td>\n",
       "      <td>Contains</td>\n",
       "    </tr>\n",
       "    <tr>\n",
       "      <th>4</th>\n",
       "      <td>Cheddar Cheese</td>\n",
       "      <td>Cheese</td>\n",
       "      <td>None</td>\n",
       "      <td>None</td>\n",
       "      <td>Salt</td>\n",
       "      <td>Dairy</td>\n",
       "      <td>10.83</td>\n",
       "      <td>3.7</td>\n",
       "      <td>Contains</td>\n",
       "    </tr>\n",
       "  </tbody>\n",
       "</table>\n",
       "</div>"
      ],
      "text/plain": [
       "          Food Product Main Ingredient Sweetener Fat/Oil Seasoning  \\\n",
       "0       Almond Cookies         Almonds     Sugar  Butter     Flour   \n",
       "1       Almond Cookies         Almonds     Sugar  Butter     Flour   \n",
       "2  Chicken Noodle Soup   Chicken broth      None    None      Salt   \n",
       "3  Chicken Noodle Soup   Chicken broth      None    None      Salt   \n",
       "4       Cheddar Cheese          Cheese      None    None      Salt   \n",
       "\n",
       "                Allergens  Price ($)  Customer rating (Out of 5) Prediction  \n",
       "0   Almonds, Wheat, Dairy      10.15                         3.1   Contains  \n",
       "1   Almonds, Wheat, Dairy       6.17                         4.5   Contains  \n",
       "2  Chicken, Wheat, Celery      19.65                         4.1   Contains  \n",
       "3  Chicken, Wheat, Celery      17.48                         4.7   Contains  \n",
       "4                   Dairy      10.83                         3.7   Contains  "
      ]
     },
     "execution_count": 88,
     "metadata": {},
     "output_type": "execute_result"
    }
   ],
   "source": [
    "df.head()"
   ]
  },
  {
   "cell_type": "code",
   "execution_count": 89,
   "id": "8a2e71ff-52e3-4e49-aa21-2432bdb632a8",
   "metadata": {},
   "outputs": [
    {
     "data": {
      "text/plain": [
       "(399, 9)"
      ]
     },
     "execution_count": 89,
     "metadata": {},
     "output_type": "execute_result"
    }
   ],
   "source": [
    "df.shape"
   ]
  },
  {
   "cell_type": "code",
   "execution_count": 90,
   "id": "ba8a823f-f03f-442d-b9d5-96af23ac8824",
   "metadata": {},
   "outputs": [
    {
     "data": {
      "text/plain": [
       "Index(['Food Product', 'Main Ingredient', 'Sweetener', 'Fat/Oil', 'Seasoning',\n",
       "       'Allergens', 'Price ($)', 'Customer rating (Out of 5)', 'Prediction'],\n",
       "      dtype='object')"
      ]
     },
     "execution_count": 90,
     "metadata": {},
     "output_type": "execute_result"
    }
   ],
   "source": [
    "df.columns"
   ]
  },
  {
   "cell_type": "code",
   "execution_count": 91,
   "id": "73757f85-07a0-4885-b166-045238ab14b8",
   "metadata": {},
   "outputs": [
    {
     "name": "stdout",
     "output_type": "stream",
     "text": [
      "Food Product \t 259\n",
      "Main Ingredient \t 101\n",
      "Sweetener \t 10\n",
      "Fat/Oil \t 36\n",
      "Seasoning \t 186\n",
      "Allergens \t 40\n",
      "Price ($) \t 345\n",
      "Customer rating (Out of 5) \t 41\n",
      "Prediction \t 2\n"
     ]
    }
   ],
   "source": [
    "for item in list(df.columns):\n",
    "    print(item, \"\\t\" , df[item].nunique())"
   ]
  },
  {
   "cell_type": "code",
   "execution_count": 92,
   "id": "a71f5390-190b-4f67-8d6f-71512b981ffd",
   "metadata": {},
   "outputs": [],
   "source": [
    "Allergen = dict()\n",
    "for i in df[\"Allergens\"]:\n",
    "    i = i.split(\", \")\n",
    "    for j in i:\n",
    "        if j != \"None\":\n",
    "            if j not in Allergen:\n",
    "                Allergen[j] = 0\n",
    "            else:\n",
    "                Allergen[j] += 1"
   ]
  },
  {
   "cell_type": "code",
   "execution_count": 93,
   "id": "8311fdf2-31df-4bdc-93f4-f39ae9785e58",
   "metadata": {},
   "outputs": [
    {
     "data": {
      "text/plain": [
       "{'Almonds': 1,\n",
       " 'Wheat': 95,\n",
       " 'Dairy': 189,\n",
       " 'Chicken': 1,\n",
       " 'Celery': 1,\n",
       " 'Anchovies': 0,\n",
       " 'Cocoa': 2,\n",
       " 'Eggs': 12,\n",
       " 'Fish': 19,\n",
       " 'Ghee': 0,\n",
       " 'Nuts': 4,\n",
       " 'Mustard': 0,\n",
       " 'Soybeans': 16,\n",
       " 'Coconut': 0,\n",
       " 'Milk': 5,\n",
       " 'Strawberries': 1,\n",
       " 'Oats': 0,\n",
       " 'Peanuts': 4,\n",
       " 'Pine nuts': 2,\n",
       " 'Rice': 0,\n",
       " 'Shellfish': 15,\n",
       " 'Pork': 1,\n",
       " 'Alcohol': 0}"
      ]
     },
     "execution_count": 93,
     "metadata": {},
     "output_type": "execute_result"
    }
   ],
   "source": [
    "Allergen"
   ]
  },
  {
   "cell_type": "code",
   "execution_count": 94,
   "id": "55bacda6-94fd-459f-a801-0dcdefd9f81f",
   "metadata": {},
   "outputs": [],
   "source": [
    "df = df.rename(columns= {'Customer rating (Out of 5)' : 'Customer rating',\n",
    "                         'Prediction' : 'Is_Allergen'})"
   ]
  },
  {
   "cell_type": "code",
   "execution_count": 95,
   "id": "cd923110-2c88-44be-80b9-69069d7b3494",
   "metadata": {},
   "outputs": [],
   "source": [
    "categorical = ['Food Product','Main Ingredient','Sweetener','Fat/Oil','Seasoning','Allergens']\n",
    "numerical = ['Price ($)','Customer rating','Is_Allergen']"
   ]
  },
  {
   "cell_type": "code",
   "execution_count": 96,
   "id": "42d356ac-48c4-4e42-ab9b-00df0f8e53db",
   "metadata": {},
   "outputs": [
    {
     "data": {
      "image/png": "[encoded data removed]",
      "text/plain": [
       "<Figure size 640x480 with 3 Axes>"
      ]
     },
     "metadata": {},
     "output_type": "display_data"
    }
   ],
   "source": [
    "for i in range(0, len(numerical)):\n",
    "    plt.subplot(1, len(numerical), i+1)\n",
    "    sns.boxplot(y=df[numerical[i]], color='blue')\n",
    "    plt.tight_layout()"
   ]
  },
  {
   "cell_type": "code",
   "execution_count": 97,
   "id": "ab82cac0-229f-41ae-ab33-6a5bd3272378",
   "metadata": {},
   "outputs": [
    {
     "data": {
      "image/png": "[encoded data removed]",
      "text/plain": [
       "<Figure size 640x480 with 1 Axes>"
      ]
     },
     "metadata": {},
     "output_type": "display_data"
    }
   ],
   "source": [
    "ax = sns.countplot(y=df['Main Ingredient'],orient='v', order=df['Main Ingredient'].value_counts(sort=True).iloc[:10].index)\n",
    "ax.bar_label(ax.containers[0])\n",
    "plt.xlabel('Count')\n",
    "plt.title('Top 10 Main Ingredient Counts')\n",
    "plt.show()"
   ]
  },
  {
   "cell_type": "code",
   "execution_count": 98,
   "id": "b0976242-6725-42ae-b0e8-23ca806d3bf0",
   "metadata": {},
   "outputs": [
    {
     "data": {
      "image/png": "[encoded data removed]",
      "text/plain": [
       "<Figure size 640x480 with 1 Axes>"
      ]
     },
     "metadata": {},
     "output_type": "display_data"
    }
   ],
   "source": [
    "ax = sns.countplot(y=df['Allergens'],orient='v', order=df['Allergens'].value_counts(sort=True).iloc[:10].index)\n",
    "ax.bar_label(ax.containers[0])\n",
    "plt.xlabel('Count')\n",
    "plt.title('Top 10 Allergens Counts')\n",
    "plt.show()"
   ]
  },
  {
   "cell_type": "code",
   "execution_count": 99,
   "id": "a600ba0a-0b82-4e8e-91cb-43aed99fc5b9",
   "metadata": {},
   "outputs": [
    {
     "data": {
      "image/png": "[encoded data removed]",
      "text/plain": [
       "<Figure size 640x480 with 1 Axes>"
      ]
     },
     "metadata": {},
     "output_type": "display_data"
    }
   ],
   "source": [
    "ax = sns.countplot(y=df['Is_Allergen'],orient='v', order=df[\"Is_Allergen\"].value_counts(sort=True).iloc[:2].index)\n",
    "ax.bar_label(ax.containers[0])\n",
    "plt.xlabel('Count')\n",
    "plt.title('Contain Allergen or Not')\n",
    "plt.show()"
   ]
  },
  {
   "cell_type": "code",
   "execution_count": 100,
   "id": "e0280dd9-c887-49fc-b9f9-338a0f6989ff",
   "metadata": {},
   "outputs": [],
   "source": [
    "import plotly.express as px\n",
    "import plotly.graph_objects as go"
   ]
  },
  {
   "cell_type": "code",
   "execution_count": 101,
   "id": "b1677ee6-ed30-41fa-81d1-94c8adcabdac",
   "metadata": {},
   "outputs": [
    {
     "data": {
      "text/plain": [
       "Index(['Food Product', 'Main Ingredient', 'Sweetener', 'Fat/Oil', 'Seasoning',\n",
       "       'Allergens', 'Price ($)', 'Customer rating', 'Is_Allergen'],\n",
       "      dtype='object')"
      ]
     },
     "execution_count": 101,
     "metadata": {},
     "output_type": "execute_result"
    }
   ],
   "source": [
    "df.columns"
   ]
  },
  {
   "cell_type": "code",
   "execution_count": 102,
   "id": "56703b03-55bf-4b2a-a74f-2c106c8dec0a",
   "metadata": {},
   "outputs": [],
   "source": [
    "import plotly.express as px\n",
    "import plotly.graph_objects as go"
   ]
  },
  {
   "cell_type": "code",
   "execution_count": 103,
   "id": "fa3a231a-42b3-49b3-93f4-49fdafa80d54",
   "metadata": {},
   "outputs": [
    {
     "data": {
      "application/vnd.plotly.v1+json": {
       "config": {
        "plotlyServerURL": "https://plot.ly"
       },
       "data": [
        {
         "hovertemplate": "Customer rating=%{x}<br>Allergens=%{y}<extra></extra>",
         "legendgroup": "",
         "marker": {
          "color": "#636efa",
          "symbol": "circle"
         },
         "mode": "markers",
         "name": "",
         "orientation": "h",
         "showlegend": false,
         "type": "scatter",
         "x": [
          3.1,
          4.5,
          4.1,
          4.7,
          3.7,
          2.3,
          3.2,
          4.8,
          3.8,
          3.2,
          4.2,
          3.1,
          3.5,
          3.9,
          3.4,
          3.3,
          1.2,
          3.1,
          4.5,
          3.5,
          3.3,
          1.6,
          4.5,
          4.6,
          4.4,
          2.4,
          1.3,
          1.6,
          3.6,
          1.8,
          4.5,
          1.5,
          4.8,
          4.9,
          2.2,
          1.5,
          2.4,
          4.8,
          2.7,
          1.8,
          3.1,
          4.5,
          4.8,
          2.7,
          4.7,
          2.6,
          4.7,
          2.3,
          2.1,
          2.5,
          1.8,
          1.8,
          2.3,
          4.1,
          5,
          3,
          4.7,
          1.8,
          4.7,
          3.6,
          3.9,
          3.7,
          1.7,
          4,
          1.3,
          3.9,
          1,
          2.3,
          1.1,
          1.5,
          3.8,
          4.6,
          1.6,
          1.3,
          1.9,
          2.3,
          3.2,
          4.8,
          4.8,
          2.7,
          2.5,
          3.7,
          3.4,
          4,
          1,
          1.6,
          2.8,
          2,
          3.4,
          3.8,
          4.1,
          3.6,
          2.6,
          2.2,
          3.1,
          1.8,
          1.4,
          1.9,
          1.7,
          2.3,
          3,
          4.2,
          3.9,
          3.5,
          3.3,
          2.7,
          4.2,
          1.7,
          1.1,
          4.5,
          4.9,
          2.8,
          2.5,
          1.3,
          4.4,
          1.8,
          3.2,
          3.1,
          3.6,
          2.6,
          2,
          3.6,
          3.6,
          2.4,
          1.2,
          3.7,
          2.7,
          3.7,
          3.1,
          3.6,
          3.7,
          2.6,
          1.8,
          2.4,
          2.6,
          3.6,
          1.2,
          3.4,
          2,
          2.3,
          2.1,
          4.2,
          4.4,
          4.2,
          3.7,
          1.3,
          3.7,
          4.8,
          1.2,
          2.7,
          3.9,
          1.5,
          2.1,
          1.2,
          3.5,
          3.6,
          4.3,
          3.1,
          2.7,
          1.4,
          4.6,
          4.1,
          1.5,
          1.8,
          4.7,
          3.8,
          1.1,
          3.2,
          1.6,
          2.3,
          2.2,
          1.8,
          1.7,
          3.8,
          2.7,
          3.8,
          4.6,
          3.9,
          4.9,
          3.4,
          4.4,
          1.8,
          2.8,
          2.7,
          2.2,
          4.5,
          3.5,
          1.2,
          2.5,
          1.7,
          3.5,
          1.5,
          3.3,
          4.2,
          2.3,
          3.3,
          1.4,
          3.5,
          3,
          2,
          2.2,
          2.2,
          4.3,
          2.8,
          1.6,
          2.5,
          2.2,
          1.4,
          3.9,
          2.9,
          2.2,
          1.3,
          4,
          2.2,
          3.7,
          2,
          4.7,
          1.2,
          2.5,
          4.4,
          3.9,
          1.1,
          3.5,
          2.4,
          4.5,
          3.1,
          4.3,
          4.7,
          1.5,
          2.7,
          3.9,
          2.5,
          2.4,
          2.3,
          4.4,
          1.5,
          1.7,
          1.1,
          4.1,
          1.1,
          1.9,
          2.9,
          3.7,
          1.1,
          3.7,
          1.2,
          4.2,
          4.8,
          2,
          4.3,
          4.8,
          3.3,
          1.6,
          2.4,
          2.9,
          3.8,
          3,
          3.5,
          4.1,
          3.1,
          1,
          4.3,
          2.2,
          3.4,
          3.2,
          3.7,
          1.9,
          2.2,
          1.1,
          2,
          1.3,
          1.9,
          2.2,
          1.1,
          2.8,
          2.6,
          1.9,
          4,
          3.2,
          4.2,
          1.8,
          1.9,
          1.3,
          3.1,
          3.8,
          2.4,
          1.6,
          1.6,
          1.2,
          1.7,
          1.5,
          2.6,
          2.1,
          4.8,
          2.2,
          3.4,
          3.9,
          4.4,
          1.5,
          4.5,
          3.7,
          1.7,
          4.1,
          4.7,
          2.9,
          2.2,
          4,
          2.2,
          4.3,
          4.4,
          4.9,
          1.1,
          3.4,
          4.5,
          1.5,
          4.4,
          3.8,
          3,
          1.4,
          3.9,
          4.5,
          3.5,
          4.9,
          2.1,
          1.4,
          4.5,
          3.5,
          4.3,
          3.6,
          2.4,
          1.4,
          3,
          4.9,
          1.1,
          3.6,
          4.9,
          4.1,
          2,
          4.3,
          1.1,
          1.2,
          2.6,
          4.3,
          4,
          4.6,
          4.8,
          1.4,
          3.7,
          3.3,
          1.3,
          1.2,
          3.5,
          2.2,
          4.3,
          1.6,
          3.8,
          3.8,
          1.5,
          1.9,
          1.1,
          4.1,
          4.4,
          1.9,
          5,
          3.7,
          3.4,
          2.8,
          1.1,
          1.3,
          4.6,
          4.2,
          3.2,
          4.7,
          4.4,
          4.9,
          3.3,
          4.1,
          3.1,
          5,
          2.4,
          4.8,
          4.9,
          1.8,
          3.7,
          4.5,
          2.1,
          1.7,
          3.6,
          1.1,
          3.2,
          4.4,
          2.9,
          1.7,
          3.8,
          2.9,
          4.4,
          3.4,
          2.4,
          2.3
         ],
         "xaxis": "x",
         "y": [
          "Almonds, Wheat, Dairy",
          "Almonds, Wheat, Dairy",
          "Chicken, Wheat, Celery",
          "Chicken, Wheat, Celery",
          "Dairy",
          "Dairy",
          "Dairy",
          "Dairy",
          "Dairy",
          "Dairy",
          "Dairy",
          "Dairy",
          "Dairy",
          "Dairy",
          "Dairy",
          "Dairy",
          "Dairy",
          "Dairy",
          "Dairy",
          "Dairy",
          "Dairy",
          "Dairy",
          "Dairy",
          "Dairy",
          "Dairy",
          "Dairy",
          "Dairy",
          "Dairy",
          "Dairy",
          "Dairy",
          "Dairy",
          "Dairy",
          "Dairy",
          "Dairy",
          "Dairy",
          "Dairy",
          "Dairy",
          "Dairy",
          "Dairy",
          "Dairy",
          "Dairy",
          "Dairy",
          "Dairy",
          "Dairy",
          "Dairy",
          "Dairy",
          "Dairy",
          "Dairy",
          "Dairy",
          "Dairy",
          "Dairy",
          "Dairy",
          "Dairy",
          "Dairy",
          "Dairy",
          "Dairy",
          "Dairy",
          "Dairy",
          "Dairy",
          "Dairy",
          "Dairy",
          "Dairy",
          "Dairy",
          "Dairy",
          "Dairy",
          "Dairy",
          "Dairy",
          "Dairy",
          "Dairy",
          "Dairy",
          "Dairy",
          "Dairy",
          "Dairy",
          "Dairy",
          "Dairy",
          "Dairy",
          "Dairy",
          "Dairy",
          "Dairy",
          "Dairy",
          "Dairy",
          "Dairy",
          "Dairy",
          "Dairy",
          "Dairy",
          "Dairy",
          "Dairy",
          "Dairy, Anchovies",
          "Dairy, Cocoa",
          "Dairy, Eggs",
          "Dairy, Fish",
          "Dairy, Ghee",
          "Dairy, Nuts",
          "Dairy, Nuts",
          "Dairy, Wheat",
          "Dairy, Wheat",
          "Dairy, Wheat",
          "Eggs",
          "Eggs",
          "Eggs",
          "Eggs, Dairy",
          "Eggs, Mustard",
          "Eggs, Soybeans",
          "Fish",
          "Fish",
          "Fish",
          "Fish",
          "Fish",
          "Fish",
          "Fish",
          "Fish, Coconut",
          "Fish, Dairy",
          "Fish, Dairy",
          "Fish, Eggs",
          "Fish, Eggs",
          "Fish, Soybeans",
          "Fish, Soybeans",
          "Fish, Soybeans",
          "Fish, Soybeans",
          "Fish, Soybeans",
          "Fish, Soybeans",
          "Milk",
          "Milk",
          "Milk",
          "Milk",
          "Milk, Strawberries",
          "Milk, Strawberries",
          "None",
          "None",
          "None",
          "None",
          "None",
          "None",
          "None",
          "None",
          "None",
          "None",
          "None",
          "None",
          "None",
          "None",
          "None",
          "None",
          "None",
          "None",
          "None",
          "None",
          "None",
          "None",
          "None",
          "None",
          "None",
          "None",
          "None",
          "None",
          "None",
          "None",
          "None",
          "None",
          "None",
          "None",
          "None",
          "None",
          "None",
          "None",
          "None",
          "None",
          "None",
          "None",
          "None",
          "None",
          "None",
          "None",
          "None",
          "None",
          "None",
          "None",
          "None",
          "None",
          "None",
          "None",
          "None",
          "None",
          "None",
          "None",
          "None",
          "None",
          "None",
          "None",
          "None",
          "None",
          "None",
          "None",
          "None",
          "None",
          "None",
          "None",
          "None",
          "None",
          "None",
          "None",
          "None",
          "None",
          "None",
          "None",
          "None",
          "None",
          "None",
          "None",
          "None",
          "None",
          "None",
          "None",
          "None",
          "None",
          "None",
          "None",
          "None",
          "None",
          "None",
          "None",
          "None",
          "None",
          "None",
          "None",
          "None",
          "None",
          "None",
          "None",
          "None",
          "None",
          "None",
          "None",
          "None",
          "None",
          "None",
          "None",
          "None",
          "None",
          "None",
          "None",
          "None",
          "None",
          "None",
          "None",
          "None",
          "None",
          "None",
          "None",
          "None",
          "None",
          "None",
          "None",
          "None",
          "None",
          "None",
          "None",
          "None",
          "None",
          "None",
          "None",
          "None",
          "None",
          "None",
          "None",
          "None",
          "None",
          "None",
          "None",
          "None",
          "None",
          "None",
          "None",
          "None",
          "None",
          "Oats, Dairy",
          "Peanuts",
          "Peanuts",
          "Peanuts",
          "Peanuts",
          "Peanuts",
          "Pine nuts, Dairy",
          "Pine nuts, Dairy",
          "Pine nuts, Dairy",
          "Rice, Dairy",
          "Shellfish",
          "Shellfish",
          "Shellfish",
          "Shellfish",
          "Shellfish",
          "Shellfish",
          "Shellfish, Dairy",
          "Shellfish, Dairy",
          "Shellfish, Dairy",
          "Shellfish, Dairy",
          "Shellfish, Dairy",
          "Shellfish, Dairy",
          "Shellfish, Eggs",
          "Shellfish, Eggs",
          "Shellfish, Pork",
          "Shellfish, Soybeans",
          "Soybeans",
          "Soybeans",
          "Soybeans",
          "Soybeans",
          "Soybeans",
          "Soybeans",
          "Soybeans",
          "Soybeans",
          "Soybeans, Fish",
          "Wheat",
          "Wheat",
          "Wheat",
          "Wheat",
          "Wheat",
          "Wheat",
          "Wheat",
          "Wheat",
          "Wheat, Dairy",
          "Wheat, Dairy",
          "Wheat, Dairy",
          "Wheat, Dairy",
          "Wheat, Dairy",
          "Wheat, Dairy",
          "Wheat, Dairy",
          "Wheat, Dairy",
          "Wheat, Dairy",
          "Wheat, Dairy",
          "Wheat, Dairy",
          "Wheat, Dairy",
          "Wheat, Dairy",
          "Wheat, Dairy",
          "Wheat, Dairy",
          "Wheat, Dairy",
          "Wheat, Dairy",
          "Wheat, Dairy",
          "Wheat, Dairy",
          "Wheat, Dairy",
          "Wheat, Dairy",
          "Wheat, Dairy",
          "Wheat, Dairy",
          "Wheat, Dairy",
          "Wheat, Dairy",
          "Wheat, Dairy",
          "Wheat, Dairy",
          "Wheat, Dairy",
          "Wheat, Dairy",
          "Wheat, Dairy",
          "Wheat, Dairy",
          "Wheat, Dairy",
          "Wheat, Dairy",
          "Wheat, Dairy",
          "Wheat, Dairy",
          "Wheat, Dairy",
          "Wheat, Dairy",
          "Wheat, Dairy",
          "Wheat, Dairy",
          "Wheat, Dairy",
          "Wheat, Dairy",
          "Wheat, Dairy",
          "Wheat, Dairy",
          "Wheat, Dairy",
          "Wheat, Dairy",
          "Wheat, Dairy",
          "Wheat, Dairy",
          "Wheat, Dairy",
          "Wheat, Dairy",
          "Wheat, Dairy",
          "Wheat, Dairy",
          "Wheat, Dairy",
          "Wheat, Dairy",
          "Wheat, Dairy",
          "Wheat, Dairy",
          "Wheat, Dairy",
          "Wheat, Dairy",
          "Wheat, Dairy",
          "Wheat, Dairy",
          "Wheat, Dairy",
          "Wheat, Dairy",
          "Wheat, Dairy",
          "Wheat, Dairy",
          "Wheat, Dairy",
          "Wheat, Dairy",
          "Wheat, Dairy",
          "Wheat, Dairy",
          "Wheat, Dairy",
          "Wheat, Dairy",
          "Wheat, Dairy",
          "Wheat, Dairy",
          "Wheat, Dairy",
          "Wheat, Dairy, Alcohol",
          "Wheat, Dairy, Cocoa",
          "Wheat, Dairy, Cocoa",
          "Wheat, Dairy, Eggs",
          "Wheat, Dairy, Eggs",
          "Wheat, Dairy, Nuts",
          "Wheat, Dairy, Nuts",
          "Wheat, Dairy, Nuts",
          "Wheat, Pork, Dairy"
         ],
         "yaxis": "y"
        }
       ],
       "layout": {
        "autosize": true,
        "legend": {
         "tracegroupgap": 0
        },
        "template": {
         "data": {
          "bar": [
           {
            "error_x": {
             "color": "#2a3f5f"
            },
            "error_y": {
             "color": "#2a3f5f"
            },
            "marker": {
             "line": {
              "color": "#E5ECF6",
              "width": 0.5
             },
             "pattern": {
              "fillmode": "overlay",
              "size": 10,
              "solidity": 0.2
             }
            },
            "type": "bar"
           }
          ],
          "barpolar": [
           {
            "marker": {
             "line": {
              "color": "#E5ECF6",
              "width": 0.5
             },
             "pattern": {
              "fillmode": "overlay",
              "size": 10,
              "solidity": 0.2
             }
            },
            "type": "barpolar"
           }
          ],
          "carpet": [
           {
            "aaxis": {
             "endlinecolor": "#2a3f5f",
             "gridcolor": "white",
             "linecolor": "white",
             "minorgridcolor": "white",
             "startlinecolor": "#2a3f5f"
            },
            "baxis": {
             "endlinecolor": "#2a3f5f",
             "gridcolor": "white",
             "linecolor": "white",
             "minorgridcolor": "white",
             "startlinecolor": "#2a3f5f"
            },
            "type": "carpet"
           }
          ],
          "choropleth": [
           {
            "colorbar": {
             "outlinewidth": 0,
             "ticks": ""
            },
            "type": "choropleth"
           }
          ],
          "contour": [
           {
            "colorbar": {
             "outlinewidth": 0,
             "ticks": ""
            },
            "colorscale": [
             [
              0,
              "#0d0887"
             ],
             [
              0.1111111111111111,
              "#46039f"
             ],
             [
              0.2222222222222222,
              "#7201a8"
             ],
             [
              0.3333333333333333,
              "#9c179e"
             ],
             [
              0.4444444444444444,
              "#bd3786"
             ],
             [
              0.5555555555555556,
              "#d8576b"
             ],
             [
              0.6666666666666666,
              "#ed7953"
             ],
             [
              0.7777777777777778,
              "#fb9f3a"
             ],
             [
              0.8888888888888888,
              "#fdca26"
             ],
             [
              1,
              "#f0f921"
             ]
            ],
            "type": "contour"
           }
          ],
          "contourcarpet": [
           {
            "colorbar": {
             "outlinewidth": 0,
             "ticks": ""
            },
            "type": "contourcarpet"
           }
          ],
          "heatmap": [
           {
            "colorbar": {
             "outlinewidth": 0,
             "ticks": ""
            },
            "colorscale": [
             [
              0,
              "#0d0887"
             ],
             [
              0.1111111111111111,
              "#46039f"
             ],
             [
              0.2222222222222222,
              "#7201a8"
             ],
             [
              0.3333333333333333,
              "#9c179e"
             ],
             [
              0.4444444444444444,
              "#bd3786"
             ],
             [
              0.5555555555555556,
              "#d8576b"
             ],
             [
              0.6666666666666666,
              "#ed7953"
             ],
             [
              0.7777777777777778,
              "#fb9f3a"
             ],
             [
              0.8888888888888888,
              "#fdca26"
             ],
             [
              1,
              "#f0f921"
             ]
            ],
            "type": "heatmap"
           }
          ],
          "heatmapgl": [
           {
            "colorbar": {
             "outlinewidth": 0,
             "ticks": ""
            },
            "colorscale": [
             [
              0,
              "#0d0887"
             ],
             [
              0.1111111111111111,
              "#46039f"
             ],
             [
              0.2222222222222222,
              "#7201a8"
             ],
             [
              0.3333333333333333,
              "#9c179e"
             ],
             [
              0.4444444444444444,
              "#bd3786"
             ],
             [
              0.5555555555555556,
              "#d8576b"
             ],
             [
              0.6666666666666666,
              "#ed7953"
             ],
             [
              0.7777777777777778,
              "#fb9f3a"
             ],
             [
              0.8888888888888888,
              "#fdca26"
             ],
             [
              1,
              "#f0f921"
             ]
            ],
            "type": "heatmapgl"
           }
          ],
          "histogram": [
           {
            "marker": {
             "pattern": {
              "fillmode": "overlay",
              "size": 10,
              "solidity": 0.2
             }
            },
            "type": "histogram"
           }
          ],
          "histogram2d": [
           {
            "colorbar": {
             "outlinewidth": 0,
             "ticks": ""
            },
            "colorscale": [
             [
              0,
              "#0d0887"
             ],
             [
              0.1111111111111111,
              "#46039f"
             ],
             [
              0.2222222222222222,
              "#7201a8"
             ],
             [
              0.3333333333333333,
              "#9c179e"
             ],
             [
              0.4444444444444444,
              "#bd3786"
             ],
             [
              0.5555555555555556,
              "#d8576b"
             ],
             [
              0.6666666666666666,
              "#ed7953"
             ],
             [
              0.7777777777777778,
              "#fb9f3a"
             ],
             [
              0.8888888888888888,
              "#fdca26"
             ],
             [
              1,
              "#f0f921"
             ]
            ],
            "type": "histogram2d"
           }
          ],
          "histogram2dcontour": [
           {
            "colorbar": {
             "outlinewidth": 0,
             "ticks": ""
            },
            "colorscale": [
             [
              0,
              "#0d0887"
             ],
             [
              0.1111111111111111,
              "#46039f"
             ],
             [
              0.2222222222222222,
              "#7201a8"
             ],
             [
              0.3333333333333333,
              "#9c179e"
             ],
             [
              0.4444444444444444,
              "#bd3786"
             ],
             [
              0.5555555555555556,
              "#d8576b"
             ],
             [
              0.6666666666666666,
              "#ed7953"
             ],
             [
              0.7777777777777778,
              "#fb9f3a"
             ],
             [
              0.8888888888888888,
              "#fdca26"
             ],
             [
              1,
              "#f0f921"
             ]
            ],
            "type": "histogram2dcontour"
           }
          ],
          "mesh3d": [
           {
            "colorbar": {
             "outlinewidth": 0,
             "ticks": ""
            },
            "type": "mesh3d"
           }
          ],
          "parcoords": [
           {
            "line": {
             "colorbar": {
              "outlinewidth": 0,
              "ticks": ""
             }
            },
            "type": "parcoords"
           }
          ],
          "pie": [
           {
            "automargin": true,
            "type": "pie"
           }
          ],
          "scatter": [
           {
            "fillpattern": {
             "fillmode": "overlay",
             "size": 10,
             "solidity": 0.2
            },
            "type": "scatter"
           }
          ],
          "scatter3d": [
           {
            "line": {
             "colorbar": {
              "outlinewidth": 0,
              "ticks": ""
             }
            },
            "marker": {
             "colorbar": {
              "outlinewidth": 0,
              "ticks": ""
             }
            },
            "type": "scatter3d"
           }
          ],
          "scattercarpet": [
           {
            "marker": {
             "colorbar": {
              "outlinewidth": 0,
              "ticks": ""
             }
            },
            "type": "scattercarpet"
           }
          ],
          "scattergeo": [
           {
            "marker": {
             "colorbar": {
              "outlinewidth": 0,
              "ticks": ""
             }
            },
            "type": "scattergeo"
           }
          ],
          "scattergl": [
           {
            "marker": {
             "colorbar": {
              "outlinewidth": 0,
              "ticks": ""
             }
            },
            "type": "scattergl"
           }
          ],
          "scattermapbox": [
           {
            "marker": {
             "colorbar": {
              "outlinewidth": 0,
              "ticks": ""
             }
            },
            "type": "scattermapbox"
           }
          ],
          "scatterpolar": [
           {
            "marker": {
             "colorbar": {
              "outlinewidth": 0,
              "ticks": ""
             }
            },
            "type": "scatterpolar"
           }
          ],
          "scatterpolargl": [
           {
            "marker": {
             "colorbar": {
              "outlinewidth": 0,
              "ticks": ""
             }
            },
            "type": "scatterpolargl"
           }
          ],
          "scatterternary": [
           {
            "marker": {
             "colorbar": {
              "outlinewidth": 0,
              "ticks": ""
             }
            },
            "type": "scatterternary"
           }
          ],
          "surface": [
           {
            "colorbar": {
             "outlinewidth": 0,
             "ticks": ""
            },
            "colorscale": [
             [
              0,
              "#0d0887"
             ],
             [
              0.1111111111111111,
              "#46039f"
             ],
             [
              0.2222222222222222,
              "#7201a8"
             ],
             [
              0.3333333333333333,
              "#9c179e"
             ],
             [
              0.4444444444444444,
              "#bd3786"
             ],
             [
              0.5555555555555556,
              "#d8576b"
             ],
             [
              0.6666666666666666,
              "#ed7953"
             ],
             [
              0.7777777777777778,
              "#fb9f3a"
             ],
             [
              0.8888888888888888,
              "#fdca26"
             ],
             [
              1,
              "#f0f921"
             ]
            ],
            "type": "surface"
           }
          ],
          "table": [
           {
            "cells": {
             "fill": {
              "color": "#EBF0F8"
             },
             "line": {
              "color": "white"
             }
            },
            "header": {
             "fill": {
              "color": "#C8D4E3"
             },
             "line": {
              "color": "white"
             }
            },
            "type": "table"
           }
          ]
         },
         "layout": {
          "annotationdefaults": {
           "arrowcolor": "#2a3f5f",
           "arrowhead": 0,
           "arrowwidth": 1
          },
          "autotypenumbers": "strict",
          "coloraxis": {
           "colorbar": {
            "outlinewidth": 0,
            "ticks": ""
           }
          },
          "colorscale": {
           "diverging": [
            [
             0,
             "#8e0152"
            ],
            [
             0.1,
             "#c51b7d"
            ],
            [
             0.2,
             "#de77ae"
            ],
            [
             0.3,
             "#f1b6da"
            ],
            [
             0.4,
             "#fde0ef"
            ],
            [
             0.5,
             "#f7f7f7"
            ],
            [
             0.6,
             "#e6f5d0"
            ],
            [
             0.7,
             "#b8e186"
            ],
            [
             0.8,
             "#7fbc41"
            ],
            [
             0.9,
             "#4d9221"
            ],
            [
             1,
             "#276419"
            ]
           ],
           "sequential": [
            [
             0,
             "#0d0887"
            ],
            [
             0.1111111111111111,
             "#46039f"
            ],
            [
             0.2222222222222222,
             "#7201a8"
            ],
            [
             0.3333333333333333,
             "#9c179e"
            ],
            [
             0.4444444444444444,
             "#bd3786"
            ],
            [
             0.5555555555555556,
             "#d8576b"
            ],
            [
             0.6666666666666666,
             "#ed7953"
            ],
            [
             0.7777777777777778,
             "#fb9f3a"
            ],
            [
             0.8888888888888888,
             "#fdca26"
            ],
            [
             1,
             "#f0f921"
            ]
           ],
           "sequentialminus": [
            [
             0,
             "#0d0887"
            ],
            [
             0.1111111111111111,
             "#46039f"
            ],
            [
             0.2222222222222222,
             "#7201a8"
            ],
            [
             0.3333333333333333,
             "#9c179e"
            ],
            [
             0.4444444444444444,
             "#bd3786"
            ],
            [
             0.5555555555555556,
             "#d8576b"
            ],
            [
             0.6666666666666666,
             "#ed7953"
            ],
            [
             0.7777777777777778,
             "#fb9f3a"
            ],
            [
             0.8888888888888888,
             "#fdca26"
            ],
            [
             1,
             "#f0f921"
            ]
           ]
          },
          "colorway": [
           "#636efa",
           "#EF553B",
           "#00cc96",
           "#ab63fa",
           "#FFA15A",
           "#19d3f3",
           "#FF6692",
           "#B6E880",
           "#FF97FF",
           "#FECB52"
          ],
          "font": {
           "color": "#2a3f5f"
          },
          "geo": {
           "bgcolor": "white",
           "lakecolor": "white",
           "landcolor": "#E5ECF6",
           "showlakes": true,
           "showland": true,
           "subunitcolor": "white"
          },
          "hoverlabel": {
           "align": "left"
          },
          "hovermode": "closest",
          "mapbox": {
           "style": "light"
          },
          "paper_bgcolor": "white",
          "plot_bgcolor": "#E5ECF6",
          "polar": {
           "angularaxis": {
            "gridcolor": "white",
            "linecolor": "white",
            "ticks": ""
           },
           "bgcolor": "#E5ECF6",
           "radialaxis": {
            "gridcolor": "white",
            "linecolor": "white",
            "ticks": ""
           }
          },
          "scene": {
           "xaxis": {
            "backgroundcolor": "#E5ECF6",
            "gridcolor": "white",
            "gridwidth": 2,
            "linecolor": "white",
            "showbackground": true,
            "ticks": "",
            "zerolinecolor": "white"
           },
           "yaxis": {
            "backgroundcolor": "#E5ECF6",
            "gridcolor": "white",
            "gridwidth": 2,
            "linecolor": "white",
            "showbackground": true,
            "ticks": "",
            "zerolinecolor": "white"
           },
           "zaxis": {
            "backgroundcolor": "#E5ECF6",
            "gridcolor": "white",
            "gridwidth": 2,
            "linecolor": "white",
            "showbackground": true,
            "ticks": "",
            "zerolinecolor": "white"
           }
          },
          "shapedefaults": {
           "line": {
            "color": "#2a3f5f"
           }
          },
          "ternary": {
           "aaxis": {
            "gridcolor": "white",
            "linecolor": "white",
            "ticks": ""
           },
           "baxis": {
            "gridcolor": "white",
            "linecolor": "white",
            "ticks": ""
           },
           "bgcolor": "#E5ECF6",
           "caxis": {
            "gridcolor": "white",
            "linecolor": "white",
            "ticks": ""
           }
          },
          "title": {
           "x": 0.05
          },
          "xaxis": {
           "automargin": true,
           "gridcolor": "white",
           "linecolor": "white",
           "ticks": "",
           "title": {
            "standoff": 15
           },
           "zerolinecolor": "white",
           "zerolinewidth": 2
          },
          "yaxis": {
           "automargin": true,
           "gridcolor": "white",
           "linecolor": "white",
           "ticks": "",
           "title": {
            "standoff": 15
           },
           "zerolinecolor": "white",
           "zerolinewidth": 2
          }
         }
        },
        "title": {
         "text": "Allergen and Rating"
        },
        "xaxis": {
         "anchor": "y",
         "autorange": true,
         "domain": [
          0,
          1
         ],
         "range": [
          0.7556705133306805,
          5.2443294866693195
         ],
         "title": {
          "text": "Customer rating"
         },
         "type": "linear"
        },
        "yaxis": {
         "anchor": "x",
         "autorange": true,
         "domain": [
          0,
          1
         ],
         "range": [
          -3.2184466019417477,
          42.21844660194175
         ],
         "title": {
          "text": "Allergens"
         },
         "type": "category"
        }
       }
      },
      "image/png": "[encoded data removed]",
      "text/html": [
       "<div>                            <div id=\"7053b829-181e-40c5-90bb-309ba86c8bf5\" class=\"plotly-graph-div\" style=\"height:525px; width:100%;\"></div>            <script type=\"text/javascript\">                require([\"plotly\"], function(Plotly) {                    window.PLOTLYENV=window.PLOTLYENV || {};                                    if (document.getElementById(\"7053b829-181e-40c5-90bb-309ba86c8bf5\")) {                    Plotly.newPlot(                        \"7053b829-181e-40c5-90bb-309ba86c8bf5\",                        [{\"hovertemplate\":\"Customer rating=%{x}\\u003cbr\\u003eAllergens=%{y}\\u003cextra\\u003e\\u003c\\u002fextra\\u003e\",\"legendgroup\":\"\",\"marker\":{\"color\":\"#636efa\",\"symbol\":\"circle\"},\"mode\":\"markers\",\"name\":\"\",\"orientation\":\"h\",\"showlegend\":false,\"x\":[3.1,4.5,4.1,4.7,3.7,2.3,3.2,4.8,3.8,3.2,4.2,3.1,3.5,3.9,3.4,3.3,1.2,3.1,4.5,3.5,3.3,1.6,4.5,4.6,4.4,2.4,1.3,1.6,3.6,1.8,4.5,1.5,4.8,4.9,2.2,1.5,2.4,4.8,2.7,1.8,3.1,4.5,4.8,2.7,4.7,2.6,4.7,2.3,2.1,2.5,1.8,1.8,2.3,4.1,5.0,3.0,4.7,1.8,4.7,3.6,3.9,3.7,1.7,4.0,1.3,3.9,1.0,2.3,1.1,1.5,3.8,4.6,1.6,1.3,1.9,2.3,3.2,4.8,4.8,2.7,2.5,3.7,3.4,4.0,1.0,1.6,2.8,2.0,3.4,3.8,4.1,3.6,2.6,2.2,3.1,1.8,1.4,1.9,1.7,2.3,3.0,4.2,3.9,3.5,3.3,2.7,4.2,1.7,1.1,4.5,4.9,2.8,2.5,1.3,4.4,1.8,3.2,3.1,3.6,2.6,2.0,3.6,3.6,2.4,1.2,3.7,2.7,3.7,3.1,3.6,3.7,2.6,1.8,2.4,2.6,3.6,1.2,3.4,2.0,2.3,2.1,4.2,4.4,4.2,3.7,1.3,3.7,4.8,1.2,2.7,3.9,1.5,2.1,1.2,3.5,3.6,4.3,3.1,2.7,1.4,4.6,4.1,1.5,1.8,4.7,3.8,1.1,3.2,1.6,2.3,2.2,1.8,1.7,3.8,2.7,3.8,4.6,3.9,4.9,3.4,4.4,1.8,2.8,2.7,2.2,4.5,3.5,1.2,2.5,1.7,3.5,1.5,3.3,4.2,2.3,3.3,1.4,3.5,3.0,2.0,2.2,2.2,4.3,2.8,1.6,2.5,2.2,1.4,3.9,2.9,2.2,1.3,4.0,2.2,3.7,2.0,4.7,1.2,2.5,4.4,3.9,1.1,3.5,2.4,4.5,3.1,4.3,4.7,1.5,2.7,3.9,2.5,2.4,2.3,4.4,1.5,1.7,1.1,4.1,1.1,1.9,2.9,3.7,1.1,3.7,1.2,4.2,4.8,2.0,4.3,4.8,3.3,1.6,2.4,2.9,3.8,3.0,3.5,4.1,3.1,1.0,4.3,2.2,3.4,3.2,3.7,1.9,2.2,1.1,2.0,1.3,1.9,2.2,1.1,2.8,2.6,1.9,4.0,3.2,4.2,1.8,1.9,1.3,3.1,3.8,2.4,1.6,1.6,1.2,1.7,1.5,2.6,2.1,4.8,2.2,3.4,3.9,4.4,1.5,4.5,3.7,1.7,4.1,4.7,2.9,2.2,4.0,2.2,4.3,4.4,4.9,1.1,3.4,4.5,1.5,4.4,3.8,3.0,1.4,3.9,4.5,3.5,4.9,2.1,1.4,4.5,3.5,4.3,3.6,2.4,1.4,3.0,4.9,1.1,3.6,4.9,4.1,2.0,4.3,1.1,1.2,2.6,4.3,4.0,4.6,4.8,1.4,3.7,3.3,1.3,1.2,3.5,2.2,4.3,1.6,3.8,3.8,1.5,1.9,1.1,4.1,4.4,1.9,5.0,3.7,3.4,2.8,1.1,1.3,4.6,4.2,3.2,4.7,4.4,4.9,3.3,4.1,3.1,5.0,2.4,4.8,4.9,1.8,3.7,4.5,2.1,1.7,3.6,1.1,3.2,4.4,2.9,1.7,3.8,2.9,4.4,3.4,2.4,2.3],\"xaxis\":\"x\",\"y\":[\"Almonds, Wheat, Dairy\",\"Almonds, Wheat, Dairy\",\"Chicken, Wheat, Celery\",\"Chicken, Wheat, Celery\",\"Dairy\",\"Dairy\",\"Dairy\",\"Dairy\",\"Dairy\",\"Dairy\",\"Dairy\",\"Dairy\",\"Dairy\",\"Dairy\",\"Dairy\",\"Dairy\",\"Dairy\",\"Dairy\",\"Dairy\",\"Dairy\",\"Dairy\",\"Dairy\",\"Dairy\",\"Dairy\",\"Dairy\",\"Dairy\",\"Dairy\",\"Dairy\",\"Dairy\",\"Dairy\",\"Dairy\",\"Dairy\",\"Dairy\",\"Dairy\",\"Dairy\",\"Dairy\",\"Dairy\",\"Dairy\",\"Dairy\",\"Dairy\",\"Dairy\",\"Dairy\",\"Dairy\",\"Dairy\",\"Dairy\",\"Dairy\",\"Dairy\",\"Dairy\",\"Dairy\",\"Dairy\",\"Dairy\",\"Dairy\",\"Dairy\",\"Dairy\",\"Dairy\",\"Dairy\",\"Dairy\",\"Dairy\",\"Dairy\",\"Dairy\",\"Dairy\",\"Dairy\",\"Dairy\",\"Dairy\",\"Dairy\",\"Dairy\",\"Dairy\",\"Dairy\",\"Dairy\",\"Dairy\",\"Dairy\",\"Dairy\",\"Dairy\",\"Dairy\",\"Dairy\",\"Dairy\",\"Dairy\",\"Dairy\",\"Dairy\",\"Dairy\",\"Dairy\",\"Dairy\",\"Dairy\",\"Dairy\",\"Dairy\",\"Dairy\",\"Dairy\",\"Dairy, Anchovies\",\"Dairy, Cocoa\",\"Dairy, Eggs\",\"Dairy, Fish\",\"Dairy, Ghee\",\"Dairy, Nuts\",\"Dairy, Nuts\",\"Dairy, Wheat\",\"Dairy, Wheat\",\"Dairy, Wheat\",\"Eggs\",\"Eggs\",\"Eggs\",\"Eggs, Dairy\",\"Eggs, Mustard\",\"Eggs, Soybeans\",\"Fish\",\"Fish\",\"Fish\",\"Fish\",\"Fish\",\"Fish\",\"Fish\",\"Fish, Coconut\",\"Fish, Dairy\",\"Fish, Dairy\",\"Fish, Eggs\",\"Fish, Eggs\",\"Fish, Soybeans\",\"Fish, Soybeans\",\"Fish, Soybeans\",\"Fish, Soybeans\",\"Fish, Soybeans\",\"Fish, Soybeans\",\"Milk\",\"Milk\",\"Milk\",\"Milk\",\"Milk, Strawberries\",\"Milk, Strawberries\",\"None\",\"None\",\"None\",\"None\",\"None\",\"None\",\"None\",\"None\",\"None\",\"None\",\"None\",\"None\",\"None\",\"None\",\"None\",\"None\",\"None\",\"None\",\"None\",\"None\",\"None\",\"None\",\"None\",\"None\",\"None\",\"None\",\"None\",\"None\",\"None\",\"None\",\"None\",\"None\",\"None\",\"None\",\"None\",\"None\",\"None\",\"None\",\"None\",\"None\",\"None\",\"None\",\"None\",\"None\",\"None\",\"None\",\"None\",\"None\",\"None\",\"None\",\"None\",\"None\",\"None\",\"None\",\"None\",\"None\",\"None\",\"None\",\"None\",\"None\",\"None\",\"None\",\"None\",\"None\",\"None\",\"None\",\"None\",\"None\",\"None\",\"None\",\"None\",\"None\",\"None\",\"None\",\"None\",\"None\",\"None\",\"None\",\"None\",\"None\",\"None\",\"None\",\"None\",\"None\",\"None\",\"None\",\"None\",\"None\",\"None\",\"None\",\"None\",\"None\",\"None\",\"None\",\"None\",\"None\",\"None\",\"None\",\"None\",\"None\",\"None\",\"None\",\"None\",\"None\",\"None\",\"None\",\"None\",\"None\",\"None\",\"None\",\"None\",\"None\",\"None\",\"None\",\"None\",\"None\",\"None\",\"None\",\"None\",\"None\",\"None\",\"None\",\"None\",\"None\",\"None\",\"None\",\"None\",\"None\",\"None\",\"None\",\"None\",\"None\",\"None\",\"None\",\"None\",\"None\",\"None\",\"None\",\"None\",\"None\",\"None\",\"None\",\"None\",\"None\",\"None\",\"None\",\"None\",\"None\",\"Oats, Dairy\",\"Peanuts\",\"Peanuts\",\"Peanuts\",\"Peanuts\",\"Peanuts\",\"Pine nuts, Dairy\",\"Pine nuts, Dairy\",\"Pine nuts, Dairy\",\"Rice, Dairy\",\"Shellfish\",\"Shellfish\",\"Shellfish\",\"Shellfish\",\"Shellfish\",\"Shellfish\",\"Shellfish, Dairy\",\"Shellfish, Dairy\",\"Shellfish, Dairy\",\"Shellfish, Dairy\",\"Shellfish, Dairy\",\"Shellfish, Dairy\",\"Shellfish, Eggs\",\"Shellfish, Eggs\",\"Shellfish, Pork\",\"Shellfish, Soybeans\",\"Soybeans\",\"Soybeans\",\"Soybeans\",\"Soybeans\",\"Soybeans\",\"Soybeans\",\"Soybeans\",\"Soybeans\",\"Soybeans, Fish\",\"Wheat\",\"Wheat\",\"Wheat\",\"Wheat\",\"Wheat\",\"Wheat\",\"Wheat\",\"Wheat\",\"Wheat, Dairy\",\"Wheat, Dairy\",\"Wheat, Dairy\",\"Wheat, Dairy\",\"Wheat, Dairy\",\"Wheat, Dairy\",\"Wheat, Dairy\",\"Wheat, Dairy\",\"Wheat, Dairy\",\"Wheat, Dairy\",\"Wheat, Dairy\",\"Wheat, Dairy\",\"Wheat, Dairy\",\"Wheat, Dairy\",\"Wheat, Dairy\",\"Wheat, Dairy\",\"Wheat, Dairy\",\"Wheat, Dairy\",\"Wheat, Dairy\",\"Wheat, Dairy\",\"Wheat, Dairy\",\"Wheat, Dairy\",\"Wheat, Dairy\",\"Wheat, Dairy\",\"Wheat, Dairy\",\"Wheat, Dairy\",\"Wheat, Dairy\",\"Wheat, Dairy\",\"Wheat, Dairy\",\"Wheat, Dairy\",\"Wheat, Dairy\",\"Wheat, Dairy\",\"Wheat, Dairy\",\"Wheat, Dairy\",\"Wheat, Dairy\",\"Wheat, Dairy\",\"Wheat, Dairy\",\"Wheat, Dairy\",\"Wheat, Dairy\",\"Wheat, Dairy\",\"Wheat, Dairy\",\"Wheat, Dairy\",\"Wheat, Dairy\",\"Wheat, Dairy\",\"Wheat, Dairy\",\"Wheat, Dairy\",\"Wheat, Dairy\",\"Wheat, Dairy\",\"Wheat, Dairy\",\"Wheat, Dairy\",\"Wheat, Dairy\",\"Wheat, Dairy\",\"Wheat, Dairy\",\"Wheat, Dairy\",\"Wheat, Dairy\",\"Wheat, Dairy\",\"Wheat, Dairy\",\"Wheat, Dairy\",\"Wheat, Dairy\",\"Wheat, Dairy\",\"Wheat, Dairy\",\"Wheat, Dairy\",\"Wheat, Dairy\",\"Wheat, Dairy\",\"Wheat, Dairy\",\"Wheat, Dairy\",\"Wheat, Dairy\",\"Wheat, Dairy\",\"Wheat, Dairy\",\"Wheat, Dairy\",\"Wheat, Dairy\",\"Wheat, Dairy\",\"Wheat, Dairy, Alcohol\",\"Wheat, Dairy, Cocoa\",\"Wheat, Dairy, Cocoa\",\"Wheat, Dairy, Eggs\",\"Wheat, Dairy, Eggs\",\"Wheat, Dairy, Nuts\",\"Wheat, Dairy, Nuts\",\"Wheat, Dairy, Nuts\",\"Wheat, Pork, Dairy\"],\"yaxis\":\"y\",\"type\":\"scatter\"}],                        {\"template\":{\"data\":{\"histogram2dcontour\":[{\"type\":\"histogram2dcontour\",\"colorbar\":{\"outlinewidth\":0,\"ticks\":\"\"},\"colorscale\":[[0.0,\"#0d0887\"],[0.1111111111111111,\"#46039f\"],[0.2222222222222222,\"#7201a8\"],[0.3333333333333333,\"#9c179e\"],[0.4444444444444444,\"#bd3786\"],[0.5555555555555556,\"#d8576b\"],[0.6666666666666666,\"#ed7953\"],[0.7777777777777778,\"#fb9f3a\"],[0.8888888888888888,\"#fdca26\"],[1.0,\"#f0f921\"]]}],\"choropleth\":[{\"type\":\"choropleth\",\"colorbar\":{\"outlinewidth\":0,\"ticks\":\"\"}}],\"histogram2d\":[{\"type\":\"histogram2d\",\"colorbar\":{\"outlinewidth\":0,\"ticks\":\"\"},\"colorscale\":[[0.0,\"#0d0887\"],[0.1111111111111111,\"#46039f\"],[0.2222222222222222,\"#7201a8\"],[0.3333333333333333,\"#9c179e\"],[0.4444444444444444,\"#bd3786\"],[0.5555555555555556,\"#d8576b\"],[0.6666666666666666,\"#ed7953\"],[0.7777777777777778,\"#fb9f3a\"],[0.8888888888888888,\"#fdca26\"],[1.0,\"#f0f921\"]]}],\"heatmap\":[{\"type\":\"heatmap\",\"colorbar\":{\"outlinewidth\":0,\"ticks\":\"\"},\"colorscale\":[[0.0,\"#0d0887\"],[0.1111111111111111,\"#46039f\"],[0.2222222222222222,\"#7201a8\"],[0.3333333333333333,\"#9c179e\"],[0.4444444444444444,\"#bd3786\"],[0.5555555555555556,\"#d8576b\"],[0.6666666666666666,\"#ed7953\"],[0.7777777777777778,\"#fb9f3a\"],[0.8888888888888888,\"#fdca26\"],[1.0,\"#f0f921\"]]}],\"heatmapgl\":[{\"type\":\"heatmapgl\",\"colorbar\":{\"outlinewidth\":0,\"ticks\":\"\"},\"colorscale\":[[0.0,\"#0d0887\"],[0.1111111111111111,\"#46039f\"],[0.2222222222222222,\"#7201a8\"],[0.3333333333333333,\"#9c179e\"],[0.4444444444444444,\"#bd3786\"],[0.5555555555555556,\"#d8576b\"],[0.6666666666666666,\"#ed7953\"],[0.7777777777777778,\"#fb9f3a\"],[0.8888888888888888,\"#fdca26\"],[1.0,\"#f0f921\"]]}],\"contourcarpet\":[{\"type\":\"contourcarpet\",\"colorbar\":{\"outlinewidth\":0,\"ticks\":\"\"}}],\"contour\":[{\"type\":\"contour\",\"colorbar\":{\"outlinewidth\":0,\"ticks\":\"\"},\"colorscale\":[[0.0,\"#0d0887\"],[0.1111111111111111,\"#46039f\"],[0.2222222222222222,\"#7201a8\"],[0.3333333333333333,\"#9c179e\"],[0.4444444444444444,\"#bd3786\"],[0.5555555555555556,\"#d8576b\"],[0.6666666666666666,\"#ed7953\"],[0.7777777777777778,\"#fb9f3a\"],[0.8888888888888888,\"#fdca26\"],[1.0,\"#f0f921\"]]}],\"surface\":[{\"type\":\"surface\",\"colorbar\":{\"outlinewidth\":0,\"ticks\":\"\"},\"colorscale\":[[0.0,\"#0d0887\"],[0.1111111111111111,\"#46039f\"],[0.2222222222222222,\"#7201a8\"],[0.3333333333333333,\"#9c179e\"],[0.4444444444444444,\"#bd3786\"],[0.5555555555555556,\"#d8576b\"],[0.6666666666666666,\"#ed7953\"],[0.7777777777777778,\"#fb9f3a\"],[0.8888888888888888,\"#fdca26\"],[1.0,\"#f0f921\"]]}],\"mesh3d\":[{\"type\":\"mesh3d\",\"colorbar\":{\"outlinewidth\":0,\"ticks\":\"\"}}],\"scatter\":[{\"fillpattern\":{\"fillmode\":\"overlay\",\"size\":10,\"solidity\":0.2},\"type\":\"scatter\"}],\"parcoords\":[{\"type\":\"parcoords\",\"line\":{\"colorbar\":{\"outlinewidth\":0,\"ticks\":\"\"}}}],\"scatterpolargl\":[{\"type\":\"scatterpolargl\",\"marker\":{\"colorbar\":{\"outlinewidth\":0,\"ticks\":\"\"}}}],\"bar\":[{\"error_x\":{\"color\":\"#2a3f5f\"},\"error_y\":{\"color\":\"#2a3f5f\"},\"marker\":{\"line\":{\"color\":\"#E5ECF6\",\"width\":0.5},\"pattern\":{\"fillmode\":\"overlay\",\"size\":10,\"solidity\":0.2}},\"type\":\"bar\"}],\"scattergeo\":[{\"type\":\"scattergeo\",\"marker\":{\"colorbar\":{\"outlinewidth\":0,\"ticks\":\"\"}}}],\"scatterpolar\":[{\"type\":\"scatterpolar\",\"marker\":{\"colorbar\":{\"outlinewidth\":0,\"ticks\":\"\"}}}],\"histogram\":[{\"marker\":{\"pattern\":{\"fillmode\":\"overlay\",\"size\":10,\"solidity\":0.2}},\"type\":\"histogram\"}],\"scattergl\":[{\"type\":\"scattergl\",\"marker\":{\"colorbar\":{\"outlinewidth\":0,\"ticks\":\"\"}}}],\"scatter3d\":[{\"type\":\"scatter3d\",\"line\":{\"colorbar\":{\"outlinewidth\":0,\"ticks\":\"\"}},\"marker\":{\"colorbar\":{\"outlinewidth\":0,\"ticks\":\"\"}}}],\"scattermapbox\":[{\"type\":\"scattermapbox\",\"marker\":{\"colorbar\":{\"outlinewidth\":0,\"ticks\":\"\"}}}],\"scatterternary\":[{\"type\":\"scatterternary\",\"marker\":{\"colorbar\":{\"outlinewidth\":0,\"ticks\":\"\"}}}],\"scattercarpet\":[{\"type\":\"scattercarpet\",\"marker\":{\"colorbar\":{\"outlinewidth\":0,\"ticks\":\"\"}}}],\"carpet\":[{\"aaxis\":{\"endlinecolor\":\"#2a3f5f\",\"gridcolor\":\"white\",\"linecolor\":\"white\",\"minorgridcolor\":\"white\",\"startlinecolor\":\"#2a3f5f\"},\"baxis\":{\"endlinecolor\":\"#2a3f5f\",\"gridcolor\":\"white\",\"linecolor\":\"white\",\"minorgridcolor\":\"white\",\"startlinecolor\":\"#2a3f5f\"},\"type\":\"carpet\"}],\"table\":[{\"cells\":{\"fill\":{\"color\":\"#EBF0F8\"},\"line\":{\"color\":\"white\"}},\"header\":{\"fill\":{\"color\":\"#C8D4E3\"},\"line\":{\"color\":\"white\"}},\"type\":\"table\"}],\"barpolar\":[{\"marker\":{\"line\":{\"color\":\"#E5ECF6\",\"width\":0.5},\"pattern\":{\"fillmode\":\"overlay\",\"size\":10,\"solidity\":0.2}},\"type\":\"barpolar\"}],\"pie\":[{\"automargin\":true,\"type\":\"pie\"}]},\"layout\":{\"autotypenumbers\":\"strict\",\"colorway\":[\"#636efa\",\"#EF553B\",\"#00cc96\",\"#ab63fa\",\"#FFA15A\",\"#19d3f3\",\"#FF6692\",\"#B6E880\",\"#FF97FF\",\"#FECB52\"],\"font\":{\"color\":\"#2a3f5f\"},\"hovermode\":\"closest\",\"hoverlabel\":{\"align\":\"left\"},\"paper_bgcolor\":\"white\",\"plot_bgcolor\":\"#E5ECF6\",\"polar\":{\"bgcolor\":\"#E5ECF6\",\"angularaxis\":{\"gridcolor\":\"white\",\"linecolor\":\"white\",\"ticks\":\"\"},\"radialaxis\":{\"gridcolor\":\"white\",\"linecolor\":\"white\",\"ticks\":\"\"}},\"ternary\":{\"bgcolor\":\"#E5ECF6\",\"aaxis\":{\"gridcolor\":\"white\",\"linecolor\":\"white\",\"ticks\":\"\"},\"baxis\":{\"gridcolor\":\"white\",\"linecolor\":\"white\",\"ticks\":\"\"},\"caxis\":{\"gridcolor\":\"white\",\"linecolor\":\"white\",\"ticks\":\"\"}},\"coloraxis\":{\"colorbar\":{\"outlinewidth\":0,\"ticks\":\"\"}},\"colorscale\":{\"sequential\":[[0.0,\"#0d0887\"],[0.1111111111111111,\"#46039f\"],[0.2222222222222222,\"#7201a8\"],[0.3333333333333333,\"#9c179e\"],[0.4444444444444444,\"#bd3786\"],[0.5555555555555556,\"#d8576b\"],[0.6666666666666666,\"#ed7953\"],[0.7777777777777778,\"#fb9f3a\"],[0.8888888888888888,\"#fdca26\"],[1.0,\"#f0f921\"]],\"sequentialminus\":[[0.0,\"#0d0887\"],[0.1111111111111111,\"#46039f\"],[0.2222222222222222,\"#7201a8\"],[0.3333333333333333,\"#9c179e\"],[0.4444444444444444,\"#bd3786\"],[0.5555555555555556,\"#d8576b\"],[0.6666666666666666,\"#ed7953\"],[0.7777777777777778,\"#fb9f3a\"],[0.8888888888888888,\"#fdca26\"],[1.0,\"#f0f921\"]],\"diverging\":[[0,\"#8e0152\"],[0.1,\"#c51b7d\"],[0.2,\"#de77ae\"],[0.3,\"#f1b6da\"],[0.4,\"#fde0ef\"],[0.5,\"#f7f7f7\"],[0.6,\"#e6f5d0\"],[0.7,\"#b8e186\"],[0.8,\"#7fbc41\"],[0.9,\"#4d9221\"],[1,\"#276419\"]]},\"xaxis\":{\"gridcolor\":\"white\",\"linecolor\":\"white\",\"ticks\":\"\",\"title\":{\"standoff\":15},\"zerolinecolor\":\"white\",\"automargin\":true,\"zerolinewidth\":2},\"yaxis\":{\"gridcolor\":\"white\",\"linecolor\":\"white\",\"ticks\":\"\",\"title\":{\"standoff\":15},\"zerolinecolor\":\"white\",\"automargin\":true,\"zerolinewidth\":2},\"scene\":{\"xaxis\":{\"backgroundcolor\":\"#E5ECF6\",\"gridcolor\":\"white\",\"linecolor\":\"white\",\"showbackground\":true,\"ticks\":\"\",\"zerolinecolor\":\"white\",\"gridwidth\":2},\"yaxis\":{\"backgroundcolor\":\"#E5ECF6\",\"gridcolor\":\"white\",\"linecolor\":\"white\",\"showbackground\":true,\"ticks\":\"\",\"zerolinecolor\":\"white\",\"gridwidth\":2},\"zaxis\":{\"backgroundcolor\":\"#E5ECF6\",\"gridcolor\":\"white\",\"linecolor\":\"white\",\"showbackground\":true,\"ticks\":\"\",\"zerolinecolor\":\"white\",\"gridwidth\":2}},\"shapedefaults\":{\"line\":{\"color\":\"#2a3f5f\"}},\"annotationdefaults\":{\"arrowcolor\":\"#2a3f5f\",\"arrowhead\":0,\"arrowwidth\":1},\"geo\":{\"bgcolor\":\"white\",\"landcolor\":\"#E5ECF6\",\"subunitcolor\":\"white\",\"showland\":true,\"showlakes\":true,\"lakecolor\":\"white\"},\"title\":{\"x\":0.05},\"mapbox\":{\"style\":\"light\"}}},\"xaxis\":{\"anchor\":\"y\",\"domain\":[0.0,1.0],\"title\":{\"text\":\"Customer rating\"}},\"yaxis\":{\"anchor\":\"x\",\"domain\":[0.0,1.0],\"title\":{\"text\":\"Allergens\"}},\"legend\":{\"tracegroupgap\":0},\"title\":{\"text\":\"Allergen and Rating\"}},                        {\"responsive\": true}                    ).then(function(){\n",
       "                            \n",
       "var gd = document.getElementById('7053b829-181e-40c5-90bb-309ba86c8bf5');\n",
       "var x = new MutationObserver(function (mutations, observer) {{\n",
       "        var display = window.getComputedStyle(gd).display;\n",
       "        if (!display || display === 'none') {{\n",
       "            console.log([gd, 'removed!']);\n",
       "            Plotly.purge(gd);\n",
       "            observer.disconnect();\n",
       "        }}\n",
       "}});\n",
       "\n",
       "// Listen for the removal of the full notebook cells\n",
       "var notebookContainer = gd.closest('#notebook-container');\n",
       "if (notebookContainer) {{\n",
       "    x.observe(notebookContainer, {childList: true});\n",
       "}}\n",
       "\n",
       "// Listen for the clearing of the current output cell\n",
       "var outputEl = gd.closest('.output');\n",
       "if (outputEl) {{\n",
       "    x.observe(outputEl, {childList: true});\n",
       "}}\n",
       "\n",
       "                        })                };                });            </script>        </div>"
      ]
     },
     "metadata": {},
     "output_type": "display_data"
    }
   ],
   "source": [
    "fig = px.scatter(df, y='Allergens', x='Customer rating', title=\"Allergen and Rating\")\n",
    "fig.show()"
   ]
  },
  {
   "cell_type": "code",
   "execution_count": 104,
   "id": "6039d500-1fd8-4a04-9c1a-2dab698c1e12",
   "metadata": {},
   "outputs": [
    {
     "data": {
      "application/vnd.plotly.v1+json": {
       "config": {
        "plotlyServerURL": "https://plot.ly"
       },
       "data": [
        {
         "alignmentgroup": "True",
         "hovertemplate": "x=%{x}<br>y=%{y}<extra></extra>",
         "legendgroup": "",
         "marker": {
          "color": "#636efa",
          "pattern": {
           "shape": ""
          }
         },
         "name": "",
         "offsetgroup": "",
         "orientation": "v",
         "showlegend": false,
         "textposition": "auto",
         "type": "bar",
         "x": [
          "Almonds",
          "Wheat",
          "Dairy",
          "Chicken",
          "Celery",
          "Anchovies",
          "Cocoa",
          "Eggs",
          "Fish",
          "Ghee",
          "Nuts",
          "Mustard",
          "Soybeans",
          "Coconut",
          "Milk",
          "Strawberries",
          "Oats",
          "Peanuts",
          "Pine nuts",
          "Rice",
          "Shellfish",
          "Pork",
          "Alcohol"
         ],
         "xaxis": "x",
         "y": [
          1,
          95,
          189,
          1,
          1,
          0,
          2,
          12,
          19,
          0,
          4,
          0,
          16,
          0,
          5,
          1,
          0,
          4,
          2,
          0,
          15,
          1,
          0
         ],
         "yaxis": "y"
        }
       ],
       "layout": {
        "autosize": true,
        "barmode": "relative",
        "legend": {
         "tracegroupgap": 0
        },
        "template": {
         "data": {
          "bar": [
           {
            "error_x": {
             "color": "#2a3f5f"
            },
            "error_y": {
             "color": "#2a3f5f"
            },
            "marker": {
             "line": {
              "color": "#E5ECF6",
              "width": 0.5
             },
             "pattern": {
              "fillmode": "overlay",
              "size": 10,
              "solidity": 0.2
             }
            },
            "type": "bar"
           }
          ],
          "barpolar": [
           {
            "marker": {
             "line": {
              "color": "#E5ECF6",
              "width": 0.5
             },
             "pattern": {
              "fillmode": "overlay",
              "size": 10,
              "solidity": 0.2
             }
            },
            "type": "barpolar"
           }
          ],
          "carpet": [
           {
            "aaxis": {
             "endlinecolor": "#2a3f5f",
             "gridcolor": "white",
             "linecolor": "white",
             "minorgridcolor": "white",
             "startlinecolor": "#2a3f5f"
            },
            "baxis": {
             "endlinecolor": "#2a3f5f",
             "gridcolor": "white",
             "linecolor": "white",
             "minorgridcolor": "white",
             "startlinecolor": "#2a3f5f"
            },
            "type": "carpet"
           }
          ],
          "choropleth": [
           {
            "colorbar": {
             "outlinewidth": 0,
             "ticks": ""
            },
            "type": "choropleth"
           }
          ],
          "contour": [
           {
            "colorbar": {
             "outlinewidth": 0,
             "ticks": ""
            },
            "colorscale": [
             [
              0,
              "#0d0887"
             ],
             [
              0.1111111111111111,
              "#46039f"
             ],
             [
              0.2222222222222222,
              "#7201a8"
             ],
             [
              0.3333333333333333,
              "#9c179e"
             ],
             [
              0.4444444444444444,
              "#bd3786"
             ],
             [
              0.5555555555555556,
              "#d8576b"
             ],
             [
              0.6666666666666666,
              "#ed7953"
             ],
             [
              0.7777777777777778,
              "#fb9f3a"
             ],
             [
              0.8888888888888888,
              "#fdca26"
             ],
             [
              1,
              "#f0f921"
             ]
            ],
            "type": "contour"
           }
          ],
          "contourcarpet": [
           {
            "colorbar": {
             "outlinewidth": 0,
             "ticks": ""
            },
            "type": "contourcarpet"
           }
          ],
          "heatmap": [
           {
            "colorbar": {
             "outlinewidth": 0,
             "ticks": ""
            },
            "colorscale": [
             [
              0,
              "#0d0887"
             ],
             [
              0.1111111111111111,
              "#46039f"
             ],
             [
              0.2222222222222222,
              "#7201a8"
             ],
             [
              0.3333333333333333,
              "#9c179e"
             ],
             [
              0.4444444444444444,
              "#bd3786"
             ],
             [
              0.5555555555555556,
              "#d8576b"
             ],
             [
              0.6666666666666666,
              "#ed7953"
             ],
             [
              0.7777777777777778,
              "#fb9f3a"
             ],
             [
              0.8888888888888888,
              "#fdca26"
             ],
             [
              1,
              "#f0f921"
             ]
            ],
            "type": "heatmap"
           }
          ],
          "heatmapgl": [
           {
            "colorbar": {
             "outlinewidth": 0,
             "ticks": ""
            },
            "colorscale": [
             [
              0,
              "#0d0887"
             ],
             [
              0.1111111111111111,
              "#46039f"
             ],
             [
              0.2222222222222222,
              "#7201a8"
             ],
             [
              0.3333333333333333,
              "#9c179e"
             ],
             [
              0.4444444444444444,
              "#bd3786"
             ],
             [
              0.5555555555555556,
              "#d8576b"
             ],
             [
              0.6666666666666666,
              "#ed7953"
             ],
             [
              0.7777777777777778,
              "#fb9f3a"
             ],
             [
              0.8888888888888888,
              "#fdca26"
             ],
             [
              1,
              "#f0f921"
             ]
            ],
            "type": "heatmapgl"
           }
          ],
          "histogram": [
           {
            "marker": {
             "pattern": {
              "fillmode": "overlay",
              "size": 10,
              "solidity": 0.2
             }
            },
            "type": "histogram"
           }
          ],
          "histogram2d": [
           {
            "colorbar": {
             "outlinewidth": 0,
             "ticks": ""
            },
            "colorscale": [
             [
              0,
              "#0d0887"
             ],
             [
              0.1111111111111111,
              "#46039f"
             ],
             [
              0.2222222222222222,
              "#7201a8"
             ],
             [
              0.3333333333333333,
              "#9c179e"
             ],
             [
              0.4444444444444444,
              "#bd3786"
             ],
             [
              0.5555555555555556,
              "#d8576b"
             ],
             [
              0.6666666666666666,
              "#ed7953"
             ],
             [
              0.7777777777777778,
              "#fb9f3a"
             ],
             [
              0.8888888888888888,
              "#fdca26"
             ],
             [
              1,
              "#f0f921"
             ]
            ],
            "type": "histogram2d"
           }
          ],
          "histogram2dcontour": [
           {
            "colorbar": {
             "outlinewidth": 0,
             "ticks": ""
            },
            "colorscale": [
             [
              0,
              "#0d0887"
             ],
             [
              0.1111111111111111,
              "#46039f"
             ],
             [
              0.2222222222222222,
              "#7201a8"
             ],
             [
              0.3333333333333333,
              "#9c179e"
             ],
             [
              0.4444444444444444,
              "#bd3786"
             ],
             [
              0.5555555555555556,
              "#d8576b"
             ],
             [
              0.6666666666666666,
              "#ed7953"
             ],
             [
              0.7777777777777778,
              "#fb9f3a"
             ],
             [
              0.8888888888888888,
              "#fdca26"
             ],
             [
              1,
              "#f0f921"
             ]
            ],
            "type": "histogram2dcontour"
           }
          ],
          "mesh3d": [
           {
            "colorbar": {
             "outlinewidth": 0,
             "ticks": ""
            },
            "type": "mesh3d"
           }
          ],
          "parcoords": [
           {
            "line": {
             "colorbar": {
              "outlinewidth": 0,
              "ticks": ""
             }
            },
            "type": "parcoords"
           }
          ],
          "pie": [
           {
            "automargin": true,
            "type": "pie"
           }
          ],
          "scatter": [
           {
            "fillpattern": {
             "fillmode": "overlay",
             "size": 10,
             "solidity": 0.2
            },
            "type": "scatter"
           }
          ],
          "scatter3d": [
           {
            "line": {
             "colorbar": {
              "outlinewidth": 0,
              "ticks": ""
             }
            },
            "marker": {
             "colorbar": {
              "outlinewidth": 0,
              "ticks": ""
             }
            },
            "type": "scatter3d"
           }
          ],
          "scattercarpet": [
           {
            "marker": {
             "colorbar": {
              "outlinewidth": 0,
              "ticks": ""
             }
            },
            "type": "scattercarpet"
           }
          ],
          "scattergeo": [
           {
            "marker": {
             "colorbar": {
              "outlinewidth": 0,
              "ticks": ""
             }
            },
            "type": "scattergeo"
           }
          ],
          "scattergl": [
           {
            "marker": {
             "colorbar": {
              "outlinewidth": 0,
              "ticks": ""
             }
            },
            "type": "scattergl"
           }
          ],
          "scattermapbox": [
           {
            "marker": {
             "colorbar": {
              "outlinewidth": 0,
              "ticks": ""
             }
            },
            "type": "scattermapbox"
           }
          ],
          "scatterpolar": [
           {
            "marker": {
             "colorbar": {
              "outlinewidth": 0,
              "ticks": ""
             }
            },
            "type": "scatterpolar"
           }
          ],
          "scatterpolargl": [
           {
            "marker": {
             "colorbar": {
              "outlinewidth": 0,
              "ticks": ""
             }
            },
            "type": "scatterpolargl"
           }
          ],
          "scatterternary": [
           {
            "marker": {
             "colorbar": {
              "outlinewidth": 0,
              "ticks": ""
             }
            },
            "type": "scatterternary"
           }
          ],
          "surface": [
           {
            "colorbar": {
             "outlinewidth": 0,
             "ticks": ""
            },
            "colorscale": [
             [
              0,
              "#0d0887"
             ],
             [
              0.1111111111111111,
              "#46039f"
             ],
             [
              0.2222222222222222,
              "#7201a8"
             ],
             [
              0.3333333333333333,
              "#9c179e"
             ],
             [
              0.4444444444444444,
              "#bd3786"
             ],
             [
              0.5555555555555556,
              "#d8576b"
             ],
             [
              0.6666666666666666,
              "#ed7953"
             ],
             [
              0.7777777777777778,
              "#fb9f3a"
             ],
             [
              0.8888888888888888,
              "#fdca26"
             ],
             [
              1,
              "#f0f921"
             ]
            ],
            "type": "surface"
           }
          ],
          "table": [
           {
            "cells": {
             "fill": {
              "color": "#EBF0F8"
             },
             "line": {
              "color": "white"
             }
            },
            "header": {
             "fill": {
              "color": "#C8D4E3"
             },
             "line": {
              "color": "white"
             }
            },
            "type": "table"
           }
          ]
         },
         "layout": {
          "annotationdefaults": {
           "arrowcolor": "#2a3f5f",
           "arrowhead": 0,
           "arrowwidth": 1
          },
          "autotypenumbers": "strict",
          "coloraxis": {
           "colorbar": {
            "outlinewidth": 0,
            "ticks": ""
           }
          },
          "colorscale": {
           "diverging": [
            [
             0,
             "#8e0152"
            ],
            [
             0.1,
             "#c51b7d"
            ],
            [
             0.2,
             "#de77ae"
            ],
            [
             0.3,
             "#f1b6da"
            ],
            [
             0.4,
             "#fde0ef"
            ],
            [
             0.5,
             "#f7f7f7"
            ],
            [
             0.6,
             "#e6f5d0"
            ],
            [
             0.7,
             "#b8e186"
            ],
            [
             0.8,
             "#7fbc41"
            ],
            [
             0.9,
             "#4d9221"
            ],
            [
             1,
             "#276419"
            ]
           ],
           "sequential": [
            [
             0,
             "#0d0887"
            ],
            [
             0.1111111111111111,
             "#46039f"
            ],
            [
             0.2222222222222222,
             "#7201a8"
            ],
            [
             0.3333333333333333,
             "#9c179e"
            ],
            [
             0.4444444444444444,
             "#bd3786"
            ],
            [
             0.5555555555555556,
             "#d8576b"
            ],
            [
             0.6666666666666666,
             "#ed7953"
            ],
            [
             0.7777777777777778,
             "#fb9f3a"
            ],
            [
             0.8888888888888888,
             "#fdca26"
            ],
            [
             1,
             "#f0f921"
            ]
           ],
           "sequentialminus": [
            [
             0,
             "#0d0887"
            ],
            [
             0.1111111111111111,
             "#46039f"
            ],
            [
             0.2222222222222222,
             "#7201a8"
            ],
            [
             0.3333333333333333,
             "#9c179e"
            ],
            [
             0.4444444444444444,
             "#bd3786"
            ],
            [
             0.5555555555555556,
             "#d8576b"
            ],
            [
             0.6666666666666666,
             "#ed7953"
            ],
            [
             0.7777777777777778,
             "#fb9f3a"
            ],
            [
             0.8888888888888888,
             "#fdca26"
            ],
            [
             1,
             "#f0f921"
            ]
           ]
          },
          "colorway": [
           "#636efa",
           "#EF553B",
           "#00cc96",
           "#ab63fa",
           "#FFA15A",
           "#19d3f3",
           "#FF6692",
           "#B6E880",
           "#FF97FF",
           "#FECB52"
          ],
          "font": {
           "color": "#2a3f5f"
          },
          "geo": {
           "bgcolor": "white",
           "lakecolor": "white",
           "landcolor": "#E5ECF6",
           "showlakes": true,
           "showland": true,
           "subunitcolor": "white"
          },
          "hoverlabel": {
           "align": "left"
          },
          "hovermode": "closest",
          "mapbox": {
           "style": "light"
          },
          "paper_bgcolor": "white",
          "plot_bgcolor": "#E5ECF6",
          "polar": {
           "angularaxis": {
            "gridcolor": "white",
            "linecolor": "white",
            "ticks": ""
           },
           "bgcolor": "#E5ECF6",
           "radialaxis": {
            "gridcolor": "white",
            "linecolor": "white",
            "ticks": ""
           }
          },
          "scene": {
           "xaxis": {
            "backgroundcolor": "#E5ECF6",
            "gridcolor": "white",
            "gridwidth": 2,
            "linecolor": "white",
            "showbackground": true,
            "ticks": "",
            "zerolinecolor": "white"
           },
           "yaxis": {
            "backgroundcolor": "#E5ECF6",
            "gridcolor": "white",
            "gridwidth": 2,
            "linecolor": "white",
            "showbackground": true,
            "ticks": "",
            "zerolinecolor": "white"
           },
           "zaxis": {
            "backgroundcolor": "#E5ECF6",
            "gridcolor": "white",
            "gridwidth": 2,
            "linecolor": "white",
            "showbackground": true,
            "ticks": "",
            "zerolinecolor": "white"
           }
          },
          "shapedefaults": {
           "line": {
            "color": "#2a3f5f"
           }
          },
          "ternary": {
           "aaxis": {
            "gridcolor": "white",
            "linecolor": "white",
            "ticks": ""
           },
           "baxis": {
            "gridcolor": "white",
            "linecolor": "white",
            "ticks": ""
           },
           "bgcolor": "#E5ECF6",
           "caxis": {
            "gridcolor": "white",
            "linecolor": "white",
            "ticks": ""
           }
          },
          "title": {
           "x": 0.05
          },
          "xaxis": {
           "automargin": true,
           "gridcolor": "white",
           "linecolor": "white",
           "ticks": "",
           "title": {
            "standoff": 15
           },
           "zerolinecolor": "white",
           "zerolinewidth": 2
          },
          "yaxis": {
           "automargin": true,
           "gridcolor": "white",
           "linecolor": "white",
           "ticks": "",
           "title": {
            "standoff": 15
           },
           "zerolinecolor": "white",
           "zerolinewidth": 2
          }
         }
        },
        "title": {
         "text": "Total Number of Allergens"
        },
        "xaxis": {
         "anchor": "y",
         "autorange": true,
         "domain": [
          0,
          1
         ],
         "range": [
          -0.5,
          22.5
         ],
         "title": {
          "text": "x"
         },
         "type": "category"
        },
        "yaxis": {
         "anchor": "x",
         "autorange": true,
         "domain": [
          0,
          1
         ],
         "range": [
          0,
          198.94736842105263
         ],
         "title": {
          "text": "y"
         },
         "type": "linear"
        }
       }
      },
      "image/png": "[encoded data removed]",
      "text/html": [
       "<div>                            <div id=\"f34faa7c-4dd4-4b3b-8be7-3d0ffcc83690\" class=\"plotly-graph-div\" style=\"height:525px; width:100%;\"></div>            <script type=\"text/javascript\">                require([\"plotly\"], function(Plotly) {                    window.PLOTLYENV=window.PLOTLYENV || {};                                    if (document.getElementById(\"f34faa7c-4dd4-4b3b-8be7-3d0ffcc83690\")) {                    Plotly.newPlot(                        \"f34faa7c-4dd4-4b3b-8be7-3d0ffcc83690\",                        [{\"alignmentgroup\":\"True\",\"hovertemplate\":\"x=%{x}\\u003cbr\\u003ey=%{y}\\u003cextra\\u003e\\u003c\\u002fextra\\u003e\",\"legendgroup\":\"\",\"marker\":{\"color\":\"#636efa\",\"pattern\":{\"shape\":\"\"}},\"name\":\"\",\"offsetgroup\":\"\",\"orientation\":\"v\",\"showlegend\":false,\"textposition\":\"auto\",\"x\":[\"Almonds\",\"Wheat\",\"Dairy\",\"Chicken\",\"Celery\",\"Anchovies\",\"Cocoa\",\"Eggs\",\"Fish\",\"Ghee\",\"Nuts\",\"Mustard\",\"Soybeans\",\"Coconut\",\"Milk\",\"Strawberries\",\"Oats\",\"Peanuts\",\"Pine nuts\",\"Rice\",\"Shellfish\",\"Pork\",\"Alcohol\"],\"xaxis\":\"x\",\"y\":[1,95,189,1,1,0,2,12,19,0,4,0,16,0,5,1,0,4,2,0,15,1,0],\"yaxis\":\"y\",\"type\":\"bar\"}],                        {\"template\":{\"data\":{\"histogram2dcontour\":[{\"type\":\"histogram2dcontour\",\"colorbar\":{\"outlinewidth\":0,\"ticks\":\"\"},\"colorscale\":[[0.0,\"#0d0887\"],[0.1111111111111111,\"#46039f\"],[0.2222222222222222,\"#7201a8\"],[0.3333333333333333,\"#9c179e\"],[0.4444444444444444,\"#bd3786\"],[0.5555555555555556,\"#d8576b\"],[0.6666666666666666,\"#ed7953\"],[0.7777777777777778,\"#fb9f3a\"],[0.8888888888888888,\"#fdca26\"],[1.0,\"#f0f921\"]]}],\"choropleth\":[{\"type\":\"choropleth\",\"colorbar\":{\"outlinewidth\":0,\"ticks\":\"\"}}],\"histogram2d\":[{\"type\":\"histogram2d\",\"colorbar\":{\"outlinewidth\":0,\"ticks\":\"\"},\"colorscale\":[[0.0,\"#0d0887\"],[0.1111111111111111,\"#46039f\"],[0.2222222222222222,\"#7201a8\"],[0.3333333333333333,\"#9c179e\"],[0.4444444444444444,\"#bd3786\"],[0.5555555555555556,\"#d8576b\"],[0.6666666666666666,\"#ed7953\"],[0.7777777777777778,\"#fb9f3a\"],[0.8888888888888888,\"#fdca26\"],[1.0,\"#f0f921\"]]}],\"heatmap\":[{\"type\":\"heatmap\",\"colorbar\":{\"outlinewidth\":0,\"ticks\":\"\"},\"colorscale\":[[0.0,\"#0d0887\"],[0.1111111111111111,\"#46039f\"],[0.2222222222222222,\"#7201a8\"],[0.3333333333333333,\"#9c179e\"],[0.4444444444444444,\"#bd3786\"],[0.5555555555555556,\"#d8576b\"],[0.6666666666666666,\"#ed7953\"],[0.7777777777777778,\"#fb9f3a\"],[0.8888888888888888,\"#fdca26\"],[1.0,\"#f0f921\"]]}],\"heatmapgl\":[{\"type\":\"heatmapgl\",\"colorbar\":{\"outlinewidth\":0,\"ticks\":\"\"},\"colorscale\":[[0.0,\"#0d0887\"],[0.1111111111111111,\"#46039f\"],[0.2222222222222222,\"#7201a8\"],[0.3333333333333333,\"#9c179e\"],[0.4444444444444444,\"#bd3786\"],[0.5555555555555556,\"#d8576b\"],[0.6666666666666666,\"#ed7953\"],[0.7777777777777778,\"#fb9f3a\"],[0.8888888888888888,\"#fdca26\"],[1.0,\"#f0f921\"]]}],\"contourcarpet\":[{\"type\":\"contourcarpet\",\"colorbar\":{\"outlinewidth\":0,\"ticks\":\"\"}}],\"contour\":[{\"type\":\"contour\",\"colorbar\":{\"outlinewidth\":0,\"ticks\":\"\"},\"colorscale\":[[0.0,\"#0d0887\"],[0.1111111111111111,\"#46039f\"],[0.2222222222222222,\"#7201a8\"],[0.3333333333333333,\"#9c179e\"],[0.4444444444444444,\"#bd3786\"],[0.5555555555555556,\"#d8576b\"],[0.6666666666666666,\"#ed7953\"],[0.7777777777777778,\"#fb9f3a\"],[0.8888888888888888,\"#fdca26\"],[1.0,\"#f0f921\"]]}],\"surface\":[{\"type\":\"surface\",\"colorbar\":{\"outlinewidth\":0,\"ticks\":\"\"},\"colorscale\":[[0.0,\"#0d0887\"],[0.1111111111111111,\"#46039f\"],[0.2222222222222222,\"#7201a8\"],[0.3333333333333333,\"#9c179e\"],[0.4444444444444444,\"#bd3786\"],[0.5555555555555556,\"#d8576b\"],[0.6666666666666666,\"#ed7953\"],[0.7777777777777778,\"#fb9f3a\"],[0.8888888888888888,\"#fdca26\"],[1.0,\"#f0f921\"]]}],\"mesh3d\":[{\"type\":\"mesh3d\",\"colorbar\":{\"outlinewidth\":0,\"ticks\":\"\"}}],\"scatter\":[{\"fillpattern\":{\"fillmode\":\"overlay\",\"size\":10,\"solidity\":0.2},\"type\":\"scatter\"}],\"parcoords\":[{\"type\":\"parcoords\",\"line\":{\"colorbar\":{\"outlinewidth\":0,\"ticks\":\"\"}}}],\"scatterpolargl\":[{\"type\":\"scatterpolargl\",\"marker\":{\"colorbar\":{\"outlinewidth\":0,\"ticks\":\"\"}}}],\"bar\":[{\"error_x\":{\"color\":\"#2a3f5f\"},\"error_y\":{\"color\":\"#2a3f5f\"},\"marker\":{\"line\":{\"color\":\"#E5ECF6\",\"width\":0.5},\"pattern\":{\"fillmode\":\"overlay\",\"size\":10,\"solidity\":0.2}},\"type\":\"bar\"}],\"scattergeo\":[{\"type\":\"scattergeo\",\"marker\":{\"colorbar\":{\"outlinewidth\":0,\"ticks\":\"\"}}}],\"scatterpolar\":[{\"type\":\"scatterpolar\",\"marker\":{\"colorbar\":{\"outlinewidth\":0,\"ticks\":\"\"}}}],\"histogram\":[{\"marker\":{\"pattern\":{\"fillmode\":\"overlay\",\"size\":10,\"solidity\":0.2}},\"type\":\"histogram\"}],\"scattergl\":[{\"type\":\"scattergl\",\"marker\":{\"colorbar\":{\"outlinewidth\":0,\"ticks\":\"\"}}}],\"scatter3d\":[{\"type\":\"scatter3d\",\"line\":{\"colorbar\":{\"outlinewidth\":0,\"ticks\":\"\"}},\"marker\":{\"colorbar\":{\"outlinewidth\":0,\"ticks\":\"\"}}}],\"scattermapbox\":[{\"type\":\"scattermapbox\",\"marker\":{\"colorbar\":{\"outlinewidth\":0,\"ticks\":\"\"}}}],\"scatterternary\":[{\"type\":\"scatterternary\",\"marker\":{\"colorbar\":{\"outlinewidth\":0,\"ticks\":\"\"}}}],\"scattercarpet\":[{\"type\":\"scattercarpet\",\"marker\":{\"colorbar\":{\"outlinewidth\":0,\"ticks\":\"\"}}}],\"carpet\":[{\"aaxis\":{\"endlinecolor\":\"#2a3f5f\",\"gridcolor\":\"white\",\"linecolor\":\"white\",\"minorgridcolor\":\"white\",\"startlinecolor\":\"#2a3f5f\"},\"baxis\":{\"endlinecolor\":\"#2a3f5f\",\"gridcolor\":\"white\",\"linecolor\":\"white\",\"minorgridcolor\":\"white\",\"startlinecolor\":\"#2a3f5f\"},\"type\":\"carpet\"}],\"table\":[{\"cells\":{\"fill\":{\"color\":\"#EBF0F8\"},\"line\":{\"color\":\"white\"}},\"header\":{\"fill\":{\"color\":\"#C8D4E3\"},\"line\":{\"color\":\"white\"}},\"type\":\"table\"}],\"barpolar\":[{\"marker\":{\"line\":{\"color\":\"#E5ECF6\",\"width\":0.5},\"pattern\":{\"fillmode\":\"overlay\",\"size\":10,\"solidity\":0.2}},\"type\":\"barpolar\"}],\"pie\":[{\"automargin\":true,\"type\":\"pie\"}]},\"layout\":{\"autotypenumbers\":\"strict\",\"colorway\":[\"#636efa\",\"#EF553B\",\"#00cc96\",\"#ab63fa\",\"#FFA15A\",\"#19d3f3\",\"#FF6692\",\"#B6E880\",\"#FF97FF\",\"#FECB52\"],\"font\":{\"color\":\"#2a3f5f\"},\"hovermode\":\"closest\",\"hoverlabel\":{\"align\":\"left\"},\"paper_bgcolor\":\"white\",\"plot_bgcolor\":\"#E5ECF6\",\"polar\":{\"bgcolor\":\"#E5ECF6\",\"angularaxis\":{\"gridcolor\":\"white\",\"linecolor\":\"white\",\"ticks\":\"\"},\"radialaxis\":{\"gridcolor\":\"white\",\"linecolor\":\"white\",\"ticks\":\"\"}},\"ternary\":{\"bgcolor\":\"#E5ECF6\",\"aaxis\":{\"gridcolor\":\"white\",\"linecolor\":\"white\",\"ticks\":\"\"},\"baxis\":{\"gridcolor\":\"white\",\"linecolor\":\"white\",\"ticks\":\"\"},\"caxis\":{\"gridcolor\":\"white\",\"linecolor\":\"white\",\"ticks\":\"\"}},\"coloraxis\":{\"colorbar\":{\"outlinewidth\":0,\"ticks\":\"\"}},\"colorscale\":{\"sequential\":[[0.0,\"#0d0887\"],[0.1111111111111111,\"#46039f\"],[0.2222222222222222,\"#7201a8\"],[0.3333333333333333,\"#9c179e\"],[0.4444444444444444,\"#bd3786\"],[0.5555555555555556,\"#d8576b\"],[0.6666666666666666,\"#ed7953\"],[0.7777777777777778,\"#fb9f3a\"],[0.8888888888888888,\"#fdca26\"],[1.0,\"#f0f921\"]],\"sequentialminus\":[[0.0,\"#0d0887\"],[0.1111111111111111,\"#46039f\"],[0.2222222222222222,\"#7201a8\"],[0.3333333333333333,\"#9c179e\"],[0.4444444444444444,\"#bd3786\"],[0.5555555555555556,\"#d8576b\"],[0.6666666666666666,\"#ed7953\"],[0.7777777777777778,\"#fb9f3a\"],[0.8888888888888888,\"#fdca26\"],[1.0,\"#f0f921\"]],\"diverging\":[[0,\"#8e0152\"],[0.1,\"#c51b7d\"],[0.2,\"#de77ae\"],[0.3,\"#f1b6da\"],[0.4,\"#fde0ef\"],[0.5,\"#f7f7f7\"],[0.6,\"#e6f5d0\"],[0.7,\"#b8e186\"],[0.8,\"#7fbc41\"],[0.9,\"#4d9221\"],[1,\"#276419\"]]},\"xaxis\":{\"gridcolor\":\"white\",\"linecolor\":\"white\",\"ticks\":\"\",\"title\":{\"standoff\":15},\"zerolinecolor\":\"white\",\"automargin\":true,\"zerolinewidth\":2},\"yaxis\":{\"gridcolor\":\"white\",\"linecolor\":\"white\",\"ticks\":\"\",\"title\":{\"standoff\":15},\"zerolinecolor\":\"white\",\"automargin\":true,\"zerolinewidth\":2},\"scene\":{\"xaxis\":{\"backgroundcolor\":\"#E5ECF6\",\"gridcolor\":\"white\",\"linecolor\":\"white\",\"showbackground\":true,\"ticks\":\"\",\"zerolinecolor\":\"white\",\"gridwidth\":2},\"yaxis\":{\"backgroundcolor\":\"#E5ECF6\",\"gridcolor\":\"white\",\"linecolor\":\"white\",\"showbackground\":true,\"ticks\":\"\",\"zerolinecolor\":\"white\",\"gridwidth\":2},\"zaxis\":{\"backgroundcolor\":\"#E5ECF6\",\"gridcolor\":\"white\",\"linecolor\":\"white\",\"showbackground\":true,\"ticks\":\"\",\"zerolinecolor\":\"white\",\"gridwidth\":2}},\"shapedefaults\":{\"line\":{\"color\":\"#2a3f5f\"}},\"annotationdefaults\":{\"arrowcolor\":\"#2a3f5f\",\"arrowhead\":0,\"arrowwidth\":1},\"geo\":{\"bgcolor\":\"white\",\"landcolor\":\"#E5ECF6\",\"subunitcolor\":\"white\",\"showland\":true,\"showlakes\":true,\"lakecolor\":\"white\"},\"title\":{\"x\":0.05},\"mapbox\":{\"style\":\"light\"}}},\"xaxis\":{\"anchor\":\"y\",\"domain\":[0.0,1.0],\"title\":{\"text\":\"x\"}},\"yaxis\":{\"anchor\":\"x\",\"domain\":[0.0,1.0],\"title\":{\"text\":\"y\"}},\"legend\":{\"tracegroupgap\":0},\"title\":{\"text\":\"Total Number of Allergens\"},\"barmode\":\"relative\"},                        {\"responsive\": true}                    ).then(function(){\n",
       "                            \n",
       "var gd = document.getElementById('f34faa7c-4dd4-4b3b-8be7-3d0ffcc83690');\n",
       "var x = new MutationObserver(function (mutations, observer) {{\n",
       "        var display = window.getComputedStyle(gd).display;\n",
       "        if (!display || display === 'none') {{\n",
       "            console.log([gd, 'removed!']);\n",
       "            Plotly.purge(gd);\n",
       "            observer.disconnect();\n",
       "        }}\n",
       "}});\n",
       "\n",
       "// Listen for the removal of the full notebook cells\n",
       "var notebookContainer = gd.closest('#notebook-container');\n",
       "if (notebookContainer) {{\n",
       "    x.observe(notebookContainer, {childList: true});\n",
       "}}\n",
       "\n",
       "// Listen for the clearing of the current output cell\n",
       "var outputEl = gd.closest('.output');\n",
       "if (outputEl) {{\n",
       "    x.observe(outputEl, {childList: true});\n",
       "}}\n",
       "\n",
       "                        })                };                });            </script>        </div>"
      ]
     },
     "metadata": {},
     "output_type": "display_data"
    }
   ],
   "source": [
    "fig = px.bar(df, x= Allergen.keys(), y=Allergen.values(), title=\"Total Number of Allergens\")\n",
    "fig.show()"
   ]
  },
  {
   "cell_type": "code",
   "execution_count": 105,
   "id": "46454965-9719-4be3-96c9-98fb535b7929",
   "metadata": {},
   "outputs": [
    {
     "data": {
      "application/vnd.plotly.v1+json": {
       "config": {
        "plotlyServerURL": "https://plot.ly"
       },
       "data": [
        {
         "alignmentgroup": "True",
         "hovertemplate": "Main Ingredient=%{x}<br>count=%{y}<extra></extra>",
         "legendgroup": "",
         "marker": {
          "color": "#636efa",
          "pattern": {
           "shape": ""
          }
         },
         "name": "",
         "offsetgroup": "",
         "orientation": "v",
         "showlegend": false,
         "textposition": "auto",
         "type": "bar",
         "x": [
          "Almonds",
          "Almonds",
          "Chicken broth",
          "Chicken broth",
          "Cheese",
          "Buttermilk",
          "Popcorn",
          "Romaine lettuce",
          "Grilled chicken",
          "Strawberries",
          "Cheese",
          "Cheese",
          "Potatoes",
          "Yogurt (milk, cultures)",
          "Grilled chicken",
          "Tomatoes",
          "Mixed berries",
          "Romaine lettuce",
          "Mixed berries",
          "Chicken",
          "Pesto sauce",
          "Beef",
          "Bananas",
          "Watermelon",
          "Chicken",
          "Mango",
          "Cucumbers",
          "Butternut squash",
          "Pasta",
          "Lamb",
          "Chicken",
          "Chicken",
          "Tomatoes",
          "Mushrooms",
          "Greek yogurt",
          "Eggplant",
          "Bananas",
          "Pizza dough",
          "Chicken",
          "Spinach",
          "Mushrooms",
          "Yogurt (milk, cultures)",
          "Spinach",
          "Chocolate",
          "Portobello mushrooms",
          "Tomatoes",
          "Chicken",
          "Beef",
          "Strawberries",
          "Chicken",
          "Mushrooms",
          "Pasta",
          "Pumpkin",
          "Butternut squash",
          "Tomatoes",
          "Chicken",
          "Berries",
          "Mushrooms",
          "Spinach",
          "Chocolate",
          "Portobello mushrooms",
          "Tomatoes",
          "Chicken",
          "Beef",
          "Strawberries",
          "Chicken",
          "Chicken",
          "Spinach",
          "Chicken",
          "Lamb",
          "Paneer",
          "Lentils",
          "Cottage cheese",
          "Chicken",
          "Milk solids",
          "Chicken",
          "Chicken",
          "Lentil dumplings",
          "Chicken",
          "Paneer",
          "Paneer",
          "Milk",
          "Chicken",
          "Milk solids",
          "Lamb",
          "Rice",
          "Paneer",
          "Chicken breast",
          "Chocolate",
          "Bacon",
          "Chicken",
          "Chicken",
          "Sweet potatoes",
          "Brie cheese",
          "Onions",
          "Lamb/Chicken",
          "Onions",
          "Eggs",
          "Eggs",
          "Eggs",
          "Eggs",
          "Eggs",
          "Eggs",
          "Fish fillets",
          "Fish fillets",
          "Salmon fillet",
          "Salmon",
          "Salmon",
          "Salmon",
          "Salmon",
          "Fish",
          "Cod",
          "Cod",
          "Tuna",
          "Tuna",
          "Fish (salmon, tuna)",
          "Salmon fillet",
          "Sushi rice",
          "Salmon",
          "Sushi rice",
          "Salmon",
          "Sugar",
          "Sugar",
          "Milk",
          "Yogurt (milk, cultures)",
          "Yogurt (milk, cultures)",
          "Yogurt (milk, cultures)",
          "Tomatoes",
          "Apples",
          "Tomatoes",
          "Apples",
          "Oranges",
          "Cucumber",
          "Ground beef",
          "Chicken breast",
          "Pork ribs",
          "Quinoa",
          "Mixed vegetables",
          "Ground beef",
          "Potatoes",
          "Lemon juice",
          "Tomatoes",
          "Ground beef",
          "Lentils",
          "Chicken",
          "Eggplant",
          "Pasta",
          "Chicken",
          "Mixed vegetables",
          "Mixed vegetables",
          "Spinach",
          "Chicken",
          "Vegetables",
          "Tomatoes",
          "Chicken",
          "Pasta",
          "Chicken",
          "Chicken",
          "Chicken",
          "Apples",
          "Eggplant",
          "Avocado",
          "Beef",
          "Black beans",
          "Ground beef",
          "Cucumber",
          "Mixed fruits",
          "Sausage",
          "Chicken",
          "Mango",
          "Lentils",
          "Spinach",
          "Bell peppers",
          "Beef",
          "Cabbage",
          "Apples",
          "Sweet potatoes",
          "Ground beef",
          "Chicken",
          "Ground beef",
          "Chicken",
          "Mushrooms",
          "Zucchini",
          "Chicken",
          "Beef",
          "Tomatoes",
          "Quinoa",
          "Mixed vegetables",
          "Vegetables",
          "Beef",
          "Quinoa",
          "Mixed vegetables",
          "Chicken wings",
          "Lentils",
          "Cabbage",
          "Chicken",
          "Chicken",
          "Lentils",
          "Chicken",
          "Pizza dough",
          "Chicken",
          "Pasta",
          "Beef",
          "Tofu",
          "Bell peppers",
          "Bell peppers",
          "Eggplant",
          "Brussels sprouts",
          "Chicken wings",
          "Mango",
          "Pasta",
          "Chicken",
          "Mango",
          "Spinach",
          "Onions",
          "Beef",
          "Spinach",
          "Vegetables",
          "Carrots",
          "Cucumbers",
          "Potatoes",
          "Tomatoes",
          "Avocado",
          "Chicken",
          "Chicken",
          "Chicken",
          "Chicken",
          "Brussels sprouts",
          "Beef",
          "Spinach",
          "Chicken",
          "Chicken",
          "Mixed vegetables",
          "Vegetables",
          "Pasta",
          "Beef",
          "Tofu",
          "Bell peppers",
          "Eggplant",
          "Brussels sprouts",
          "Chicken wings",
          "Mango",
          "Pasta",
          "Chicken",
          "Mango",
          "Spinach",
          "Onions",
          "Beef",
          "Spinach",
          "Vegetables",
          "Carrots",
          "Cucumbers",
          "Potatoes",
          "Tomatoes",
          "Rice",
          "Chickpeas",
          "Rice",
          "Potatoes",
          "Potatoes",
          "Chicken",
          "Potato",
          "Semolina",
          "Kidney beans",
          "Chicken",
          "Mixed vegetables",
          "Chickpeas",
          "Fermented batter",
          "Chicken",
          "Mixed vegetables",
          "Basmati rice",
          "Chicken",
          "Rice",
          "Chickpeas",
          "Cauliflower",
          "Mutton",
          "Oats",
          "Chicken",
          "Peanuts",
          "Peanuts",
          "Chicken",
          "Chicken",
          "Chicken",
          "Zucchini",
          "Chicken",
          "Rice",
          "Shrimp",
          "Shrimp",
          "Shrimp",
          "Shrimp",
          "Shrimp",
          "Prawns",
          "Lobster",
          "Shrimp",
          "Shrimp",
          "Lobster",
          "Shrimp",
          "Prawns",
          "Lobster",
          "Lobster",
          "Shrimp",
          "Shrimp",
          "Soybeans",
          "Soybeans",
          "Tofu",
          "Miso paste",
          "Tofu",
          "Chicken",
          "Tofu",
          "Beef",
          "Sushi rice",
          "Wheat flour",
          "Wheat flour",
          "Zucchini",
          "Chicken",
          "Onions",
          "Chicken",
          "Portobello mushrooms",
          "Potatoes",
          "Oats",
          "Oats",
          "Flour",
          "Carrots",
          "Blueberries",
          "Flour",
          "Arborio rice",
          "Flour",
          "Pineapple",
          "Apples",
          "Bananas",
          "Flour",
          "Apples",
          "Pasta",
          "Flour",
          "Flour",
          "Pumpkin",
          "Mixed berries",
          "Bread",
          "Mixed berries",
          "Pasta",
          "Pasta",
          "Lime juice",
          "Flour",
          "Chicken",
          "Flour",
          "Strawberries",
          "Mixed berries",
          "Cream cheese",
          "Flour",
          "Oats",
          "Apples",
          "Chicken",
          "Romaine lettuce",
          "Romaine lettuce",
          "Graham crackers",
          "Ladyfingers",
          "Dough",
          "Chicken",
          "Vegetables",
          "Bread",
          "Pizza dough",
          "Pasta",
          "Apples",
          "Apples",
          "Chicken",
          "Pumpkin",
          "Flour",
          "Pizza dough",
          "Beef",
          "Pasta",
          "Flour",
          "Apples",
          "Chicken",
          "Romaine lettuce",
          "Graham crackers",
          "Ladyfingers",
          "Dough",
          "Chicken",
          "Vegetables",
          "Bread",
          "Pizza dough",
          "Pasta",
          "Apples",
          "Apples",
          "Chicken",
          "Pumpkin",
          "Flour",
          "Pizza dough",
          "Beef",
          "Flour",
          "Flour",
          "Ladyfingers",
          "Flour",
          "Flour",
          "Lemon juice",
          "Lemon juice",
          "Pecans",
          "Zucchini",
          "Bananas",
          "Pizza dough"
         ],
         "xaxis": "x",
         "y": [
          1,
          1,
          1,
          1,
          1,
          1,
          1,
          1,
          1,
          1,
          1,
          1,
          1,
          1,
          1,
          1,
          1,
          1,
          1,
          1,
          1,
          1,
          1,
          1,
          1,
          1,
          1,
          1,
          1,
          1,
          1,
          1,
          1,
          1,
          1,
          1,
          1,
          1,
          1,
          1,
          1,
          1,
          1,
          1,
          1,
          1,
          1,
          1,
          1,
          1,
          1,
          1,
          1,
          1,
          1,
          1,
          1,
          1,
          1,
          1,
          1,
          1,
          1,
          1,
          1,
          1,
          1,
          1,
          1,
          1,
          1,
          1,
          1,
          1,
          1,
          1,
          1,
          1,
          1,
          1,
          1,
          1,
          1,
          1,
          1,
          1,
          1,
          1,
          1,
          1,
          1,
          1,
          1,
          1,
          1,
          1,
          1,
          1,
          1,
          1,
          1,
          1,
          1,
          1,
          1,
          1,
          1,
          1,
          1,
          1,
          1,
          1,
          1,
          1,
          1,
          1,
          1,
          1,
          1,
          1,
          1,
          1,
          1,
          1,
          1,
          1,
          1,
          1,
          1,
          1,
          1,
          1,
          1,
          1,
          1,
          1,
          1,
          1,
          1,
          1,
          1,
          1,
          1,
          1,
          1,
          1,
          1,
          1,
          1,
          1,
          1,
          1,
          1,
          1,
          1,
          1,
          1,
          1,
          1,
          1,
          1,
          1,
          1,
          1,
          1,
          1,
          1,
          1,
          1,
          1,
          1,
          1,
          1,
          1,
          1,
          1,
          1,
          1,
          1,
          1,
          1,
          1,
          1,
          1,
          1,
          1,
          1,
          1,
          1,
          1,
          1,
          1,
          1,
          1,
          1,
          1,
          1,
          1,
          1,
          1,
          1,
          1,
          1,
          1,
          1,
          1,
          1,
          1,
          1,
          1,
          1,
          1,
          1,
          1,
          1,
          1,
          1,
          1,
          1,
          1,
          1,
          1,
          1,
          1,
          1,
          1,
          1,
          1,
          1,
          1,
          1,
          1,
          1,
          1,
          1,
          1,
          1,
          1,
          1,
          1,
          1,
          1,
          1,
          1,
          1,
          1,
          1,
          1,
          1,
          1,
          1,
          1,
          1,
          1,
          1,
          1,
          1,
          1,
          1,
          1,
          1,
          1,
          1,
          1,
          1,
          1,
          1,
          1,
          1,
          1,
          1,
          1,
          1,
          1,
          1,
          1,
          1,
          1,
          1,
          1,
          1,
          1,
          1,
          1,
          1,
          1,
          1,
          1,
          1,
          1,
          1,
          1,
          1,
          1,
          1,
          1,
          1,
          1,
          1,
          1,
          1,
          1,
          1,
          1,
          1,
          1,
          1,
          1,
          1,
          1,
          1,
          1,
          1,
          1,
          1,
          1,
          1,
          1,
          1,
          1,
          1,
          1,
          1,
          1,
          1,
          1,
          1,
          1,
          1,
          1,
          1,
          1,
          1,
          1,
          1,
          1,
          1,
          1,
          1,
          1,
          1,
          1,
          1,
          1,
          1,
          1,
          1,
          1,
          1,
          1,
          1,
          1,
          1,
          1,
          1,
          1,
          1,
          1,
          1,
          1,
          1,
          1,
          1,
          1,
          1,
          1,
          1,
          1,
          1,
          1,
          1,
          1,
          1,
          1,
          1,
          1,
          1,
          1,
          1,
          1,
          1,
          1,
          1,
          1,
          1,
          1,
          1,
          1,
          1,
          1,
          1,
          1,
          1,
          1,
          1,
          1,
          1,
          1,
          1
         ],
         "yaxis": "y"
        }
       ],
       "layout": {
        "autosize": true,
        "barmode": "relative",
        "legend": {
         "tracegroupgap": 0
        },
        "template": {
         "data": {
          "bar": [
           {
            "error_x": {
             "color": "#2a3f5f"
            },
            "error_y": {
             "color": "#2a3f5f"
            },
            "marker": {
             "line": {
              "color": "#E5ECF6",
              "width": 0.5
             },
             "pattern": {
              "fillmode": "overlay",
              "size": 10,
              "solidity": 0.2
             }
            },
            "type": "bar"
           }
          ],
          "barpolar": [
           {
            "marker": {
             "line": {
              "color": "#E5ECF6",
              "width": 0.5
             },
             "pattern": {
              "fillmode": "overlay",
              "size": 10,
              "solidity": 0.2
             }
            },
            "type": "barpolar"
           }
          ],
          "carpet": [
           {
            "aaxis": {
             "endlinecolor": "#2a3f5f",
             "gridcolor": "white",
             "linecolor": "white",
             "minorgridcolor": "white",
             "startlinecolor": "#2a3f5f"
            },
            "baxis": {
             "endlinecolor": "#2a3f5f",
             "gridcolor": "white",
             "linecolor": "white",
             "minorgridcolor": "white",
             "startlinecolor": "#2a3f5f"
            },
            "type": "carpet"
           }
          ],
          "choropleth": [
           {
            "colorbar": {
             "outlinewidth": 0,
             "ticks": ""
            },
            "type": "choropleth"
           }
          ],
          "contour": [
           {
            "colorbar": {
             "outlinewidth": 0,
             "ticks": ""
            },
            "colorscale": [
             [
              0,
              "#0d0887"
             ],
             [
              0.1111111111111111,
              "#46039f"
             ],
             [
              0.2222222222222222,
              "#7201a8"
             ],
             [
              0.3333333333333333,
              "#9c179e"
             ],
             [
              0.4444444444444444,
              "#bd3786"
             ],
             [
              0.5555555555555556,
              "#d8576b"
             ],
             [
              0.6666666666666666,
              "#ed7953"
             ],
             [
              0.7777777777777778,
              "#fb9f3a"
             ],
             [
              0.8888888888888888,
              "#fdca26"
             ],
             [
              1,
              "#f0f921"
             ]
            ],
            "type": "contour"
           }
          ],
          "contourcarpet": [
           {
            "colorbar": {
             "outlinewidth": 0,
             "ticks": ""
            },
            "type": "contourcarpet"
           }
          ],
          "heatmap": [
           {
            "colorbar": {
             "outlinewidth": 0,
             "ticks": ""
            },
            "colorscale": [
             [
              0,
              "#0d0887"
             ],
             [
              0.1111111111111111,
              "#46039f"
             ],
             [
              0.2222222222222222,
              "#7201a8"
             ],
             [
              0.3333333333333333,
              "#9c179e"
             ],
             [
              0.4444444444444444,
              "#bd3786"
             ],
             [
              0.5555555555555556,
              "#d8576b"
             ],
             [
              0.6666666666666666,
              "#ed7953"
             ],
             [
              0.7777777777777778,
              "#fb9f3a"
             ],
             [
              0.8888888888888888,
              "#fdca26"
             ],
             [
              1,
              "#f0f921"
             ]
            ],
            "type": "heatmap"
           }
          ],
          "heatmapgl": [
           {
            "colorbar": {
             "outlinewidth": 0,
             "ticks": ""
            },
            "colorscale": [
             [
              0,
              "#0d0887"
             ],
             [
              0.1111111111111111,
              "#46039f"
             ],
             [
              0.2222222222222222,
              "#7201a8"
             ],
             [
              0.3333333333333333,
              "#9c179e"
             ],
             [
              0.4444444444444444,
              "#bd3786"
             ],
             [
              0.5555555555555556,
              "#d8576b"
             ],
             [
              0.6666666666666666,
              "#ed7953"
             ],
             [
              0.7777777777777778,
              "#fb9f3a"
             ],
             [
              0.8888888888888888,
              "#fdca26"
             ],
             [
              1,
              "#f0f921"
             ]
            ],
            "type": "heatmapgl"
           }
          ],
          "histogram": [
           {
            "marker": {
             "pattern": {
              "fillmode": "overlay",
              "size": 10,
              "solidity": 0.2
             }
            },
            "type": "histogram"
           }
          ],
          "histogram2d": [
           {
            "colorbar": {
             "outlinewidth": 0,
             "ticks": ""
            },
            "colorscale": [
             [
              0,
              "#0d0887"
             ],
             [
              0.1111111111111111,
              "#46039f"
             ],
             [
              0.2222222222222222,
              "#7201a8"
             ],
             [
              0.3333333333333333,
              "#9c179e"
             ],
             [
              0.4444444444444444,
              "#bd3786"
             ],
             [
              0.5555555555555556,
              "#d8576b"
             ],
             [
              0.6666666666666666,
              "#ed7953"
             ],
             [
              0.7777777777777778,
              "#fb9f3a"
             ],
             [
              0.8888888888888888,
              "#fdca26"
             ],
             [
              1,
              "#f0f921"
             ]
            ],
            "type": "histogram2d"
           }
          ],
          "histogram2dcontour": [
           {
            "colorbar": {
             "outlinewidth": 0,
             "ticks": ""
            },
            "colorscale": [
             [
              0,
              "#0d0887"
             ],
             [
              0.1111111111111111,
              "#46039f"
             ],
             [
              0.2222222222222222,
              "#7201a8"
             ],
             [
              0.3333333333333333,
              "#9c179e"
             ],
             [
              0.4444444444444444,
              "#bd3786"
             ],
             [
              0.5555555555555556,
              "#d8576b"
             ],
             [
              0.6666666666666666,
              "#ed7953"
             ],
             [
              0.7777777777777778,
              "#fb9f3a"
             ],
             [
              0.8888888888888888,
              "#fdca26"
             ],
             [
              1,
              "#f0f921"
             ]
            ],
            "type": "histogram2dcontour"
           }
          ],
          "mesh3d": [
           {
            "colorbar": {
             "outlinewidth": 0,
             "ticks": ""
            },
            "type": "mesh3d"
           }
          ],
          "parcoords": [
           {
            "line": {
             "colorbar": {
              "outlinewidth": 0,
              "ticks": ""
             }
            },
            "type": "parcoords"
           }
          ],
          "pie": [
           {
            "automargin": true,
            "type": "pie"
           }
          ],
          "scatter": [
           {
            "fillpattern": {
             "fillmode": "overlay",
             "size": 10,
             "solidity": 0.2
            },
            "type": "scatter"
           }
          ],
          "scatter3d": [
           {
            "line": {
             "colorbar": {
              "outlinewidth": 0,
              "ticks": ""
             }
            },
            "marker": {
             "colorbar": {
              "outlinewidth": 0,
              "ticks": ""
             }
            },
            "type": "scatter3d"
           }
          ],
          "scattercarpet": [
           {
            "marker": {
             "colorbar": {
              "outlinewidth": 0,
              "ticks": ""
             }
            },
            "type": "scattercarpet"
           }
          ],
          "scattergeo": [
           {
            "marker": {
             "colorbar": {
              "outlinewidth": 0,
              "ticks": ""
             }
            },
            "type": "scattergeo"
           }
          ],
          "scattergl": [
           {
            "marker": {
             "colorbar": {
              "outlinewidth": 0,
              "ticks": ""
             }
            },
            "type": "scattergl"
           }
          ],
          "scattermapbox": [
           {
            "marker": {
             "colorbar": {
              "outlinewidth": 0,
              "ticks": ""
             }
            },
            "type": "scattermapbox"
           }
          ],
          "scatterpolar": [
           {
            "marker": {
             "colorbar": {
              "outlinewidth": 0,
              "ticks": ""
             }
            },
            "type": "scatterpolar"
           }
          ],
          "scatterpolargl": [
           {
            "marker": {
             "colorbar": {
              "outlinewidth": 0,
              "ticks": ""
             }
            },
            "type": "scatterpolargl"
           }
          ],
          "scatterternary": [
           {
            "marker": {
             "colorbar": {
              "outlinewidth": 0,
              "ticks": ""
             }
            },
            "type": "scatterternary"
           }
          ],
          "surface": [
           {
            "colorbar": {
             "outlinewidth": 0,
             "ticks": ""
            },
            "colorscale": [
             [
              0,
              "#0d0887"
             ],
             [
              0.1111111111111111,
              "#46039f"
             ],
             [
              0.2222222222222222,
              "#7201a8"
             ],
             [
              0.3333333333333333,
              "#9c179e"
             ],
             [
              0.4444444444444444,
              "#bd3786"
             ],
             [
              0.5555555555555556,
              "#d8576b"
             ],
             [
              0.6666666666666666,
              "#ed7953"
             ],
             [
              0.7777777777777778,
              "#fb9f3a"
             ],
             [
              0.8888888888888888,
              "#fdca26"
             ],
             [
              1,
              "#f0f921"
             ]
            ],
            "type": "surface"
           }
          ],
          "table": [
           {
            "cells": {
             "fill": {
              "color": "#EBF0F8"
             },
             "line": {
              "color": "white"
             }
            },
            "header": {
             "fill": {
              "color": "#C8D4E3"
             },
             "line": {
              "color": "white"
             }
            },
            "type": "table"
           }
          ]
         },
         "layout": {
          "annotationdefaults": {
           "arrowcolor": "#2a3f5f",
           "arrowhead": 0,
           "arrowwidth": 1
          },
          "autotypenumbers": "strict",
          "coloraxis": {
           "colorbar": {
            "outlinewidth": 0,
            "ticks": ""
           }
          },
          "colorscale": {
           "diverging": [
            [
             0,
             "#8e0152"
            ],
            [
             0.1,
             "#c51b7d"
            ],
            [
             0.2,
             "#de77ae"
            ],
            [
             0.3,
             "#f1b6da"
            ],
            [
             0.4,
             "#fde0ef"
            ],
            [
             0.5,
             "#f7f7f7"
            ],
            [
             0.6,
             "#e6f5d0"
            ],
            [
             0.7,
             "#b8e186"
            ],
            [
             0.8,
             "#7fbc41"
            ],
            [
             0.9,
             "#4d9221"
            ],
            [
             1,
             "#276419"
            ]
           ],
           "sequential": [
            [
             0,
             "#0d0887"
            ],
            [
             0.1111111111111111,
             "#46039f"
            ],
            [
             0.2222222222222222,
             "#7201a8"
            ],
            [
             0.3333333333333333,
             "#9c179e"
            ],
            [
             0.4444444444444444,
             "#bd3786"
            ],
            [
             0.5555555555555556,
             "#d8576b"
            ],
            [
             0.6666666666666666,
             "#ed7953"
            ],
            [
             0.7777777777777778,
             "#fb9f3a"
            ],
            [
             0.8888888888888888,
             "#fdca26"
            ],
            [
             1,
             "#f0f921"
            ]
           ],
           "sequentialminus": [
            [
             0,
             "#0d0887"
            ],
            [
             0.1111111111111111,
             "#46039f"
            ],
            [
             0.2222222222222222,
             "#7201a8"
            ],
            [
             0.3333333333333333,
             "#9c179e"
            ],
            [
             0.4444444444444444,
             "#bd3786"
            ],
            [
             0.5555555555555556,
             "#d8576b"
            ],
            [
             0.6666666666666666,
             "#ed7953"
            ],
            [
             0.7777777777777778,
             "#fb9f3a"
            ],
            [
             0.8888888888888888,
             "#fdca26"
            ],
            [
             1,
             "#f0f921"
            ]
           ]
          },
          "colorway": [
           "#636efa",
           "#EF553B",
           "#00cc96",
           "#ab63fa",
           "#FFA15A",
           "#19d3f3",
           "#FF6692",
           "#B6E880",
           "#FF97FF",
           "#FECB52"
          ],
          "font": {
           "color": "#2a3f5f"
          },
          "geo": {
           "bgcolor": "white",
           "lakecolor": "white",
           "landcolor": "#E5ECF6",
           "showlakes": true,
           "showland": true,
           "subunitcolor": "white"
          },
          "hoverlabel": {
           "align": "left"
          },
          "hovermode": "closest",
          "mapbox": {
           "style": "light"
          },
          "paper_bgcolor": "white",
          "plot_bgcolor": "#E5ECF6",
          "polar": {
           "angularaxis": {
            "gridcolor": "white",
            "linecolor": "white",
            "ticks": ""
           },
           "bgcolor": "#E5ECF6",
           "radialaxis": {
            "gridcolor": "white",
            "linecolor": "white",
            "ticks": ""
           }
          },
          "scene": {
           "xaxis": {
            "backgroundcolor": "#E5ECF6",
            "gridcolor": "white",
            "gridwidth": 2,
            "linecolor": "white",
            "showbackground": true,
            "ticks": "",
            "zerolinecolor": "white"
           },
           "yaxis": {
            "backgroundcolor": "#E5ECF6",
            "gridcolor": "white",
            "gridwidth": 2,
            "linecolor": "white",
            "showbackground": true,
            "ticks": "",
            "zerolinecolor": "white"
           },
           "zaxis": {
            "backgroundcolor": "#E5ECF6",
            "gridcolor": "white",
            "gridwidth": 2,
            "linecolor": "white",
            "showbackground": true,
            "ticks": "",
            "zerolinecolor": "white"
           }
          },
          "shapedefaults": {
           "line": {
            "color": "#2a3f5f"
           }
          },
          "ternary": {
           "aaxis": {
            "gridcolor": "white",
            "linecolor": "white",
            "ticks": ""
           },
           "baxis": {
            "gridcolor": "white",
            "linecolor": "white",
            "ticks": ""
           },
           "bgcolor": "#E5ECF6",
           "caxis": {
            "gridcolor": "white",
            "linecolor": "white",
            "ticks": ""
           }
          },
          "title": {
           "x": 0.05
          },
          "xaxis": {
           "automargin": true,
           "gridcolor": "white",
           "linecolor": "white",
           "ticks": "",
           "title": {
            "standoff": 15
           },
           "zerolinecolor": "white",
           "zerolinewidth": 2
          },
          "yaxis": {
           "automargin": true,
           "gridcolor": "white",
           "linecolor": "white",
           "ticks": "",
           "title": {
            "standoff": 15
           },
           "zerolinecolor": "white",
           "zerolinewidth": 2
          }
         }
        },
        "title": {
         "text": "Count of Main Ingredient"
        },
        "xaxis": {
         "anchor": "y",
         "autorange": true,
         "domain": [
          0,
          1
         ],
         "range": [
          -0.5,
          100.5
         ],
         "title": {
          "text": "Main Ingredient"
         },
         "type": "category"
        },
        "yaxis": {
         "anchor": "x",
         "autorange": true,
         "domain": [
          0,
          1
         ],
         "range": [
          0,
          64.21052631578948
         ],
         "title": {
          "text": "count"
         },
         "type": "linear"
        }
       }
      },
      "image/png": "[encoded data removed]",
      "text/html": [
       "<div>                            <div id=\"c4cc42c9-9ff5-4874-83a1-d5c688fea597\" class=\"plotly-graph-div\" style=\"height:525px; width:100%;\"></div>            <script type=\"text/javascript\">                require([\"plotly\"], function(Plotly) {                    window.PLOTLYENV=window.PLOTLYENV || {};                                    if (document.getElementById(\"c4cc42c9-9ff5-4874-83a1-d5c688fea597\")) {                    Plotly.newPlot(                        \"c4cc42c9-9ff5-4874-83a1-d5c688fea597\",                        [{\"alignmentgroup\":\"True\",\"hovertemplate\":\"Main Ingredient=%{x}\\u003cbr\\u003ecount=%{y}\\u003cextra\\u003e\\u003c\\u002fextra\\u003e\",\"legendgroup\":\"\",\"marker\":{\"color\":\"#636efa\",\"pattern\":{\"shape\":\"\"}},\"name\":\"\",\"offsetgroup\":\"\",\"orientation\":\"v\",\"showlegend\":false,\"textposition\":\"auto\",\"x\":[\"Almonds\",\"Almonds\",\"Chicken broth\",\"Chicken broth\",\"Cheese\",\"Buttermilk\",\"Popcorn\",\"Romaine lettuce\",\"Grilled chicken\",\"Strawberries\",\"Cheese\",\"Cheese\",\"Potatoes\",\"Yogurt (milk, cultures)\",\"Grilled chicken\",\"Tomatoes\",\"Mixed berries\",\"Romaine lettuce\",\"Mixed berries\",\"Chicken\",\"Pesto sauce\",\"Beef\",\"Bananas\",\"Watermelon\",\"Chicken\",\"Mango\",\"Cucumbers\",\"Butternut squash\",\"Pasta\",\"Lamb\",\"Chicken\",\"Chicken\",\"Tomatoes\",\"Mushrooms\",\"Greek yogurt\",\"Eggplant\",\"Bananas\",\"Pizza dough\",\"Chicken\",\"Spinach\",\"Mushrooms\",\"Yogurt (milk, cultures)\",\"Spinach\",\"Chocolate\",\"Portobello mushrooms\",\"Tomatoes\",\"Chicken\",\"Beef\",\"Strawberries\",\"Chicken\",\"Mushrooms\",\"Pasta\",\"Pumpkin\",\"Butternut squash\",\"Tomatoes\",\"Chicken\",\"Berries\",\"Mushrooms\",\"Spinach\",\"Chocolate\",\"Portobello mushrooms\",\"Tomatoes\",\"Chicken\",\"Beef\",\"Strawberries\",\"Chicken\",\"Chicken\",\"Spinach\",\"Chicken\",\"Lamb\",\"Paneer\",\"Lentils\",\"Cottage cheese\",\"Chicken\",\"Milk solids\",\"Chicken\",\"Chicken\",\"Lentil dumplings\",\"Chicken\",\"Paneer\",\"Paneer\",\"Milk\",\"Chicken\",\"Milk solids\",\"Lamb\",\"Rice\",\"Paneer\",\"Chicken breast\",\"Chocolate\",\"Bacon\",\"Chicken\",\"Chicken\",\"Sweet potatoes\",\"Brie cheese\",\"Onions\",\"Lamb\\u002fChicken\",\"Onions\",\"Eggs\",\"Eggs\",\"Eggs\",\"Eggs\",\"Eggs\",\"Eggs\",\"Fish fillets\",\"Fish fillets\",\"Salmon fillet\",\"Salmon\",\"Salmon\",\"Salmon\",\"Salmon\",\"Fish\",\"Cod\",\"Cod\",\"Tuna\",\"Tuna\",\"Fish (salmon, tuna)\",\"Salmon fillet\",\"Sushi rice\",\"Salmon\",\"Sushi rice\",\"Salmon\",\"Sugar\",\"Sugar\",\"Milk\",\"Yogurt (milk, cultures)\",\"Yogurt (milk, cultures)\",\"Yogurt (milk, cultures)\",\"Tomatoes\",\"Apples\",\"Tomatoes\",\"Apples\",\"Oranges\",\"Cucumber\",\"Ground beef\",\"Chicken breast\",\"Pork ribs\",\"Quinoa\",\"Mixed vegetables\",\"Ground beef\",\"Potatoes\",\"Lemon juice\",\"Tomatoes\",\"Ground beef\",\"Lentils\",\"Chicken\",\"Eggplant\",\"Pasta\",\"Chicken\",\"Mixed vegetables\",\"Mixed vegetables\",\"Spinach\",\"Chicken\",\"Vegetables\",\"Tomatoes\",\"Chicken\",\"Pasta\",\"Chicken\",\"Chicken\",\"Chicken\",\"Apples\",\"Eggplant\",\"Avocado\",\"Beef\",\"Black beans\",\"Ground beef\",\"Cucumber\",\"Mixed fruits\",\"Sausage\",\"Chicken\",\"Mango\",\"Lentils\",\"Spinach\",\"Bell peppers\",\"Beef\",\"Cabbage\",\"Apples\",\"Sweet potatoes\",\"Ground beef\",\"Chicken\",\"Ground beef\",\"Chicken\",\"Mushrooms\",\"Zucchini\",\"Chicken\",\"Beef\",\"Tomatoes\",\"Quinoa\",\"Mixed vegetables\",\"Vegetables\",\"Beef\",\"Quinoa\",\"Mixed vegetables\",\"Chicken wings\",\"Lentils\",\"Cabbage\",\"Chicken\",\"Chicken\",\"Lentils\",\"Chicken\",\"Pizza dough\",\"Chicken\",\"Pasta\",\"Beef\",\"Tofu\",\"Bell peppers\",\"Bell peppers\",\"Eggplant\",\"Brussels sprouts\",\"Chicken wings\",\"Mango\",\"Pasta\",\"Chicken\",\"Mango\",\"Spinach\",\"Onions\",\"Beef\",\"Spinach\",\"Vegetables\",\"Carrots\",\"Cucumbers\",\"Potatoes\",\"Tomatoes\",\"Avocado\",\"Chicken\",\"Chicken\",\"Chicken\",\"Chicken\",\"Brussels sprouts\",\"Beef\",\"Spinach\",\"Chicken\",\"Chicken\",\"Mixed vegetables\",\"Vegetables\",\"Pasta\",\"Beef\",\"Tofu\",\"Bell peppers\",\"Eggplant\",\"Brussels sprouts\",\"Chicken wings\",\"Mango\",\"Pasta\",\"Chicken\",\"Mango\",\"Spinach\",\"Onions\",\"Beef\",\"Spinach\",\"Vegetables\",\"Carrots\",\"Cucumbers\",\"Potatoes\",\"Tomatoes\",\"Rice\",\"Chickpeas\",\"Rice\",\"Potatoes\",\"Potatoes\",\"Chicken\",\"Potato\",\"Semolina\",\"Kidney beans\",\"Chicken\",\"Mixed vegetables\",\"Chickpeas\",\"Fermented batter\",\"Chicken\",\"Mixed vegetables\",\"Basmati rice\",\"Chicken\",\"Rice\",\"Chickpeas\",\"Cauliflower\",\"Mutton\",\"Oats\",\"Chicken\",\"Peanuts\",\"Peanuts\",\"Chicken\",\"Chicken\",\"Chicken\",\"Zucchini\",\"Chicken\",\"Rice\",\"Shrimp\",\"Shrimp\",\"Shrimp\",\"Shrimp\",\"Shrimp\",\"Prawns\",\"Lobster\",\"Shrimp\",\"Shrimp\",\"Lobster\",\"Shrimp\",\"Prawns\",\"Lobster\",\"Lobster\",\"Shrimp\",\"Shrimp\",\"Soybeans\",\"Soybeans\",\"Tofu\",\"Miso paste\",\"Tofu\",\"Chicken\",\"Tofu\",\"Beef\",\"Sushi rice\",\"Wheat flour\",\"Wheat flour\",\"Zucchini\",\"Chicken\",\"Onions\",\"Chicken\",\"Portobello mushrooms\",\"Potatoes\",\"Oats\",\"Oats\",\"Flour\",\"Carrots\",\"Blueberries\",\"Flour\",\"Arborio rice\",\"Flour\",\"Pineapple\",\"Apples\",\"Bananas\",\"Flour\",\"Apples\",\"Pasta\",\"Flour\",\"Flour\",\"Pumpkin\",\"Mixed berries\",\"Bread\",\"Mixed berries\",\"Pasta\",\"Pasta\",\"Lime juice\",\"Flour\",\"Chicken\",\"Flour\",\"Strawberries\",\"Mixed berries\",\"Cream cheese\",\"Flour\",\"Oats\",\"Apples\",\"Chicken\",\"Romaine lettuce\",\"Romaine lettuce\",\"Graham crackers\",\"Ladyfingers\",\"Dough\",\"Chicken\",\"Vegetables\",\"Bread\",\"Pizza dough\",\"Pasta\",\"Apples\",\"Apples\",\"Chicken\",\"Pumpkin\",\"Flour\",\"Pizza dough\",\"Beef\",\"Pasta\",\"Flour\",\"Apples\",\"Chicken\",\"Romaine lettuce\",\"Graham crackers\",\"Ladyfingers\",\"Dough\",\"Chicken\",\"Vegetables\",\"Bread\",\"Pizza dough\",\"Pasta\",\"Apples\",\"Apples\",\"Chicken\",\"Pumpkin\",\"Flour\",\"Pizza dough\",\"Beef\",\"Flour\",\"Flour\",\"Ladyfingers\",\"Flour\",\"Flour\",\"Lemon juice\",\"Lemon juice\",\"Pecans\",\"Zucchini\",\"Bananas\",\"Pizza dough\"],\"xaxis\":\"x\",\"y\":[1,1,1,1,1,1,1,1,1,1,1,1,1,1,1,1,1,1,1,1,1,1,1,1,1,1,1,1,1,1,1,1,1,1,1,1,1,1,1,1,1,1,1,1,1,1,1,1,1,1,1,1,1,1,1,1,1,1,1,1,1,1,1,1,1,1,1,1,1,1,1,1,1,1,1,1,1,1,1,1,1,1,1,1,1,1,1,1,1,1,1,1,1,1,1,1,1,1,1,1,1,1,1,1,1,1,1,1,1,1,1,1,1,1,1,1,1,1,1,1,1,1,1,1,1,1,1,1,1,1,1,1,1,1,1,1,1,1,1,1,1,1,1,1,1,1,1,1,1,1,1,1,1,1,1,1,1,1,1,1,1,1,1,1,1,1,1,1,1,1,1,1,1,1,1,1,1,1,1,1,1,1,1,1,1,1,1,1,1,1,1,1,1,1,1,1,1,1,1,1,1,1,1,1,1,1,1,1,1,1,1,1,1,1,1,1,1,1,1,1,1,1,1,1,1,1,1,1,1,1,1,1,1,1,1,1,1,1,1,1,1,1,1,1,1,1,1,1,1,1,1,1,1,1,1,1,1,1,1,1,1,1,1,1,1,1,1,1,1,1,1,1,1,1,1,1,1,1,1,1,1,1,1,1,1,1,1,1,1,1,1,1,1,1,1,1,1,1,1,1,1,1,1,1,1,1,1,1,1,1,1,1,1,1,1,1,1,1,1,1,1,1,1,1,1,1,1,1,1,1,1,1,1,1,1,1,1,1,1,1,1,1,1,1,1,1,1,1,1,1,1,1,1,1,1,1,1,1,1,1,1,1,1,1,1,1,1,1,1,1,1,1,1,1,1,1,1,1,1,1,1,1,1,1,1,1,1,1,1,1,1,1,1,1,1,1,1,1,1],\"yaxis\":\"y\",\"type\":\"bar\"}],                        {\"template\":{\"data\":{\"histogram2dcontour\":[{\"type\":\"histogram2dcontour\",\"colorbar\":{\"outlinewidth\":0,\"ticks\":\"\"},\"colorscale\":[[0.0,\"#0d0887\"],[0.1111111111111111,\"#46039f\"],[0.2222222222222222,\"#7201a8\"],[0.3333333333333333,\"#9c179e\"],[0.4444444444444444,\"#bd3786\"],[0.5555555555555556,\"#d8576b\"],[0.6666666666666666,\"#ed7953\"],[0.7777777777777778,\"#fb9f3a\"],[0.8888888888888888,\"#fdca26\"],[1.0,\"#f0f921\"]]}],\"choropleth\":[{\"type\":\"choropleth\",\"colorbar\":{\"outlinewidth\":0,\"ticks\":\"\"}}],\"histogram2d\":[{\"type\":\"histogram2d\",\"colorbar\":{\"outlinewidth\":0,\"ticks\":\"\"},\"colorscale\":[[0.0,\"#0d0887\"],[0.1111111111111111,\"#46039f\"],[0.2222222222222222,\"#7201a8\"],[0.3333333333333333,\"#9c179e\"],[0.4444444444444444,\"#bd3786\"],[0.5555555555555556,\"#d8576b\"],[0.6666666666666666,\"#ed7953\"],[0.7777777777777778,\"#fb9f3a\"],[0.8888888888888888,\"#fdca26\"],[1.0,\"#f0f921\"]]}],\"heatmap\":[{\"type\":\"heatmap\",\"colorbar\":{\"outlinewidth\":0,\"ticks\":\"\"},\"colorscale\":[[0.0,\"#0d0887\"],[0.1111111111111111,\"#46039f\"],[0.2222222222222222,\"#7201a8\"],[0.3333333333333333,\"#9c179e\"],[0.4444444444444444,\"#bd3786\"],[0.5555555555555556,\"#d8576b\"],[0.6666666666666666,\"#ed7953\"],[0.7777777777777778,\"#fb9f3a\"],[0.8888888888888888,\"#fdca26\"],[1.0,\"#f0f921\"]]}],\"heatmapgl\":[{\"type\":\"heatmapgl\",\"colorbar\":{\"outlinewidth\":0,\"ticks\":\"\"},\"colorscale\":[[0.0,\"#0d0887\"],[0.1111111111111111,\"#46039f\"],[0.2222222222222222,\"#7201a8\"],[0.3333333333333333,\"#9c179e\"],[0.4444444444444444,\"#bd3786\"],[0.5555555555555556,\"#d8576b\"],[0.6666666666666666,\"#ed7953\"],[0.7777777777777778,\"#fb9f3a\"],[0.8888888888888888,\"#fdca26\"],[1.0,\"#f0f921\"]]}],\"contourcarpet\":[{\"type\":\"contourcarpet\",\"colorbar\":{\"outlinewidth\":0,\"ticks\":\"\"}}],\"contour\":[{\"type\":\"contour\",\"colorbar\":{\"outlinewidth\":0,\"ticks\":\"\"},\"colorscale\":[[0.0,\"#0d0887\"],[0.1111111111111111,\"#46039f\"],[0.2222222222222222,\"#7201a8\"],[0.3333333333333333,\"#9c179e\"],[0.4444444444444444,\"#bd3786\"],[0.5555555555555556,\"#d8576b\"],[0.6666666666666666,\"#ed7953\"],[0.7777777777777778,\"#fb9f3a\"],[0.8888888888888888,\"#fdca26\"],[1.0,\"#f0f921\"]]}],\"surface\":[{\"type\":\"surface\",\"colorbar\":{\"outlinewidth\":0,\"ticks\":\"\"},\"colorscale\":[[0.0,\"#0d0887\"],[0.1111111111111111,\"#46039f\"],[0.2222222222222222,\"#7201a8\"],[0.3333333333333333,\"#9c179e\"],[0.4444444444444444,\"#bd3786\"],[0.5555555555555556,\"#d8576b\"],[0.6666666666666666,\"#ed7953\"],[0.7777777777777778,\"#fb9f3a\"],[0.8888888888888888,\"#fdca26\"],[1.0,\"#f0f921\"]]}],\"mesh3d\":[{\"type\":\"mesh3d\",\"colorbar\":{\"outlinewidth\":0,\"ticks\":\"\"}}],\"scatter\":[{\"fillpattern\":{\"fillmode\":\"overlay\",\"size\":10,\"solidity\":0.2},\"type\":\"scatter\"}],\"parcoords\":[{\"type\":\"parcoords\",\"line\":{\"colorbar\":{\"outlinewidth\":0,\"ticks\":\"\"}}}],\"scatterpolargl\":[{\"type\":\"scatterpolargl\",\"marker\":{\"colorbar\":{\"outlinewidth\":0,\"ticks\":\"\"}}}],\"bar\":[{\"error_x\":{\"color\":\"#2a3f5f\"},\"error_y\":{\"color\":\"#2a3f5f\"},\"marker\":{\"line\":{\"color\":\"#E5ECF6\",\"width\":0.5},\"pattern\":{\"fillmode\":\"overlay\",\"size\":10,\"solidity\":0.2}},\"type\":\"bar\"}],\"scattergeo\":[{\"type\":\"scattergeo\",\"marker\":{\"colorbar\":{\"outlinewidth\":0,\"ticks\":\"\"}}}],\"scatterpolar\":[{\"type\":\"scatterpolar\",\"marker\":{\"colorbar\":{\"outlinewidth\":0,\"ticks\":\"\"}}}],\"histogram\":[{\"marker\":{\"pattern\":{\"fillmode\":\"overlay\",\"size\":10,\"solidity\":0.2}},\"type\":\"histogram\"}],\"scattergl\":[{\"type\":\"scattergl\",\"marker\":{\"colorbar\":{\"outlinewidth\":0,\"ticks\":\"\"}}}],\"scatter3d\":[{\"type\":\"scatter3d\",\"line\":{\"colorbar\":{\"outlinewidth\":0,\"ticks\":\"\"}},\"marker\":{\"colorbar\":{\"outlinewidth\":0,\"ticks\":\"\"}}}],\"scattermapbox\":[{\"type\":\"scattermapbox\",\"marker\":{\"colorbar\":{\"outlinewidth\":0,\"ticks\":\"\"}}}],\"scatterternary\":[{\"type\":\"scatterternary\",\"marker\":{\"colorbar\":{\"outlinewidth\":0,\"ticks\":\"\"}}}],\"scattercarpet\":[{\"type\":\"scattercarpet\",\"marker\":{\"colorbar\":{\"outlinewidth\":0,\"ticks\":\"\"}}}],\"carpet\":[{\"aaxis\":{\"endlinecolor\":\"#2a3f5f\",\"gridcolor\":\"white\",\"linecolor\":\"white\",\"minorgridcolor\":\"white\",\"startlinecolor\":\"#2a3f5f\"},\"baxis\":{\"endlinecolor\":\"#2a3f5f\",\"gridcolor\":\"white\",\"linecolor\":\"white\",\"minorgridcolor\":\"white\",\"startlinecolor\":\"#2a3f5f\"},\"type\":\"carpet\"}],\"table\":[{\"cells\":{\"fill\":{\"color\":\"#EBF0F8\"},\"line\":{\"color\":\"white\"}},\"header\":{\"fill\":{\"color\":\"#C8D4E3\"},\"line\":{\"color\":\"white\"}},\"type\":\"table\"}],\"barpolar\":[{\"marker\":{\"line\":{\"color\":\"#E5ECF6\",\"width\":0.5},\"pattern\":{\"fillmode\":\"overlay\",\"size\":10,\"solidity\":0.2}},\"type\":\"barpolar\"}],\"pie\":[{\"automargin\":true,\"type\":\"pie\"}]},\"layout\":{\"autotypenumbers\":\"strict\",\"colorway\":[\"#636efa\",\"#EF553B\",\"#00cc96\",\"#ab63fa\",\"#FFA15A\",\"#19d3f3\",\"#FF6692\",\"#B6E880\",\"#FF97FF\",\"#FECB52\"],\"font\":{\"color\":\"#2a3f5f\"},\"hovermode\":\"closest\",\"hoverlabel\":{\"align\":\"left\"},\"paper_bgcolor\":\"white\",\"plot_bgcolor\":\"#E5ECF6\",\"polar\":{\"bgcolor\":\"#E5ECF6\",\"angularaxis\":{\"gridcolor\":\"white\",\"linecolor\":\"white\",\"ticks\":\"\"},\"radialaxis\":{\"gridcolor\":\"white\",\"linecolor\":\"white\",\"ticks\":\"\"}},\"ternary\":{\"bgcolor\":\"#E5ECF6\",\"aaxis\":{\"gridcolor\":\"white\",\"linecolor\":\"white\",\"ticks\":\"\"},\"baxis\":{\"gridcolor\":\"white\",\"linecolor\":\"white\",\"ticks\":\"\"},\"caxis\":{\"gridcolor\":\"white\",\"linecolor\":\"white\",\"ticks\":\"\"}},\"coloraxis\":{\"colorbar\":{\"outlinewidth\":0,\"ticks\":\"\"}},\"colorscale\":{\"sequential\":[[0.0,\"#0d0887\"],[0.1111111111111111,\"#46039f\"],[0.2222222222222222,\"#7201a8\"],[0.3333333333333333,\"#9c179e\"],[0.4444444444444444,\"#bd3786\"],[0.5555555555555556,\"#d8576b\"],[0.6666666666666666,\"#ed7953\"],[0.7777777777777778,\"#fb9f3a\"],[0.8888888888888888,\"#fdca26\"],[1.0,\"#f0f921\"]],\"sequentialminus\":[[0.0,\"#0d0887\"],[0.1111111111111111,\"#46039f\"],[0.2222222222222222,\"#7201a8\"],[0.3333333333333333,\"#9c179e\"],[0.4444444444444444,\"#bd3786\"],[0.5555555555555556,\"#d8576b\"],[0.6666666666666666,\"#ed7953\"],[0.7777777777777778,\"#fb9f3a\"],[0.8888888888888888,\"#fdca26\"],[1.0,\"#f0f921\"]],\"diverging\":[[0,\"#8e0152\"],[0.1,\"#c51b7d\"],[0.2,\"#de77ae\"],[0.3,\"#f1b6da\"],[0.4,\"#fde0ef\"],[0.5,\"#f7f7f7\"],[0.6,\"#e6f5d0\"],[0.7,\"#b8e186\"],[0.8,\"#7fbc41\"],[0.9,\"#4d9221\"],[1,\"#276419\"]]},\"xaxis\":{\"gridcolor\":\"white\",\"linecolor\":\"white\",\"ticks\":\"\",\"title\":{\"standoff\":15},\"zerolinecolor\":\"white\",\"automargin\":true,\"zerolinewidth\":2},\"yaxis\":{\"gridcolor\":\"white\",\"linecolor\":\"white\",\"ticks\":\"\",\"title\":{\"standoff\":15},\"zerolinecolor\":\"white\",\"automargin\":true,\"zerolinewidth\":2},\"scene\":{\"xaxis\":{\"backgroundcolor\":\"#E5ECF6\",\"gridcolor\":\"white\",\"linecolor\":\"white\",\"showbackground\":true,\"ticks\":\"\",\"zerolinecolor\":\"white\",\"gridwidth\":2},\"yaxis\":{\"backgroundcolor\":\"#E5ECF6\",\"gridcolor\":\"white\",\"linecolor\":\"white\",\"showbackground\":true,\"ticks\":\"\",\"zerolinecolor\":\"white\",\"gridwidth\":2},\"zaxis\":{\"backgroundcolor\":\"#E5ECF6\",\"gridcolor\":\"white\",\"linecolor\":\"white\",\"showbackground\":true,\"ticks\":\"\",\"zerolinecolor\":\"white\",\"gridwidth\":2}},\"shapedefaults\":{\"line\":{\"color\":\"#2a3f5f\"}},\"annotationdefaults\":{\"arrowcolor\":\"#2a3f5f\",\"arrowhead\":0,\"arrowwidth\":1},\"geo\":{\"bgcolor\":\"white\",\"landcolor\":\"#E5ECF6\",\"subunitcolor\":\"white\",\"showland\":true,\"showlakes\":true,\"lakecolor\":\"white\"},\"title\":{\"x\":0.05},\"mapbox\":{\"style\":\"light\"}}},\"xaxis\":{\"anchor\":\"y\",\"domain\":[0.0,1.0],\"title\":{\"text\":\"Main Ingredient\"}},\"yaxis\":{\"anchor\":\"x\",\"domain\":[0.0,1.0],\"title\":{\"text\":\"count\"}},\"legend\":{\"tracegroupgap\":0},\"title\":{\"text\":\"Count of Main Ingredient\"},\"barmode\":\"relative\"},                        {\"responsive\": true}                    ).then(function(){\n",
       "                            \n",
       "var gd = document.getElementById('c4cc42c9-9ff5-4874-83a1-d5c688fea597');\n",
       "var x = new MutationObserver(function (mutations, observer) {{\n",
       "        var display = window.getComputedStyle(gd).display;\n",
       "        if (!display || display === 'none') {{\n",
       "            console.log([gd, 'removed!']);\n",
       "            Plotly.purge(gd);\n",
       "            observer.disconnect();\n",
       "        }}\n",
       "}});\n",
       "\n",
       "// Listen for the removal of the full notebook cells\n",
       "var notebookContainer = gd.closest('#notebook-container');\n",
       "if (notebookContainer) {{\n",
       "    x.observe(notebookContainer, {childList: true});\n",
       "}}\n",
       "\n",
       "// Listen for the clearing of the current output cell\n",
       "var outputEl = gd.closest('.output');\n",
       "if (outputEl) {{\n",
       "    x.observe(outputEl, {childList: true});\n",
       "}}\n",
       "\n",
       "                        })                };                });            </script>        </div>"
      ]
     },
     "metadata": {},
     "output_type": "display_data"
    }
   ],
   "source": [
    "fig = px.bar(df, x= \"Main Ingredient\", title=\"Count of Main Ingredient\")\n",
    "fig.show()"
   ]
  },
  {
   "cell_type": "code",
   "execution_count": 106,
   "id": "8b4c1145-1a1f-4c18-900d-3c54cf07602e",
   "metadata": {},
   "outputs": [
    {
     "data": {
      "application/vnd.plotly.v1+json": {
       "config": {
        "plotlyServerURL": "https://plot.ly"
       },
       "data": [
        {
         "alignmentgroup": "True",
         "hovertemplate": "Price ($)=%{y}<extra></extra>",
         "legendgroup": "",
         "marker": {
          "color": "#636efa"
         },
         "name": "",
         "notched": false,
         "offsetgroup": "",
         "orientation": "v",
         "showlegend": false,
         "type": "box",
         "x0": " ",
         "xaxis": "x",
         "y": [
          10.15,
          6.17,
          19.65,
          17.48,
          10.83,
          9.92,
          6.14,
          14.99,
          12.45,
          13.37,
          18.9,
          16.95,
          14.82,
          6.29,
          10.98,
          19.76,
          6.89,
          17.33,
          12.97,
          6.56,
          7.68,
          10.54,
          19.77,
          7.01,
          11.07,
          8.58,
          12.81,
          6.14,
          12.62,
          6.77,
          14.04,
          11.52,
          10.16,
          8.67,
          7.25,
          14.38,
          7.34,
          13.84,
          7.03,
          11.97,
          11.16,
          15.79,
          8.15,
          16.12,
          10.74,
          19.25,
          16.62,
          15.43,
          14.47,
          14.2,
          19.4,
          6.83,
          17.48,
          5.81,
          16.69,
          16.27,
          19.83,
          9.12,
          9.92,
          11.96,
          19,
          19.73,
          8.97,
          18.82,
          6.88,
          7.32,
          19.61,
          7.45,
          8.52,
          7.34,
          16.26,
          16.93,
          14.77,
          17.66,
          5.93,
          11.43,
          6.1,
          6.37,
          11.59,
          7.54,
          13.92,
          14.38,
          17.74,
          5.94,
          8.63,
          6.69,
          11.64,
          13.69,
          16.46,
          19.81,
          11.4,
          11.21,
          13.47,
          13.79,
          11.6,
          6.64,
          6.14,
          16.82,
          8.21,
          8.85,
          13.14,
          12.51,
          12.17,
          10.13,
          6.83,
          5.17,
          5.96,
          13.93,
          12.15,
          11.7,
          18.37,
          13.77,
          12.65,
          9.57,
          5.87,
          14.85,
          15.93,
          9.89,
          13.57,
          16.26,
          16.62,
          16.21,
          10.35,
          13.5,
          5.51,
          10.2,
          5.63,
          12.81,
          18.2,
          12.95,
          15.37,
          12.03,
          5.26,
          6.91,
          6.23,
          15.04,
          14.12,
          12.42,
          10.3,
          6.31,
          10.06,
          19.52,
          17.78,
          15.18,
          10.43,
          15.86,
          16.54,
          19.85,
          6.49,
          14.26,
          16.37,
          5.37,
          7.68,
          14.31,
          5.28,
          5.79,
          11.99,
          6.34,
          12.81,
          16.39,
          19.57,
          7.55,
          18.26,
          18.2,
          14.23,
          10.32,
          7.58,
          9.08,
          9.54,
          9.86,
          9.35,
          7.79,
          11.84,
          19.54,
          19.33,
          10.32,
          8.22,
          15.56,
          8.29,
          10.93,
          16.5,
          19.36,
          10.23,
          19.33,
          18.47,
          5.83,
          11.91,
          19.27,
          14.92,
          12.7,
          15.25,
          8.67,
          8.74,
          7.31,
          16.69,
          6.63,
          13.24,
          10.18,
          6.26,
          18.06,
          13.72,
          6.5,
          10.55,
          7.87,
          19.86,
          15.79,
          15.52,
          13.17,
          5.65,
          7.86,
          15.1,
          13.87,
          6.78,
          12.85,
          11.82,
          9.77,
          12.77,
          17.29,
          18.77,
          19.83,
          12.88,
          18.76,
          16.54,
          7.97,
          5.61,
          6.28,
          19.66,
          13.61,
          16.77,
          10.88,
          5.26,
          19.43,
          5.39,
          5.84,
          10.87,
          8.71,
          5.21,
          9.3,
          14.69,
          9.78,
          17.43,
          18.22,
          14.8,
          6.15,
          7.02,
          6.55,
          8.1,
          16.7,
          11.52,
          7.87,
          6.59,
          12.44,
          16.23,
          7.47,
          16.49,
          18.19,
          9.66,
          12.12,
          5.64,
          5.21,
          16.75,
          11.67,
          11.23,
          14.22,
          15.46,
          10.61,
          18.05,
          11.32,
          9.77,
          14.52,
          17.8,
          8.7,
          18.28,
          6.52,
          11.27,
          16.56,
          8.82,
          16.37,
          9.04,
          17.35,
          8.85,
          10.96,
          16.36,
          14.18,
          16.09,
          18.57,
          19.78,
          6.05,
          6.87,
          16.13,
          6.63,
          8.79,
          12.4,
          18.48,
          13.99,
          12.79,
          14.95,
          16.2,
          15.55,
          5.55,
          12.06,
          19.49,
          13.81,
          5.11,
          11.86,
          18.93,
          15.31,
          18.59,
          12.47,
          15.85,
          13.92,
          18.79,
          11.8,
          9.5,
          11.19,
          16.05,
          17.03,
          5.64,
          18.21,
          17.15,
          10.4,
          12.02,
          15.89,
          8.22,
          13.93,
          14.32,
          14.83,
          9.24,
          16.56,
          7.86,
          6.29,
          8.71,
          6.84,
          9.78,
          8.9,
          8.72,
          13.22,
          13.56,
          14.3,
          7.51,
          17.46,
          13.56,
          11.5,
          19.25,
          8.82,
          10.02,
          11.93,
          8.55,
          13.56,
          11.87,
          6.82,
          10.76,
          15.05,
          18.4,
          19.56,
          7.93,
          19.93,
          8.58,
          13.48,
          19.7,
          15.05,
          6.66,
          15.13,
          18.06,
          13.4,
          11.11,
          14.41,
          15.45,
          5.16,
          19.84,
          5.67,
          6.31,
          16.74,
          14.18,
          13.92,
          18.24,
          17,
          15.56,
          11.49,
          10.98,
          15.29,
          19.66,
          18.7,
          13.29,
          15.39,
          15.07,
          16.88,
          10.6,
          13.5,
          14.96,
          13.86,
          19.26,
          6.34,
          14.18,
          5.07,
          11.95,
          12.67,
          15.83,
          8.55
         ],
         "y0": " ",
         "yaxis": "y"
        }
       ],
       "layout": {
        "autosize": true,
        "boxmode": "group",
        "legend": {
         "tracegroupgap": 0
        },
        "margin": {
         "t": 60
        },
        "template": {
         "data": {
          "bar": [
           {
            "error_x": {
             "color": "#2a3f5f"
            },
            "error_y": {
             "color": "#2a3f5f"
            },
            "marker": {
             "line": {
              "color": "#E5ECF6",
              "width": 0.5
             },
             "pattern": {
              "fillmode": "overlay",
              "size": 10,
              "solidity": 0.2
             }
            },
            "type": "bar"
           }
          ],
          "barpolar": [
           {
            "marker": {
             "line": {
              "color": "#E5ECF6",
              "width": 0.5
             },
             "pattern": {
              "fillmode": "overlay",
              "size": 10,
              "solidity": 0.2
             }
            },
            "type": "barpolar"
           }
          ],
          "carpet": [
           {
            "aaxis": {
             "endlinecolor": "#2a3f5f",
             "gridcolor": "white",
             "linecolor": "white",
             "minorgridcolor": "white",
             "startlinecolor": "#2a3f5f"
            },
            "baxis": {
             "endlinecolor": "#2a3f5f",
             "gridcolor": "white",
             "linecolor": "white",
             "minorgridcolor": "white",
             "startlinecolor": "#2a3f5f"
            },
            "type": "carpet"
           }
          ],
          "choropleth": [
           {
            "colorbar": {
             "outlinewidth": 0,
             "ticks": ""
            },
            "type": "choropleth"
           }
          ],
          "contour": [
           {
            "colorbar": {
             "outlinewidth": 0,
             "ticks": ""
            },
            "colorscale": [
             [
              0,
              "#0d0887"
             ],
             [
              0.1111111111111111,
              "#46039f"
             ],
             [
              0.2222222222222222,
              "#7201a8"
             ],
             [
              0.3333333333333333,
              "#9c179e"
             ],
             [
              0.4444444444444444,
              "#bd3786"
             ],
             [
              0.5555555555555556,
              "#d8576b"
             ],
             [
              0.6666666666666666,
              "#ed7953"
             ],
             [
              0.7777777777777778,
              "#fb9f3a"
             ],
             [
              0.8888888888888888,
              "#fdca26"
             ],
             [
              1,
              "#f0f921"
             ]
            ],
            "type": "contour"
           }
          ],
          "contourcarpet": [
           {
            "colorbar": {
             "outlinewidth": 0,
             "ticks": ""
            },
            "type": "contourcarpet"
           }
          ],
          "heatmap": [
           {
            "colorbar": {
             "outlinewidth": 0,
             "ticks": ""
            },
            "colorscale": [
             [
              0,
              "#0d0887"
             ],
             [
              0.1111111111111111,
              "#46039f"
             ],
             [
              0.2222222222222222,
              "#7201a8"
             ],
             [
              0.3333333333333333,
              "#9c179e"
             ],
             [
              0.4444444444444444,
              "#bd3786"
             ],
             [
              0.5555555555555556,
              "#d8576b"
             ],
             [
              0.6666666666666666,
              "#ed7953"
             ],
             [
              0.7777777777777778,
              "#fb9f3a"
             ],
             [
              0.8888888888888888,
              "#fdca26"
             ],
             [
              1,
              "#f0f921"
             ]
            ],
            "type": "heatmap"
           }
          ],
          "heatmapgl": [
           {
            "colorbar": {
             "outlinewidth": 0,
             "ticks": ""
            },
            "colorscale": [
             [
              0,
              "#0d0887"
             ],
             [
              0.1111111111111111,
              "#46039f"
             ],
             [
              0.2222222222222222,
              "#7201a8"
             ],
             [
              0.3333333333333333,
              "#9c179e"
             ],
             [
              0.4444444444444444,
              "#bd3786"
             ],
             [
              0.5555555555555556,
              "#d8576b"
             ],
             [
              0.6666666666666666,
              "#ed7953"
             ],
             [
              0.7777777777777778,
              "#fb9f3a"
             ],
             [
              0.8888888888888888,
              "#fdca26"
             ],
             [
              1,
              "#f0f921"
             ]
            ],
            "type": "heatmapgl"
           }
          ],
          "histogram": [
           {
            "marker": {
             "pattern": {
              "fillmode": "overlay",
              "size": 10,
              "solidity": 0.2
             }
            },
            "type": "histogram"
           }
          ],
          "histogram2d": [
           {
            "colorbar": {
             "outlinewidth": 0,
             "ticks": ""
            },
            "colorscale": [
             [
              0,
              "#0d0887"
             ],
             [
              0.1111111111111111,
              "#46039f"
             ],
             [
              0.2222222222222222,
              "#7201a8"
             ],
             [
              0.3333333333333333,
              "#9c179e"
             ],
             [
              0.4444444444444444,
              "#bd3786"
             ],
             [
              0.5555555555555556,
              "#d8576b"
             ],
             [
              0.6666666666666666,
              "#ed7953"
             ],
             [
              0.7777777777777778,
              "#fb9f3a"
             ],
             [
              0.8888888888888888,
              "#fdca26"
             ],
             [
              1,
              "#f0f921"
             ]
            ],
            "type": "histogram2d"
           }
          ],
          "histogram2dcontour": [
           {
            "colorbar": {
             "outlinewidth": 0,
             "ticks": ""
            },
            "colorscale": [
             [
              0,
              "#0d0887"
             ],
             [
              0.1111111111111111,
              "#46039f"
             ],
             [
              0.2222222222222222,
              "#7201a8"
             ],
             [
              0.3333333333333333,
              "#9c179e"
             ],
             [
              0.4444444444444444,
              "#bd3786"
             ],
             [
              0.5555555555555556,
              "#d8576b"
             ],
             [
              0.6666666666666666,
              "#ed7953"
             ],
             [
              0.7777777777777778,
              "#fb9f3a"
             ],
             [
              0.8888888888888888,
              "#fdca26"
             ],
             [
              1,
              "#f0f921"
             ]
            ],
            "type": "histogram2dcontour"
           }
          ],
          "mesh3d": [
           {
            "colorbar": {
             "outlinewidth": 0,
             "ticks": ""
            },
            "type": "mesh3d"
           }
          ],
          "parcoords": [
           {
            "line": {
             "colorbar": {
              "outlinewidth": 0,
              "ticks": ""
             }
            },
            "type": "parcoords"
           }
          ],
          "pie": [
           {
            "automargin": true,
            "type": "pie"
           }
          ],
          "scatter": [
           {
            "fillpattern": {
             "fillmode": "overlay",
             "size": 10,
             "solidity": 0.2
            },
            "type": "scatter"
           }
          ],
          "scatter3d": [
           {
            "line": {
             "colorbar": {
              "outlinewidth": 0,
              "ticks": ""
             }
            },
            "marker": {
             "colorbar": {
              "outlinewidth": 0,
              "ticks": ""
             }
            },
            "type": "scatter3d"
           }
          ],
          "scattercarpet": [
           {
            "marker": {
             "colorbar": {
              "outlinewidth": 0,
              "ticks": ""
             }
            },
            "type": "scattercarpet"
           }
          ],
          "scattergeo": [
           {
            "marker": {
             "colorbar": {
              "outlinewidth": 0,
              "ticks": ""
             }
            },
            "type": "scattergeo"
           }
          ],
          "scattergl": [
           {
            "marker": {
             "colorbar": {
              "outlinewidth": 0,
              "ticks": ""
             }
            },
            "type": "scattergl"
           }
          ],
          "scattermapbox": [
           {
            "marker": {
             "colorbar": {
              "outlinewidth": 0,
              "ticks": ""
             }
            },
            "type": "scattermapbox"
           }
          ],
          "scatterpolar": [
           {
            "marker": {
             "colorbar": {
              "outlinewidth": 0,
              "ticks": ""
             }
            },
            "type": "scatterpolar"
           }
          ],
          "scatterpolargl": [
           {
            "marker": {
             "colorbar": {
              "outlinewidth": 0,
              "ticks": ""
             }
            },
            "type": "scatterpolargl"
           }
          ],
          "scatterternary": [
           {
            "marker": {
             "colorbar": {
              "outlinewidth": 0,
              "ticks": ""
             }
            },
            "type": "scatterternary"
           }
          ],
          "surface": [
           {
            "colorbar": {
             "outlinewidth": 0,
             "ticks": ""
            },
            "colorscale": [
             [
              0,
              "#0d0887"
             ],
             [
              0.1111111111111111,
              "#46039f"
             ],
             [
              0.2222222222222222,
              "#7201a8"
             ],
             [
              0.3333333333333333,
              "#9c179e"
             ],
             [
              0.4444444444444444,
              "#bd3786"
             ],
             [
              0.5555555555555556,
              "#d8576b"
             ],
             [
              0.6666666666666666,
              "#ed7953"
             ],
             [
              0.7777777777777778,
              "#fb9f3a"
             ],
             [
              0.8888888888888888,
              "#fdca26"
             ],
             [
              1,
              "#f0f921"
             ]
            ],
            "type": "surface"
           }
          ],
          "table": [
           {
            "cells": {
             "fill": {
              "color": "#EBF0F8"
             },
             "line": {
              "color": "white"
             }
            },
            "header": {
             "fill": {
              "color": "#C8D4E3"
             },
             "line": {
              "color": "white"
             }
            },
            "type": "table"
           }
          ]
         },
         "layout": {
          "annotationdefaults": {
           "arrowcolor": "#2a3f5f",
           "arrowhead": 0,
           "arrowwidth": 1
          },
          "autotypenumbers": "strict",
          "coloraxis": {
           "colorbar": {
            "outlinewidth": 0,
            "ticks": ""
           }
          },
          "colorscale": {
           "diverging": [
            [
             0,
             "#8e0152"
            ],
            [
             0.1,
             "#c51b7d"
            ],
            [
             0.2,
             "#de77ae"
            ],
            [
             0.3,
             "#f1b6da"
            ],
            [
             0.4,
             "#fde0ef"
            ],
            [
             0.5,
             "#f7f7f7"
            ],
            [
             0.6,
             "#e6f5d0"
            ],
            [
             0.7,
             "#b8e186"
            ],
            [
             0.8,
             "#7fbc41"
            ],
            [
             0.9,
             "#4d9221"
            ],
            [
             1,
             "#276419"
            ]
           ],
           "sequential": [
            [
             0,
             "#0d0887"
            ],
            [
             0.1111111111111111,
             "#46039f"
            ],
            [
             0.2222222222222222,
             "#7201a8"
            ],
            [
             0.3333333333333333,
             "#9c179e"
            ],
            [
             0.4444444444444444,
             "#bd3786"
            ],
            [
             0.5555555555555556,
             "#d8576b"
            ],
            [
             0.6666666666666666,
             "#ed7953"
            ],
            [
             0.7777777777777778,
             "#fb9f3a"
            ],
            [
             0.8888888888888888,
             "#fdca26"
            ],
            [
             1,
             "#f0f921"
            ]
           ],
           "sequentialminus": [
            [
             0,
             "#0d0887"
            ],
            [
             0.1111111111111111,
             "#46039f"
            ],
            [
             0.2222222222222222,
             "#7201a8"
            ],
            [
             0.3333333333333333,
             "#9c179e"
            ],
            [
             0.4444444444444444,
             "#bd3786"
            ],
            [
             0.5555555555555556,
             "#d8576b"
            ],
            [
             0.6666666666666666,
             "#ed7953"
            ],
            [
             0.7777777777777778,
             "#fb9f3a"
            ],
            [
             0.8888888888888888,
             "#fdca26"
            ],
            [
             1,
             "#f0f921"
            ]
           ]
          },
          "colorway": [
           "#636efa",
           "#EF553B",
           "#00cc96",
           "#ab63fa",
           "#FFA15A",
           "#19d3f3",
           "#FF6692",
           "#B6E880",
           "#FF97FF",
           "#FECB52"
          ],
          "font": {
           "color": "#2a3f5f"
          },
          "geo": {
           "bgcolor": "white",
           "lakecolor": "white",
           "landcolor": "#E5ECF6",
           "showlakes": true,
           "showland": true,
           "subunitcolor": "white"
          },
          "hoverlabel": {
           "align": "left"
          },
          "hovermode": "closest",
          "mapbox": {
           "style": "light"
          },
          "paper_bgcolor": "white",
          "plot_bgcolor": "#E5ECF6",
          "polar": {
           "angularaxis": {
            "gridcolor": "white",
            "linecolor": "white",
            "ticks": ""
           },
           "bgcolor": "#E5ECF6",
           "radialaxis": {
            "gridcolor": "white",
            "linecolor": "white",
            "ticks": ""
           }
          },
          "scene": {
           "xaxis": {
            "backgroundcolor": "#E5ECF6",
            "gridcolor": "white",
            "gridwidth": 2,
            "linecolor": "white",
            "showbackground": true,
            "ticks": "",
            "zerolinecolor": "white"
           },
           "yaxis": {
            "backgroundcolor": "#E5ECF6",
            "gridcolor": "white",
            "gridwidth": 2,
            "linecolor": "white",
            "showbackground": true,
            "ticks": "",
            "zerolinecolor": "white"
           },
           "zaxis": {
            "backgroundcolor": "#E5ECF6",
            "gridcolor": "white",
            "gridwidth": 2,
            "linecolor": "white",
            "showbackground": true,
            "ticks": "",
            "zerolinecolor": "white"
           }
          },
          "shapedefaults": {
           "line": {
            "color": "#2a3f5f"
           }
          },
          "ternary": {
           "aaxis": {
            "gridcolor": "white",
            "linecolor": "white",
            "ticks": ""
           },
           "baxis": {
            "gridcolor": "white",
            "linecolor": "white",
            "ticks": ""
           },
           "bgcolor": "#E5ECF6",
           "caxis": {
            "gridcolor": "white",
            "linecolor": "white",
            "ticks": ""
           }
          },
          "title": {
           "x": 0.05
          },
          "xaxis": {
           "automargin": true,
           "gridcolor": "white",
           "linecolor": "white",
           "ticks": "",
           "title": {
            "standoff": 15
           },
           "zerolinecolor": "white",
           "zerolinewidth": 2
          },
          "yaxis": {
           "automargin": true,
           "gridcolor": "white",
           "linecolor": "white",
           "ticks": "",
           "title": {
            "standoff": 15
           },
           "zerolinecolor": "white",
           "zerolinewidth": 2
          }
         }
        },
        "xaxis": {
         "anchor": "y",
         "autorange": true,
         "domain": [
          0,
          1
         ],
         "range": [
          -0.5,
          0.5
         ],
         "type": "category"
        },
        "yaxis": {
         "anchor": "x",
         "autorange": true,
         "domain": [
          0,
          1
         ],
         "range": [
          4.2444444444444445,
          20.755555555555556
         ],
         "title": {
          "text": "Price ($)"
         },
         "type": "linear"
        }
       }
      },
      "image/png": "[encoded data removed]",
      "text/html": [
       "<div>                            <div id=\"8ad1c266-8ee8-42bc-994e-a58a17d6b38a\" class=\"plotly-graph-div\" style=\"height:525px; width:100%;\"></div>            <script type=\"text/javascript\">                require([\"plotly\"], function(Plotly) {                    window.PLOTLYENV=window.PLOTLYENV || {};                                    if (document.getElementById(\"8ad1c266-8ee8-42bc-994e-a58a17d6b38a\")) {                    Plotly.newPlot(                        \"8ad1c266-8ee8-42bc-994e-a58a17d6b38a\",                        [{\"alignmentgroup\":\"True\",\"hovertemplate\":\"Price ($)=%{y}\\u003cextra\\u003e\\u003c\\u002fextra\\u003e\",\"legendgroup\":\"\",\"marker\":{\"color\":\"#636efa\"},\"name\":\"\",\"notched\":false,\"offsetgroup\":\"\",\"orientation\":\"v\",\"showlegend\":false,\"x0\":\" \",\"xaxis\":\"x\",\"y\":[10.15,6.17,19.65,17.48,10.83,9.92,6.14,14.99,12.45,13.37,18.9,16.95,14.82,6.29,10.98,19.76,6.89,17.33,12.97,6.56,7.68,10.54,19.77,7.01,11.07,8.58,12.81,6.14,12.62,6.77,14.04,11.52,10.16,8.67,7.25,14.38,7.34,13.84,7.03,11.97,11.16,15.79,8.15,16.12,10.74,19.25,16.62,15.43,14.47,14.2,19.4,6.83,17.48,5.81,16.69,16.27,19.83,9.12,9.92,11.96,19.0,19.73,8.97,18.82,6.88,7.32,19.61,7.45,8.52,7.34,16.26,16.93,14.77,17.66,5.93,11.43,6.1,6.37,11.59,7.54,13.92,14.38,17.74,5.94,8.63,6.69,11.64,13.69,16.46,19.81,11.4,11.21,13.47,13.79,11.6,6.64,6.14,16.82,8.21,8.85,13.14,12.51,12.17,10.13,6.83,5.17,5.96,13.93,12.15,11.7,18.37,13.77,12.65,9.57,5.87,14.85,15.93,9.89,13.57,16.26,16.62,16.21,10.35,13.5,5.51,10.2,5.63,12.81,18.2,12.95,15.37,12.03,5.26,6.91,6.23,15.04,14.12,12.42,10.3,6.31,10.06,19.52,17.78,15.18,10.43,15.86,16.54,19.85,6.49,14.26,16.37,5.37,7.68,14.31,5.28,5.79,11.99,6.34,12.81,16.39,19.57,7.55,18.26,18.2,14.23,10.32,7.58,9.08,9.54,9.86,9.35,7.79,11.84,19.54,19.33,10.32,8.22,15.56,8.29,10.93,16.5,19.36,10.23,19.33,18.47,5.83,11.91,19.27,14.92,12.7,15.25,8.67,8.74,7.31,16.69,6.63,13.24,10.18,6.26,18.06,13.72,6.5,10.55,7.87,19.86,15.79,15.52,13.17,5.65,7.86,15.1,13.87,6.78,12.85,11.82,9.77,12.77,17.29,18.77,19.83,12.88,18.76,16.54,7.97,5.61,6.28,19.66,13.61,16.77,10.88,5.26,19.43,5.39,5.84,10.87,8.71,5.21,9.3,14.69,9.78,17.43,18.22,14.8,6.15,7.02,6.55,8.1,16.7,11.52,7.87,6.59,12.44,16.23,7.47,16.49,18.19,9.66,12.12,5.64,5.21,16.75,11.67,11.23,14.22,15.46,10.61,18.05,11.32,9.77,14.52,17.8,8.7,18.28,6.52,11.27,16.56,8.82,16.37,9.04,17.35,8.85,10.96,16.36,14.18,16.09,18.57,19.78,6.05,6.87,16.13,6.63,8.79,12.4,18.48,13.99,12.79,14.95,16.2,15.55,5.55,12.06,19.49,13.81,5.11,11.86,18.93,15.31,18.59,12.47,15.85,13.92,18.79,11.8,9.5,11.19,16.05,17.03,5.64,18.21,17.15,10.4,12.02,15.89,8.22,13.93,14.32,14.83,9.24,16.56,7.86,6.29,8.71,6.84,9.78,8.9,8.72,13.22,13.56,14.3,7.51,17.46,13.56,11.5,19.25,8.82,10.02,11.93,8.55,13.56,11.87,6.82,10.76,15.05,18.4,19.56,7.93,19.93,8.58,13.48,19.7,15.05,6.66,15.13,18.06,13.4,11.11,14.41,15.45,5.16,19.84,5.67,6.31,16.74,14.18,13.92,18.24,17.0,15.56,11.49,10.98,15.29,19.66,18.7,13.29,15.39,15.07,16.88,10.6,13.5,14.96,13.86,19.26,6.34,14.18,5.07,11.95,12.67,15.83,8.55],\"y0\":\" \",\"yaxis\":\"y\",\"type\":\"box\"}],                        {\"template\":{\"data\":{\"histogram2dcontour\":[{\"type\":\"histogram2dcontour\",\"colorbar\":{\"outlinewidth\":0,\"ticks\":\"\"},\"colorscale\":[[0.0,\"#0d0887\"],[0.1111111111111111,\"#46039f\"],[0.2222222222222222,\"#7201a8\"],[0.3333333333333333,\"#9c179e\"],[0.4444444444444444,\"#bd3786\"],[0.5555555555555556,\"#d8576b\"],[0.6666666666666666,\"#ed7953\"],[0.7777777777777778,\"#fb9f3a\"],[0.8888888888888888,\"#fdca26\"],[1.0,\"#f0f921\"]]}],\"choropleth\":[{\"type\":\"choropleth\",\"colorbar\":{\"outlinewidth\":0,\"ticks\":\"\"}}],\"histogram2d\":[{\"type\":\"histogram2d\",\"colorbar\":{\"outlinewidth\":0,\"ticks\":\"\"},\"colorscale\":[[0.0,\"#0d0887\"],[0.1111111111111111,\"#46039f\"],[0.2222222222222222,\"#7201a8\"],[0.3333333333333333,\"#9c179e\"],[0.4444444444444444,\"#bd3786\"],[0.5555555555555556,\"#d8576b\"],[0.6666666666666666,\"#ed7953\"],[0.7777777777777778,\"#fb9f3a\"],[0.8888888888888888,\"#fdca26\"],[1.0,\"#f0f921\"]]}],\"heatmap\":[{\"type\":\"heatmap\",\"colorbar\":{\"outlinewidth\":0,\"ticks\":\"\"},\"colorscale\":[[0.0,\"#0d0887\"],[0.1111111111111111,\"#46039f\"],[0.2222222222222222,\"#7201a8\"],[0.3333333333333333,\"#9c179e\"],[0.4444444444444444,\"#bd3786\"],[0.5555555555555556,\"#d8576b\"],[0.6666666666666666,\"#ed7953\"],[0.7777777777777778,\"#fb9f3a\"],[0.8888888888888888,\"#fdca26\"],[1.0,\"#f0f921\"]]}],\"heatmapgl\":[{\"type\":\"heatmapgl\",\"colorbar\":{\"outlinewidth\":0,\"ticks\":\"\"},\"colorscale\":[[0.0,\"#0d0887\"],[0.1111111111111111,\"#46039f\"],[0.2222222222222222,\"#7201a8\"],[0.3333333333333333,\"#9c179e\"],[0.4444444444444444,\"#bd3786\"],[0.5555555555555556,\"#d8576b\"],[0.6666666666666666,\"#ed7953\"],[0.7777777777777778,\"#fb9f3a\"],[0.8888888888888888,\"#fdca26\"],[1.0,\"#f0f921\"]]}],\"contourcarpet\":[{\"type\":\"contourcarpet\",\"colorbar\":{\"outlinewidth\":0,\"ticks\":\"\"}}],\"contour\":[{\"type\":\"contour\",\"colorbar\":{\"outlinewidth\":0,\"ticks\":\"\"},\"colorscale\":[[0.0,\"#0d0887\"],[0.1111111111111111,\"#46039f\"],[0.2222222222222222,\"#7201a8\"],[0.3333333333333333,\"#9c179e\"],[0.4444444444444444,\"#bd3786\"],[0.5555555555555556,\"#d8576b\"],[0.6666666666666666,\"#ed7953\"],[0.7777777777777778,\"#fb9f3a\"],[0.8888888888888888,\"#fdca26\"],[1.0,\"#f0f921\"]]}],\"surface\":[{\"type\":\"surface\",\"colorbar\":{\"outlinewidth\":0,\"ticks\":\"\"},\"colorscale\":[[0.0,\"#0d0887\"],[0.1111111111111111,\"#46039f\"],[0.2222222222222222,\"#7201a8\"],[0.3333333333333333,\"#9c179e\"],[0.4444444444444444,\"#bd3786\"],[0.5555555555555556,\"#d8576b\"],[0.6666666666666666,\"#ed7953\"],[0.7777777777777778,\"#fb9f3a\"],[0.8888888888888888,\"#fdca26\"],[1.0,\"#f0f921\"]]}],\"mesh3d\":[{\"type\":\"mesh3d\",\"colorbar\":{\"outlinewidth\":0,\"ticks\":\"\"}}],\"scatter\":[{\"fillpattern\":{\"fillmode\":\"overlay\",\"size\":10,\"solidity\":0.2},\"type\":\"scatter\"}],\"parcoords\":[{\"type\":\"parcoords\",\"line\":{\"colorbar\":{\"outlinewidth\":0,\"ticks\":\"\"}}}],\"scatterpolargl\":[{\"type\":\"scatterpolargl\",\"marker\":{\"colorbar\":{\"outlinewidth\":0,\"ticks\":\"\"}}}],\"bar\":[{\"error_x\":{\"color\":\"#2a3f5f\"},\"error_y\":{\"color\":\"#2a3f5f\"},\"marker\":{\"line\":{\"color\":\"#E5ECF6\",\"width\":0.5},\"pattern\":{\"fillmode\":\"overlay\",\"size\":10,\"solidity\":0.2}},\"type\":\"bar\"}],\"scattergeo\":[{\"type\":\"scattergeo\",\"marker\":{\"colorbar\":{\"outlinewidth\":0,\"ticks\":\"\"}}}],\"scatterpolar\":[{\"type\":\"scatterpolar\",\"marker\":{\"colorbar\":{\"outlinewidth\":0,\"ticks\":\"\"}}}],\"histogram\":[{\"marker\":{\"pattern\":{\"fillmode\":\"overlay\",\"size\":10,\"solidity\":0.2}},\"type\":\"histogram\"}],\"scattergl\":[{\"type\":\"scattergl\",\"marker\":{\"colorbar\":{\"outlinewidth\":0,\"ticks\":\"\"}}}],\"scatter3d\":[{\"type\":\"scatter3d\",\"line\":{\"colorbar\":{\"outlinewidth\":0,\"ticks\":\"\"}},\"marker\":{\"colorbar\":{\"outlinewidth\":0,\"ticks\":\"\"}}}],\"scattermapbox\":[{\"type\":\"scattermapbox\",\"marker\":{\"colorbar\":{\"outlinewidth\":0,\"ticks\":\"\"}}}],\"scatterternary\":[{\"type\":\"scatterternary\",\"marker\":{\"colorbar\":{\"outlinewidth\":0,\"ticks\":\"\"}}}],\"scattercarpet\":[{\"type\":\"scattercarpet\",\"marker\":{\"colorbar\":{\"outlinewidth\":0,\"ticks\":\"\"}}}],\"carpet\":[{\"aaxis\":{\"endlinecolor\":\"#2a3f5f\",\"gridcolor\":\"white\",\"linecolor\":\"white\",\"minorgridcolor\":\"white\",\"startlinecolor\":\"#2a3f5f\"},\"baxis\":{\"endlinecolor\":\"#2a3f5f\",\"gridcolor\":\"white\",\"linecolor\":\"white\",\"minorgridcolor\":\"white\",\"startlinecolor\":\"#2a3f5f\"},\"type\":\"carpet\"}],\"table\":[{\"cells\":{\"fill\":{\"color\":\"#EBF0F8\"},\"line\":{\"color\":\"white\"}},\"header\":{\"fill\":{\"color\":\"#C8D4E3\"},\"line\":{\"color\":\"white\"}},\"type\":\"table\"}],\"barpolar\":[{\"marker\":{\"line\":{\"color\":\"#E5ECF6\",\"width\":0.5},\"pattern\":{\"fillmode\":\"overlay\",\"size\":10,\"solidity\":0.2}},\"type\":\"barpolar\"}],\"pie\":[{\"automargin\":true,\"type\":\"pie\"}]},\"layout\":{\"autotypenumbers\":\"strict\",\"colorway\":[\"#636efa\",\"#EF553B\",\"#00cc96\",\"#ab63fa\",\"#FFA15A\",\"#19d3f3\",\"#FF6692\",\"#B6E880\",\"#FF97FF\",\"#FECB52\"],\"font\":{\"color\":\"#2a3f5f\"},\"hovermode\":\"closest\",\"hoverlabel\":{\"align\":\"left\"},\"paper_bgcolor\":\"white\",\"plot_bgcolor\":\"#E5ECF6\",\"polar\":{\"bgcolor\":\"#E5ECF6\",\"angularaxis\":{\"gridcolor\":\"white\",\"linecolor\":\"white\",\"ticks\":\"\"},\"radialaxis\":{\"gridcolor\":\"white\",\"linecolor\":\"white\",\"ticks\":\"\"}},\"ternary\":{\"bgcolor\":\"#E5ECF6\",\"aaxis\":{\"gridcolor\":\"white\",\"linecolor\":\"white\",\"ticks\":\"\"},\"baxis\":{\"gridcolor\":\"white\",\"linecolor\":\"white\",\"ticks\":\"\"},\"caxis\":{\"gridcolor\":\"white\",\"linecolor\":\"white\",\"ticks\":\"\"}},\"coloraxis\":{\"colorbar\":{\"outlinewidth\":0,\"ticks\":\"\"}},\"colorscale\":{\"sequential\":[[0.0,\"#0d0887\"],[0.1111111111111111,\"#46039f\"],[0.2222222222222222,\"#7201a8\"],[0.3333333333333333,\"#9c179e\"],[0.4444444444444444,\"#bd3786\"],[0.5555555555555556,\"#d8576b\"],[0.6666666666666666,\"#ed7953\"],[0.7777777777777778,\"#fb9f3a\"],[0.8888888888888888,\"#fdca26\"],[1.0,\"#f0f921\"]],\"sequentialminus\":[[0.0,\"#0d0887\"],[0.1111111111111111,\"#46039f\"],[0.2222222222222222,\"#7201a8\"],[0.3333333333333333,\"#9c179e\"],[0.4444444444444444,\"#bd3786\"],[0.5555555555555556,\"#d8576b\"],[0.6666666666666666,\"#ed7953\"],[0.7777777777777778,\"#fb9f3a\"],[0.8888888888888888,\"#fdca26\"],[1.0,\"#f0f921\"]],\"diverging\":[[0,\"#8e0152\"],[0.1,\"#c51b7d\"],[0.2,\"#de77ae\"],[0.3,\"#f1b6da\"],[0.4,\"#fde0ef\"],[0.5,\"#f7f7f7\"],[0.6,\"#e6f5d0\"],[0.7,\"#b8e186\"],[0.8,\"#7fbc41\"],[0.9,\"#4d9221\"],[1,\"#276419\"]]},\"xaxis\":{\"gridcolor\":\"white\",\"linecolor\":\"white\",\"ticks\":\"\",\"title\":{\"standoff\":15},\"zerolinecolor\":\"white\",\"automargin\":true,\"zerolinewidth\":2},\"yaxis\":{\"gridcolor\":\"white\",\"linecolor\":\"white\",\"ticks\":\"\",\"title\":{\"standoff\":15},\"zerolinecolor\":\"white\",\"automargin\":true,\"zerolinewidth\":2},\"scene\":{\"xaxis\":{\"backgroundcolor\":\"#E5ECF6\",\"gridcolor\":\"white\",\"linecolor\":\"white\",\"showbackground\":true,\"ticks\":\"\",\"zerolinecolor\":\"white\",\"gridwidth\":2},\"yaxis\":{\"backgroundcolor\":\"#E5ECF6\",\"gridcolor\":\"white\",\"linecolor\":\"white\",\"showbackground\":true,\"ticks\":\"\",\"zerolinecolor\":\"white\",\"gridwidth\":2},\"zaxis\":{\"backgroundcolor\":\"#E5ECF6\",\"gridcolor\":\"white\",\"linecolor\":\"white\",\"showbackground\":true,\"ticks\":\"\",\"zerolinecolor\":\"white\",\"gridwidth\":2}},\"shapedefaults\":{\"line\":{\"color\":\"#2a3f5f\"}},\"annotationdefaults\":{\"arrowcolor\":\"#2a3f5f\",\"arrowhead\":0,\"arrowwidth\":1},\"geo\":{\"bgcolor\":\"white\",\"landcolor\":\"#E5ECF6\",\"subunitcolor\":\"white\",\"showland\":true,\"showlakes\":true,\"lakecolor\":\"white\"},\"title\":{\"x\":0.05},\"mapbox\":{\"style\":\"light\"}}},\"xaxis\":{\"anchor\":\"y\",\"domain\":[0.0,1.0]},\"yaxis\":{\"anchor\":\"x\",\"domain\":[0.0,1.0],\"title\":{\"text\":\"Price ($)\"}},\"legend\":{\"tracegroupgap\":0},\"margin\":{\"t\":60},\"boxmode\":\"group\"},                        {\"responsive\": true}                    ).then(function(){\n",
       "                            \n",
       "var gd = document.getElementById('8ad1c266-8ee8-42bc-994e-a58a17d6b38a');\n",
       "var x = new MutationObserver(function (mutations, observer) {{\n",
       "        var display = window.getComputedStyle(gd).display;\n",
       "        if (!display || display === 'none') {{\n",
       "            console.log([gd, 'removed!']);\n",
       "            Plotly.purge(gd);\n",
       "            observer.disconnect();\n",
       "        }}\n",
       "}});\n",
       "\n",
       "// Listen for the removal of the full notebook cells\n",
       "var notebookContainer = gd.closest('#notebook-container');\n",
       "if (notebookContainer) {{\n",
       "    x.observe(notebookContainer, {childList: true});\n",
       "}}\n",
       "\n",
       "// Listen for the clearing of the current output cell\n",
       "var outputEl = gd.closest('.output');\n",
       "if (outputEl) {{\n",
       "    x.observe(outputEl, {childList: true});\n",
       "}}\n",
       "\n",
       "                        })                };                });            </script>        </div>"
      ]
     },
     "metadata": {},
     "output_type": "display_data"
    },
    {
     "data": {
      "application/vnd.plotly.v1+json": {
       "config": {
        "plotlyServerURL": "https://plot.ly"
       },
       "data": [
        {
         "alignmentgroup": "True",
         "hovertemplate": "Customer rating=%{y}<extra></extra>",
         "legendgroup": "",
         "marker": {
          "color": "#636efa"
         },
         "name": "",
         "notched": false,
         "offsetgroup": "",
         "orientation": "v",
         "showlegend": false,
         "type": "box",
         "x0": " ",
         "xaxis": "x",
         "y": [
          3.1,
          4.5,
          4.1,
          4.7,
          3.7,
          2.3,
          3.2,
          4.8,
          3.8,
          3.2,
          4.2,
          3.1,
          3.5,
          3.9,
          3.4,
          3.3,
          1.2,
          3.1,
          4.5,
          3.5,
          3.3,
          1.6,
          4.5,
          4.6,
          4.4,
          2.4,
          1.3,
          1.6,
          3.6,
          1.8,
          4.5,
          1.5,
          4.8,
          4.9,
          2.2,
          1.5,
          2.4,
          4.8,
          2.7,
          1.8,
          3.1,
          4.5,
          4.8,
          2.7,
          4.7,
          2.6,
          4.7,
          2.3,
          2.1,
          2.5,
          1.8,
          1.8,
          2.3,
          4.1,
          5,
          3,
          4.7,
          1.8,
          4.7,
          3.6,
          3.9,
          3.7,
          1.7,
          4,
          1.3,
          3.9,
          1,
          2.3,
          1.1,
          1.5,
          3.8,
          4.6,
          1.6,
          1.3,
          1.9,
          2.3,
          3.2,
          4.8,
          4.8,
          2.7,
          2.5,
          3.7,
          3.4,
          4,
          1,
          1.6,
          2.8,
          2,
          3.4,
          3.8,
          4.1,
          3.6,
          2.6,
          2.2,
          3.1,
          1.8,
          1.4,
          1.9,
          1.7,
          2.3,
          3,
          4.2,
          3.9,
          3.5,
          3.3,
          2.7,
          4.2,
          1.7,
          1.1,
          4.5,
          4.9,
          2.8,
          2.5,
          1.3,
          4.4,
          1.8,
          3.2,
          3.1,
          3.6,
          2.6,
          2,
          3.6,
          3.6,
          2.4,
          1.2,
          3.7,
          2.7,
          3.7,
          3.1,
          3.6,
          3.7,
          2.6,
          1.8,
          2.4,
          2.6,
          3.6,
          1.2,
          3.4,
          2,
          2.3,
          2.1,
          4.2,
          4.4,
          4.2,
          3.7,
          1.3,
          3.7,
          4.8,
          1.2,
          2.7,
          3.9,
          1.5,
          2.1,
          1.2,
          3.5,
          3.6,
          4.3,
          3.1,
          2.7,
          1.4,
          4.6,
          4.1,
          1.5,
          1.8,
          4.7,
          3.8,
          1.1,
          3.2,
          1.6,
          2.3,
          2.2,
          1.8,
          1.7,
          3.8,
          2.7,
          3.8,
          4.6,
          3.9,
          4.9,
          3.4,
          4.4,
          1.8,
          2.8,
          2.7,
          2.2,
          4.5,
          3.5,
          1.2,
          2.5,
          1.7,
          3.5,
          1.5,
          3.3,
          4.2,
          2.3,
          3.3,
          1.4,
          3.5,
          3,
          2,
          2.2,
          2.2,
          4.3,
          2.8,
          1.6,
          2.5,
          2.2,
          1.4,
          3.9,
          2.9,
          2.2,
          1.3,
          4,
          2.2,
          3.7,
          2,
          4.7,
          1.2,
          2.5,
          4.4,
          3.9,
          1.1,
          3.5,
          2.4,
          4.5,
          3.1,
          4.3,
          4.7,
          1.5,
          2.7,
          3.9,
          2.5,
          2.4,
          2.3,
          4.4,
          1.5,
          1.7,
          1.1,
          4.1,
          1.1,
          1.9,
          2.9,
          3.7,
          1.1,
          3.7,
          1.2,
          4.2,
          4.8,
          2,
          4.3,
          4.8,
          3.3,
          1.6,
          2.4,
          2.9,
          3.8,
          3,
          3.5,
          4.1,
          3.1,
          1,
          4.3,
          2.2,
          3.4,
          3.2,
          3.7,
          1.9,
          2.2,
          1.1,
          2,
          1.3,
          1.9,
          2.2,
          1.1,
          2.8,
          2.6,
          1.9,
          4,
          3.2,
          4.2,
          1.8,
          1.9,
          1.3,
          3.1,
          3.8,
          2.4,
          1.6,
          1.6,
          1.2,
          1.7,
          1.5,
          2.6,
          2.1,
          4.8,
          2.2,
          3.4,
          3.9,
          4.4,
          1.5,
          4.5,
          3.7,
          1.7,
          4.1,
          4.7,
          2.9,
          2.2,
          4,
          2.2,
          4.3,
          4.4,
          4.9,
          1.1,
          3.4,
          4.5,
          1.5,
          4.4,
          3.8,
          3,
          1.4,
          3.9,
          4.5,
          3.5,
          4.9,
          2.1,
          1.4,
          4.5,
          3.5,
          4.3,
          3.6,
          2.4,
          1.4,
          3,
          4.9,
          1.1,
          3.6,
          4.9,
          4.1,
          2,
          4.3,
          1.1,
          1.2,
          2.6,
          4.3,
          4,
          4.6,
          4.8,
          1.4,
          3.7,
          3.3,
          1.3,
          1.2,
          3.5,
          2.2,
          4.3,
          1.6,
          3.8,
          3.8,
          1.5,
          1.9,
          1.1,
          4.1,
          4.4,
          1.9,
          5,
          3.7,
          3.4,
          2.8,
          1.1,
          1.3,
          4.6,
          4.2,
          3.2,
          4.7,
          4.4,
          4.9,
          3.3,
          4.1,
          3.1,
          5,
          2.4,
          4.8,
          4.9,
          1.8,
          3.7,
          4.5,
          2.1,
          1.7,
          3.6,
          1.1,
          3.2,
          4.4,
          2.9,
          1.7,
          3.8,
          2.9,
          4.4,
          3.4,
          2.4,
          2.3
         ],
         "y0": " ",
         "yaxis": "y"
        }
       ],
       "layout": {
        "autosize": true,
        "boxmode": "group",
        "legend": {
         "tracegroupgap": 0
        },
        "margin": {
         "t": 60
        },
        "template": {
         "data": {
          "bar": [
           {
            "error_x": {
             "color": "#2a3f5f"
            },
            "error_y": {
             "color": "#2a3f5f"
            },
            "marker": {
             "line": {
              "color": "#E5ECF6",
              "width": 0.5
             },
             "pattern": {
              "fillmode": "overlay",
              "size": 10,
              "solidity": 0.2
             }
            },
            "type": "bar"
           }
          ],
          "barpolar": [
           {
            "marker": {
             "line": {
              "color": "#E5ECF6",
              "width": 0.5
             },
             "pattern": {
              "fillmode": "overlay",
              "size": 10,
              "solidity": 0.2
             }
            },
            "type": "barpolar"
           }
          ],
          "carpet": [
           {
            "aaxis": {
             "endlinecolor": "#2a3f5f",
             "gridcolor": "white",
             "linecolor": "white",
             "minorgridcolor": "white",
             "startlinecolor": "#2a3f5f"
            },
            "baxis": {
             "endlinecolor": "#2a3f5f",
             "gridcolor": "white",
             "linecolor": "white",
             "minorgridcolor": "white",
             "startlinecolor": "#2a3f5f"
            },
            "type": "carpet"
           }
          ],
          "choropleth": [
           {
            "colorbar": {
             "outlinewidth": 0,
             "ticks": ""
            },
            "type": "choropleth"
           }
          ],
          "contour": [
           {
            "colorbar": {
             "outlinewidth": 0,
             "ticks": ""
            },
            "colorscale": [
             [
              0,
              "#0d0887"
             ],
             [
              0.1111111111111111,
              "#46039f"
             ],
             [
              0.2222222222222222,
              "#7201a8"
             ],
             [
              0.3333333333333333,
              "#9c179e"
             ],
             [
              0.4444444444444444,
              "#bd3786"
             ],
             [
              0.5555555555555556,
              "#d8576b"
             ],
             [
              0.6666666666666666,
              "#ed7953"
             ],
             [
              0.7777777777777778,
              "#fb9f3a"
             ],
             [
              0.8888888888888888,
              "#fdca26"
             ],
             [
              1,
              "#f0f921"
             ]
            ],
            "type": "contour"
           }
          ],
          "contourcarpet": [
           {
            "colorbar": {
             "outlinewidth": 0,
             "ticks": ""
            },
            "type": "contourcarpet"
           }
          ],
          "heatmap": [
           {
            "colorbar": {
             "outlinewidth": 0,
             "ticks": ""
            },
            "colorscale": [
             [
              0,
              "#0d0887"
             ],
             [
              0.1111111111111111,
              "#46039f"
             ],
             [
              0.2222222222222222,
              "#7201a8"
             ],
             [
              0.3333333333333333,
              "#9c179e"
             ],
             [
              0.4444444444444444,
              "#bd3786"
             ],
             [
              0.5555555555555556,
              "#d8576b"
             ],
             [
              0.6666666666666666,
              "#ed7953"
             ],
             [
              0.7777777777777778,
              "#fb9f3a"
             ],
             [
              0.8888888888888888,
              "#fdca26"
             ],
             [
              1,
              "#f0f921"
             ]
            ],
            "type": "heatmap"
           }
          ],
          "heatmapgl": [
           {
            "colorbar": {
             "outlinewidth": 0,
             "ticks": ""
            },
            "colorscale": [
             [
              0,
              "#0d0887"
             ],
             [
              0.1111111111111111,
              "#46039f"
             ],
             [
              0.2222222222222222,
              "#7201a8"
             ],
             [
              0.3333333333333333,
              "#9c179e"
             ],
             [
              0.4444444444444444,
              "#bd3786"
             ],
             [
              0.5555555555555556,
              "#d8576b"
             ],
             [
              0.6666666666666666,
              "#ed7953"
             ],
             [
              0.7777777777777778,
              "#fb9f3a"
             ],
             [
              0.8888888888888888,
              "#fdca26"
             ],
             [
              1,
              "#f0f921"
             ]
            ],
            "type": "heatmapgl"
           }
          ],
          "histogram": [
           {
            "marker": {
             "pattern": {
              "fillmode": "overlay",
              "size": 10,
              "solidity": 0.2
             }
            },
            "type": "histogram"
           }
          ],
          "histogram2d": [
           {
            "colorbar": {
             "outlinewidth": 0,
             "ticks": ""
            },
            "colorscale": [
             [
              0,
              "#0d0887"
             ],
             [
              0.1111111111111111,
              "#46039f"
             ],
             [
              0.2222222222222222,
              "#7201a8"
             ],
             [
              0.3333333333333333,
              "#9c179e"
             ],
             [
              0.4444444444444444,
              "#bd3786"
             ],
             [
              0.5555555555555556,
              "#d8576b"
             ],
             [
              0.6666666666666666,
              "#ed7953"
             ],
             [
              0.7777777777777778,
              "#fb9f3a"
             ],
             [
              0.8888888888888888,
              "#fdca26"
             ],
             [
              1,
              "#f0f921"
             ]
            ],
            "type": "histogram2d"
           }
          ],
          "histogram2dcontour": [
           {
            "colorbar": {
             "outlinewidth": 0,
             "ticks": ""
            },
            "colorscale": [
             [
              0,
              "#0d0887"
             ],
             [
              0.1111111111111111,
              "#46039f"
             ],
             [
              0.2222222222222222,
              "#7201a8"
             ],
             [
              0.3333333333333333,
              "#9c179e"
             ],
             [
              0.4444444444444444,
              "#bd3786"
             ],
             [
              0.5555555555555556,
              "#d8576b"
             ],
             [
              0.6666666666666666,
              "#ed7953"
             ],
             [
              0.7777777777777778,
              "#fb9f3a"
             ],
             [
              0.8888888888888888,
              "#fdca26"
             ],
             [
              1,
              "#f0f921"
             ]
            ],
            "type": "histogram2dcontour"
           }
          ],
          "mesh3d": [
           {
            "colorbar": {
             "outlinewidth": 0,
             "ticks": ""
            },
            "type": "mesh3d"
           }
          ],
          "parcoords": [
           {
            "line": {
             "colorbar": {
              "outlinewidth": 0,
              "ticks": ""
             }
            },
            "type": "parcoords"
           }
          ],
          "pie": [
           {
            "automargin": true,
            "type": "pie"
           }
          ],
          "scatter": [
           {
            "fillpattern": {
             "fillmode": "overlay",
             "size": 10,
             "solidity": 0.2
            },
            "type": "scatter"
           }
          ],
          "scatter3d": [
           {
            "line": {
             "colorbar": {
              "outlinewidth": 0,
              "ticks": ""
             }
            },
            "marker": {
             "colorbar": {
              "outlinewidth": 0,
              "ticks": ""
             }
            },
            "type": "scatter3d"
           }
          ],
          "scattercarpet": [
           {
            "marker": {
             "colorbar": {
              "outlinewidth": 0,
              "ticks": ""
             }
            },
            "type": "scattercarpet"
           }
          ],
          "scattergeo": [
           {
            "marker": {
             "colorbar": {
              "outlinewidth": 0,
              "ticks": ""
             }
            },
            "type": "scattergeo"
           }
          ],
          "scattergl": [
           {
            "marker": {
             "colorbar": {
              "outlinewidth": 0,
              "ticks": ""
             }
            },
            "type": "scattergl"
           }
          ],
          "scattermapbox": [
           {
            "marker": {
             "colorbar": {
              "outlinewidth": 0,
              "ticks": ""
             }
            },
            "type": "scattermapbox"
           }
          ],
          "scatterpolar": [
           {
            "marker": {
             "colorbar": {
              "outlinewidth": 0,
              "ticks": ""
             }
            },
            "type": "scatterpolar"
           }
          ],
          "scatterpolargl": [
           {
            "marker": {
             "colorbar": {
              "outlinewidth": 0,
              "ticks": ""
             }
            },
            "type": "scatterpolargl"
           }
          ],
          "scatterternary": [
           {
            "marker": {
             "colorbar": {
              "outlinewidth": 0,
              "ticks": ""
             }
            },
            "type": "scatterternary"
           }
          ],
          "surface": [
           {
            "colorbar": {
             "outlinewidth": 0,
             "ticks": ""
            },
            "colorscale": [
             [
              0,
              "#0d0887"
             ],
             [
              0.1111111111111111,
              "#46039f"
             ],
             [
              0.2222222222222222,
              "#7201a8"
             ],
             [
              0.3333333333333333,
              "#9c179e"
             ],
             [
              0.4444444444444444,
              "#bd3786"
             ],
             [
              0.5555555555555556,
              "#d8576b"
             ],
             [
              0.6666666666666666,
              "#ed7953"
             ],
             [
              0.7777777777777778,
              "#fb9f3a"
             ],
             [
              0.8888888888888888,
              "#fdca26"
             ],
             [
              1,
              "#f0f921"
             ]
            ],
            "type": "surface"
           }
          ],
          "table": [
           {
            "cells": {
             "fill": {
              "color": "#EBF0F8"
             },
             "line": {
              "color": "white"
             }
            },
            "header": {
             "fill": {
              "color": "#C8D4E3"
             },
             "line": {
              "color": "white"
             }
            },
            "type": "table"
           }
          ]
         },
         "layout": {
          "annotationdefaults": {
           "arrowcolor": "#2a3f5f",
           "arrowhead": 0,
           "arrowwidth": 1
          },
          "autotypenumbers": "strict",
          "coloraxis": {
           "colorbar": {
            "outlinewidth": 0,
            "ticks": ""
           }
          },
          "colorscale": {
           "diverging": [
            [
             0,
             "#8e0152"
            ],
            [
             0.1,
             "#c51b7d"
            ],
            [
             0.2,
             "#de77ae"
            ],
            [
             0.3,
             "#f1b6da"
            ],
            [
             0.4,
             "#fde0ef"
            ],
            [
             0.5,
             "#f7f7f7"
            ],
            [
             0.6,
             "#e6f5d0"
            ],
            [
             0.7,
             "#b8e186"
            ],
            [
             0.8,
             "#7fbc41"
            ],
            [
             0.9,
             "#4d9221"
            ],
            [
             1,
             "#276419"
            ]
           ],
           "sequential": [
            [
             0,
             "#0d0887"
            ],
            [
             0.1111111111111111,
             "#46039f"
            ],
            [
             0.2222222222222222,
             "#7201a8"
            ],
            [
             0.3333333333333333,
             "#9c179e"
            ],
            [
             0.4444444444444444,
             "#bd3786"
            ],
            [
             0.5555555555555556,
             "#d8576b"
            ],
            [
             0.6666666666666666,
             "#ed7953"
            ],
            [
             0.7777777777777778,
             "#fb9f3a"
            ],
            [
             0.8888888888888888,
             "#fdca26"
            ],
            [
             1,
             "#f0f921"
            ]
           ],
           "sequentialminus": [
            [
             0,
             "#0d0887"
            ],
            [
             0.1111111111111111,
             "#46039f"
            ],
            [
             0.2222222222222222,
             "#7201a8"
            ],
            [
             0.3333333333333333,
             "#9c179e"
            ],
            [
             0.4444444444444444,
             "#bd3786"
            ],
            [
             0.5555555555555556,
             "#d8576b"
            ],
            [
             0.6666666666666666,
             "#ed7953"
            ],
            [
             0.7777777777777778,
             "#fb9f3a"
            ],
            [
             0.8888888888888888,
             "#fdca26"
            ],
            [
             1,
             "#f0f921"
            ]
           ]
          },
          "colorway": [
           "#636efa",
           "#EF553B",
           "#00cc96",
           "#ab63fa",
           "#FFA15A",
           "#19d3f3",
           "#FF6692",
           "#B6E880",
           "#FF97FF",
           "#FECB52"
          ],
          "font": {
           "color": "#2a3f5f"
          },
          "geo": {
           "bgcolor": "white",
           "lakecolor": "white",
           "landcolor": "#E5ECF6",
           "showlakes": true,
           "showland": true,
           "subunitcolor": "white"
          },
          "hoverlabel": {
           "align": "left"
          },
          "hovermode": "closest",
          "mapbox": {
           "style": "light"
          },
          "paper_bgcolor": "white",
          "plot_bgcolor": "#E5ECF6",
          "polar": {
           "angularaxis": {
            "gridcolor": "white",
            "linecolor": "white",
            "ticks": ""
           },
           "bgcolor": "#E5ECF6",
           "radialaxis": {
            "gridcolor": "white",
            "linecolor": "white",
            "ticks": ""
           }
          },
          "scene": {
           "xaxis": {
            "backgroundcolor": "#E5ECF6",
            "gridcolor": "white",
            "gridwidth": 2,
            "linecolor": "white",
            "showbackground": true,
            "ticks": "",
            "zerolinecolor": "white"
           },
           "yaxis": {
            "backgroundcolor": "#E5ECF6",
            "gridcolor": "white",
            "gridwidth": 2,
            "linecolor": "white",
            "showbackground": true,
            "ticks": "",
            "zerolinecolor": "white"
           },
           "zaxis": {
            "backgroundcolor": "#E5ECF6",
            "gridcolor": "white",
            "gridwidth": 2,
            "linecolor": "white",
            "showbackground": true,
            "ticks": "",
            "zerolinecolor": "white"
           }
          },
          "shapedefaults": {
           "line": {
            "color": "#2a3f5f"
           }
          },
          "ternary": {
           "aaxis": {
            "gridcolor": "white",
            "linecolor": "white",
            "ticks": ""
           },
           "baxis": {
            "gridcolor": "white",
            "linecolor": "white",
            "ticks": ""
           },
           "bgcolor": "#E5ECF6",
           "caxis": {
            "gridcolor": "white",
            "linecolor": "white",
            "ticks": ""
           }
          },
          "title": {
           "x": 0.05
          },
          "xaxis": {
           "automargin": true,
           "gridcolor": "white",
           "linecolor": "white",
           "ticks": "",
           "title": {
            "standoff": 15
           },
           "zerolinecolor": "white",
           "zerolinewidth": 2
          },
          "yaxis": {
           "automargin": true,
           "gridcolor": "white",
           "linecolor": "white",
           "ticks": "",
           "title": {
            "standoff": 15
           },
           "zerolinecolor": "white",
           "zerolinewidth": 2
          }
         }
        },
        "xaxis": {
         "anchor": "y",
         "autorange": true,
         "domain": [
          0,
          1
         ],
         "range": [
          -0.5,
          0.5
         ],
         "type": "category"
        },
        "yaxis": {
         "anchor": "x",
         "autorange": true,
         "domain": [
          0,
          1
         ],
         "range": [
          0.7777777777777778,
          5.222222222222222
         ],
         "title": {
          "text": "Customer rating"
         },
         "type": "linear"
        }
       }
      },
      "image/png": "[encoded data removed]",
      "text/html": [
       "<div>                            <div id=\"d15909e2-bb15-4349-b37d-880cf23bf04b\" class=\"plotly-graph-div\" style=\"height:525px; width:100%;\"></div>            <script type=\"text/javascript\">                require([\"plotly\"], function(Plotly) {                    window.PLOTLYENV=window.PLOTLYENV || {};                                    if (document.getElementById(\"d15909e2-bb15-4349-b37d-880cf23bf04b\")) {                    Plotly.newPlot(                        \"d15909e2-bb15-4349-b37d-880cf23bf04b\",                        [{\"alignmentgroup\":\"True\",\"hovertemplate\":\"Customer rating=%{y}\\u003cextra\\u003e\\u003c\\u002fextra\\u003e\",\"legendgroup\":\"\",\"marker\":{\"color\":\"#636efa\"},\"name\":\"\",\"notched\":false,\"offsetgroup\":\"\",\"orientation\":\"v\",\"showlegend\":false,\"x0\":\" \",\"xaxis\":\"x\",\"y\":[3.1,4.5,4.1,4.7,3.7,2.3,3.2,4.8,3.8,3.2,4.2,3.1,3.5,3.9,3.4,3.3,1.2,3.1,4.5,3.5,3.3,1.6,4.5,4.6,4.4,2.4,1.3,1.6,3.6,1.8,4.5,1.5,4.8,4.9,2.2,1.5,2.4,4.8,2.7,1.8,3.1,4.5,4.8,2.7,4.7,2.6,4.7,2.3,2.1,2.5,1.8,1.8,2.3,4.1,5.0,3.0,4.7,1.8,4.7,3.6,3.9,3.7,1.7,4.0,1.3,3.9,1.0,2.3,1.1,1.5,3.8,4.6,1.6,1.3,1.9,2.3,3.2,4.8,4.8,2.7,2.5,3.7,3.4,4.0,1.0,1.6,2.8,2.0,3.4,3.8,4.1,3.6,2.6,2.2,3.1,1.8,1.4,1.9,1.7,2.3,3.0,4.2,3.9,3.5,3.3,2.7,4.2,1.7,1.1,4.5,4.9,2.8,2.5,1.3,4.4,1.8,3.2,3.1,3.6,2.6,2.0,3.6,3.6,2.4,1.2,3.7,2.7,3.7,3.1,3.6,3.7,2.6,1.8,2.4,2.6,3.6,1.2,3.4,2.0,2.3,2.1,4.2,4.4,4.2,3.7,1.3,3.7,4.8,1.2,2.7,3.9,1.5,2.1,1.2,3.5,3.6,4.3,3.1,2.7,1.4,4.6,4.1,1.5,1.8,4.7,3.8,1.1,3.2,1.6,2.3,2.2,1.8,1.7,3.8,2.7,3.8,4.6,3.9,4.9,3.4,4.4,1.8,2.8,2.7,2.2,4.5,3.5,1.2,2.5,1.7,3.5,1.5,3.3,4.2,2.3,3.3,1.4,3.5,3.0,2.0,2.2,2.2,4.3,2.8,1.6,2.5,2.2,1.4,3.9,2.9,2.2,1.3,4.0,2.2,3.7,2.0,4.7,1.2,2.5,4.4,3.9,1.1,3.5,2.4,4.5,3.1,4.3,4.7,1.5,2.7,3.9,2.5,2.4,2.3,4.4,1.5,1.7,1.1,4.1,1.1,1.9,2.9,3.7,1.1,3.7,1.2,4.2,4.8,2.0,4.3,4.8,3.3,1.6,2.4,2.9,3.8,3.0,3.5,4.1,3.1,1.0,4.3,2.2,3.4,3.2,3.7,1.9,2.2,1.1,2.0,1.3,1.9,2.2,1.1,2.8,2.6,1.9,4.0,3.2,4.2,1.8,1.9,1.3,3.1,3.8,2.4,1.6,1.6,1.2,1.7,1.5,2.6,2.1,4.8,2.2,3.4,3.9,4.4,1.5,4.5,3.7,1.7,4.1,4.7,2.9,2.2,4.0,2.2,4.3,4.4,4.9,1.1,3.4,4.5,1.5,4.4,3.8,3.0,1.4,3.9,4.5,3.5,4.9,2.1,1.4,4.5,3.5,4.3,3.6,2.4,1.4,3.0,4.9,1.1,3.6,4.9,4.1,2.0,4.3,1.1,1.2,2.6,4.3,4.0,4.6,4.8,1.4,3.7,3.3,1.3,1.2,3.5,2.2,4.3,1.6,3.8,3.8,1.5,1.9,1.1,4.1,4.4,1.9,5.0,3.7,3.4,2.8,1.1,1.3,4.6,4.2,3.2,4.7,4.4,4.9,3.3,4.1,3.1,5.0,2.4,4.8,4.9,1.8,3.7,4.5,2.1,1.7,3.6,1.1,3.2,4.4,2.9,1.7,3.8,2.9,4.4,3.4,2.4,2.3],\"y0\":\" \",\"yaxis\":\"y\",\"type\":\"box\"}],                        {\"template\":{\"data\":{\"histogram2dcontour\":[{\"type\":\"histogram2dcontour\",\"colorbar\":{\"outlinewidth\":0,\"ticks\":\"\"},\"colorscale\":[[0.0,\"#0d0887\"],[0.1111111111111111,\"#46039f\"],[0.2222222222222222,\"#7201a8\"],[0.3333333333333333,\"#9c179e\"],[0.4444444444444444,\"#bd3786\"],[0.5555555555555556,\"#d8576b\"],[0.6666666666666666,\"#ed7953\"],[0.7777777777777778,\"#fb9f3a\"],[0.8888888888888888,\"#fdca26\"],[1.0,\"#f0f921\"]]}],\"choropleth\":[{\"type\":\"choropleth\",\"colorbar\":{\"outlinewidth\":0,\"ticks\":\"\"}}],\"histogram2d\":[{\"type\":\"histogram2d\",\"colorbar\":{\"outlinewidth\":0,\"ticks\":\"\"},\"colorscale\":[[0.0,\"#0d0887\"],[0.1111111111111111,\"#46039f\"],[0.2222222222222222,\"#7201a8\"],[0.3333333333333333,\"#9c179e\"],[0.4444444444444444,\"#bd3786\"],[0.5555555555555556,\"#d8576b\"],[0.6666666666666666,\"#ed7953\"],[0.7777777777777778,\"#fb9f3a\"],[0.8888888888888888,\"#fdca26\"],[1.0,\"#f0f921\"]]}],\"heatmap\":[{\"type\":\"heatmap\",\"colorbar\":{\"outlinewidth\":0,\"ticks\":\"\"},\"colorscale\":[[0.0,\"#0d0887\"],[0.1111111111111111,\"#46039f\"],[0.2222222222222222,\"#7201a8\"],[0.3333333333333333,\"#9c179e\"],[0.4444444444444444,\"#bd3786\"],[0.5555555555555556,\"#d8576b\"],[0.6666666666666666,\"#ed7953\"],[0.7777777777777778,\"#fb9f3a\"],[0.8888888888888888,\"#fdca26\"],[1.0,\"#f0f921\"]]}],\"heatmapgl\":[{\"type\":\"heatmapgl\",\"colorbar\":{\"outlinewidth\":0,\"ticks\":\"\"},\"colorscale\":[[0.0,\"#0d0887\"],[0.1111111111111111,\"#46039f\"],[0.2222222222222222,\"#7201a8\"],[0.3333333333333333,\"#9c179e\"],[0.4444444444444444,\"#bd3786\"],[0.5555555555555556,\"#d8576b\"],[0.6666666666666666,\"#ed7953\"],[0.7777777777777778,\"#fb9f3a\"],[0.8888888888888888,\"#fdca26\"],[1.0,\"#f0f921\"]]}],\"contourcarpet\":[{\"type\":\"contourcarpet\",\"colorbar\":{\"outlinewidth\":0,\"ticks\":\"\"}}],\"contour\":[{\"type\":\"contour\",\"colorbar\":{\"outlinewidth\":0,\"ticks\":\"\"},\"colorscale\":[[0.0,\"#0d0887\"],[0.1111111111111111,\"#46039f\"],[0.2222222222222222,\"#7201a8\"],[0.3333333333333333,\"#9c179e\"],[0.4444444444444444,\"#bd3786\"],[0.5555555555555556,\"#d8576b\"],[0.6666666666666666,\"#ed7953\"],[0.7777777777777778,\"#fb9f3a\"],[0.8888888888888888,\"#fdca26\"],[1.0,\"#f0f921\"]]}],\"surface\":[{\"type\":\"surface\",\"colorbar\":{\"outlinewidth\":0,\"ticks\":\"\"},\"colorscale\":[[0.0,\"#0d0887\"],[0.1111111111111111,\"#46039f\"],[0.2222222222222222,\"#7201a8\"],[0.3333333333333333,\"#9c179e\"],[0.4444444444444444,\"#bd3786\"],[0.5555555555555556,\"#d8576b\"],[0.6666666666666666,\"#ed7953\"],[0.7777777777777778,\"#fb9f3a\"],[0.8888888888888888,\"#fdca26\"],[1.0,\"#f0f921\"]]}],\"mesh3d\":[{\"type\":\"mesh3d\",\"colorbar\":{\"outlinewidth\":0,\"ticks\":\"\"}}],\"scatter\":[{\"fillpattern\":{\"fillmode\":\"overlay\",\"size\":10,\"solidity\":0.2},\"type\":\"scatter\"}],\"parcoords\":[{\"type\":\"parcoords\",\"line\":{\"colorbar\":{\"outlinewidth\":0,\"ticks\":\"\"}}}],\"scatterpolargl\":[{\"type\":\"scatterpolargl\",\"marker\":{\"colorbar\":{\"outlinewidth\":0,\"ticks\":\"\"}}}],\"bar\":[{\"error_x\":{\"color\":\"#2a3f5f\"},\"error_y\":{\"color\":\"#2a3f5f\"},\"marker\":{\"line\":{\"color\":\"#E5ECF6\",\"width\":0.5},\"pattern\":{\"fillmode\":\"overlay\",\"size\":10,\"solidity\":0.2}},\"type\":\"bar\"}],\"scattergeo\":[{\"type\":\"scattergeo\",\"marker\":{\"colorbar\":{\"outlinewidth\":0,\"ticks\":\"\"}}}],\"scatterpolar\":[{\"type\":\"scatterpolar\",\"marker\":{\"colorbar\":{\"outlinewidth\":0,\"ticks\":\"\"}}}],\"histogram\":[{\"marker\":{\"pattern\":{\"fillmode\":\"overlay\",\"size\":10,\"solidity\":0.2}},\"type\":\"histogram\"}],\"scattergl\":[{\"type\":\"scattergl\",\"marker\":{\"colorbar\":{\"outlinewidth\":0,\"ticks\":\"\"}}}],\"scatter3d\":[{\"type\":\"scatter3d\",\"line\":{\"colorbar\":{\"outlinewidth\":0,\"ticks\":\"\"}},\"marker\":{\"colorbar\":{\"outlinewidth\":0,\"ticks\":\"\"}}}],\"scattermapbox\":[{\"type\":\"scattermapbox\",\"marker\":{\"colorbar\":{\"outlinewidth\":0,\"ticks\":\"\"}}}],\"scatterternary\":[{\"type\":\"scatterternary\",\"marker\":{\"colorbar\":{\"outlinewidth\":0,\"ticks\":\"\"}}}],\"scattercarpet\":[{\"type\":\"scattercarpet\",\"marker\":{\"colorbar\":{\"outlinewidth\":0,\"ticks\":\"\"}}}],\"carpet\":[{\"aaxis\":{\"endlinecolor\":\"#2a3f5f\",\"gridcolor\":\"white\",\"linecolor\":\"white\",\"minorgridcolor\":\"white\",\"startlinecolor\":\"#2a3f5f\"},\"baxis\":{\"endlinecolor\":\"#2a3f5f\",\"gridcolor\":\"white\",\"linecolor\":\"white\",\"minorgridcolor\":\"white\",\"startlinecolor\":\"#2a3f5f\"},\"type\":\"carpet\"}],\"table\":[{\"cells\":{\"fill\":{\"color\":\"#EBF0F8\"},\"line\":{\"color\":\"white\"}},\"header\":{\"fill\":{\"color\":\"#C8D4E3\"},\"line\":{\"color\":\"white\"}},\"type\":\"table\"}],\"barpolar\":[{\"marker\":{\"line\":{\"color\":\"#E5ECF6\",\"width\":0.5},\"pattern\":{\"fillmode\":\"overlay\",\"size\":10,\"solidity\":0.2}},\"type\":\"barpolar\"}],\"pie\":[{\"automargin\":true,\"type\":\"pie\"}]},\"layout\":{\"autotypenumbers\":\"strict\",\"colorway\":[\"#636efa\",\"#EF553B\",\"#00cc96\",\"#ab63fa\",\"#FFA15A\",\"#19d3f3\",\"#FF6692\",\"#B6E880\",\"#FF97FF\",\"#FECB52\"],\"font\":{\"color\":\"#2a3f5f\"},\"hovermode\":\"closest\",\"hoverlabel\":{\"align\":\"left\"},\"paper_bgcolor\":\"white\",\"plot_bgcolor\":\"#E5ECF6\",\"polar\":{\"bgcolor\":\"#E5ECF6\",\"angularaxis\":{\"gridcolor\":\"white\",\"linecolor\":\"white\",\"ticks\":\"\"},\"radialaxis\":{\"gridcolor\":\"white\",\"linecolor\":\"white\",\"ticks\":\"\"}},\"ternary\":{\"bgcolor\":\"#E5ECF6\",\"aaxis\":{\"gridcolor\":\"white\",\"linecolor\":\"white\",\"ticks\":\"\"},\"baxis\":{\"gridcolor\":\"white\",\"linecolor\":\"white\",\"ticks\":\"\"},\"caxis\":{\"gridcolor\":\"white\",\"linecolor\":\"white\",\"ticks\":\"\"}},\"coloraxis\":{\"colorbar\":{\"outlinewidth\":0,\"ticks\":\"\"}},\"colorscale\":{\"sequential\":[[0.0,\"#0d0887\"],[0.1111111111111111,\"#46039f\"],[0.2222222222222222,\"#7201a8\"],[0.3333333333333333,\"#9c179e\"],[0.4444444444444444,\"#bd3786\"],[0.5555555555555556,\"#d8576b\"],[0.6666666666666666,\"#ed7953\"],[0.7777777777777778,\"#fb9f3a\"],[0.8888888888888888,\"#fdca26\"],[1.0,\"#f0f921\"]],\"sequentialminus\":[[0.0,\"#0d0887\"],[0.1111111111111111,\"#46039f\"],[0.2222222222222222,\"#7201a8\"],[0.3333333333333333,\"#9c179e\"],[0.4444444444444444,\"#bd3786\"],[0.5555555555555556,\"#d8576b\"],[0.6666666666666666,\"#ed7953\"],[0.7777777777777778,\"#fb9f3a\"],[0.8888888888888888,\"#fdca26\"],[1.0,\"#f0f921\"]],\"diverging\":[[0,\"#8e0152\"],[0.1,\"#c51b7d\"],[0.2,\"#de77ae\"],[0.3,\"#f1b6da\"],[0.4,\"#fde0ef\"],[0.5,\"#f7f7f7\"],[0.6,\"#e6f5d0\"],[0.7,\"#b8e186\"],[0.8,\"#7fbc41\"],[0.9,\"#4d9221\"],[1,\"#276419\"]]},\"xaxis\":{\"gridcolor\":\"white\",\"linecolor\":\"white\",\"ticks\":\"\",\"title\":{\"standoff\":15},\"zerolinecolor\":\"white\",\"automargin\":true,\"zerolinewidth\":2},\"yaxis\":{\"gridcolor\":\"white\",\"linecolor\":\"white\",\"ticks\":\"\",\"title\":{\"standoff\":15},\"zerolinecolor\":\"white\",\"automargin\":true,\"zerolinewidth\":2},\"scene\":{\"xaxis\":{\"backgroundcolor\":\"#E5ECF6\",\"gridcolor\":\"white\",\"linecolor\":\"white\",\"showbackground\":true,\"ticks\":\"\",\"zerolinecolor\":\"white\",\"gridwidth\":2},\"yaxis\":{\"backgroundcolor\":\"#E5ECF6\",\"gridcolor\":\"white\",\"linecolor\":\"white\",\"showbackground\":true,\"ticks\":\"\",\"zerolinecolor\":\"white\",\"gridwidth\":2},\"zaxis\":{\"backgroundcolor\":\"#E5ECF6\",\"gridcolor\":\"white\",\"linecolor\":\"white\",\"showbackground\":true,\"ticks\":\"\",\"zerolinecolor\":\"white\",\"gridwidth\":2}},\"shapedefaults\":{\"line\":{\"color\":\"#2a3f5f\"}},\"annotationdefaults\":{\"arrowcolor\":\"#2a3f5f\",\"arrowhead\":0,\"arrowwidth\":1},\"geo\":{\"bgcolor\":\"white\",\"landcolor\":\"#E5ECF6\",\"subunitcolor\":\"white\",\"showland\":true,\"showlakes\":true,\"lakecolor\":\"white\"},\"title\":{\"x\":0.05},\"mapbox\":{\"style\":\"light\"}}},\"xaxis\":{\"anchor\":\"y\",\"domain\":[0.0,1.0]},\"yaxis\":{\"anchor\":\"x\",\"domain\":[0.0,1.0],\"title\":{\"text\":\"Customer rating\"}},\"legend\":{\"tracegroupgap\":0},\"margin\":{\"t\":60},\"boxmode\":\"group\"},                        {\"responsive\": true}                    ).then(function(){\n",
       "                            \n",
       "var gd = document.getElementById('d15909e2-bb15-4349-b37d-880cf23bf04b');\n",
       "var x = new MutationObserver(function (mutations, observer) {{\n",
       "        var display = window.getComputedStyle(gd).display;\n",
       "        if (!display || display === 'none') {{\n",
       "            console.log([gd, 'removed!']);\n",
       "            Plotly.purge(gd);\n",
       "            observer.disconnect();\n",
       "        }}\n",
       "}});\n",
       "\n",
       "// Listen for the removal of the full notebook cells\n",
       "var notebookContainer = gd.closest('#notebook-container');\n",
       "if (notebookContainer) {{\n",
       "    x.observe(notebookContainer, {childList: true});\n",
       "}}\n",
       "\n",
       "// Listen for the clearing of the current output cell\n",
       "var outputEl = gd.closest('.output');\n",
       "if (outputEl) {{\n",
       "    x.observe(outputEl, {childList: true});\n",
       "}}\n",
       "\n",
       "                        })                };                });            </script>        </div>"
      ]
     },
     "metadata": {},
     "output_type": "display_data"
    },
    {
     "data": {
      "application/vnd.plotly.v1+json": {
       "config": {
        "plotlyServerURL": "https://plot.ly"
       },
       "data": [
        {
         "alignmentgroup": "True",
         "hovertemplate": "Is_Allergen=%{y}<extra></extra>",
         "legendgroup": "",
         "marker": {
          "color": "#636efa"
         },
         "name": "",
         "notched": false,
         "offsetgroup": "",
         "orientation": "v",
         "showlegend": false,
         "type": "box",
         "x0": " ",
         "xaxis": "x",
         "y": [
          "Contains",
          "Contains",
          "Contains",
          "Contains",
          "Contains",
          "Contains",
          "Contains",
          "Contains",
          "Contains",
          "Contains",
          "Contains",
          "Contains",
          "Contains",
          "Contains",
          "Contains",
          "Contains",
          "Contains",
          "Contains",
          "Contains",
          "Contains",
          "Contains",
          "Contains",
          "Contains",
          "Contains",
          "Contains",
          "Contains",
          "Contains",
          "Contains",
          "Contains",
          "Contains",
          "Contains",
          "Contains",
          "Contains",
          "Contains",
          "Contains",
          "Contains",
          "Contains",
          "Contains",
          "Contains",
          "Contains",
          "Contains",
          "Contains",
          "Contains",
          "Contains",
          "Contains",
          "Contains",
          "Contains",
          "Contains",
          "Contains",
          "Contains",
          "Contains",
          "Contains",
          "Contains",
          "Contains",
          "Contains",
          "Contains",
          "Contains",
          "Contains",
          "Contains",
          "Contains",
          "Contains",
          "Contains",
          "Contains",
          "Contains",
          "Contains",
          "Contains",
          "Contains",
          "Contains",
          "Contains",
          "Contains",
          "Contains",
          "Contains",
          "Contains",
          "Contains",
          "Contains",
          "Contains",
          "Contains",
          "Contains",
          "Contains",
          "Contains",
          "Contains",
          "Contains",
          "Contains",
          "Contains",
          "Contains",
          "Contains",
          "Contains",
          "Contains",
          "Contains",
          "Contains",
          "Contains",
          "Contains",
          "Contains",
          "Contains",
          "Contains",
          "Contains",
          "Contains",
          "Contains",
          "Contains",
          "Contains",
          "Contains",
          "Contains",
          "Contains",
          "Contains",
          "Contains",
          "Contains",
          "Contains",
          "Contains",
          "Contains",
          "Contains",
          "Contains",
          "Contains",
          "Contains",
          "Contains",
          "Contains",
          "Contains",
          "Contains",
          "Contains",
          "Contains",
          "Contains",
          "Contains",
          "Contains",
          "Contains",
          "Contains",
          "Contains",
          "Contains",
          "Contains",
          "Does not contain",
          "Does not contain",
          "Does not contain",
          "Does not contain",
          "Does not contain",
          "Does not contain",
          "Contains",
          "Contains",
          "Contains",
          "Does not contain",
          "Does not contain",
          "Does not contain",
          "Does not contain",
          "Does not contain",
          "Does not contain",
          "Does not contain",
          "Does not contain",
          "Does not contain",
          "Does not contain",
          "Does not contain",
          "Does not contain",
          "Does not contain",
          "Does not contain",
          "Does not contain",
          "Does not contain",
          "Does not contain",
          "Does not contain",
          "Does not contain",
          "Does not contain",
          "Does not contain",
          "Does not contain",
          "Does not contain",
          "Does not contain",
          "Does not contain",
          "Does not contain",
          "Does not contain",
          "Does not contain",
          "Does not contain",
          "Does not contain",
          "Does not contain",
          "Does not contain",
          "Does not contain",
          "Does not contain",
          "Does not contain",
          "Does not contain",
          "Does not contain",
          "Does not contain",
          "Does not contain",
          "Does not contain",
          "Does not contain",
          "Does not contain",
          "Does not contain",
          "Does not contain",
          "Does not contain",
          "Does not contain",
          "Does not contain",
          "Does not contain",
          "Does not contain",
          "Does not contain",
          "Does not contain",
          "Does not contain",
          "Does not contain",
          "Does not contain",
          "Does not contain",
          "Does not contain",
          "Does not contain",
          "Does not contain",
          "Does not contain",
          "Does not contain",
          "Does not contain",
          "Does not contain",
          "Does not contain",
          "Does not contain",
          "Does not contain",
          "Does not contain",
          "Does not contain",
          "Does not contain",
          "Does not contain",
          "Does not contain",
          "Does not contain",
          "Does not contain",
          "Does not contain",
          "Does not contain",
          "Does not contain",
          "Does not contain",
          "Does not contain",
          "Does not contain",
          "Does not contain",
          "Does not contain",
          "Does not contain",
          "Does not contain",
          "Does not contain",
          "Does not contain",
          "Does not contain",
          "Does not contain",
          "Does not contain",
          "Does not contain",
          "Does not contain",
          "Does not contain",
          "Does not contain",
          "Does not contain",
          "Does not contain",
          "Does not contain",
          "Does not contain",
          "Does not contain",
          "Does not contain",
          "Does not contain",
          "Does not contain",
          "Does not contain",
          "Does not contain",
          "Does not contain",
          "Does not contain",
          "Does not contain",
          "Does not contain",
          "Does not contain",
          "Does not contain",
          "Does not contain",
          "Does not contain",
          "Does not contain",
          "Does not contain",
          "Does not contain",
          "Does not contain",
          "Does not contain",
          "Does not contain",
          "Does not contain",
          "Does not contain",
          "Does not contain",
          "Does not contain",
          "Does not contain",
          "Does not contain",
          "Contains",
          "Does not contain",
          "Does not contain",
          "Does not contain",
          "Does not contain",
          "Contains",
          "Does not contain",
          "Does not contain",
          "Does not contain",
          "Does not contain",
          "Does not contain",
          "Does not contain",
          "Does not contain",
          "Does not contain",
          "Does not contain",
          "Does not contain",
          "Does not contain",
          "Does not contain",
          "Contains",
          "Contains",
          "Contains",
          "Contains",
          "Contains",
          "Contains",
          "Contains",
          "Contains",
          "Contains",
          "Contains",
          "Contains",
          "Contains",
          "Contains",
          "Contains",
          "Contains",
          "Contains",
          "Contains",
          "Contains",
          "Contains",
          "Contains",
          "Contains",
          "Contains",
          "Contains",
          "Contains",
          "Contains",
          "Contains",
          "Contains",
          "Contains",
          "Contains",
          "Contains",
          "Contains",
          "Contains",
          "Contains",
          "Contains",
          "Contains",
          "Contains",
          "Contains",
          "Contains",
          "Contains",
          "Contains",
          "Contains",
          "Contains",
          "Contains",
          "Contains",
          "Contains",
          "Contains",
          "Contains",
          "Contains",
          "Contains",
          "Contains",
          "Contains",
          "Contains",
          "Contains",
          "Contains",
          "Contains",
          "Contains",
          "Contains",
          "Contains",
          "Contains",
          "Contains",
          "Contains",
          "Contains",
          "Contains",
          null,
          "Contains",
          "Contains",
          "Contains",
          "Contains",
          "Contains",
          "Contains",
          "Contains",
          "Contains",
          "Contains",
          "Contains",
          "Contains",
          "Contains",
          "Contains",
          "Contains",
          "Contains",
          "Contains",
          "Contains",
          "Contains",
          "Contains",
          "Contains",
          "Contains",
          "Contains",
          "Contains",
          "Contains",
          "Contains",
          "Contains",
          "Contains",
          "Contains",
          "Contains",
          "Contains",
          "Contains",
          "Contains",
          "Contains",
          "Contains",
          "Contains",
          "Contains",
          "Contains",
          "Contains",
          "Contains",
          "Contains",
          "Contains",
          "Contains",
          "Contains",
          "Contains",
          "Contains",
          "Contains",
          "Contains",
          "Contains",
          "Contains",
          "Contains",
          "Contains",
          "Contains",
          "Contains",
          "Contains",
          "Contains",
          "Contains",
          "Contains",
          "Contains",
          "Contains",
          "Contains"
         ],
         "y0": " ",
         "yaxis": "y"
        }
       ],
       "layout": {
        "autosize": true,
        "boxmode": "group",
        "legend": {
         "tracegroupgap": 0
        },
        "margin": {
         "t": 60
        },
        "template": {
         "data": {
          "bar": [
           {
            "error_x": {
             "color": "#2a3f5f"
            },
            "error_y": {
             "color": "#2a3f5f"
            },
            "marker": {
             "line": {
              "color": "#E5ECF6",
              "width": 0.5
             },
             "pattern": {
              "fillmode": "overlay",
              "size": 10,
              "solidity": 0.2
             }
            },
            "type": "bar"
           }
          ],
          "barpolar": [
           {
            "marker": {
             "line": {
              "color": "#E5ECF6",
              "width": 0.5
             },
             "pattern": {
              "fillmode": "overlay",
              "size": 10,
              "solidity": 0.2
             }
            },
            "type": "barpolar"
           }
          ],
          "carpet": [
           {
            "aaxis": {
             "endlinecolor": "#2a3f5f",
             "gridcolor": "white",
             "linecolor": "white",
             "minorgridcolor": "white",
             "startlinecolor": "#2a3f5f"
            },
            "baxis": {
             "endlinecolor": "#2a3f5f",
             "gridcolor": "white",
             "linecolor": "white",
             "minorgridcolor": "white",
             "startlinecolor": "#2a3f5f"
            },
            "type": "carpet"
           }
          ],
          "choropleth": [
           {
            "colorbar": {
             "outlinewidth": 0,
             "ticks": ""
            },
            "type": "choropleth"
           }
          ],
          "contour": [
           {
            "colorbar": {
             "outlinewidth": 0,
             "ticks": ""
            },
            "colorscale": [
             [
              0,
              "#0d0887"
             ],
             [
              0.1111111111111111,
              "#46039f"
             ],
             [
              0.2222222222222222,
              "#7201a8"
             ],
             [
              0.3333333333333333,
              "#9c179e"
             ],
             [
              0.4444444444444444,
              "#bd3786"
             ],
             [
              0.5555555555555556,
              "#d8576b"
             ],
             [
              0.6666666666666666,
              "#ed7953"
             ],
             [
              0.7777777777777778,
              "#fb9f3a"
             ],
             [
              0.8888888888888888,
              "#fdca26"
             ],
             [
              1,
              "#f0f921"
             ]
            ],
            "type": "contour"
           }
          ],
          "contourcarpet": [
           {
            "colorbar": {
             "outlinewidth": 0,
             "ticks": ""
            },
            "type": "contourcarpet"
           }
          ],
          "heatmap": [
           {
            "colorbar": {
             "outlinewidth": 0,
             "ticks": ""
            },
            "colorscale": [
             [
              0,
              "#0d0887"
             ],
             [
              0.1111111111111111,
              "#46039f"
             ],
             [
              0.2222222222222222,
              "#7201a8"
             ],
             [
              0.3333333333333333,
              "#9c179e"
             ],
             [
              0.4444444444444444,
              "#bd3786"
             ],
             [
              0.5555555555555556,
              "#d8576b"
             ],
             [
              0.6666666666666666,
              "#ed7953"
             ],
             [
              0.7777777777777778,
              "#fb9f3a"
             ],
             [
              0.8888888888888888,
              "#fdca26"
             ],
             [
              1,
              "#f0f921"
             ]
            ],
            "type": "heatmap"
           }
          ],
          "heatmapgl": [
           {
            "colorbar": {
             "outlinewidth": 0,
             "ticks": ""
            },
            "colorscale": [
             [
              0,
              "#0d0887"
             ],
             [
              0.1111111111111111,
              "#46039f"
             ],
             [
              0.2222222222222222,
              "#7201a8"
             ],
             [
              0.3333333333333333,
              "#9c179e"
             ],
             [
              0.4444444444444444,
              "#bd3786"
             ],
             [
              0.5555555555555556,
              "#d8576b"
             ],
             [
              0.6666666666666666,
              "#ed7953"
             ],
             [
              0.7777777777777778,
              "#fb9f3a"
             ],
             [
              0.8888888888888888,
              "#fdca26"
             ],
             [
              1,
              "#f0f921"
             ]
            ],
            "type": "heatmapgl"
           }
          ],
          "histogram": [
           {
            "marker": {
             "pattern": {
              "fillmode": "overlay",
              "size": 10,
              "solidity": 0.2
             }
            },
            "type": "histogram"
           }
          ],
          "histogram2d": [
           {
            "colorbar": {
             "outlinewidth": 0,
             "ticks": ""
            },
            "colorscale": [
             [
              0,
              "#0d0887"
             ],
             [
              0.1111111111111111,
              "#46039f"
             ],
             [
              0.2222222222222222,
              "#7201a8"
             ],
             [
              0.3333333333333333,
              "#9c179e"
             ],
             [
              0.4444444444444444,
              "#bd3786"
             ],
             [
              0.5555555555555556,
              "#d8576b"
             ],
             [
              0.6666666666666666,
              "#ed7953"
             ],
             [
              0.7777777777777778,
              "#fb9f3a"
             ],
             [
              0.8888888888888888,
              "#fdca26"
             ],
             [
              1,
              "#f0f921"
             ]
            ],
            "type": "histogram2d"
           }
          ],
          "histogram2dcontour": [
           {
            "colorbar": {
             "outlinewidth": 0,
             "ticks": ""
            },
            "colorscale": [
             [
              0,
              "#0d0887"
             ],
             [
              0.1111111111111111,
              "#46039f"
             ],
             [
              0.2222222222222222,
              "#7201a8"
             ],
             [
              0.3333333333333333,
              "#9c179e"
             ],
             [
              0.4444444444444444,
              "#bd3786"
             ],
             [
              0.5555555555555556,
              "#d8576b"
             ],
             [
              0.6666666666666666,
              "#ed7953"
             ],
             [
              0.7777777777777778,
              "#fb9f3a"
             ],
             [
              0.8888888888888888,
              "#fdca26"
             ],
             [
              1,
              "#f0f921"
             ]
            ],
            "type": "histogram2dcontour"
           }
          ],
          "mesh3d": [
           {
            "colorbar": {
             "outlinewidth": 0,
             "ticks": ""
            },
            "type": "mesh3d"
           }
          ],
          "parcoords": [
           {
            "line": {
             "colorbar": {
              "outlinewidth": 0,
              "ticks": ""
             }
            },
            "type": "parcoords"
           }
          ],
          "pie": [
           {
            "automargin": true,
            "type": "pie"
           }
          ],
          "scatter": [
           {
            "fillpattern": {
             "fillmode": "overlay",
             "size": 10,
             "solidity": 0.2
            },
            "type": "scatter"
           }
          ],
          "scatter3d": [
           {
            "line": {
             "colorbar": {
              "outlinewidth": 0,
              "ticks": ""
             }
            },
            "marker": {
             "colorbar": {
              "outlinewidth": 0,
              "ticks": ""
             }
            },
            "type": "scatter3d"
           }
          ],
          "scattercarpet": [
           {
            "marker": {
             "colorbar": {
              "outlinewidth": 0,
              "ticks": ""
             }
            },
            "type": "scattercarpet"
           }
          ],
          "scattergeo": [
           {
            "marker": {
             "colorbar": {
              "outlinewidth": 0,
              "ticks": ""
             }
            },
            "type": "scattergeo"
           }
          ],
          "scattergl": [
           {
            "marker": {
             "colorbar": {
              "outlinewidth": 0,
              "ticks": ""
             }
            },
            "type": "scattergl"
           }
          ],
          "scattermapbox": [
           {
            "marker": {
             "colorbar": {
              "outlinewidth": 0,
              "ticks": ""
             }
            },
            "type": "scattermapbox"
           }
          ],
          "scatterpolar": [
           {
            "marker": {
             "colorbar": {
              "outlinewidth": 0,
              "ticks": ""
             }
            },
            "type": "scatterpolar"
           }
          ],
          "scatterpolargl": [
           {
            "marker": {
             "colorbar": {
              "outlinewidth": 0,
              "ticks": ""
             }
            },
            "type": "scatterpolargl"
           }
          ],
          "scatterternary": [
           {
            "marker": {
             "colorbar": {
              "outlinewidth": 0,
              "ticks": ""
             }
            },
            "type": "scatterternary"
           }
          ],
          "surface": [
           {
            "colorbar": {
             "outlinewidth": 0,
             "ticks": ""
            },
            "colorscale": [
             [
              0,
              "#0d0887"
             ],
             [
              0.1111111111111111,
              "#46039f"
             ],
             [
              0.2222222222222222,
              "#7201a8"
             ],
             [
              0.3333333333333333,
              "#9c179e"
             ],
             [
              0.4444444444444444,
              "#bd3786"
             ],
             [
              0.5555555555555556,
              "#d8576b"
             ],
             [
              0.6666666666666666,
              "#ed7953"
             ],
             [
              0.7777777777777778,
              "#fb9f3a"
             ],
             [
              0.8888888888888888,
              "#fdca26"
             ],
             [
              1,
              "#f0f921"
             ]
            ],
            "type": "surface"
           }
          ],
          "table": [
           {
            "cells": {
             "fill": {
              "color": "#EBF0F8"
             },
             "line": {
              "color": "white"
             }
            },
            "header": {
             "fill": {
              "color": "#C8D4E3"
             },
             "line": {
              "color": "white"
             }
            },
            "type": "table"
           }
          ]
         },
         "layout": {
          "annotationdefaults": {
           "arrowcolor": "#2a3f5f",
           "arrowhead": 0,
           "arrowwidth": 1
          },
          "autotypenumbers": "strict",
          "coloraxis": {
           "colorbar": {
            "outlinewidth": 0,
            "ticks": ""
           }
          },
          "colorscale": {
           "diverging": [
            [
             0,
             "#8e0152"
            ],
            [
             0.1,
             "#c51b7d"
            ],
            [
             0.2,
             "#de77ae"
            ],
            [
             0.3,
             "#f1b6da"
            ],
            [
             0.4,
             "#fde0ef"
            ],
            [
             0.5,
             "#f7f7f7"
            ],
            [
             0.6,
             "#e6f5d0"
            ],
            [
             0.7,
             "#b8e186"
            ],
            [
             0.8,
             "#7fbc41"
            ],
            [
             0.9,
             "#4d9221"
            ],
            [
             1,
             "#276419"
            ]
           ],
           "sequential": [
            [
             0,
             "#0d0887"
            ],
            [
             0.1111111111111111,
             "#46039f"
            ],
            [
             0.2222222222222222,
             "#7201a8"
            ],
            [
             0.3333333333333333,
             "#9c179e"
            ],
            [
             0.4444444444444444,
             "#bd3786"
            ],
            [
             0.5555555555555556,
             "#d8576b"
            ],
            [
             0.6666666666666666,
             "#ed7953"
            ],
            [
             0.7777777777777778,
             "#fb9f3a"
            ],
            [
             0.8888888888888888,
             "#fdca26"
            ],
            [
             1,
             "#f0f921"
            ]
           ],
           "sequentialminus": [
            [
             0,
             "#0d0887"
            ],
            [
             0.1111111111111111,
             "#46039f"
            ],
            [
             0.2222222222222222,
             "#7201a8"
            ],
            [
             0.3333333333333333,
             "#9c179e"
            ],
            [
             0.4444444444444444,
             "#bd3786"
            ],
            [
             0.5555555555555556,
             "#d8576b"
            ],
            [
             0.6666666666666666,
             "#ed7953"
            ],
            [
             0.7777777777777778,
             "#fb9f3a"
            ],
            [
             0.8888888888888888,
             "#fdca26"
            ],
            [
             1,
             "#f0f921"
            ]
           ]
          },
          "colorway": [
           "#636efa",
           "#EF553B",
           "#00cc96",
           "#ab63fa",
           "#FFA15A",
           "#19d3f3",
           "#FF6692",
           "#B6E880",
           "#FF97FF",
           "#FECB52"
          ],
          "font": {
           "color": "#2a3f5f"
          },
          "geo": {
           "bgcolor": "white",
           "lakecolor": "white",
           "landcolor": "#E5ECF6",
           "showlakes": true,
           "showland": true,
           "subunitcolor": "white"
          },
          "hoverlabel": {
           "align": "left"
          },
          "hovermode": "closest",
          "mapbox": {
           "style": "light"
          },
          "paper_bgcolor": "white",
          "plot_bgcolor": "#E5ECF6",
          "polar": {
           "angularaxis": {
            "gridcolor": "white",
            "linecolor": "white",
            "ticks": ""
           },
           "bgcolor": "#E5ECF6",
           "radialaxis": {
            "gridcolor": "white",
            "linecolor": "white",
            "ticks": ""
           }
          },
          "scene": {
           "xaxis": {
            "backgroundcolor": "#E5ECF6",
            "gridcolor": "white",
            "gridwidth": 2,
            "linecolor": "white",
            "showbackground": true,
            "ticks": "",
            "zerolinecolor": "white"
           },
           "yaxis": {
            "backgroundcolor": "#E5ECF6",
            "gridcolor": "white",
            "gridwidth": 2,
            "linecolor": "white",
            "showbackground": true,
            "ticks": "",
            "zerolinecolor": "white"
           },
           "zaxis": {
            "backgroundcolor": "#E5ECF6",
            "gridcolor": "white",
            "gridwidth": 2,
            "linecolor": "white",
            "showbackground": true,
            "ticks": "",
            "zerolinecolor": "white"
           }
          },
          "shapedefaults": {
           "line": {
            "color": "#2a3f5f"
           }
          },
          "ternary": {
           "aaxis": {
            "gridcolor": "white",
            "linecolor": "white",
            "ticks": ""
           },
           "baxis": {
            "gridcolor": "white",
            "linecolor": "white",
            "ticks": ""
           },
           "bgcolor": "#E5ECF6",
           "caxis": {
            "gridcolor": "white",
            "linecolor": "white",
            "ticks": ""
           }
          },
          "title": {
           "x": 0.05
          },
          "xaxis": {
           "automargin": true,
           "gridcolor": "white",
           "linecolor": "white",
           "ticks": "",
           "title": {
            "standoff": 15
           },
           "zerolinecolor": "white",
           "zerolinewidth": 2
          },
          "yaxis": {
           "automargin": true,
           "gridcolor": "white",
           "linecolor": "white",
           "ticks": "",
           "title": {
            "standoff": 15
           },
           "zerolinecolor": "white",
           "zerolinewidth": 2
          }
         }
        },
        "xaxis": {
         "anchor": "y",
         "autorange": true,
         "domain": [
          0,
          1
         ],
         "range": [
          -0.5,
          0.5
         ],
         "type": "category"
        },
        "yaxis": {
         "anchor": "x",
         "autorange": true,
         "domain": [
          0,
          1
         ],
         "range": [
          -0.05555555555555556,
          1.0555555555555556
         ],
         "title": {
          "text": "Is_Allergen"
         },
         "type": "category"
        }
       }
      },
      "image/png": "[encoded data removed]",
      "text/html": [
       "<div>                            <div id=\"7562ebf7-17a0-4f0c-bf9b-cc9497a173c1\" class=\"plotly-graph-div\" style=\"height:525px; width:100%;\"></div>            <script type=\"text/javascript\">                require([\"plotly\"], function(Plotly) {                    window.PLOTLYENV=window.PLOTLYENV || {};                                    if (document.getElementById(\"7562ebf7-17a0-4f0c-bf9b-cc9497a173c1\")) {                    Plotly.newPlot(                        \"7562ebf7-17a0-4f0c-bf9b-cc9497a173c1\",                        [{\"alignmentgroup\":\"True\",\"hovertemplate\":\"Is_Allergen=%{y}\\u003cextra\\u003e\\u003c\\u002fextra\\u003e\",\"legendgroup\":\"\",\"marker\":{\"color\":\"#636efa\"},\"name\":\"\",\"notched\":false,\"offsetgroup\":\"\",\"orientation\":\"v\",\"showlegend\":false,\"x0\":\" \",\"xaxis\":\"x\",\"y\":[\"Contains\",\"Contains\",\"Contains\",\"Contains\",\"Contains\",\"Contains\",\"Contains\",\"Contains\",\"Contains\",\"Contains\",\"Contains\",\"Contains\",\"Contains\",\"Contains\",\"Contains\",\"Contains\",\"Contains\",\"Contains\",\"Contains\",\"Contains\",\"Contains\",\"Contains\",\"Contains\",\"Contains\",\"Contains\",\"Contains\",\"Contains\",\"Contains\",\"Contains\",\"Contains\",\"Contains\",\"Contains\",\"Contains\",\"Contains\",\"Contains\",\"Contains\",\"Contains\",\"Contains\",\"Contains\",\"Contains\",\"Contains\",\"Contains\",\"Contains\",\"Contains\",\"Contains\",\"Contains\",\"Contains\",\"Contains\",\"Contains\",\"Contains\",\"Contains\",\"Contains\",\"Contains\",\"Contains\",\"Contains\",\"Contains\",\"Contains\",\"Contains\",\"Contains\",\"Contains\",\"Contains\",\"Contains\",\"Contains\",\"Contains\",\"Contains\",\"Contains\",\"Contains\",\"Contains\",\"Contains\",\"Contains\",\"Contains\",\"Contains\",\"Contains\",\"Contains\",\"Contains\",\"Contains\",\"Contains\",\"Contains\",\"Contains\",\"Contains\",\"Contains\",\"Contains\",\"Contains\",\"Contains\",\"Contains\",\"Contains\",\"Contains\",\"Contains\",\"Contains\",\"Contains\",\"Contains\",\"Contains\",\"Contains\",\"Contains\",\"Contains\",\"Contains\",\"Contains\",\"Contains\",\"Contains\",\"Contains\",\"Contains\",\"Contains\",\"Contains\",\"Contains\",\"Contains\",\"Contains\",\"Contains\",\"Contains\",\"Contains\",\"Contains\",\"Contains\",\"Contains\",\"Contains\",\"Contains\",\"Contains\",\"Contains\",\"Contains\",\"Contains\",\"Contains\",\"Contains\",\"Contains\",\"Contains\",\"Contains\",\"Contains\",\"Contains\",\"Contains\",\"Contains\",\"Does not contain\",\"Does not contain\",\"Does not contain\",\"Does not contain\",\"Does not contain\",\"Does not contain\",\"Contains\",\"Contains\",\"Contains\",\"Does not contain\",\"Does not contain\",\"Does not contain\",\"Does not contain\",\"Does not contain\",\"Does not contain\",\"Does not contain\",\"Does not contain\",\"Does not contain\",\"Does not contain\",\"Does not contain\",\"Does not contain\",\"Does not contain\",\"Does not contain\",\"Does not contain\",\"Does not contain\",\"Does not contain\",\"Does not contain\",\"Does not contain\",\"Does not contain\",\"Does not contain\",\"Does not contain\",\"Does not contain\",\"Does not contain\",\"Does not contain\",\"Does not contain\",\"Does not contain\",\"Does not contain\",\"Does not contain\",\"Does not contain\",\"Does not contain\",\"Does not contain\",\"Does not contain\",\"Does not contain\",\"Does not contain\",\"Does not contain\",\"Does not contain\",\"Does not contain\",\"Does not contain\",\"Does not contain\",\"Does not contain\",\"Does not contain\",\"Does not contain\",\"Does not contain\",\"Does not contain\",\"Does not contain\",\"Does not contain\",\"Does not contain\",\"Does not contain\",\"Does not contain\",\"Does not contain\",\"Does not contain\",\"Does not contain\",\"Does not contain\",\"Does not contain\",\"Does not contain\",\"Does not contain\",\"Does not contain\",\"Does not contain\",\"Does not contain\",\"Does not contain\",\"Does not contain\",\"Does not contain\",\"Does not contain\",\"Does not contain\",\"Does not contain\",\"Does not contain\",\"Does not contain\",\"Does not contain\",\"Does not contain\",\"Does not contain\",\"Does not contain\",\"Does not contain\",\"Does not contain\",\"Does not contain\",\"Does not contain\",\"Does not contain\",\"Does not contain\",\"Does not contain\",\"Does not contain\",\"Does not contain\",\"Does not contain\",\"Does not contain\",\"Does not contain\",\"Does not contain\",\"Does not contain\",\"Does not contain\",\"Does not contain\",\"Does not contain\",\"Does not contain\",\"Does not contain\",\"Does not contain\",\"Does not contain\",\"Does not contain\",\"Does not contain\",\"Does not contain\",\"Does not contain\",\"Does not contain\",\"Does not contain\",\"Does not contain\",\"Does not contain\",\"Does not contain\",\"Does not contain\",\"Does not contain\",\"Does not contain\",\"Does not contain\",\"Does not contain\",\"Does not contain\",\"Does not contain\",\"Does not contain\",\"Does not contain\",\"Does not contain\",\"Does not contain\",\"Does not contain\",\"Does not contain\",\"Does not contain\",\"Does not contain\",\"Does not contain\",\"Does not contain\",\"Does not contain\",\"Does not contain\",\"Contains\",\"Does not contain\",\"Does not contain\",\"Does not contain\",\"Does not contain\",\"Contains\",\"Does not contain\",\"Does not contain\",\"Does not contain\",\"Does not contain\",\"Does not contain\",\"Does not contain\",\"Does not contain\",\"Does not contain\",\"Does not contain\",\"Does not contain\",\"Does not contain\",\"Does not contain\",\"Contains\",\"Contains\",\"Contains\",\"Contains\",\"Contains\",\"Contains\",\"Contains\",\"Contains\",\"Contains\",\"Contains\",\"Contains\",\"Contains\",\"Contains\",\"Contains\",\"Contains\",\"Contains\",\"Contains\",\"Contains\",\"Contains\",\"Contains\",\"Contains\",\"Contains\",\"Contains\",\"Contains\",\"Contains\",\"Contains\",\"Contains\",\"Contains\",\"Contains\",\"Contains\",\"Contains\",\"Contains\",\"Contains\",\"Contains\",\"Contains\",\"Contains\",\"Contains\",\"Contains\",\"Contains\",\"Contains\",\"Contains\",\"Contains\",\"Contains\",\"Contains\",\"Contains\",\"Contains\",\"Contains\",\"Contains\",\"Contains\",\"Contains\",\"Contains\",\"Contains\",\"Contains\",\"Contains\",\"Contains\",\"Contains\",\"Contains\",\"Contains\",\"Contains\",\"Contains\",\"Contains\",\"Contains\",\"Contains\",null,\"Contains\",\"Contains\",\"Contains\",\"Contains\",\"Contains\",\"Contains\",\"Contains\",\"Contains\",\"Contains\",\"Contains\",\"Contains\",\"Contains\",\"Contains\",\"Contains\",\"Contains\",\"Contains\",\"Contains\",\"Contains\",\"Contains\",\"Contains\",\"Contains\",\"Contains\",\"Contains\",\"Contains\",\"Contains\",\"Contains\",\"Contains\",\"Contains\",\"Contains\",\"Contains\",\"Contains\",\"Contains\",\"Contains\",\"Contains\",\"Contains\",\"Contains\",\"Contains\",\"Contains\",\"Contains\",\"Contains\",\"Contains\",\"Contains\",\"Contains\",\"Contains\",\"Contains\",\"Contains\",\"Contains\",\"Contains\",\"Contains\",\"Contains\",\"Contains\",\"Contains\",\"Contains\",\"Contains\",\"Contains\",\"Contains\",\"Contains\",\"Contains\",\"Contains\",\"Contains\"],\"y0\":\" \",\"yaxis\":\"y\",\"type\":\"box\"}],                        {\"template\":{\"data\":{\"histogram2dcontour\":[{\"type\":\"histogram2dcontour\",\"colorbar\":{\"outlinewidth\":0,\"ticks\":\"\"},\"colorscale\":[[0.0,\"#0d0887\"],[0.1111111111111111,\"#46039f\"],[0.2222222222222222,\"#7201a8\"],[0.3333333333333333,\"#9c179e\"],[0.4444444444444444,\"#bd3786\"],[0.5555555555555556,\"#d8576b\"],[0.6666666666666666,\"#ed7953\"],[0.7777777777777778,\"#fb9f3a\"],[0.8888888888888888,\"#fdca26\"],[1.0,\"#f0f921\"]]}],\"choropleth\":[{\"type\":\"choropleth\",\"colorbar\":{\"outlinewidth\":0,\"ticks\":\"\"}}],\"histogram2d\":[{\"type\":\"histogram2d\",\"colorbar\":{\"outlinewidth\":0,\"ticks\":\"\"},\"colorscale\":[[0.0,\"#0d0887\"],[0.1111111111111111,\"#46039f\"],[0.2222222222222222,\"#7201a8\"],[0.3333333333333333,\"#9c179e\"],[0.4444444444444444,\"#bd3786\"],[0.5555555555555556,\"#d8576b\"],[0.6666666666666666,\"#ed7953\"],[0.7777777777777778,\"#fb9f3a\"],[0.8888888888888888,\"#fdca26\"],[1.0,\"#f0f921\"]]}],\"heatmap\":[{\"type\":\"heatmap\",\"colorbar\":{\"outlinewidth\":0,\"ticks\":\"\"},\"colorscale\":[[0.0,\"#0d0887\"],[0.1111111111111111,\"#46039f\"],[0.2222222222222222,\"#7201a8\"],[0.3333333333333333,\"#9c179e\"],[0.4444444444444444,\"#bd3786\"],[0.5555555555555556,\"#d8576b\"],[0.6666666666666666,\"#ed7953\"],[0.7777777777777778,\"#fb9f3a\"],[0.8888888888888888,\"#fdca26\"],[1.0,\"#f0f921\"]]}],\"heatmapgl\":[{\"type\":\"heatmapgl\",\"colorbar\":{\"outlinewidth\":0,\"ticks\":\"\"},\"colorscale\":[[0.0,\"#0d0887\"],[0.1111111111111111,\"#46039f\"],[0.2222222222222222,\"#7201a8\"],[0.3333333333333333,\"#9c179e\"],[0.4444444444444444,\"#bd3786\"],[0.5555555555555556,\"#d8576b\"],[0.6666666666666666,\"#ed7953\"],[0.7777777777777778,\"#fb9f3a\"],[0.8888888888888888,\"#fdca26\"],[1.0,\"#f0f921\"]]}],\"contourcarpet\":[{\"type\":\"contourcarpet\",\"colorbar\":{\"outlinewidth\":0,\"ticks\":\"\"}}],\"contour\":[{\"type\":\"contour\",\"colorbar\":{\"outlinewidth\":0,\"ticks\":\"\"},\"colorscale\":[[0.0,\"#0d0887\"],[0.1111111111111111,\"#46039f\"],[0.2222222222222222,\"#7201a8\"],[0.3333333333333333,\"#9c179e\"],[0.4444444444444444,\"#bd3786\"],[0.5555555555555556,\"#d8576b\"],[0.6666666666666666,\"#ed7953\"],[0.7777777777777778,\"#fb9f3a\"],[0.8888888888888888,\"#fdca26\"],[1.0,\"#f0f921\"]]}],\"surface\":[{\"type\":\"surface\",\"colorbar\":{\"outlinewidth\":0,\"ticks\":\"\"},\"colorscale\":[[0.0,\"#0d0887\"],[0.1111111111111111,\"#46039f\"],[0.2222222222222222,\"#7201a8\"],[0.3333333333333333,\"#9c179e\"],[0.4444444444444444,\"#bd3786\"],[0.5555555555555556,\"#d8576b\"],[0.6666666666666666,\"#ed7953\"],[0.7777777777777778,\"#fb9f3a\"],[0.8888888888888888,\"#fdca26\"],[1.0,\"#f0f921\"]]}],\"mesh3d\":[{\"type\":\"mesh3d\",\"colorbar\":{\"outlinewidth\":0,\"ticks\":\"\"}}],\"scatter\":[{\"fillpattern\":{\"fillmode\":\"overlay\",\"size\":10,\"solidity\":0.2},\"type\":\"scatter\"}],\"parcoords\":[{\"type\":\"parcoords\",\"line\":{\"colorbar\":{\"outlinewidth\":0,\"ticks\":\"\"}}}],\"scatterpolargl\":[{\"type\":\"scatterpolargl\",\"marker\":{\"colorbar\":{\"outlinewidth\":0,\"ticks\":\"\"}}}],\"bar\":[{\"error_x\":{\"color\":\"#2a3f5f\"},\"error_y\":{\"color\":\"#2a3f5f\"},\"marker\":{\"line\":{\"color\":\"#E5ECF6\",\"width\":0.5},\"pattern\":{\"fillmode\":\"overlay\",\"size\":10,\"solidity\":0.2}},\"type\":\"bar\"}],\"scattergeo\":[{\"type\":\"scattergeo\",\"marker\":{\"colorbar\":{\"outlinewidth\":0,\"ticks\":\"\"}}}],\"scatterpolar\":[{\"type\":\"scatterpolar\",\"marker\":{\"colorbar\":{\"outlinewidth\":0,\"ticks\":\"\"}}}],\"histogram\":[{\"marker\":{\"pattern\":{\"fillmode\":\"overlay\",\"size\":10,\"solidity\":0.2}},\"type\":\"histogram\"}],\"scattergl\":[{\"type\":\"scattergl\",\"marker\":{\"colorbar\":{\"outlinewidth\":0,\"ticks\":\"\"}}}],\"scatter3d\":[{\"type\":\"scatter3d\",\"line\":{\"colorbar\":{\"outlinewidth\":0,\"ticks\":\"\"}},\"marker\":{\"colorbar\":{\"outlinewidth\":0,\"ticks\":\"\"}}}],\"scattermapbox\":[{\"type\":\"scattermapbox\",\"marker\":{\"colorbar\":{\"outlinewidth\":0,\"ticks\":\"\"}}}],\"scatterternary\":[{\"type\":\"scatterternary\",\"marker\":{\"colorbar\":{\"outlinewidth\":0,\"ticks\":\"\"}}}],\"scattercarpet\":[{\"type\":\"scattercarpet\",\"marker\":{\"colorbar\":{\"outlinewidth\":0,\"ticks\":\"\"}}}],\"carpet\":[{\"aaxis\":{\"endlinecolor\":\"#2a3f5f\",\"gridcolor\":\"white\",\"linecolor\":\"white\",\"minorgridcolor\":\"white\",\"startlinecolor\":\"#2a3f5f\"},\"baxis\":{\"endlinecolor\":\"#2a3f5f\",\"gridcolor\":\"white\",\"linecolor\":\"white\",\"minorgridcolor\":\"white\",\"startlinecolor\":\"#2a3f5f\"},\"type\":\"carpet\"}],\"table\":[{\"cells\":{\"fill\":{\"color\":\"#EBF0F8\"},\"line\":{\"color\":\"white\"}},\"header\":{\"fill\":{\"color\":\"#C8D4E3\"},\"line\":{\"color\":\"white\"}},\"type\":\"table\"}],\"barpolar\":[{\"marker\":{\"line\":{\"color\":\"#E5ECF6\",\"width\":0.5},\"pattern\":{\"fillmode\":\"overlay\",\"size\":10,\"solidity\":0.2}},\"type\":\"barpolar\"}],\"pie\":[{\"automargin\":true,\"type\":\"pie\"}]},\"layout\":{\"autotypenumbers\":\"strict\",\"colorway\":[\"#636efa\",\"#EF553B\",\"#00cc96\",\"#ab63fa\",\"#FFA15A\",\"#19d3f3\",\"#FF6692\",\"#B6E880\",\"#FF97FF\",\"#FECB52\"],\"font\":{\"color\":\"#2a3f5f\"},\"hovermode\":\"closest\",\"hoverlabel\":{\"align\":\"left\"},\"paper_bgcolor\":\"white\",\"plot_bgcolor\":\"#E5ECF6\",\"polar\":{\"bgcolor\":\"#E5ECF6\",\"angularaxis\":{\"gridcolor\":\"white\",\"linecolor\":\"white\",\"ticks\":\"\"},\"radialaxis\":{\"gridcolor\":\"white\",\"linecolor\":\"white\",\"ticks\":\"\"}},\"ternary\":{\"bgcolor\":\"#E5ECF6\",\"aaxis\":{\"gridcolor\":\"white\",\"linecolor\":\"white\",\"ticks\":\"\"},\"baxis\":{\"gridcolor\":\"white\",\"linecolor\":\"white\",\"ticks\":\"\"},\"caxis\":{\"gridcolor\":\"white\",\"linecolor\":\"white\",\"ticks\":\"\"}},\"coloraxis\":{\"colorbar\":{\"outlinewidth\":0,\"ticks\":\"\"}},\"colorscale\":{\"sequential\":[[0.0,\"#0d0887\"],[0.1111111111111111,\"#46039f\"],[0.2222222222222222,\"#7201a8\"],[0.3333333333333333,\"#9c179e\"],[0.4444444444444444,\"#bd3786\"],[0.5555555555555556,\"#d8576b\"],[0.6666666666666666,\"#ed7953\"],[0.7777777777777778,\"#fb9f3a\"],[0.8888888888888888,\"#fdca26\"],[1.0,\"#f0f921\"]],\"sequentialminus\":[[0.0,\"#0d0887\"],[0.1111111111111111,\"#46039f\"],[0.2222222222222222,\"#7201a8\"],[0.3333333333333333,\"#9c179e\"],[0.4444444444444444,\"#bd3786\"],[0.5555555555555556,\"#d8576b\"],[0.6666666666666666,\"#ed7953\"],[0.7777777777777778,\"#fb9f3a\"],[0.8888888888888888,\"#fdca26\"],[1.0,\"#f0f921\"]],\"diverging\":[[0,\"#8e0152\"],[0.1,\"#c51b7d\"],[0.2,\"#de77ae\"],[0.3,\"#f1b6da\"],[0.4,\"#fde0ef\"],[0.5,\"#f7f7f7\"],[0.6,\"#e6f5d0\"],[0.7,\"#b8e186\"],[0.8,\"#7fbc41\"],[0.9,\"#4d9221\"],[1,\"#276419\"]]},\"xaxis\":{\"gridcolor\":\"white\",\"linecolor\":\"white\",\"ticks\":\"\",\"title\":{\"standoff\":15},\"zerolinecolor\":\"white\",\"automargin\":true,\"zerolinewidth\":2},\"yaxis\":{\"gridcolor\":\"white\",\"linecolor\":\"white\",\"ticks\":\"\",\"title\":{\"standoff\":15},\"zerolinecolor\":\"white\",\"automargin\":true,\"zerolinewidth\":2},\"scene\":{\"xaxis\":{\"backgroundcolor\":\"#E5ECF6\",\"gridcolor\":\"white\",\"linecolor\":\"white\",\"showbackground\":true,\"ticks\":\"\",\"zerolinecolor\":\"white\",\"gridwidth\":2},\"yaxis\":{\"backgroundcolor\":\"#E5ECF6\",\"gridcolor\":\"white\",\"linecolor\":\"white\",\"showbackground\":true,\"ticks\":\"\",\"zerolinecolor\":\"white\",\"gridwidth\":2},\"zaxis\":{\"backgroundcolor\":\"#E5ECF6\",\"gridcolor\":\"white\",\"linecolor\":\"white\",\"showbackground\":true,\"ticks\":\"\",\"zerolinecolor\":\"white\",\"gridwidth\":2}},\"shapedefaults\":{\"line\":{\"color\":\"#2a3f5f\"}},\"annotationdefaults\":{\"arrowcolor\":\"#2a3f5f\",\"arrowhead\":0,\"arrowwidth\":1},\"geo\":{\"bgcolor\":\"white\",\"landcolor\":\"#E5ECF6\",\"subunitcolor\":\"white\",\"showland\":true,\"showlakes\":true,\"lakecolor\":\"white\"},\"title\":{\"x\":0.05},\"mapbox\":{\"style\":\"light\"}}},\"xaxis\":{\"anchor\":\"y\",\"domain\":[0.0,1.0]},\"yaxis\":{\"anchor\":\"x\",\"domain\":[0.0,1.0],\"title\":{\"text\":\"Is_Allergen\"}},\"legend\":{\"tracegroupgap\":0},\"margin\":{\"t\":60},\"boxmode\":\"group\"},                        {\"responsive\": true}                    ).then(function(){\n",
       "                            \n",
       "var gd = document.getElementById('7562ebf7-17a0-4f0c-bf9b-cc9497a173c1');\n",
       "var x = new MutationObserver(function (mutations, observer) {{\n",
       "        var display = window.getComputedStyle(gd).display;\n",
       "        if (!display || display === 'none') {{\n",
       "            console.log([gd, 'removed!']);\n",
       "            Plotly.purge(gd);\n",
       "            observer.disconnect();\n",
       "        }}\n",
       "}});\n",
       "\n",
       "// Listen for the removal of the full notebook cells\n",
       "var notebookContainer = gd.closest('#notebook-container');\n",
       "if (notebookContainer) {{\n",
       "    x.observe(notebookContainer, {childList: true});\n",
       "}}\n",
       "\n",
       "// Listen for the clearing of the current output cell\n",
       "var outputEl = gd.closest('.output');\n",
       "if (outputEl) {{\n",
       "    x.observe(outputEl, {childList: true});\n",
       "}}\n",
       "\n",
       "                        })                };                });            </script>        </div>"
      ]
     },
     "metadata": {},
     "output_type": "display_data"
    }
   ],
   "source": [
    "for i in range(0, len(numerical)):\n",
    "    fig = px.box(df, y=numerical[i])\n",
    "    fig.show()"
   ]
  },
  {
   "cell_type": "markdown",
   "id": "8986ecb9-6978-4fc0-b56e-d910ee933620",
   "metadata": {},
   "source": [
    "# Preprocessing the Dataset"
   ]
  },
  {
   "cell_type": "markdown",
   "id": "2bb46625-c625-46ea-aebf-5703c948c74d",
   "metadata": {},
   "source": [
    "# Handling Null Values in the Dataset"
   ]
  },
  {
   "cell_type": "code",
   "execution_count": 1,
   "id": "2ee2f28f-f737-4c61-8db2-12697e56d9b4",
   "metadata": {},
   "outputs": [
    {
     "ename": "NameError",
     "evalue": "name 'df' is not defined",
     "output_type": "error",
     "traceback": [
      "\u001b[0;31m---------------------------------------------------------------------------\u001b[0m",
      "\u001b[0;31mNameError\u001b[0m                                 Traceback (most recent call last)",
      "Cell \u001b[0;32mIn[1], line 1\u001b[0m\n\u001b[0;32m----> 1\u001b[0m df\u001b[38;5;241m.\u001b[39misnull()\u001b[38;5;241m.\u001b[39msum()\n",
      "\u001b[0;31mNameError\u001b[0m: name 'df' is not defined"
     ]
    }
   ],
   "source": [
    "df.isnull().sum()"
   ]
  },
  {
   "cell_type": "code",
   "execution_count": 108,
   "id": "b7c45586-d7ef-4e00-8eeb-759415b30545",
   "metadata": {},
   "outputs": [],
   "source": [
    "df.dropna(axis = 0, inplace = True)"
   ]
  },
  {
   "cell_type": "markdown",
   "id": "e730a3dc-ee3f-4550-accf-d3da8cae9aab",
   "metadata": {},
   "source": [
    "# Duplicates in the Dataset"
   ]
  },
  {
   "cell_type": "code",
   "execution_count": 109,
   "id": "80155f84-60f7-42a1-a331-9dc2319d9861",
   "metadata": {},
   "outputs": [
    {
     "name": "stdout",
     "output_type": "stream",
     "text": [
      "Empty DataFrame\n",
      "Columns: [Food Product, Main Ingredient, Sweetener, Fat/Oil, Seasoning, Allergens, Price ($), Customer rating, Is_Allergen]\n",
      "Index: []\n"
     ]
    }
   ],
   "source": [
    "# Identify duplicate rows in the entire dataset\n",
    "duplicates = df.duplicated()\n",
    "print(df[duplicates])"
   ]
  },
  {
   "cell_type": "markdown",
   "id": "740b51c2-db28-4b1c-9624-e9b3622df2e9",
   "metadata": {},
   "source": [
    "# Visualizing Outliers"
   ]
  },
  {
   "cell_type": "code",
   "execution_count": 110,
   "id": "63dac7f5-3c14-4b03-a58d-92678f0d1a30",
   "metadata": {},
   "outputs": [
    {
     "data": {
      "image/png": "[encoded data removed]",
      "text/plain": [
       "<Figure size 1200x1000 with 4 Axes>"
      ]
     },
     "metadata": {},
     "output_type": "display_data"
    }
   ],
   "source": [
    "# Visualize Outliers using Box plot and Scatter plot\n",
    "fig, axes = plt.subplots(2, 2, figsize=(12, 10))\n",
    "\n",
    "# Box plot for 'Income'\n",
    "sns.boxplot(data=df['Customer rating'], ax=axes[0, 0], color='lightblue')\n",
    "axes[0, 0].set_title('Box Plot - Customer rating')\n",
    "\n",
    "# Box plot for 'PurchaseAmount'\n",
    "sns.boxplot(data=df['Price ($)'], ax=axes[0, 1], color='lightgreen')\n",
    "axes[0, 1].set_title('Box Plot - Price ($)')\n",
    "\n",
    "# Scatter plot for 'Income'\n",
    "sns.scatterplot(x=df.index, y=df['Customer rating'], ax=axes[1, 0], color='blue')\n",
    "axes[1, 0].set_title('Scatter Plot - Customer rating')\n",
    "\n",
    "# Scatter plot for 'PurchaseAmount'\n",
    "sns.scatterplot(x=df.index, y=df['Price ($)'], ax=axes[1, 1], color='green')\n",
    "axes[1, 1].set_title('Scatter Plot - Price ($)')\n",
    "\n",
    "plt.tight_layout()\n",
    "plt.show()"
   ]
  },
  {
   "cell_type": "code",
   "execution_count": 111,
   "id": "72bf30aa-8548-428e-960f-77a2bc6572b2",
   "metadata": {},
   "outputs": [
    {
     "data": {
      "text/html": [
       "<div>\n",
       "<style scoped>\n",
       "    .dataframe tbody tr th:only-of-type {\n",
       "        vertical-align: middle;\n",
       "    }\n",
       "\n",
       "    .dataframe tbody tr th {\n",
       "        vertical-align: top;\n",
       "    }\n",
       "\n",
       "    .dataframe thead th {\n",
       "        text-align: right;\n",
       "    }\n",
       "</style>\n",
       "<table border=\"1\" class=\"dataframe\">\n",
       "  <thead>\n",
       "    <tr style=\"text-align: right;\">\n",
       "      <th></th>\n",
       "      <th>Food Product</th>\n",
       "      <th>Main Ingredient</th>\n",
       "      <th>Sweetener</th>\n",
       "      <th>Fat/Oil</th>\n",
       "      <th>Seasoning</th>\n",
       "      <th>Allergens</th>\n",
       "      <th>Price ($)</th>\n",
       "      <th>Customer rating</th>\n",
       "      <th>Is_Allergen</th>\n",
       "    </tr>\n",
       "  </thead>\n",
       "  <tbody>\n",
       "    <tr>\n",
       "      <th>0</th>\n",
       "      <td>Almond Cookies</td>\n",
       "      <td>Almonds</td>\n",
       "      <td>Sugar</td>\n",
       "      <td>Butter</td>\n",
       "      <td>Flour</td>\n",
       "      <td>Almonds, Wheat, Dairy</td>\n",
       "      <td>10.15</td>\n",
       "      <td>3.1</td>\n",
       "      <td>Contains</td>\n",
       "    </tr>\n",
       "    <tr>\n",
       "      <th>1</th>\n",
       "      <td>Almond Cookies</td>\n",
       "      <td>Almonds</td>\n",
       "      <td>Sugar</td>\n",
       "      <td>Butter</td>\n",
       "      <td>Flour</td>\n",
       "      <td>Almonds, Wheat, Dairy</td>\n",
       "      <td>6.17</td>\n",
       "      <td>4.5</td>\n",
       "      <td>Contains</td>\n",
       "    </tr>\n",
       "    <tr>\n",
       "      <th>2</th>\n",
       "      <td>Chicken Noodle Soup</td>\n",
       "      <td>Chicken broth</td>\n",
       "      <td>None</td>\n",
       "      <td>None</td>\n",
       "      <td>Salt</td>\n",
       "      <td>Chicken, Wheat, Celery</td>\n",
       "      <td>19.65</td>\n",
       "      <td>4.1</td>\n",
       "      <td>Contains</td>\n",
       "    </tr>\n",
       "    <tr>\n",
       "      <th>3</th>\n",
       "      <td>Chicken Noodle Soup</td>\n",
       "      <td>Chicken broth</td>\n",
       "      <td>None</td>\n",
       "      <td>None</td>\n",
       "      <td>Salt</td>\n",
       "      <td>Chicken, Wheat, Celery</td>\n",
       "      <td>17.48</td>\n",
       "      <td>4.7</td>\n",
       "      <td>Contains</td>\n",
       "    </tr>\n",
       "    <tr>\n",
       "      <th>4</th>\n",
       "      <td>Cheddar Cheese</td>\n",
       "      <td>Cheese</td>\n",
       "      <td>None</td>\n",
       "      <td>None</td>\n",
       "      <td>Salt</td>\n",
       "      <td>Dairy</td>\n",
       "      <td>10.83</td>\n",
       "      <td>3.7</td>\n",
       "      <td>Contains</td>\n",
       "    </tr>\n",
       "  </tbody>\n",
       "</table>\n",
       "</div>"
      ],
      "text/plain": [
       "          Food Product Main Ingredient Sweetener Fat/Oil Seasoning  \\\n",
       "0       Almond Cookies         Almonds     Sugar  Butter     Flour   \n",
       "1       Almond Cookies         Almonds     Sugar  Butter     Flour   \n",
       "2  Chicken Noodle Soup   Chicken broth      None    None      Salt   \n",
       "3  Chicken Noodle Soup   Chicken broth      None    None      Salt   \n",
       "4       Cheddar Cheese          Cheese      None    None      Salt   \n",
       "\n",
       "                Allergens  Price ($)  Customer rating Is_Allergen  \n",
       "0   Almonds, Wheat, Dairy      10.15              3.1    Contains  \n",
       "1   Almonds, Wheat, Dairy       6.17              4.5    Contains  \n",
       "2  Chicken, Wheat, Celery      19.65              4.1    Contains  \n",
       "3  Chicken, Wheat, Celery      17.48              4.7    Contains  \n",
       "4                   Dairy      10.83              3.7    Contains  "
      ]
     },
     "execution_count": 111,
     "metadata": {},
     "output_type": "execute_result"
    }
   ],
   "source": [
    "df.head()"
   ]
  },
  {
   "cell_type": "markdown",
   "id": "83a4515e-0b8a-4f74-ba01-246e7dc9132d",
   "metadata": {},
   "source": [
    "# Label Encoding for Is_Allergen"
   ]
  },
  {
   "cell_type": "code",
   "execution_count": 112,
   "id": "cc8dfd29-9673-4f61-ae64-559fd9e95c71",
   "metadata": {},
   "outputs": [],
   "source": [
    "#Label Encoding for Is_Allergen\n",
    "label_encoder = LabelEncoder()\n",
    "df['Is_Allergen'] = label_encoder.fit_transform(df['Is_Allergen'])"
   ]
  },
  {
   "cell_type": "code",
   "execution_count": 113,
   "id": "3c016d9a-7fa9-4919-ac87-1d03e3ba2b6e",
   "metadata": {},
   "outputs": [
    {
     "data": {
      "text/html": [
       "<div>\n",
       "<style scoped>\n",
       "    .dataframe tbody tr th:only-of-type {\n",
       "        vertical-align: middle;\n",
       "    }\n",
       "\n",
       "    .dataframe tbody tr th {\n",
       "        vertical-align: top;\n",
       "    }\n",
       "\n",
       "    .dataframe thead th {\n",
       "        text-align: right;\n",
       "    }\n",
       "</style>\n",
       "<table border=\"1\" class=\"dataframe\">\n",
       "  <thead>\n",
       "    <tr style=\"text-align: right;\">\n",
       "      <th></th>\n",
       "      <th>Food Product</th>\n",
       "      <th>Main Ingredient</th>\n",
       "      <th>Sweetener</th>\n",
       "      <th>Fat/Oil</th>\n",
       "      <th>Seasoning</th>\n",
       "      <th>Allergens</th>\n",
       "      <th>Price ($)</th>\n",
       "      <th>Customer rating</th>\n",
       "      <th>Is_Allergen</th>\n",
       "    </tr>\n",
       "  </thead>\n",
       "  <tbody>\n",
       "    <tr>\n",
       "      <th>0</th>\n",
       "      <td>Almond Cookies</td>\n",
       "      <td>Almonds</td>\n",
       "      <td>Sugar</td>\n",
       "      <td>Butter</td>\n",
       "      <td>Flour</td>\n",
       "      <td>Almonds, Wheat, Dairy</td>\n",
       "      <td>10.15</td>\n",
       "      <td>3.1</td>\n",
       "      <td>0</td>\n",
       "    </tr>\n",
       "    <tr>\n",
       "      <th>1</th>\n",
       "      <td>Almond Cookies</td>\n",
       "      <td>Almonds</td>\n",
       "      <td>Sugar</td>\n",
       "      <td>Butter</td>\n",
       "      <td>Flour</td>\n",
       "      <td>Almonds, Wheat, Dairy</td>\n",
       "      <td>6.17</td>\n",
       "      <td>4.5</td>\n",
       "      <td>0</td>\n",
       "    </tr>\n",
       "    <tr>\n",
       "      <th>2</th>\n",
       "      <td>Chicken Noodle Soup</td>\n",
       "      <td>Chicken broth</td>\n",
       "      <td>None</td>\n",
       "      <td>None</td>\n",
       "      <td>Salt</td>\n",
       "      <td>Chicken, Wheat, Celery</td>\n",
       "      <td>19.65</td>\n",
       "      <td>4.1</td>\n",
       "      <td>0</td>\n",
       "    </tr>\n",
       "    <tr>\n",
       "      <th>3</th>\n",
       "      <td>Chicken Noodle Soup</td>\n",
       "      <td>Chicken broth</td>\n",
       "      <td>None</td>\n",
       "      <td>None</td>\n",
       "      <td>Salt</td>\n",
       "      <td>Chicken, Wheat, Celery</td>\n",
       "      <td>17.48</td>\n",
       "      <td>4.7</td>\n",
       "      <td>0</td>\n",
       "    </tr>\n",
       "    <tr>\n",
       "      <th>4</th>\n",
       "      <td>Cheddar Cheese</td>\n",
       "      <td>Cheese</td>\n",
       "      <td>None</td>\n",
       "      <td>None</td>\n",
       "      <td>Salt</td>\n",
       "      <td>Dairy</td>\n",
       "      <td>10.83</td>\n",
       "      <td>3.7</td>\n",
       "      <td>0</td>\n",
       "    </tr>\n",
       "  </tbody>\n",
       "</table>\n",
       "</div>"
      ],
      "text/plain": [
       "          Food Product Main Ingredient Sweetener Fat/Oil Seasoning  \\\n",
       "0       Almond Cookies         Almonds     Sugar  Butter     Flour   \n",
       "1       Almond Cookies         Almonds     Sugar  Butter     Flour   \n",
       "2  Chicken Noodle Soup   Chicken broth      None    None      Salt   \n",
       "3  Chicken Noodle Soup   Chicken broth      None    None      Salt   \n",
       "4       Cheddar Cheese          Cheese      None    None      Salt   \n",
       "\n",
       "                Allergens  Price ($)  Customer rating  Is_Allergen  \n",
       "0   Almonds, Wheat, Dairy      10.15              3.1            0  \n",
       "1   Almonds, Wheat, Dairy       6.17              4.5            0  \n",
       "2  Chicken, Wheat, Celery      19.65              4.1            0  \n",
       "3  Chicken, Wheat, Celery      17.48              4.7            0  \n",
       "4                   Dairy      10.83              3.7            0  "
      ]
     },
     "execution_count": 113,
     "metadata": {},
     "output_type": "execute_result"
    }
   ],
   "source": [
    "df.head()"
   ]
  },
  {
   "cell_type": "markdown",
   "id": "e6be64ee-3030-4f78-85aa-f0a1290e81f8",
   "metadata": {},
   "source": [
    "# Leave-One-Out Encoding"
   ]
  },
  {
   "cell_type": "code",
   "execution_count": 124,
   "id": "51fd61c2-d263-4760-8b06-57a7e9974f5b",
   "metadata": {},
   "outputs": [],
   "source": [
    "# Columns to encode\n",
    "categorical_columns = df.select_dtypes(include=['object']).columns\n",
    "\n",
    "loo_encoder = LeaveOneOutEncoder(cols = categorical_columns)\n",
    "df_encoded = loo_encoder.fit_transform(df[categorical_columns], df['Price ($)'])\n",
    "\n",
    "df = pd.concat([df.drop(categorical_columns, axis = 1), df_encoded], axis=1)"
   ]
  },
  {
   "cell_type": "code",
   "execution_count": 125,
   "id": "cd003934-b3ee-45fe-ab6f-2042a34cec49",
   "metadata": {},
   "outputs": [
    {
     "data": {
      "text/html": [
       "<div>\n",
       "<style scoped>\n",
       "    .dataframe tbody tr th:only-of-type {\n",
       "        vertical-align: middle;\n",
       "    }\n",
       "\n",
       "    .dataframe tbody tr th {\n",
       "        vertical-align: top;\n",
       "    }\n",
       "\n",
       "    .dataframe thead th {\n",
       "        text-align: right;\n",
       "    }\n",
       "</style>\n",
       "<table border=\"1\" class=\"dataframe\">\n",
       "  <thead>\n",
       "    <tr style=\"text-align: right;\">\n",
       "      <th></th>\n",
       "      <th>Price ($)</th>\n",
       "      <th>Customer rating</th>\n",
       "      <th>Is_Allergen</th>\n",
       "      <th>Food Product</th>\n",
       "      <th>Main Ingredient</th>\n",
       "      <th>Sweetener</th>\n",
       "      <th>Fat/Oil</th>\n",
       "      <th>Seasoning</th>\n",
       "      <th>Allergens</th>\n",
       "    </tr>\n",
       "  </thead>\n",
       "  <tbody>\n",
       "    <tr>\n",
       "      <th>0</th>\n",
       "      <td>10.15</td>\n",
       "      <td>3.1</td>\n",
       "      <td>0</td>\n",
       "      <td>6.170000</td>\n",
       "      <td>6.170000</td>\n",
       "      <td>12.343736</td>\n",
       "      <td>12.471786</td>\n",
       "      <td>13.408000</td>\n",
       "      <td>6.170000</td>\n",
       "    </tr>\n",
       "    <tr>\n",
       "      <th>1</th>\n",
       "      <td>6.17</td>\n",
       "      <td>4.5</td>\n",
       "      <td>0</td>\n",
       "      <td>10.150000</td>\n",
       "      <td>10.150000</td>\n",
       "      <td>12.387473</td>\n",
       "      <td>12.519167</td>\n",
       "      <td>13.806000</td>\n",
       "      <td>10.150000</td>\n",
       "    </tr>\n",
       "    <tr>\n",
       "      <th>2</th>\n",
       "      <td>19.65</td>\n",
       "      <td>4.1</td>\n",
       "      <td>0</td>\n",
       "      <td>12.500000</td>\n",
       "      <td>17.480000</td>\n",
       "      <td>12.371511</td>\n",
       "      <td>12.031228</td>\n",
       "      <td>11.584000</td>\n",
       "      <td>17.480000</td>\n",
       "    </tr>\n",
       "    <tr>\n",
       "      <th>3</th>\n",
       "      <td>17.48</td>\n",
       "      <td>4.7</td>\n",
       "      <td>0</td>\n",
       "      <td>13.223333</td>\n",
       "      <td>19.650000</td>\n",
       "      <td>12.379317</td>\n",
       "      <td>12.069298</td>\n",
       "      <td>11.801000</td>\n",
       "      <td>19.650000</td>\n",
       "    </tr>\n",
       "    <tr>\n",
       "      <th>4</th>\n",
       "      <td>10.83</td>\n",
       "      <td>3.7</td>\n",
       "      <td>0</td>\n",
       "      <td>12.397588</td>\n",
       "      <td>17.925000</td>\n",
       "      <td>12.403237</td>\n",
       "      <td>12.185965</td>\n",
       "      <td>12.466000</td>\n",
       "      <td>12.072073</td>\n",
       "    </tr>\n",
       "    <tr>\n",
       "      <th>...</th>\n",
       "      <td>...</td>\n",
       "      <td>...</td>\n",
       "      <td>...</td>\n",
       "      <td>...</td>\n",
       "      <td>...</td>\n",
       "      <td>...</td>\n",
       "      <td>...</td>\n",
       "      <td>...</td>\n",
       "      <td>...</td>\n",
       "    </tr>\n",
       "    <tr>\n",
       "      <th>394</th>\n",
       "      <td>5.07</td>\n",
       "      <td>2.9</td>\n",
       "      <td>0</td>\n",
       "      <td>11.980000</td>\n",
       "      <td>12.120000</td>\n",
       "      <td>12.399560</td>\n",
       "      <td>12.532262</td>\n",
       "      <td>14.180000</td>\n",
       "      <td>14.180000</td>\n",
       "    </tr>\n",
       "    <tr>\n",
       "      <th>395</th>\n",
       "      <td>11.95</td>\n",
       "      <td>4.4</td>\n",
       "      <td>0</td>\n",
       "      <td>12.397588</td>\n",
       "      <td>12.397588</td>\n",
       "      <td>12.323956</td>\n",
       "      <td>12.450357</td>\n",
       "      <td>12.397588</td>\n",
       "      <td>14.250000</td>\n",
       "    </tr>\n",
       "    <tr>\n",
       "      <th>396</th>\n",
       "      <td>12.67</td>\n",
       "      <td>3.4</td>\n",
       "      <td>0</td>\n",
       "      <td>11.800000</td>\n",
       "      <td>12.796667</td>\n",
       "      <td>12.316044</td>\n",
       "      <td>12.441786</td>\n",
       "      <td>15.830000</td>\n",
       "      <td>13.890000</td>\n",
       "    </tr>\n",
       "    <tr>\n",
       "      <th>397</th>\n",
       "      <td>15.83</td>\n",
       "      <td>2.4</td>\n",
       "      <td>0</td>\n",
       "      <td>16.560000</td>\n",
       "      <td>14.556667</td>\n",
       "      <td>12.281319</td>\n",
       "      <td>12.404167</td>\n",
       "      <td>12.670000</td>\n",
       "      <td>12.310000</td>\n",
       "    </tr>\n",
       "    <tr>\n",
       "      <th>398</th>\n",
       "      <td>8.55</td>\n",
       "      <td>2.3</td>\n",
       "      <td>0</td>\n",
       "      <td>12.397588</td>\n",
       "      <td>15.645000</td>\n",
       "      <td>12.411439</td>\n",
       "      <td>12.225965</td>\n",
       "      <td>12.397588</td>\n",
       "      <td>12.397588</td>\n",
       "    </tr>\n",
       "  </tbody>\n",
       "</table>\n",
       "<p>398 rows × 9 columns</p>\n",
       "</div>"
      ],
      "text/plain": [
       "     Price ($)  Customer rating  Is_Allergen  Food Product  Main Ingredient  \\\n",
       "0        10.15              3.1            0      6.170000         6.170000   \n",
       "1         6.17              4.5            0     10.150000        10.150000   \n",
       "2        19.65              4.1            0     12.500000        17.480000   \n",
       "3        17.48              4.7            0     13.223333        19.650000   \n",
       "4        10.83              3.7            0     12.397588        17.925000   \n",
       "..         ...              ...          ...           ...              ...   \n",
       "394       5.07              2.9            0     11.980000        12.120000   \n",
       "395      11.95              4.4            0     12.397588        12.397588   \n",
       "396      12.67              3.4            0     11.800000        12.796667   \n",
       "397      15.83              2.4            0     16.560000        14.556667   \n",
       "398       8.55              2.3            0     12.397588        15.645000   \n",
       "\n",
       "     Sweetener    Fat/Oil  Seasoning  Allergens  \n",
       "0    12.343736  12.471786  13.408000   6.170000  \n",
       "1    12.387473  12.519167  13.806000  10.150000  \n",
       "2    12.371511  12.031228  11.584000  17.480000  \n",
       "3    12.379317  12.069298  11.801000  19.650000  \n",
       "4    12.403237  12.185965  12.466000  12.072073  \n",
       "..         ...        ...        ...        ...  \n",
       "394  12.399560  12.532262  14.180000  14.180000  \n",
       "395  12.323956  12.450357  12.397588  14.250000  \n",
       "396  12.316044  12.441786  15.830000  13.890000  \n",
       "397  12.281319  12.404167  12.670000  12.310000  \n",
       "398  12.411439  12.225965  12.397588  12.397588  \n",
       "\n",
       "[398 rows x 9 columns]"
      ]
     },
     "execution_count": 125,
     "metadata": {},
     "output_type": "execute_result"
    }
   ],
   "source": [
    "df"
   ]
  },
  {
   "cell_type": "code",
   "execution_count": 128,
   "id": "32325ce0-6d5b-45cf-818a-e02b6c63bc4a",
   "metadata": {},
   "outputs": [],
   "source": [
    "with open('../Model/leave_one_out_encoder.pkl', 'wb') as file:\n",
    "    pickle.dump(loo_encoder, file)"
   ]
  },
  {
   "cell_type": "markdown",
   "id": "75b757fa-e6a0-4a9f-a599-550e8163a729",
   "metadata": {},
   "source": [
    "# Saving the Processed Dataset"
   ]
  },
  {
   "cell_type": "code",
   "execution_count": 129,
   "id": "c57ea452-c9c4-44d2-8a4d-69cdec892578",
   "metadata": {},
   "outputs": [],
   "source": [
    "df.to_csv('../Dataset/preprocessed_data.csv', index=False)"
   ]
  },
  {
   "cell_type": "code",
   "execution_count": null,
   "id": "5475a4ec-3078-477f-85a9-ca25481a4099",
   "metadata": {},
   "outputs": [],
   "source": []
  }
 ],
 "metadata": {
  "kernelspec": {
   "display_name": "Python 3 (ipykernel)",
   "language": "python",
   "name": "python3"
  },
  "language_info": {
   "codemirror_mode": {
    "name": "ipython",
    "version": 3
   },
   "file_extension": ".py",
   "mimetype": "text/x-python",
   "name": "python",
   "nbconvert_exporter": "python",
   "pygments_lexer": "ipython3",
   "version": "3.12.7"
  }
 },
 "nbformat": 4,
 "nbformat_minor": 5
}

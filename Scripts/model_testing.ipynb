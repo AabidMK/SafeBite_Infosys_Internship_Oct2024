{
 "cells": [
  {
   "cell_type": "code",
   "execution_count": 1,
   "id": "776e6736-8096-4473-b5c5-4f80c2288bc2",
   "metadata": {},
   "outputs": [
    {
     "data": {
      "text/html": [
       "<div>\n",
       "<style scoped>\n",
       "    .dataframe tbody tr th:only-of-type {\n",
       "        vertical-align: middle;\n",
       "    }\n",
       "\n",
       "    .dataframe tbody tr th {\n",
       "        vertical-align: top;\n",
       "    }\n",
       "\n",
       "    .dataframe thead th {\n",
       "        text-align: right;\n",
       "    }\n",
       "</style>\n",
       "<table border=\"1\" class=\"dataframe\">\n",
       "  <thead>\n",
       "    <tr style=\"text-align: right;\">\n",
       "      <th></th>\n",
       "      <th>Food Product</th>\n",
       "      <th>Main Ingredient</th>\n",
       "      <th>Sweetener</th>\n",
       "      <th>Fat/Oil</th>\n",
       "      <th>Seasoning</th>\n",
       "      <th>Allergens</th>\n",
       "      <th>Price ($)</th>\n",
       "      <th>Customer rating</th>\n",
       "      <th>Is_Allergen</th>\n",
       "    </tr>\n",
       "  </thead>\n",
       "  <tbody>\n",
       "    <tr>\n",
       "      <th>0</th>\n",
       "      <td>6.170000</td>\n",
       "      <td>6.170</td>\n",
       "      <td>12.343736</td>\n",
       "      <td>12.471786</td>\n",
       "      <td>13.408</td>\n",
       "      <td>6.170000</td>\n",
       "      <td>10.15</td>\n",
       "      <td>3.1</td>\n",
       "      <td>1</td>\n",
       "    </tr>\n",
       "    <tr>\n",
       "      <th>1</th>\n",
       "      <td>10.150000</td>\n",
       "      <td>10.150</td>\n",
       "      <td>12.387473</td>\n",
       "      <td>12.519167</td>\n",
       "      <td>13.806</td>\n",
       "      <td>10.150000</td>\n",
       "      <td>6.17</td>\n",
       "      <td>4.5</td>\n",
       "      <td>1</td>\n",
       "    </tr>\n",
       "    <tr>\n",
       "      <th>2</th>\n",
       "      <td>12.500000</td>\n",
       "      <td>17.480</td>\n",
       "      <td>12.378423</td>\n",
       "      <td>12.031228</td>\n",
       "      <td>11.584</td>\n",
       "      <td>17.480000</td>\n",
       "      <td>19.65</td>\n",
       "      <td>4.1</td>\n",
       "      <td>1</td>\n",
       "    </tr>\n",
       "    <tr>\n",
       "      <th>3</th>\n",
       "      <td>13.223333</td>\n",
       "      <td>19.650</td>\n",
       "      <td>12.386201</td>\n",
       "      <td>12.069298</td>\n",
       "      <td>11.801</td>\n",
       "      <td>19.650000</td>\n",
       "      <td>17.48</td>\n",
       "      <td>4.7</td>\n",
       "      <td>1</td>\n",
       "    </tr>\n",
       "    <tr>\n",
       "      <th>4</th>\n",
       "      <td>12.402356</td>\n",
       "      <td>17.925</td>\n",
       "      <td>12.410036</td>\n",
       "      <td>12.185965</td>\n",
       "      <td>12.466</td>\n",
       "      <td>12.072073</td>\n",
       "      <td>10.83</td>\n",
       "      <td>3.7</td>\n",
       "      <td>1</td>\n",
       "    </tr>\n",
       "  </tbody>\n",
       "</table>\n",
       "</div>"
      ],
      "text/plain": [
       "   Food Product  Main Ingredient  Sweetener    Fat/Oil  Seasoning  Allergens  \\\n",
       "0      6.170000            6.170  12.343736  12.471786     13.408   6.170000   \n",
       "1     10.150000           10.150  12.387473  12.519167     13.806  10.150000   \n",
       "2     12.500000           17.480  12.378423  12.031228     11.584  17.480000   \n",
       "3     13.223333           19.650  12.386201  12.069298     11.801  19.650000   \n",
       "4     12.402356           17.925  12.410036  12.185965     12.466  12.072073   \n",
       "\n",
       "   Price ($)  Customer rating  Is_Allergen  \n",
       "0      10.15              3.1            1  \n",
       "1       6.17              4.5            1  \n",
       "2      19.65              4.1            1  \n",
       "3      17.48              4.7            1  \n",
       "4      10.83              3.7            1  "
      ]
     },
     "execution_count": 1,
     "metadata": {},
     "output_type": "execute_result"
    }
   ],
   "source": [
    "import pandas as pd\n",
    "\n",
    "data = pd.read_csv('../Dataset/SafeBite_preprocessed_data_loo_enc_price.csv')\n",
    "\n",
    "(data.head())\n"
   ]
  },
  {
   "cell_type": "code",
   "execution_count": 2,
   "id": "b51af09e-eb4e-4165-97a9-a41c142cd7e6",
   "metadata": {},
   "outputs": [
    {
     "data": {
      "text/html": [
       "<div>\n",
       "<style scoped>\n",
       "    .dataframe tbody tr th:only-of-type {\n",
       "        vertical-align: middle;\n",
       "    }\n",
       "\n",
       "    .dataframe tbody tr th {\n",
       "        vertical-align: top;\n",
       "    }\n",
       "\n",
       "    .dataframe thead th {\n",
       "        text-align: right;\n",
       "    }\n",
       "</style>\n",
       "<table border=\"1\" class=\"dataframe\">\n",
       "  <thead>\n",
       "    <tr style=\"text-align: right;\">\n",
       "      <th></th>\n",
       "      <th>Food Product</th>\n",
       "      <th>Main Ingredient</th>\n",
       "      <th>Sweetener</th>\n",
       "      <th>Fat/Oil</th>\n",
       "      <th>Seasoning</th>\n",
       "      <th>Allergens</th>\n",
       "      <th>Price ($)</th>\n",
       "      <th>Customer rating</th>\n",
       "    </tr>\n",
       "  </thead>\n",
       "  <tbody>\n",
       "    <tr>\n",
       "      <th>0</th>\n",
       "      <td>Blueberry Protein Bar</td>\n",
       "      <td>Blueberries</td>\n",
       "      <td>Honey</td>\n",
       "      <td>Almond oil</td>\n",
       "      <td>Vanilla extract</td>\n",
       "      <td>Tree nuts</td>\n",
       "      <td>2.99</td>\n",
       "      <td>4.2</td>\n",
       "    </tr>\n",
       "    <tr>\n",
       "      <th>1</th>\n",
       "      <td>Mango Chia Pudding</td>\n",
       "      <td>Mango</td>\n",
       "      <td>Coconut sugar</td>\n",
       "      <td>Coconut milk</td>\n",
       "      <td>Cardamom</td>\n",
       "      <td>Coconut</td>\n",
       "      <td>4.49</td>\n",
       "      <td>4.5</td>\n",
       "    </tr>\n",
       "    <tr>\n",
       "      <th>2</th>\n",
       "      <td>Beetroot Chips</td>\n",
       "      <td>Beetroot</td>\n",
       "      <td>NaN</td>\n",
       "      <td>Olive oil</td>\n",
       "      <td>Sea salt</td>\n",
       "      <td>NaN</td>\n",
       "      <td>3.25</td>\n",
       "      <td>3.8</td>\n",
       "    </tr>\n",
       "    <tr>\n",
       "      <th>3</th>\n",
       "      <td>Pumpkin Spice Muffin</td>\n",
       "      <td>Pumpkin</td>\n",
       "      <td>Maple syrup</td>\n",
       "      <td>Butter</td>\n",
       "      <td>Cinnamon, Nutmeg</td>\n",
       "      <td>Wheat, Dairy</td>\n",
       "      <td>5.75</td>\n",
       "      <td>4.7</td>\n",
       "    </tr>\n",
       "    <tr>\n",
       "      <th>4</th>\n",
       "      <td>Lentil Soup</td>\n",
       "      <td>Lentils</td>\n",
       "      <td>NaN</td>\n",
       "      <td>Olive oil</td>\n",
       "      <td>Herbs de Provence</td>\n",
       "      <td>NaN</td>\n",
       "      <td>4.00</td>\n",
       "      <td>4.0</td>\n",
       "    </tr>\n",
       "  </tbody>\n",
       "</table>\n",
       "</div>"
      ],
      "text/plain": [
       "            Food Product Main Ingredient      Sweetener       Fat/Oil  \\\n",
       "0  Blueberry Protein Bar     Blueberries          Honey    Almond oil   \n",
       "1     Mango Chia Pudding           Mango  Coconut sugar  Coconut milk   \n",
       "2         Beetroot Chips        Beetroot            NaN     Olive oil   \n",
       "3   Pumpkin Spice Muffin         Pumpkin    Maple syrup        Butter   \n",
       "4            Lentil Soup         Lentils            NaN     Olive oil   \n",
       "\n",
       "           Seasoning     Allergens  Price ($)  Customer rating   \n",
       "0    Vanilla extract     Tree nuts       2.99               4.2  \n",
       "1           Cardamom       Coconut       4.49               4.5  \n",
       "2           Sea salt           NaN       3.25               3.8  \n",
       "3   Cinnamon, Nutmeg  Wheat, Dairy       5.75               4.7  \n",
       "4  Herbs de Provence           NaN       4.00               4.0  "
      ]
     },
     "execution_count": 2,
     "metadata": {},
     "output_type": "execute_result"
    }
   ],
   "source": [
    "unseen_data = pd.read_csv(\"../Dataset/sample.csv\")\n",
    "unseen_data.head()"
   ]
  },
  {
   "cell_type": "code",
   "execution_count": 3,
   "id": "3087079e-4177-4dac-96fa-c75adde3a078",
   "metadata": {},
   "outputs": [
    {
     "name": "stdout",
     "output_type": "stream",
     "text": [
      "Model and encoder loaded successfully!\n"
     ]
    }
   ],
   "source": [
    "# Load the pre-trained encoder and model:\n",
    "import joblib\n",
    "\n",
    "loaded_encoder = joblib.load('../Models/loo_encoder.pkl')\n",
    "loaded_model = joblib.load('../Models/best_xgboost_model.pkl')\n",
    "print(\"Model and encoder loaded successfully!\")"
   ]
  },
  {
   "cell_type": "code",
   "execution_count": 4,
   "id": "d9839264-ee2b-4605-849c-e15db3cdd92e",
   "metadata": {},
   "outputs": [],
   "source": [
    "example_data = pd.DataFrame({\n",
    "    'Food Product': ['Gluten-Free Chocolate Cake', 'Chocolate Cake'],\n",
    "    'Main Ingredient': ['Almond flour', 'Wheat flour'],\n",
    "    'Sweetener': ['Coconut sugar', 'Sugar'],\n",
    "    'Fat/Oil': ['Coconut oil', 'Butter'],\n",
    "    'Seasoning': ['Vanilla extract, Cocoa', 'Vanilla extract, Cocoa'],\n",
    "    'Allergens': ['None', 'Wheat-Dairy'],\n",
    "    'Price ($)': [7.50, 7.55],\n",
    "    'Customer rating': [4.5, 4.6]\n",
    "})"
   ]
  },
  {
   "cell_type": "code",
   "execution_count": 5,
   "id": "201c07c7-f640-4135-af90-ddc44fdc6420",
   "metadata": {},
   "outputs": [
    {
     "data": {
      "text/plain": [
       "array(['Food Product', 'Main Ingredient', 'Sweetener', 'Fat/Oil',\n",
       "       'Seasoning', 'Allergens', 'Price ($)', 'Customer rating'],\n",
       "      dtype='<U15')"
      ]
     },
     "execution_count": 5,
     "metadata": {},
     "output_type": "execute_result"
    }
   ],
   "source": [
    "training_features = loaded_model.feature_names_in_\n",
    "training_features"
   ]
  },
  {
   "cell_type": "code",
   "execution_count": 6,
   "id": "dcce71cd-fdb7-427c-bc15-5d2bab960248",
   "metadata": {},
   "outputs": [],
   "source": [
    "categorical_cols = ['Food Product', 'Main Ingredient', 'Sweetener', 'Fat/Oil', 'Seasoning', 'Allergens']\n"
   ]
  },
  {
   "cell_type": "code",
   "execution_count": 7,
   "id": "46ca328e-45ad-4f2e-8840-53a8ad3354cc",
   "metadata": {},
   "outputs": [
    {
     "data": {
      "text/html": [
       "<div>\n",
       "<style scoped>\n",
       "    .dataframe tbody tr th:only-of-type {\n",
       "        vertical-align: middle;\n",
       "    }\n",
       "\n",
       "    .dataframe tbody tr th {\n",
       "        vertical-align: top;\n",
       "    }\n",
       "\n",
       "    .dataframe thead th {\n",
       "        text-align: right;\n",
       "    }\n",
       "</style>\n",
       "<table border=\"1\" class=\"dataframe\">\n",
       "  <thead>\n",
       "    <tr style=\"text-align: right;\">\n",
       "      <th></th>\n",
       "      <th>Food Product</th>\n",
       "      <th>Main Ingredient</th>\n",
       "      <th>Sweetener</th>\n",
       "      <th>Fat/Oil</th>\n",
       "      <th>Seasoning</th>\n",
       "      <th>Allergens</th>\n",
       "    </tr>\n",
       "  </thead>\n",
       "  <tbody>\n",
       "    <tr>\n",
       "      <th>0</th>\n",
       "      <td>12.402356</td>\n",
       "      <td>12.402356</td>\n",
       "      <td>12.402356</td>\n",
       "      <td>12.402356</td>\n",
       "      <td>12.402356</td>\n",
       "      <td>12.165608</td>\n",
       "    </tr>\n",
       "    <tr>\n",
       "      <th>1</th>\n",
       "      <td>12.402356</td>\n",
       "      <td>16.355000</td>\n",
       "      <td>12.319891</td>\n",
       "      <td>12.444471</td>\n",
       "      <td>12.402356</td>\n",
       "      <td>12.402356</td>\n",
       "    </tr>\n",
       "  </tbody>\n",
       "</table>\n",
       "</div>"
      ],
      "text/plain": [
       "   Food Product  Main Ingredient  Sweetener    Fat/Oil  Seasoning  Allergens\n",
       "0     12.402356        12.402356  12.402356  12.402356  12.402356  12.165608\n",
       "1     12.402356        16.355000  12.319891  12.444471  12.402356  12.402356"
      ]
     },
     "execution_count": 7,
     "metadata": {},
     "output_type": "execute_result"
    }
   ],
   "source": [
    "data_encoded = loaded_encoder.transform(example_data[categorical_cols])\n",
    "data_encoded"
   ]
  },
  {
   "cell_type": "code",
   "execution_count": 8,
   "id": "e67ab707-c4e4-4feb-bb26-fda4e68a50f6",
   "metadata": {},
   "outputs": [
    {
     "data": {
      "text/plain": [
       "Index(['Food Product', 'Main Ingredient', 'Sweetener', 'Fat/Oil', 'Seasoning',\n",
       "       'Allergens'],\n",
       "      dtype='object')"
      ]
     },
     "execution_count": 8,
     "metadata": {},
     "output_type": "execute_result"
    }
   ],
   "source": [
    "encoded_cols = data_encoded.columns\n",
    "encoded_cols"
   ]
  },
  {
   "cell_type": "code",
   "execution_count": 9,
   "id": "31b2edf5-7a56-4cf4-9982-b31f8e99b9ea",
   "metadata": {},
   "outputs": [
    {
     "data": {
      "text/html": [
       "<div>\n",
       "<style scoped>\n",
       "    .dataframe tbody tr th:only-of-type {\n",
       "        vertical-align: middle;\n",
       "    }\n",
       "\n",
       "    .dataframe tbody tr th {\n",
       "        vertical-align: top;\n",
       "    }\n",
       "\n",
       "    .dataframe thead th {\n",
       "        text-align: right;\n",
       "    }\n",
       "</style>\n",
       "<table border=\"1\" class=\"dataframe\">\n",
       "  <thead>\n",
       "    <tr style=\"text-align: right;\">\n",
       "      <th></th>\n",
       "      <th>Price ($)</th>\n",
       "      <th>Customer rating</th>\n",
       "      <th>Food Product</th>\n",
       "      <th>Main Ingredient</th>\n",
       "      <th>Sweetener</th>\n",
       "      <th>Fat/Oil</th>\n",
       "      <th>Seasoning</th>\n",
       "      <th>Allergens</th>\n",
       "    </tr>\n",
       "  </thead>\n",
       "  <tbody>\n",
       "    <tr>\n",
       "      <th>0</th>\n",
       "      <td>7.50</td>\n",
       "      <td>4.5</td>\n",
       "      <td>12.402356</td>\n",
       "      <td>12.402356</td>\n",
       "      <td>12.402356</td>\n",
       "      <td>12.402356</td>\n",
       "      <td>12.402356</td>\n",
       "      <td>12.165608</td>\n",
       "    </tr>\n",
       "    <tr>\n",
       "      <th>1</th>\n",
       "      <td>7.55</td>\n",
       "      <td>4.6</td>\n",
       "      <td>12.402356</td>\n",
       "      <td>16.355000</td>\n",
       "      <td>12.319891</td>\n",
       "      <td>12.444471</td>\n",
       "      <td>12.402356</td>\n",
       "      <td>12.402356</td>\n",
       "    </tr>\n",
       "  </tbody>\n",
       "</table>\n",
       "</div>"
      ],
      "text/plain": [
       "   Price ($)  Customer rating  Food Product  Main Ingredient  Sweetener  \\\n",
       "0       7.50              4.5     12.402356        12.402356  12.402356   \n",
       "1       7.55              4.6     12.402356        16.355000  12.319891   \n",
       "\n",
       "     Fat/Oil  Seasoning  Allergens  \n",
       "0  12.402356  12.402356  12.165608  \n",
       "1  12.444471  12.402356  12.402356  "
      ]
     },
     "execution_count": 9,
     "metadata": {},
     "output_type": "execute_result"
    }
   ],
   "source": [
    "example_data = pd.concat([example_data[['Price ($)', 'Customer rating']], data_encoded], axis=1)\n",
    "example_data\n",
    "     "
   ]
  },
  {
   "cell_type": "code",
   "execution_count": 10,
   "id": "5ecccf95-4e03-458b-a7dd-82dad1e4b48d",
   "metadata": {},
   "outputs": [
    {
     "data": {
      "text/html": [
       "<div>\n",
       "<style scoped>\n",
       "    .dataframe tbody tr th:only-of-type {\n",
       "        vertical-align: middle;\n",
       "    }\n",
       "\n",
       "    .dataframe tbody tr th {\n",
       "        vertical-align: top;\n",
       "    }\n",
       "\n",
       "    .dataframe thead th {\n",
       "        text-align: right;\n",
       "    }\n",
       "</style>\n",
       "<table border=\"1\" class=\"dataframe\">\n",
       "  <thead>\n",
       "    <tr style=\"text-align: right;\">\n",
       "      <th></th>\n",
       "      <th>Food Product</th>\n",
       "      <th>Main Ingredient</th>\n",
       "      <th>Sweetener</th>\n",
       "      <th>Fat/Oil</th>\n",
       "      <th>Seasoning</th>\n",
       "      <th>Allergens</th>\n",
       "      <th>Price ($)</th>\n",
       "      <th>Customer rating</th>\n",
       "    </tr>\n",
       "  </thead>\n",
       "  <tbody>\n",
       "    <tr>\n",
       "      <th>0</th>\n",
       "      <td>12.402356</td>\n",
       "      <td>12.402356</td>\n",
       "      <td>12.402356</td>\n",
       "      <td>12.402356</td>\n",
       "      <td>12.402356</td>\n",
       "      <td>12.165608</td>\n",
       "      <td>7.50</td>\n",
       "      <td>4.5</td>\n",
       "    </tr>\n",
       "    <tr>\n",
       "      <th>1</th>\n",
       "      <td>12.402356</td>\n",
       "      <td>16.355000</td>\n",
       "      <td>12.319891</td>\n",
       "      <td>12.444471</td>\n",
       "      <td>12.402356</td>\n",
       "      <td>12.402356</td>\n",
       "      <td>7.55</td>\n",
       "      <td>4.6</td>\n",
       "    </tr>\n",
       "  </tbody>\n",
       "</table>\n",
       "</div>"
      ],
      "text/plain": [
       "   Food Product  Main Ingredient  Sweetener    Fat/Oil  Seasoning  Allergens  \\\n",
       "0     12.402356        12.402356  12.402356  12.402356  12.402356  12.165608   \n",
       "1     12.402356        16.355000  12.319891  12.444471  12.402356  12.402356   \n",
       "\n",
       "   Price ($)  Customer rating  \n",
       "0       7.50              4.5  \n",
       "1       7.55              4.6  "
      ]
     },
     "execution_count": 10,
     "metadata": {},
     "output_type": "execute_result"
    }
   ],
   "source": [
    "example_data = example_data[training_features]\n",
    "example_data"
   ]
  },
  {
   "cell_type": "code",
   "execution_count": 11,
   "id": "5a51a27e-b8c8-49db-a745-6420109aedfc",
   "metadata": {},
   "outputs": [
    {
     "data": {
      "text/plain": [
       "array(['Food Product', 'Main Ingredient', 'Sweetener', 'Fat/Oil',\n",
       "       'Seasoning', 'Allergens', 'Price ($)', 'Customer rating'],\n",
       "      dtype='<U15')"
      ]
     },
     "execution_count": 11,
     "metadata": {},
     "output_type": "execute_result"
    }
   ],
   "source": [
    "training_features\n"
   ]
  },
  {
   "cell_type": "code",
   "execution_count": 12,
   "id": "97953a88-9b8c-42db-a90c-188bb10b5cfc",
   "metadata": {},
   "outputs": [
    {
     "name": "stdout",
     "output_type": "stream",
     "text": [
      "Prediction for example 1: No allergens detected \n",
      "Prediction for example 2: Allergens present \n"
     ]
    }
   ],
   "source": [
    "\n",
    "# Making predictions using the loaded model\n",
    "predictions = loaded_model.predict(example_data)\n",
    "\n",
    "# Displaying predictions with descriptive output\n",
    "for i, prediction in enumerate(predictions):\n",
    "    result = \"No allergens detected\" if prediction == 0 else \"Allergens present\"\n",
    "    print(f\"Prediction for example {i + 1}: {result} \")\n"
   ]
  },
  {
   "cell_type": "code",
   "execution_count": 13,
   "id": "2ebb66f4-c0b2-47f5-bf8c-b4b0ca7d887d",
   "metadata": {},
   "outputs": [
    {
     "name": "stdout",
     "output_type": "stream",
     "text": [
      "Columns in unseen_data: Index(['Food Product', 'Main Ingredient', 'Sweetener', 'Fat/Oil', 'Seasoning',\n",
      "       'Allergens', 'Price ($)', 'Customer rating '],\n",
      "      dtype='object')\n"
     ]
    }
   ],
   "source": [
    "print(\"Columns in unseen_data:\", unseen_data.columns)\n"
   ]
  },
  {
   "cell_type": "code",
   "execution_count": 14,
   "id": "bda61f30-d2f4-4c42-924d-1b6ce9f9cbf9",
   "metadata": {},
   "outputs": [],
   "source": [
    "unseen_data.columns = unseen_data.columns.str.strip()\n"
   ]
  },
  {
   "cell_type": "code",
   "execution_count": 19,
   "id": "308ca42d-0c47-4cfe-a46c-fc6ad8bb484e",
   "metadata": {},
   "outputs": [
    {
     "name": "stdout",
     "output_type": "stream",
     "text": [
      "Predictions have been saved to Predictions_sample_dataset.csv\n"
     ]
    }
   ],
   "source": [
    "import joblib\n",
    "import pandas as pd\n",
    "\n",
    "# Load the saved model and encoder\n",
    "model = joblib.load(\"../Models/best_xgboost_model.pkl\")\n",
    "encoder = joblib.load(\"../Models/loo_encoder.pkl\")\n",
    "\n",
    "# Load the unseen data\n",
    "unseen_data = pd.read_csv(\"../Dataset/sample.csv\")\n",
    "\n",
    "# Strip column names of whitespace\n",
    "unseen_data.columns = unseen_data.columns.str.strip()\n",
    "\n",
    "# Preprocess unseen data (apply the encoder for categorical columns)\n",
    "categorical_cols = ['Food Product', 'Main Ingredient', 'Sweetener', 'Fat/Oil', 'Seasoning', 'Allergens']\n",
    "unseen_data_encoded = encoder.transform(unseen_data[categorical_cols])\n",
    "\n",
    "# Combine encoded categorical features with numerical columns\n",
    "numerical_cols = ['Price ($)', 'Customer rating']\n",
    "if 'Customer rating' not in unseen_data.columns:\n",
    "    raise KeyError(\"The column 'Customer rating' is missing in the dataset.\")\n",
    "\n",
    "unseen_data_processed = pd.concat([unseen_data_encoded, unseen_data[numerical_cols]], axis=1)\n",
    "\n",
    "# Check for missing features\n",
    "training_features = model.feature_names_in_\n",
    "missing_features = set(training_features) - set(unseen_data_processed.columns)\n",
    "if missing_features:\n",
    "    print(f\"Missing features: {missing_features}\")\n",
    "    unseen_data_processed['Customer rating'] = unseen_data['Customer rating']  # Ensure the column is included\n",
    "\n",
    "# Ensure the columns match the training features\n",
    "unseen_data_processed = unseen_data_processed[training_features]\n",
    "\n",
    "# Make predictions\n",
    "predictions = model.predict(unseen_data_processed)\n",
    "\n",
    "# Save predictions to CSV\n",
    "unseen_data['Is_Allergen'] = predictions\n",
    "unseen_data.to_csv(\"../Dataset/Predictions_sample_dataset.csv\", index=False)\n",
    "\n",
    "print(\"Predictions have been saved to Predictions_sample_dataset.csv\")\n"
   ]
  },
  {
   "cell_type": "code",
   "execution_count": 20,
   "id": "ae0ddbdd-9225-4b63-8abb-cde4b9b9200d",
   "metadata": {},
   "outputs": [],
   "source": [
    "data = pd.read_csv('../Dataset/Predictions_sample_dataset.csv')\n"
   ]
  },
  {
   "cell_type": "code",
   "execution_count": 21,
   "id": "01661e66-0e39-483e-98c6-8effd4f2a26c",
   "metadata": {},
   "outputs": [
    {
     "data": {
      "text/html": [
       "<div>\n",
       "<style scoped>\n",
       "    .dataframe tbody tr th:only-of-type {\n",
       "        vertical-align: middle;\n",
       "    }\n",
       "\n",
       "    .dataframe tbody tr th {\n",
       "        vertical-align: top;\n",
       "    }\n",
       "\n",
       "    .dataframe thead th {\n",
       "        text-align: right;\n",
       "    }\n",
       "</style>\n",
       "<table border=\"1\" class=\"dataframe\">\n",
       "  <thead>\n",
       "    <tr style=\"text-align: right;\">\n",
       "      <th></th>\n",
       "      <th>Food Product</th>\n",
       "      <th>Main Ingredient</th>\n",
       "      <th>Sweetener</th>\n",
       "      <th>Fat/Oil</th>\n",
       "      <th>Seasoning</th>\n",
       "      <th>Allergens</th>\n",
       "      <th>Price ($)</th>\n",
       "      <th>Customer rating</th>\n",
       "      <th>Is_Allergen</th>\n",
       "    </tr>\n",
       "  </thead>\n",
       "  <tbody>\n",
       "    <tr>\n",
       "      <th>0</th>\n",
       "      <td>Blueberry Protein Bar</td>\n",
       "      <td>Blueberries</td>\n",
       "      <td>Honey</td>\n",
       "      <td>Almond oil</td>\n",
       "      <td>Vanilla extract</td>\n",
       "      <td>Tree nuts</td>\n",
       "      <td>2.99</td>\n",
       "      <td>4.2</td>\n",
       "      <td>1</td>\n",
       "    </tr>\n",
       "    <tr>\n",
       "      <th>1</th>\n",
       "      <td>Mango Chia Pudding</td>\n",
       "      <td>Mango</td>\n",
       "      <td>Coconut sugar</td>\n",
       "      <td>Coconut milk</td>\n",
       "      <td>Cardamom</td>\n",
       "      <td>Coconut</td>\n",
       "      <td>4.49</td>\n",
       "      <td>4.5</td>\n",
       "      <td>1</td>\n",
       "    </tr>\n",
       "    <tr>\n",
       "      <th>2</th>\n",
       "      <td>Beetroot Chips</td>\n",
       "      <td>Beetroot</td>\n",
       "      <td>NaN</td>\n",
       "      <td>Olive oil</td>\n",
       "      <td>Sea salt</td>\n",
       "      <td>NaN</td>\n",
       "      <td>3.25</td>\n",
       "      <td>3.8</td>\n",
       "      <td>1</td>\n",
       "    </tr>\n",
       "    <tr>\n",
       "      <th>3</th>\n",
       "      <td>Pumpkin Spice Muffin</td>\n",
       "      <td>Pumpkin</td>\n",
       "      <td>Maple syrup</td>\n",
       "      <td>Butter</td>\n",
       "      <td>Cinnamon, Nutmeg</td>\n",
       "      <td>Wheat, Dairy</td>\n",
       "      <td>5.75</td>\n",
       "      <td>4.7</td>\n",
       "      <td>1</td>\n",
       "    </tr>\n",
       "    <tr>\n",
       "      <th>4</th>\n",
       "      <td>Lentil Soup</td>\n",
       "      <td>Lentils</td>\n",
       "      <td>NaN</td>\n",
       "      <td>Olive oil</td>\n",
       "      <td>Herbs de Provence</td>\n",
       "      <td>NaN</td>\n",
       "      <td>4.00</td>\n",
       "      <td>4.0</td>\n",
       "      <td>1</td>\n",
       "    </tr>\n",
       "  </tbody>\n",
       "</table>\n",
       "</div>"
      ],
      "text/plain": [
       "            Food Product Main Ingredient      Sweetener       Fat/Oil  \\\n",
       "0  Blueberry Protein Bar     Blueberries          Honey    Almond oil   \n",
       "1     Mango Chia Pudding           Mango  Coconut sugar  Coconut milk   \n",
       "2         Beetroot Chips        Beetroot            NaN     Olive oil   \n",
       "3   Pumpkin Spice Muffin         Pumpkin    Maple syrup        Butter   \n",
       "4            Lentil Soup         Lentils            NaN     Olive oil   \n",
       "\n",
       "           Seasoning     Allergens  Price ($)  Customer rating  Is_Allergen  \n",
       "0    Vanilla extract     Tree nuts       2.99              4.2            1  \n",
       "1           Cardamom       Coconut       4.49              4.5            1  \n",
       "2           Sea salt           NaN       3.25              3.8            1  \n",
       "3   Cinnamon, Nutmeg  Wheat, Dairy       5.75              4.7            1  \n",
       "4  Herbs de Provence           NaN       4.00              4.0            1  "
      ]
     },
     "execution_count": 21,
     "metadata": {},
     "output_type": "execute_result"
    }
   ],
   "source": [
    "data.head()"
   ]
  },
  {
   "cell_type": "code",
   "execution_count": null,
   "id": "5f59f7e3-127a-4afc-befd-8d65a1f56909",
   "metadata": {},
   "outputs": [],
   "source": []
  }
 ],
 "metadata": {
  "kernelspec": {
   "display_name": "Python 3 (ipykernel)",
   "language": "python",
   "name": "python3"
  },
  "language_info": {
   "codemirror_mode": {
    "name": "ipython",
    "version": 3
   },
   "file_extension": ".py",
   "mimetype": "text/x-python",
   "name": "python",
   "nbconvert_exporter": "python",
   "pygments_lexer": "ipython3",
   "version": "3.12.4"
  }
 },
 "nbformat": 4,
 "nbformat_minor": 5
}

{
 "cells": [
  {
   "cell_type": "code",
   "execution_count": 13,
   "id": "268c6b2d-3192-4096-90aa-326854e995aa",
   "metadata": {},
   "outputs": [
    {
     "name": "stdout",
     "output_type": "stream",
     "text": [
      "Train-Test Split (80:20) - Training Set Size: (318, 8) , Test Set Size: (80, 8)\n",
      "Train-Test Split (70:30) - Training Set Size: (278, 8) , Test Set Size: (120, 8)\n"
     ]
    }
   ],
   "source": [
    "from sklearn.model_selection import train_test_split\n",
    "\n",
    "# Define the features (X) and the target (y)\n",
    "X = df.drop(columns=['Prediction'])\n",
    "y = df['Prediction']\n",
    "\n",
    "# Train-Test Split 80:20\n",
    "X_train_80, X_test_80, y_train_80, y_test_80 = train_test_split(X, y, test_size=0.2, random_state=42)\n",
    "print(\"Train-Test Split (80:20) - Training Set Size:\", X_train_80.shape, \", Test Set Size:\", X_test_80.shape)\n",
    "\n",
    "# Train-Test Split 70:30\n",
    "X_train_70, X_test_70, y_train_70, y_test_70 = train_test_split(X, y, test_size=0.3, random_state=42)\n",
    "print(\"Train-Test Split (70:30) - Training Set Size:\", X_train_70.shape, \", Test Set Size:\", X_test_70.shape)\n",
    "\n"
   ]
  },
  {
   "cell_type": "code",
   "execution_count": 14,
   "id": "42cbcd0a-2065-4ee7-a84a-03758a237742",
   "metadata": {},
   "outputs": [
    {
     "name": "stdout",
     "output_type": "stream",
     "text": [
      "Logistic Regression Accuracy (80:20 split): 0.6375\n",
      "Logistic Regression Accuracy (70:30 split): 0.6166666666666667\n"
     ]
    }
   ],
   "source": [
    "from sklearn.linear_model import LogisticRegression\n",
    "from sklearn.metrics import accuracy_score\n",
    "\n",
    "# Model for Train-Test Split 80:20\n",
    "logreg = LogisticRegression(max_iter=1000)\n",
    "logreg.fit(X_train_80, y_train_80)\n",
    "y_pred_80 = logreg.predict(X_test_80)\n",
    "accuracy_80 = accuracy_score(y_test_80, y_pred_80)\n",
    "print(\"Logistic Regression Accuracy (80:20 split):\", accuracy_80)\n",
    "\n",
    "# Model for Train-Test Split 70:30\n",
    "logreg.fit(X_train_70, y_train_70)\n",
    "y_pred_70 = logreg.predict(X_test_70)\n",
    "accuracy_70 = accuracy_score(y_test_70, y_pred_70)\n",
    "print(\"Logistic Regression Accuracy (70:30 split):\", accuracy_70)\n"
   ]
  },
  {
   "cell_type": "code",
   "execution_count": 15,
   "id": "67a3f1ae-1c3e-45be-be52-bdfdb4cdf6c3",
   "metadata": {},
   "outputs": [
    {
     "name": "stdout",
     "output_type": "stream",
     "text": [
      "Random Forest Classifier Accuracy (80:20 split): 0.9875\n",
      "Random Forest Classifier Accuracy (70:30 split): 0.975\n"
     ]
    }
   ],
   "source": [
    "from sklearn.ensemble import RandomForestClassifier\n",
    "\n",
    "# Model for Train-Test Split 80:20\n",
    "rf = RandomForestClassifier(n_estimators=100, random_state=42)\n",
    "rf.fit(X_train_80, y_train_80)\n",
    "y_pred_80_rf = rf.predict(X_test_80)\n",
    "accuracy_80_rf = accuracy_score(y_test_80, y_pred_80_rf)\n",
    "print(\"Random Forest Classifier Accuracy (80:20 split):\", accuracy_80_rf)\n",
    "\n",
    "# Model for Train-Test Split 70:30\n",
    "rf.fit(X_train_70, y_train_70)\n",
    "y_pred_70_rf = rf.predict(X_test_70)\n",
    "accuracy_70_rf = accuracy_score(y_test_70, y_pred_70_rf)\n",
    "print(\"Random Forest Classifier Accuracy (70:30 split):\", accuracy_70_rf)\n"
   ]
  },
  {
   "cell_type": "code",
   "execution_count": 16,
   "id": "426aa3e3-1e04-414c-a942-595537446b2d",
   "metadata": {},
   "outputs": [
    {
     "name": "stdout",
     "output_type": "stream",
     "text": [
      "SVC Accuracy (80:20 split): 0.725\n",
      "SVC Accuracy (70:30 split): 0.725\n"
     ]
    }
   ],
   "source": [
    "from sklearn.svm import SVC\n",
    "\n",
    "# Model for Train-Test Split 80:20\n",
    "svc = SVC()\n",
    "svc.fit(X_train_80, y_train_80)\n",
    "y_pred_80_svc = svc.predict(X_test_80)\n",
    "accuracy_80_svc = accuracy_score(y_test_80, y_pred_80_svc)\n",
    "print(\"SVC Accuracy (80:20 split):\", accuracy_80_svc)\n",
    "\n",
    "# Model for Train-Test Split 70:30\n",
    "svc.fit(X_train_70, y_train_70)\n",
    "y_pred_70_svc = svc.predict(X_test_70)\n",
    "accuracy_70_svc = accuracy_score(y_test_70, y_pred_70_svc)\n",
    "print(\"SVC Accuracy (70:30 split):\", accuracy_70_svc)\n",
    "\n"
   ]
  },
  {
   "cell_type": "code",
   "execution_count": 17,
   "id": "ddf7705b-c339-4989-9c3a-f85741c98a47",
   "metadata": {},
   "outputs": [
    {
     "name": "stdout",
     "output_type": "stream",
     "text": [
      "KNN Accuracy (80:20 split): 0.7\n",
      "KNN Accuracy (70:30 split): 0.625\n"
     ]
    }
   ],
   "source": [
    "from sklearn.neighbors import KNeighborsClassifier\n",
    "\n",
    "# Model for Train-Test Split 80:20\n",
    "knn = KNeighborsClassifier()\n",
    "knn.fit(X_train_80, y_train_80)\n",
    "y_pred_80_knn = knn.predict(X_test_80)\n",
    "accuracy_80_knn = accuracy_score(y_test_80, y_pred_80_knn)\n",
    "print(\"KNN Accuracy (80:20 split):\", accuracy_80_knn)\n",
    "\n",
    "# Model for Train-Test Split 70:30\n",
    "knn.fit(X_train_70, y_train_70)\n",
    "y_pred_70_knn = knn.predict(X_test_70)\n",
    "accuracy_70_knn = accuracy_score(y_test_70, y_pred_70_knn)\n",
    "print(\"KNN Accuracy (70:30 split):\", accuracy_70_knn)\n"
   ]
  },
  {
   "cell_type": "code",
   "execution_count": 18,
   "id": "3faff81d-a7f0-45f2-95d0-d6b38e473975",
   "metadata": {},
   "outputs": [
    {
     "name": "stdout",
     "output_type": "stream",
     "text": [
      "Gradient Boosting Accuracy (80:20 split): 0.9875\n",
      "Gradient Boosting Accuracy (70:30 split): 0.9833333333333333\n"
     ]
    }
   ],
   "source": [
    "from sklearn.ensemble import GradientBoostingClassifier\n",
    "\n",
    "# Model for Train-Test Split 80:20\n",
    "gbc = GradientBoostingClassifier(random_state=42)\n",
    "gbc.fit(X_train_80, y_train_80)\n",
    "y_pred_80_gbc = gbc.predict(X_test_80)\n",
    "accuracy_80_gbc = accuracy_score(y_test_80, y_pred_80_gbc)\n",
    "print(\"Gradient Boosting Accuracy (80:20 split):\", accuracy_80_gbc)\n",
    "\n",
    "# Model for Train-Test Split 70:30\n",
    "gbc.fit(X_train_70, y_train_70)\n",
    "y_pred_70_gbc = gbc.predict(X_test_70)\n",
    "accuracy_70_gbc = accuracy_score(y_test_70, y_pred_70_gbc)\n",
    "print(\"Gradient Boosting Accuracy (70:30 split):\", accuracy_70_gbc)\n"
   ]
  },
  {
   "cell_type": "code",
   "execution_count": 22,
   "id": "6aafadc8-a399-42e8-9cbc-6eb21928b078",
   "metadata": {},
   "outputs": [
    {
     "name": "stderr",
     "output_type": "stream",
     "text": [
      "C:\\Users\\Akshi\\AppData\\Roaming\\Python\\Python313\\site-packages\\xgboost\\core.py:158: UserWarning: [22:12:50] WARNING: C:\\buildkite-agent\\builds\\buildkite-windows-cpu-autoscaling-group-i-0ed59c031377d09b8-1\\xgboost\\xgboost-ci-windows\\src\\learner.cc:740: \n",
      "Parameters: { \"use_label_encoder\" } are not used.\n",
      "\n",
      "  warnings.warn(smsg, UserWarning)\n",
      "C:\\Users\\Akshi\\AppData\\Roaming\\Python\\Python313\\site-packages\\xgboost\\core.py:158: UserWarning: [22:12:51] WARNING: C:\\buildkite-agent\\builds\\buildkite-windows-cpu-autoscaling-group-i-0ed59c031377d09b8-1\\xgboost\\xgboost-ci-windows\\src\\learner.cc:740: \n",
      "Parameters: { \"use_label_encoder\" } are not used.\n",
      "\n",
      "  warnings.warn(smsg, UserWarning)\n"
     ]
    },
    {
     "name": "stdout",
     "output_type": "stream",
     "text": [
      "XGBoost Accuracy (80:20 split): 0.975\n",
      "XGBoost Accuracy (70:30 split): 0.9833333333333333\n"
     ]
    }
   ],
   "source": [
    "from xgboost import XGBClassifier\n",
    "\n",
    "# Model for Train-Test Split 80:20\n",
    "xgb = XGBClassifier(random_state=42, use_label_encoder=False, eval_metric='mlogloss')\n",
    "xgb.fit(X_train_80, y_train_80)\n",
    "y_pred_80_xgb = xgb.predict(X_test_80)\n",
    "accuracy_80_xgb = accuracy_score(y_test_80, y_pred_80_xgb)\n",
    "print(\"XGBoost Accuracy (80:20 split):\", accuracy_80_xgb)\n",
    "\n",
    "# Model for Train-Test Split 70:30\n",
    "xgb.fit(X_train_70, y_train_70)\n",
    "y_pred_70_xgb = xgb.predict(X_test_70)\n",
    "accuracy_70_xgb = accuracy_score(y_test_70, y_pred_70_xgb)\n",
    "print(\"XGBoost Accuracy (70:30 split):\", accuracy_70_xgb)\n"
   ]
  },
  {
   "cell_type": "code",
   "execution_count": 21,
   "id": "94b0d133-6bcc-4bd3-8cc8-4bc5e874c32b",
   "metadata": {},
   "outputs": [
    {
     "name": "stdout",
     "output_type": "stream",
     "text": [
      "Defaulting to user installation because normal site-packages is not writeable\n",
      "Requirement already satisfied: xgboost in c:\\users\\akshi\\appdata\\roaming\\python\\python313\\site-packages (2.1.2)\n",
      "Requirement already satisfied: numpy in c:\\users\\akshi\\appdata\\roaming\\python\\python313\\site-packages (from xgboost) (2.1.3)\n",
      "Requirement already satisfied: scipy in c:\\users\\akshi\\appdata\\roaming\\python\\python313\\site-packages (from xgboost) (1.14.1)\n"
     ]
    }
   ],
   "source": [
    "!pip install xgboost\n"
   ]
  },
  {
   "cell_type": "code",
   "execution_count": 26,
   "id": "23558af1-12cd-404d-8f2d-905554f1c3bb",
   "metadata": {},
   "outputs": [
    {
     "name": "stdout",
     "output_type": "stream",
     "text": [
      "Accuracy: 98.75%\n",
      "\n",
      "Classification Report:\n",
      "              precision    recall  f1-score   support\n",
      "\n",
      "           0       1.00      0.98      0.99        58\n",
      "           1       0.96      1.00      0.98        22\n",
      "\n",
      "    accuracy                           0.99        80\n",
      "   macro avg       0.98      0.99      0.98        80\n",
      "weighted avg       0.99      0.99      0.99        80\n",
      "\n",
      "Random Forest model saved as 'random_forest_model.pkl'.\n"
     ]
    }
   ],
   "source": [
    "from sklearn.model_selection import train_test_split\n",
    "from sklearn.ensemble import RandomForestClassifier\n",
    "from sklearn.metrics import accuracy_score, classification_report\n",
    "\n",
    "# Load the preprocessed data\n",
    "df = pd.read_csv('preprocessed_data.csv')\n",
    "\n",
    "# Define the features (X) and target variable (y)\n",
    "X = df.drop('Prediction', axis=1)  # Features\n",
    "y = df['Prediction']  # Target variable\n",
    "\n",
    "# Split the data into training and testing sets (80:20 split)\n",
    "X_train, X_test, y_train, y_test = train_test_split(X, y, test_size=0.2, random_state=42)\n",
    "\n",
    "# Initialize the Random Forest model\n",
    "rf_model = RandomForestClassifier(n_estimators=100, random_state=42)\n",
    "\n",
    "# Train the model\n",
    "rf_model.fit(X_train, y_train)\n",
    "\n",
    "# Predict on the test set\n",
    "y_pred = rf_model.predict(X_test)\n",
    "\n",
    "# Evaluate the model\n",
    "accuracy = accuracy_score(y_test, y_pred)\n",
    "print(f\"Accuracy: {accuracy * 100:.2f}%\")\n",
    "print(\"\\nClassification Report:\")\n",
    "print(classification_report(y_test, y_pred))\n",
    "\n",
    "# Save the trained model using pickle\n",
    "with open('random_forest_model.pkl', 'wb') as file:\n",
    "    pickle.dump(rf_model, file)\n",
    "\n",
    "print(\"Random Forest model saved as 'random_forest_model.pkl'.\")\n"
   ]
  },
  {
   "cell_type": "code",
   "execution_count": 2,
   "id": "1d04ed53-dca0-414f-9f3e-05513e576ebf",
   "metadata": {},
   "outputs": [
    {
     "name": "stdout",
     "output_type": "stream",
     "text": [
      "Accuracy on Test Data: 99.75%\n",
      "\n",
      "Classification Report:\n",
      "              precision    recall  f1-score   support\n",
      "\n",
      "           0       1.00      1.00      1.00       255\n",
      "           1       0.99      1.00      1.00       143\n",
      "\n",
      "    accuracy                           1.00       398\n",
      "   macro avg       1.00      1.00      1.00       398\n",
      "weighted avg       1.00      1.00      1.00       398\n",
      "\n"
     ]
    }
   ],
   "source": [
    "import pickle\n",
    "from sklearn.metrics import accuracy_score, classification_report\n",
    "import pandas as pd\n",
    "\n",
    "# Load the trained Random Forest model from the file\n",
    "with open('random_forest_model.pkl', 'rb') as file:\n",
    "    rf_model = pickle.load(file)\n",
    "\n",
    "# Load the preprocessed test data\n",
    "df_test = pd.read_csv('preprocessed_data.csv')\n",
    "\n",
    "# Define the features (X) and target variable (y) for the test set\n",
    "X_test = df_test.drop('Prediction', axis=1)  # Features\n",
    "y_test = df_test['Prediction']  # Target variable\n",
    "\n",
    "# Predict the target variable using the trained model\n",
    "y_pred = rf_model.predict(X_test)\n",
    "\n",
    "# Evaluate the model's performance\n",
    "accuracy = accuracy_score(y_test, y_pred)\n",
    "print(f\"Accuracy on Test Data: {accuracy * 100:.2f}%\")\n",
    "print(\"\\nClassification Report:\")\n",
    "print(classification_report(y_test, y_pred))\n",
    "\n"
   ]
  },
  {
   "cell_type": "code",
   "execution_count": 12,
   "id": "62b3250b-1c3c-4799-8c05-a1047404a177",
   "metadata": {},
   "outputs": [
    {
     "name": "stdout",
     "output_type": "stream",
     "text": [
      "Accuracy on Unseen Data: 100.00%\n",
      "\n",
      "Classification Report for Unseen Data:\n",
      "              precision    recall  f1-score   support\n",
      "\n",
      "           0       1.00      1.00      1.00         3\n",
      "\n",
      "    accuracy                           1.00         3\n",
      "   macro avg       1.00      1.00      1.00         3\n",
      "weighted avg       1.00      1.00      1.00         3\n",
      "\n"
     ]
    }
   ],
   "source": [
    "import pandas as pd\n",
    "import pickle\n",
    "from sklearn.metrics import accuracy_score, classification_report\n",
    "from sklearn.preprocessing import LabelEncoder\n",
    "from category_encoders import LeaveOneOutEncoder\n",
    "\n",
    "# Load the trained Random Forest model from the saved file\n",
    "with open('random_forest_model.pkl', 'rb') as file:\n",
    "    rf_model = pickle.load(file)\n",
    "\n",
    "# Load the Leave-One-Out encoder\n",
    "with open('leave_one_out_encoder.pkl', 'rb') as file:\n",
    "    loo_encoder = pickle.load(file)\n",
    "\n",
    "# Example unseen data (can be replaced with your actual data)\n",
    "unseen_data = {\n",
    "    'Food Product': ['Almond Cookies', 'Chicken Noodle Soup', 'Cheddar Cheese'],\n",
    "    'Main Ingredient': ['Almonds', 'Chicken broth', 'Cheese'],\n",
    "    'Sweetener': ['Sugar', 'None', 'None'],\n",
    "    'Fat/Oil': ['Butter', 'None', 'None'],\n",
    "    'Seasoning': ['Flour', 'Salt', 'Salt'],\n",
    "    'Allergens': ['Almonds, Wheat, Dairy', 'Chicken, Wheat, Celery', 'Dairy'],\n",
    "    'Price ($)': [10.15, 19.65, 10.83],\n",
    "    'Customer rating (Out of 5)': [3.1, 4.1, 3.7],\n",
    "    'Prediction': ['Contains', 'Contains', 'Contains']  # Actual labels for testing\n",
    "}\n",
    "\n",
    "# Create a DataFrame from the unseen data\n",
    "df_unseen = pd.DataFrame(unseen_data)\n",
    "\n",
    "# Check and remove any unnamed or extra columns (if exists)\n",
    "df_unseen = df_unseen.loc[:, ~df_unseen.columns.str.contains('^Unnamed')]\n",
    "\n",
    "# List of categorical columns\n",
    "categorical_columns = df_unseen.select_dtypes(include=['object']).columns\n",
    "\n",
    "# Transform the categorical columns using the saved Leave-One-Out encoder\n",
    "df_unseen_encoded = loo_encoder.transform(df_unseen[categorical_columns])\n",
    "\n",
    "# Combine the encoded columns with the rest of the unseen dataset\n",
    "df_unseen = pd.concat([df_unseen.drop(categorical_columns, axis=1), df_unseen_encoded], axis=1)\n",
    "\n",
    "# Define the features (X) and target variable (y) for the unseen data\n",
    "X_unseen = df_unseen.drop('Prediction', axis=1)  # Features\n",
    "y_unseen = df_unseen['Prediction']  # Target variable\n",
    "\n",
    "# Ensure the unseen data has the same columns as the training data (reordering based on model's feature importance)\n",
    "# Match the columns in X_unseen with the order of the training data's columns (rf_model.feature_names_in_)\n",
    "X_unseen = X_unseen[rf_model.feature_names_in_]\n",
    "\n",
    "# Convert y_unseen to categorical (if it's not already)\n",
    "# This assumes 'Contains' or 'Not Contains' are your classes\n",
    "le = LabelEncoder()\n",
    "y_unseen = le.fit_transform(y_unseen)\n",
    "\n",
    "# Predict the target variable using the trained Random Forest model\n",
    "y_pred_unseen = rf_model.predict(X_unseen)\n",
    "\n",
    "# Evaluate the model's performance on unseen data\n",
    "accuracy_unseen = accuracy_score(y_unseen, y_pred_unseen)\n",
    "print(f\"Accuracy on Unseen Data: {accuracy_unseen * 100:.2f}%\")\n",
    "\n",
    "# Generate a classification report for the unseen data\n",
    "print(\"\\nClassification Report for Unseen Data:\")\n",
    "print(classification_report(y_unseen, y_pred_unseen))\n"
   ]
  },
  {
   "cell_type": "code",
   "execution_count": null,
   "id": "5ddb2640-bfba-4f0c-9cd3-e1209341a2c1",
   "metadata": {},
   "outputs": [],
   "source": [
    "!streamlit run app123.py"
   ]
  },
  {
   "cell_type": "code",
   "execution_count": null,
   "id": "66add45e-ff17-449c-9b52-a625084f4d0f",
   "metadata": {},
   "outputs": [],
   "source": []
  }
 ],
 "metadata": {
  "kernelspec": {
   "display_name": "Python 3 (ipykernel)",
   "language": "python",
   "name": "python3"
  },
  "language_info": {
   "codemirror_mode": {
    "name": "ipython",
    "version": 3
   },
   "file_extension": ".py",
   "mimetype": "text/x-python",
   "name": "python",
   "nbconvert_exporter": "python",
   "pygments_lexer": "ipython3",
   "version": "3.13.0"
  }
 },
 "nbformat": 4,
 "nbformat_minor": 5
}

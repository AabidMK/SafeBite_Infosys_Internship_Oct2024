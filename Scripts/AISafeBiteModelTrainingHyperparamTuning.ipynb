{
  "nbformat": 4,
  "nbformat_minor": 0,
  "metadata": {
    "colab": {
      "provenance": []
    },
    "kernelspec": {
      "name": "python3",
      "display_name": "Python 3"
    },
    "language_info": {
      "name": "python"
    }
  },
  "cells": [
    {
      "cell_type": "code",
      "execution_count": null,
      "metadata": {
        "id": "f4qugIymHoIg"
      },
      "outputs": [],
      "source": [
        "import numpy as np\n",
        "import pandas as pd"
      ]
    },
    {
      "cell_type": "code",
      "source": [
        "df = pd.read_csv('/content/SafeBite_preprocessed_data.csv')"
      ],
      "metadata": {
        "id": "o_-MemxMHzIC"
      },
      "execution_count": null,
      "outputs": []
    },
    {
      "cell_type": "code",
      "source": [
        "df.head(10)"
      ],
      "metadata": {
        "colab": {
          "base_uri": "https://localhost:8080/",
          "height": 363
        },
        "id": "TPrpJYl5HzPY",
        "outputId": "f17f2025-3658-4aa1-fea8-f8f751cd6ced"
      },
      "execution_count": null,
      "outputs": [
        {
          "output_type": "execute_result",
          "data": {
            "text/plain": [
              "   Food Product  Main Ingredient  Sweetener    Fat/Oil  Seasoning  Allergens  \\\n",
              "0      6.170000         6.170000  12.343736  12.471786  13.408000   6.170000   \n",
              "1     10.150000        10.150000  12.387473  12.519167  13.806000  10.150000   \n",
              "2     12.500000        17.480000  12.371511  12.031228  11.584000  17.480000   \n",
              "3     13.223333        19.650000  12.379317  12.069298  11.801000  19.650000   \n",
              "4     12.397588        17.925000  12.403237  12.185965  12.466000  12.072073   \n",
              "5     12.397588        12.397588  12.346264  11.857381  13.725000  12.083171   \n",
              "6     12.397588        12.397588  12.387802  12.519524  12.935000  12.129268   \n",
              "7     17.330000        14.970000  12.388273  13.072697  13.690000  12.021341   \n",
              "8     12.397588        10.980000  12.397410  14.203333  10.980000  12.052317   \n",
              "9     10.675000        10.056667  13.222727  12.052500  12.732105  12.041098   \n",
              "\n",
              "   Price ($)  Customer rating (Out of 5)  Prediction  \n",
              "0      10.15                         3.1           0  \n",
              "1       6.17                         4.5           0  \n",
              "2      19.65                         4.1           0  \n",
              "3      17.48                         4.7           0  \n",
              "4      10.83                         3.7           0  \n",
              "5       9.92                         2.3           0  \n",
              "6       6.14                         3.2           0  \n",
              "7      14.99                         4.8           0  \n",
              "8      12.45                         3.8           0  \n",
              "9      13.37                         3.2           0  "
            ],
            "text/html": [
              "\n",
              "  <div id=\"df-f4fa4de7-f4bd-4dd8-96f1-6b47dea64a4f\" class=\"colab-df-container\">\n",
              "    <div>\n",
              "<style scoped>\n",
              "    .dataframe tbody tr th:only-of-type {\n",
              "        vertical-align: middle;\n",
              "    }\n",
              "\n",
              "    .dataframe tbody tr th {\n",
              "        vertical-align: top;\n",
              "    }\n",
              "\n",
              "    .dataframe thead th {\n",
              "        text-align: right;\n",
              "    }\n",
              "</style>\n",
              "<table border=\"1\" class=\"dataframe\">\n",
              "  <thead>\n",
              "    <tr style=\"text-align: right;\">\n",
              "      <th></th>\n",
              "      <th>Food Product</th>\n",
              "      <th>Main Ingredient</th>\n",
              "      <th>Sweetener</th>\n",
              "      <th>Fat/Oil</th>\n",
              "      <th>Seasoning</th>\n",
              "      <th>Allergens</th>\n",
              "      <th>Price ($)</th>\n",
              "      <th>Customer rating (Out of 5)</th>\n",
              "      <th>Prediction</th>\n",
              "    </tr>\n",
              "  </thead>\n",
              "  <tbody>\n",
              "    <tr>\n",
              "      <th>0</th>\n",
              "      <td>6.170000</td>\n",
              "      <td>6.170000</td>\n",
              "      <td>12.343736</td>\n",
              "      <td>12.471786</td>\n",
              "      <td>13.408000</td>\n",
              "      <td>6.170000</td>\n",
              "      <td>10.15</td>\n",
              "      <td>3.1</td>\n",
              "      <td>0</td>\n",
              "    </tr>\n",
              "    <tr>\n",
              "      <th>1</th>\n",
              "      <td>10.150000</td>\n",
              "      <td>10.150000</td>\n",
              "      <td>12.387473</td>\n",
              "      <td>12.519167</td>\n",
              "      <td>13.806000</td>\n",
              "      <td>10.150000</td>\n",
              "      <td>6.17</td>\n",
              "      <td>4.5</td>\n",
              "      <td>0</td>\n",
              "    </tr>\n",
              "    <tr>\n",
              "      <th>2</th>\n",
              "      <td>12.500000</td>\n",
              "      <td>17.480000</td>\n",
              "      <td>12.371511</td>\n",
              "      <td>12.031228</td>\n",
              "      <td>11.584000</td>\n",
              "      <td>17.480000</td>\n",
              "      <td>19.65</td>\n",
              "      <td>4.1</td>\n",
              "      <td>0</td>\n",
              "    </tr>\n",
              "    <tr>\n",
              "      <th>3</th>\n",
              "      <td>13.223333</td>\n",
              "      <td>19.650000</td>\n",
              "      <td>12.379317</td>\n",
              "      <td>12.069298</td>\n",
              "      <td>11.801000</td>\n",
              "      <td>19.650000</td>\n",
              "      <td>17.48</td>\n",
              "      <td>4.7</td>\n",
              "      <td>0</td>\n",
              "    </tr>\n",
              "    <tr>\n",
              "      <th>4</th>\n",
              "      <td>12.397588</td>\n",
              "      <td>17.925000</td>\n",
              "      <td>12.403237</td>\n",
              "      <td>12.185965</td>\n",
              "      <td>12.466000</td>\n",
              "      <td>12.072073</td>\n",
              "      <td>10.83</td>\n",
              "      <td>3.7</td>\n",
              "      <td>0</td>\n",
              "    </tr>\n",
              "    <tr>\n",
              "      <th>5</th>\n",
              "      <td>12.397588</td>\n",
              "      <td>12.397588</td>\n",
              "      <td>12.346264</td>\n",
              "      <td>11.857381</td>\n",
              "      <td>13.725000</td>\n",
              "      <td>12.083171</td>\n",
              "      <td>9.92</td>\n",
              "      <td>2.3</td>\n",
              "      <td>0</td>\n",
              "    </tr>\n",
              "    <tr>\n",
              "      <th>6</th>\n",
              "      <td>12.397588</td>\n",
              "      <td>12.397588</td>\n",
              "      <td>12.387802</td>\n",
              "      <td>12.519524</td>\n",
              "      <td>12.935000</td>\n",
              "      <td>12.129268</td>\n",
              "      <td>6.14</td>\n",
              "      <td>3.2</td>\n",
              "      <td>0</td>\n",
              "    </tr>\n",
              "    <tr>\n",
              "      <th>7</th>\n",
              "      <td>17.330000</td>\n",
              "      <td>14.970000</td>\n",
              "      <td>12.388273</td>\n",
              "      <td>13.072697</td>\n",
              "      <td>13.690000</td>\n",
              "      <td>12.021341</td>\n",
              "      <td>14.99</td>\n",
              "      <td>4.8</td>\n",
              "      <td>0</td>\n",
              "    </tr>\n",
              "    <tr>\n",
              "      <th>8</th>\n",
              "      <td>12.397588</td>\n",
              "      <td>10.980000</td>\n",
              "      <td>12.397410</td>\n",
              "      <td>14.203333</td>\n",
              "      <td>10.980000</td>\n",
              "      <td>12.052317</td>\n",
              "      <td>12.45</td>\n",
              "      <td>3.8</td>\n",
              "      <td>0</td>\n",
              "    </tr>\n",
              "    <tr>\n",
              "      <th>9</th>\n",
              "      <td>10.675000</td>\n",
              "      <td>10.056667</td>\n",
              "      <td>13.222727</td>\n",
              "      <td>12.052500</td>\n",
              "      <td>12.732105</td>\n",
              "      <td>12.041098</td>\n",
              "      <td>13.37</td>\n",
              "      <td>3.2</td>\n",
              "      <td>0</td>\n",
              "    </tr>\n",
              "  </tbody>\n",
              "</table>\n",
              "</div>\n",
              "    <div class=\"colab-df-buttons\">\n",
              "\n",
              "  <div class=\"colab-df-container\">\n",
              "    <button class=\"colab-df-convert\" onclick=\"convertToInteractive('df-f4fa4de7-f4bd-4dd8-96f1-6b47dea64a4f')\"\n",
              "            title=\"Convert this dataframe to an interactive table.\"\n",
              "            style=\"display:none;\">\n",
              "\n",
              "  <svg xmlns=\"http://www.w3.org/2000/svg\" height=\"24px\" viewBox=\"0 -960 960 960\">\n",
              "    <path d=\"M120-120v-720h720v720H120Zm60-500h600v-160H180v160Zm220 220h160v-160H400v160Zm0 220h160v-160H400v160ZM180-400h160v-160H180v160Zm440 0h160v-160H620v160ZM180-180h160v-160H180v160Zm440 0h160v-160H620v160Z\"/>\n",
              "  </svg>\n",
              "    </button>\n",
              "\n",
              "  <style>\n",
              "    .colab-df-container {\n",
              "      display:flex;\n",
              "      gap: 12px;\n",
              "    }\n",
              "\n",
              "    .colab-df-convert {\n",
              "      background-color: #E8F0FE;\n",
              "      border: none;\n",
              "      border-radius: 50%;\n",
              "      cursor: pointer;\n",
              "      display: none;\n",
              "      fill: #1967D2;\n",
              "      height: 32px;\n",
              "      padding: 0 0 0 0;\n",
              "      width: 32px;\n",
              "    }\n",
              "\n",
              "    .colab-df-convert:hover {\n",
              "      background-color: #E2EBFA;\n",
              "      box-shadow: 0px 1px 2px rgba(60, 64, 67, 0.3), 0px 1px 3px 1px rgba(60, 64, 67, 0.15);\n",
              "      fill: #174EA6;\n",
              "    }\n",
              "\n",
              "    .colab-df-buttons div {\n",
              "      margin-bottom: 4px;\n",
              "    }\n",
              "\n",
              "    [theme=dark] .colab-df-convert {\n",
              "      background-color: #3B4455;\n",
              "      fill: #D2E3FC;\n",
              "    }\n",
              "\n",
              "    [theme=dark] .colab-df-convert:hover {\n",
              "      background-color: #434B5C;\n",
              "      box-shadow: 0px 1px 3px 1px rgba(0, 0, 0, 0.15);\n",
              "      filter: drop-shadow(0px 1px 2px rgba(0, 0, 0, 0.3));\n",
              "      fill: #FFFFFF;\n",
              "    }\n",
              "  </style>\n",
              "\n",
              "    <script>\n",
              "      const buttonEl =\n",
              "        document.querySelector('#df-f4fa4de7-f4bd-4dd8-96f1-6b47dea64a4f button.colab-df-convert');\n",
              "      buttonEl.style.display =\n",
              "        google.colab.kernel.accessAllowed ? 'block' : 'none';\n",
              "\n",
              "      async function convertToInteractive(key) {\n",
              "        const element = document.querySelector('#df-f4fa4de7-f4bd-4dd8-96f1-6b47dea64a4f');\n",
              "        const dataTable =\n",
              "          await google.colab.kernel.invokeFunction('convertToInteractive',\n",
              "                                                    [key], {});\n",
              "        if (!dataTable) return;\n",
              "\n",
              "        const docLinkHtml = 'Like what you see? Visit the ' +\n",
              "          '<a target=\"_blank\" href=https://colab.research.google.com/notebooks/data_table.ipynb>data table notebook</a>'\n",
              "          + ' to learn more about interactive tables.';\n",
              "        element.innerHTML = '';\n",
              "        dataTable['output_type'] = 'display_data';\n",
              "        await google.colab.output.renderOutput(dataTable, element);\n",
              "        const docLink = document.createElement('div');\n",
              "        docLink.innerHTML = docLinkHtml;\n",
              "        element.appendChild(docLink);\n",
              "      }\n",
              "    </script>\n",
              "  </div>\n",
              "\n",
              "\n",
              "<div id=\"df-27abb77c-9943-4b46-9988-113ae17fefd4\">\n",
              "  <button class=\"colab-df-quickchart\" onclick=\"quickchart('df-27abb77c-9943-4b46-9988-113ae17fefd4')\"\n",
              "            title=\"Suggest charts\"\n",
              "            style=\"display:none;\">\n",
              "\n",
              "<svg xmlns=\"http://www.w3.org/2000/svg\" height=\"24px\"viewBox=\"0 0 24 24\"\n",
              "     width=\"24px\">\n",
              "    <g>\n",
              "        <path d=\"M19 3H5c-1.1 0-2 .9-2 2v14c0 1.1.9 2 2 2h14c1.1 0 2-.9 2-2V5c0-1.1-.9-2-2-2zM9 17H7v-7h2v7zm4 0h-2V7h2v10zm4 0h-2v-4h2v4z\"/>\n",
              "    </g>\n",
              "</svg>\n",
              "  </button>\n",
              "\n",
              "<style>\n",
              "  .colab-df-quickchart {\n",
              "      --bg-color: #E8F0FE;\n",
              "      --fill-color: #1967D2;\n",
              "      --hover-bg-color: #E2EBFA;\n",
              "      --hover-fill-color: #174EA6;\n",
              "      --disabled-fill-color: #AAA;\n",
              "      --disabled-bg-color: #DDD;\n",
              "  }\n",
              "\n",
              "  [theme=dark] .colab-df-quickchart {\n",
              "      --bg-color: #3B4455;\n",
              "      --fill-color: #D2E3FC;\n",
              "      --hover-bg-color: #434B5C;\n",
              "      --hover-fill-color: #FFFFFF;\n",
              "      --disabled-bg-color: #3B4455;\n",
              "      --disabled-fill-color: #666;\n",
              "  }\n",
              "\n",
              "  .colab-df-quickchart {\n",
              "    background-color: var(--bg-color);\n",
              "    border: none;\n",
              "    border-radius: 50%;\n",
              "    cursor: pointer;\n",
              "    display: none;\n",
              "    fill: var(--fill-color);\n",
              "    height: 32px;\n",
              "    padding: 0;\n",
              "    width: 32px;\n",
              "  }\n",
              "\n",
              "  .colab-df-quickchart:hover {\n",
              "    background-color: var(--hover-bg-color);\n",
              "    box-shadow: 0 1px 2px rgba(60, 64, 67, 0.3), 0 1px 3px 1px rgba(60, 64, 67, 0.15);\n",
              "    fill: var(--button-hover-fill-color);\n",
              "  }\n",
              "\n",
              "  .colab-df-quickchart-complete:disabled,\n",
              "  .colab-df-quickchart-complete:disabled:hover {\n",
              "    background-color: var(--disabled-bg-color);\n",
              "    fill: var(--disabled-fill-color);\n",
              "    box-shadow: none;\n",
              "  }\n",
              "\n",
              "  .colab-df-spinner {\n",
              "    border: 2px solid var(--fill-color);\n",
              "    border-color: transparent;\n",
              "    border-bottom-color: var(--fill-color);\n",
              "    animation:\n",
              "      spin 1s steps(1) infinite;\n",
              "  }\n",
              "\n",
              "  @keyframes spin {\n",
              "    0% {\n",
              "      border-color: transparent;\n",
              "      border-bottom-color: var(--fill-color);\n",
              "      border-left-color: var(--fill-color);\n",
              "    }\n",
              "    20% {\n",
              "      border-color: transparent;\n",
              "      border-left-color: var(--fill-color);\n",
              "      border-top-color: var(--fill-color);\n",
              "    }\n",
              "    30% {\n",
              "      border-color: transparent;\n",
              "      border-left-color: var(--fill-color);\n",
              "      border-top-color: var(--fill-color);\n",
              "      border-right-color: var(--fill-color);\n",
              "    }\n",
              "    40% {\n",
              "      border-color: transparent;\n",
              "      border-right-color: var(--fill-color);\n",
              "      border-top-color: var(--fill-color);\n",
              "    }\n",
              "    60% {\n",
              "      border-color: transparent;\n",
              "      border-right-color: var(--fill-color);\n",
              "    }\n",
              "    80% {\n",
              "      border-color: transparent;\n",
              "      border-right-color: var(--fill-color);\n",
              "      border-bottom-color: var(--fill-color);\n",
              "    }\n",
              "    90% {\n",
              "      border-color: transparent;\n",
              "      border-bottom-color: var(--fill-color);\n",
              "    }\n",
              "  }\n",
              "</style>\n",
              "\n",
              "  <script>\n",
              "    async function quickchart(key) {\n",
              "      const quickchartButtonEl =\n",
              "        document.querySelector('#' + key + ' button');\n",
              "      quickchartButtonEl.disabled = true;  // To prevent multiple clicks.\n",
              "      quickchartButtonEl.classList.add('colab-df-spinner');\n",
              "      try {\n",
              "        const charts = await google.colab.kernel.invokeFunction(\n",
              "            'suggestCharts', [key], {});\n",
              "      } catch (error) {\n",
              "        console.error('Error during call to suggestCharts:', error);\n",
              "      }\n",
              "      quickchartButtonEl.classList.remove('colab-df-spinner');\n",
              "      quickchartButtonEl.classList.add('colab-df-quickchart-complete');\n",
              "    }\n",
              "    (() => {\n",
              "      let quickchartButtonEl =\n",
              "        document.querySelector('#df-27abb77c-9943-4b46-9988-113ae17fefd4 button');\n",
              "      quickchartButtonEl.style.display =\n",
              "        google.colab.kernel.accessAllowed ? 'block' : 'none';\n",
              "    })();\n",
              "  </script>\n",
              "</div>\n",
              "\n",
              "    </div>\n",
              "  </div>\n"
            ],
            "application/vnd.google.colaboratory.intrinsic+json": {
              "type": "dataframe",
              "variable_name": "df",
              "summary": "{\n  \"name\": \"df\",\n  \"rows\": 398,\n  \"fields\": [\n    {\n      \"column\": \"Food Product\",\n      \"properties\": {\n        \"dtype\": \"number\",\n        \"std\": 3.0467359028708034,\n        \"min\": 5.109999999999999,\n        \"max\": 19.84,\n        \"num_unique_values\": 240,\n        \"samples\": [\n          19.745,\n          10.675,\n          19.43\n        ],\n        \"semantic_type\": \"\",\n        \"description\": \"\"\n      }\n    },\n    {\n      \"column\": \"Main Ingredient\",\n      \"properties\": {\n        \"dtype\": \"number\",\n        \"std\": 2.3251267799129813,\n        \"min\": 5.170000000000002,\n        \"max\": 19.649999999999995,\n        \"num_unique_values\": 364,\n        \"samples\": [\n          10.472500000000002,\n          14.763333333333334,\n          11.3175\n        ],\n        \"semantic_type\": \"\",\n        \"description\": \"\"\n      }\n    },\n    {\n      \"column\": \"Sweetener\",\n      \"properties\": {\n        \"dtype\": \"number\",\n        \"std\": 0.5874896449488994,\n        \"min\": 8.125,\n        \"max\": 18.4,\n        \"num_unique_values\": 366,\n        \"samples\": [\n          12.370755395683451,\n          12.411007194244604,\n          12.371115107913669\n        ],\n        \"semantic_type\": \"\",\n        \"description\": \"\"\n      }\n    },\n    {\n      \"column\": \"Fat/Oil\",\n      \"properties\": {\n        \"dtype\": \"number\",\n        \"std\": 1.343507897098344,\n        \"min\": 5.550000000000001,\n        \"max\": 19.559999999999995,\n        \"num_unique_values\": 380,\n        \"samples\": [\n          11.703809523809523,\n          12.834444444444443,\n          11.714999999999998\n        ],\n        \"semantic_type\": \"\",\n        \"description\": \"\"\n      }\n    },\n    {\n      \"column\": \"Seasoning\",\n      \"properties\": {\n        \"dtype\": \"number\",\n        \"std\": 2.746973566534729,\n        \"min\": 5.07,\n        \"max\": 19.93,\n        \"num_unique_values\": 294,\n        \"samples\": [\n          8.745,\n          12.732105263157894,\n          13.251428571428573\n        ],\n        \"semantic_type\": \"\",\n        \"description\": \"\"\n      }\n    },\n    {\n      \"column\": \"Allergens\",\n      \"properties\": {\n        \"dtype\": \"number\",\n        \"std\": 1.3290715950287684,\n        \"min\": 5.07,\n        \"max\": 19.649999999999995,\n        \"num_unique_values\": 367,\n        \"samples\": [\n          12.194897959183674,\n          12.115731707317073,\n          11.963170731707317\n        ],\n        \"semantic_type\": \"\",\n        \"description\": \"\"\n      }\n    },\n    {\n      \"column\": \"Price ($)\",\n      \"properties\": {\n        \"dtype\": \"number\",\n        \"std\": 4.372773354765413,\n        \"min\": 5.07,\n        \"max\": 19.93,\n        \"num_unique_values\": 344,\n        \"samples\": [\n          6.78,\n          9.35,\n          8.1\n        ],\n        \"semantic_type\": \"\",\n        \"description\": \"\"\n      }\n    },\n    {\n      \"column\": \"Customer rating (Out of 5)\",\n      \"properties\": {\n        \"dtype\": \"number\",\n        \"std\": 1.170676687080796,\n        \"min\": 1.0,\n        \"max\": 5.0,\n        \"num_unique_values\": 41,\n        \"samples\": [\n          2.2,\n          3.3,\n          3.8\n        ],\n        \"semantic_type\": \"\",\n        \"description\": \"\"\n      }\n    },\n    {\n      \"column\": \"Prediction\",\n      \"properties\": {\n        \"dtype\": \"number\",\n        \"std\": 0,\n        \"min\": 0,\n        \"max\": 1,\n        \"num_unique_values\": 2,\n        \"samples\": [\n          1,\n          0\n        ],\n        \"semantic_type\": \"\",\n        \"description\": \"\"\n      }\n    }\n  ]\n}"
            }
          },
          "metadata": {},
          "execution_count": 3
        }
      ]
    },
    {
      "cell_type": "code",
      "source": [
        "df.info()"
      ],
      "metadata": {
        "colab": {
          "base_uri": "https://localhost:8080/"
        },
        "id": "weVAvuJqHzVf",
        "outputId": "2c6f714a-fa2c-4121-8c0d-26b57202d70e"
      },
      "execution_count": null,
      "outputs": [
        {
          "output_type": "stream",
          "name": "stdout",
          "text": [
            "<class 'pandas.core.frame.DataFrame'>\n",
            "RangeIndex: 398 entries, 0 to 397\n",
            "Data columns (total 9 columns):\n",
            " #   Column                      Non-Null Count  Dtype  \n",
            "---  ------                      --------------  -----  \n",
            " 0   Food Product                398 non-null    float64\n",
            " 1   Main Ingredient             398 non-null    float64\n",
            " 2   Sweetener                   398 non-null    float64\n",
            " 3   Fat/Oil                     398 non-null    float64\n",
            " 4   Seasoning                   398 non-null    float64\n",
            " 5   Allergens                   398 non-null    float64\n",
            " 6   Price ($)                   398 non-null    float64\n",
            " 7   Customer rating (Out of 5)  398 non-null    float64\n",
            " 8   Prediction                  398 non-null    int64  \n",
            "dtypes: float64(8), int64(1)\n",
            "memory usage: 28.1 KB\n"
          ]
        }
      ]
    },
    {
      "cell_type": "code",
      "source": [
        "df.shape"
      ],
      "metadata": {
        "colab": {
          "base_uri": "https://localhost:8080/"
        },
        "id": "C3CH7S9FHzwS",
        "outputId": "aec86eb9-0496-4c6b-e8ba-fadebc5bee8d"
      },
      "execution_count": null,
      "outputs": [
        {
          "output_type": "execute_result",
          "data": {
            "text/plain": [
              "(398, 9)"
            ]
          },
          "metadata": {},
          "execution_count": 5
        }
      ]
    },
    {
      "cell_type": "markdown",
      "source": [
        "#**Splitting the Dataset:**"
      ],
      "metadata": {
        "id": "wu9HeUKtFPZo"
      }
    },
    {
      "cell_type": "code",
      "source": [
        "from sklearn.model_selection import train_test_split\n",
        "\n",
        "# Splitting the dataset into X (features) and y (target variable):\n",
        "\n",
        "X = df.drop(columns=['Prediction'])\n",
        "y = df['Prediction']\n",
        "\n",
        "print(\"Shape of X (features):\", X.shape)\n",
        "print(\"Shape of y (target):\", y.shape)\n",
        "\n",
        "# 80-20 Split:\n",
        "\n",
        "X_train_80, X_test_80, y_train_80, y_test_80 = train_test_split(X, y, test_size=0.2, random_state=42)\n",
        "\n",
        "print(\"\\n80:20 Split:\")\n",
        "print(\"X_train_80 shape:\", X_train_80.shape)\n",
        "print(\"X_test_80 shape:\", X_test_80.shape)\n",
        "print(\"y_train_80 shape:\", y_train_80.shape)\n",
        "print(\"y_test_80 shape:\", y_test_80.shape)"
      ],
      "metadata": {
        "id": "nTkn8kYqR1Vk",
        "colab": {
          "base_uri": "https://localhost:8080/"
        },
        "outputId": "47198f41-0b10-4f8b-bfcc-7a6f7bf80ebd"
      },
      "execution_count": null,
      "outputs": [
        {
          "output_type": "stream",
          "name": "stdout",
          "text": [
            "Shape of X (features): (398, 8)\n",
            "Shape of y (target): (398,)\n",
            "\n",
            "80:20 Split:\n",
            "X_train_80 shape: (318, 8)\n",
            "X_test_80 shape: (80, 8)\n",
            "y_train_80 shape: (318,)\n",
            "y_test_80 shape: (80,)\n"
          ]
        }
      ]
    },
    {
      "cell_type": "code",
      "source": [
        "# 70-30 Split:\n",
        "\n",
        "X_train_70, X_test_70, y_train_70, y_test_70 = train_test_split(X, y, test_size=0.3, random_state=42)\n",
        "\n",
        "print(\"\\n70:30 Split:\")\n",
        "print(\"X_train_70 shape:\", X_train_70.shape)\n",
        "print(\"X_test_70 shape:\", X_test_70.shape)\n",
        "print(\"y_train_70 shape:\", y_train_70.shape)\n",
        "print(\"y_test_70 shape:\", y_test_70.shape)"
      ],
      "metadata": {
        "id": "npCi2cTVR1c5",
        "colab": {
          "base_uri": "https://localhost:8080/"
        },
        "outputId": "29660426-88eb-4a13-cd74-c2935280c768"
      },
      "execution_count": null,
      "outputs": [
        {
          "output_type": "stream",
          "name": "stdout",
          "text": [
            "\n",
            "70:30 Split:\n",
            "X_train_70 shape: (278, 8)\n",
            "X_test_70 shape: (120, 8)\n",
            "y_train_70 shape: (278,)\n",
            "y_test_70 shape: (120,)\n"
          ]
        }
      ]
    },
    {
      "cell_type": "code",
      "source": [
        "print(X_train_70.head())"
      ],
      "metadata": {
        "colab": {
          "base_uri": "https://localhost:8080/"
        },
        "id": "xUEV6t_PG7gm",
        "outputId": "e12f41f8-8c54-4352-9fd4-eb611433a85f"
      },
      "execution_count": null,
      "outputs": [
        {
          "output_type": "stream",
          "name": "stdout",
          "text": [
            "     Food Product  Main Ingredient  Sweetener    Fat/Oil  Seasoning  \\\n",
            "157     12.397588        11.913500  12.419388  13.169888  12.397588   \n",
            "109      9.550000        12.446000  12.400108  13.109663  10.360000   \n",
            "17      14.990000        14.385000  12.379856  13.046404  12.595000   \n",
            "253     18.760000        15.433636  12.415324  12.244912  18.760000   \n",
            "24      15.675000        11.834667  12.402374  12.397588  12.397588   \n",
            "\n",
            "     Allergens  Price ($)  Customer rating (Out of 5)  \n",
            "157  12.205238       6.34                         3.1  \n",
            "109   9.028333      11.70                         4.5  \n",
            "17   11.992805      17.33                         3.1  \n",
            "253  12.197551       7.47                         2.4  \n",
            "24   12.069146      11.07                         4.4  \n"
          ]
        }
      ]
    },
    {
      "cell_type": "code",
      "source": [
        "print(X_test_70.head())"
      ],
      "metadata": {
        "colab": {
          "base_uri": "https://localhost:8080/"
        },
        "id": "o2eSaf0Aevya",
        "outputId": "5efb7fc0-e8c6-442b-eff7-0ca5a2a4dd20"
      },
      "execution_count": null,
      "outputs": [
        {
          "output_type": "stream",
          "name": "stdout",
          "text": [
            "     Food Product  Main Ingredient  Sweetener    Fat/Oil  Seasoning  \\\n",
            "198     12.397588        11.914833  12.419676  13.170787  12.397588   \n",
            "396     16.560000        14.556667  12.281319  12.404167  12.670000   \n",
            "33      13.930000        14.760000  12.411007  12.489405  12.397588   \n",
            "208     17.430000        13.085000  12.421871  13.177640  12.440000   \n",
            "93      12.397588        12.397588  12.392590  12.134035  12.397588   \n",
            "\n",
            "     Allergens  Price ($)  Customer rating (Out of 5)  \n",
            "198  12.205782       6.26                         3.0  \n",
            "396  12.310000      15.83                         2.4  \n",
            "33   12.098415       8.67                         4.9  \n",
            "208  12.209932       5.65                         3.9  \n",
            "93   13.470000      13.79                         2.2  \n"
          ]
        }
      ]
    },
    {
      "cell_type": "markdown",
      "source": [
        "# **LOGISTIC REGRESSION MODEL :**"
      ],
      "metadata": {
        "id": "Pma_1ZwlFhQG"
      }
    },
    {
      "cell_type": "code",
      "source": [
        "from sklearn.linear_model import LogisticRegression\n",
        "from sklearn.metrics import accuracy_score, classification_report, confusion_matrix\n",
        "\n",
        "# Initialize the Logistic Regression model\n",
        "logreg = LogisticRegression(max_iter=1000, random_state=42)\n",
        "\n",
        "# Train the model on the 80:20 split\n",
        "logreg.fit(X_train_80, y_train_80)\n",
        "\n",
        "y_pred_80 = logreg.predict(X_test_80)\n",
        "\n",
        "accuracy_80 = accuracy_score(y_test_80, y_pred_80)\n",
        "print(\"Accuracy on 80:20 split (in %):\", accuracy_80*100)\n",
        "\n",
        "print(\"\\nClassification Report on 80:20 split:\\n\", classification_report(y_test_80, y_pred_80))\n",
        "\n",
        "print(\"Confusion Matrix on 80:20 split:\\n\", confusion_matrix(y_test_80, y_pred_80))"
      ],
      "metadata": {
        "id": "bDB-m7gSR1j4",
        "colab": {
          "base_uri": "https://localhost:8080/"
        },
        "outputId": "d25e2c43-314a-4106-d3b3-d7c1d05be6ee"
      },
      "execution_count": null,
      "outputs": [
        {
          "output_type": "stream",
          "name": "stdout",
          "text": [
            "Accuracy on 80:20 split (in %): 63.74999999999999\n",
            "\n",
            "Classification Report on 80:20 split:\n",
            "               precision    recall  f1-score   support\n",
            "\n",
            "           0       0.70      0.86      0.78        58\n",
            "           1       0.11      0.05      0.06        22\n",
            "\n",
            "    accuracy                           0.64        80\n",
            "   macro avg       0.41      0.45      0.42        80\n",
            "weighted avg       0.54      0.64      0.58        80\n",
            "\n",
            "Confusion Matrix on 80:20 split:\n",
            " [[50  8]\n",
            " [21  1]]\n"
          ]
        }
      ]
    },
    {
      "cell_type": "code",
      "source": [
        "# LOGISTIC REGRESSION (Without Scaling):\n",
        "\n",
        "logreg = LogisticRegression(max_iter=1000, random_state=42)\n",
        "\n",
        "# Train the model on the 70:30 split:\n",
        "logreg.fit(X_train_70, y_train_70)\n",
        "\n",
        "y_pred_70 = logreg.predict(X_test_70)\n",
        "\n",
        "accuracy_70 = accuracy_score(y_test_70, y_pred_70)\n",
        "\n",
        "print(\"Accuracy on 70:30 split (in %):\", accuracy_70*100)\n",
        "\n",
        "print(\"\\nClassification Report on 70:30 split:\\n\", classification_report(y_test_70, y_pred_70))\n",
        "\n",
        "print(\"Confusion Matrix on 70:30 split:\\n\", confusion_matrix(y_test_70, y_pred_70))"
      ],
      "metadata": {
        "id": "6HxLsHTiR1rT",
        "colab": {
          "base_uri": "https://localhost:8080/"
        },
        "outputId": "ed9b7367-ddf4-40a4-981a-7fc02ccf4be6"
      },
      "execution_count": null,
      "outputs": [
        {
          "output_type": "stream",
          "name": "stdout",
          "text": [
            "Accuracy on 70:30 split (in %): 61.66666666666667\n",
            "\n",
            "Classification Report on 70:30 split:\n",
            "               precision    recall  f1-score   support\n",
            "\n",
            "           0       0.70      0.84      0.76        87\n",
            "           1       0.07      0.03      0.04        33\n",
            "\n",
            "    accuracy                           0.62       120\n",
            "   macro avg       0.38      0.43      0.40       120\n",
            "weighted avg       0.52      0.62      0.56       120\n",
            "\n",
            "Confusion Matrix on 70:30 split:\n",
            " [[73 14]\n",
            " [32  1]]\n"
          ]
        }
      ]
    },
    {
      "cell_type": "code",
      "source": [
        "logreg_train_accuracy = logreg.score(X_train_70, y_train_70)\n",
        "logreg_test_accuracy = logreg.score(X_test_70, y_test_70)\n",
        "\n",
        "print(\"Logistic Regression Training Accuracy (in %):\", logreg_train_accuracy*100)\n",
        "print(\"\\nLogistic Regression Testing Accuracy (in %):\", logreg_test_accuracy*100)"
      ],
      "metadata": {
        "colab": {
          "base_uri": "https://localhost:8080/"
        },
        "id": "6o0knJ1iNSuu",
        "outputId": "f678b671-749a-4c52-b6be-3d0bfd143464"
      },
      "execution_count": null,
      "outputs": [
        {
          "output_type": "stream",
          "name": "stdout",
          "text": [
            "Logistic Regression Training Accuracy (in %): 58.63309352517986\n",
            "\n",
            "Logistic Regression Testing Accuracy (in %): 61.66666666666667\n"
          ]
        }
      ]
    },
    {
      "cell_type": "code",
      "source": [
        "# LOGISTIC REGRESSION (After Scaling):\n",
        "\n",
        "from sklearn.preprocessing import StandardScaler\n",
        "\n",
        "scaler = StandardScaler()\n",
        "\n",
        "# Scaling for 70:30 split:\n",
        "X_train_70_scaled = scaler.fit_transform(X_train_70)\n",
        "X_test_70_scaled = scaler.transform(X_test_70)\n",
        "\n",
        "# Training and evaluating on 70:30 split:\n",
        "logreg.fit(X_train_70_scaled, y_train_70)\n",
        "y_pred_70_scaled = logreg.predict(X_test_70_scaled)\n",
        "\n",
        "accuracy_70_scaled = accuracy_score(y_test_70, y_pred_70_scaled)\n",
        "\n",
        "print(\"Results on 70:30 split after scaling:\")\n",
        "print(\"\\nAccuracy (in %):\", accuracy_70_scaled*100)\n",
        "\n",
        "print(\"\\nClassification Report:\\n\", classification_report(y_test_70, y_pred_70_scaled))\n",
        "\n",
        "print(\"Confusion Matrix:\\n\", confusion_matrix(y_test_70, y_pred_70_scaled))"
      ],
      "metadata": {
        "id": "K8XTRYqkR1zX",
        "colab": {
          "base_uri": "https://localhost:8080/"
        },
        "outputId": "7dbbadb7-bfc6-4de4-b1fc-ba34b775e990"
      },
      "execution_count": null,
      "outputs": [
        {
          "output_type": "stream",
          "name": "stdout",
          "text": [
            "Results on 70:30 split after scaling:\n",
            "\n",
            "Accuracy (in %): 61.66666666666667\n",
            "\n",
            "Classification Report:\n",
            "               precision    recall  f1-score   support\n",
            "\n",
            "           0       0.70      0.84      0.76        87\n",
            "           1       0.07      0.03      0.04        33\n",
            "\n",
            "    accuracy                           0.62       120\n",
            "   macro avg       0.38      0.43      0.40       120\n",
            "weighted avg       0.52      0.62      0.56       120\n",
            "\n",
            "Confusion Matrix:\n",
            " [[73 14]\n",
            " [32  1]]\n"
          ]
        }
      ]
    },
    {
      "cell_type": "code",
      "source": [
        "logreg_train_accuracy = logreg.score(X_train_70_scaled, y_train_70)\n",
        "logreg_test_accuracy = logreg.score(X_test_70_scaled, y_test_70)\n",
        "\n",
        "print(\"Logistic Regression Training Accuracy (in %):\", logreg_train_accuracy*100)\n",
        "print(\"\\nLogistic Regression Testing Accuracy (in %):\", logreg_test_accuracy*100)"
      ],
      "metadata": {
        "colab": {
          "base_uri": "https://localhost:8080/"
        },
        "id": "I4MSXISGLxxO",
        "outputId": "9bd81dd9-2ba2-4204-c790-f450208b8762"
      },
      "execution_count": null,
      "outputs": [
        {
          "output_type": "stream",
          "name": "stdout",
          "text": [
            "Logistic Regression Training Accuracy (in %): 58.63309352517986\n",
            "\n",
            "Logistic Regression Testing Accuracy (in %): 61.66666666666667\n"
          ]
        }
      ]
    },
    {
      "cell_type": "markdown",
      "source": [
        "# **RANDOM FOREST CLASSIFIER MODEL :**"
      ],
      "metadata": {
        "id": "b7zFDxTwFpMS"
      }
    },
    {
      "cell_type": "code",
      "source": [
        "# RANDOM FOREST CLASSIFIER:\n",
        "\n",
        "from sklearn.ensemble import RandomForestClassifier\n",
        "\n",
        "rf = RandomForestClassifier()\n",
        "\n",
        "\n",
        "# Training the model on the 70:30 split:\n",
        "rf.fit(X_train_70, y_train_70)\n",
        "\n",
        "# Predictions on the test set:\n",
        "y_pred_70_rf = rf.predict(X_test_70)\n",
        "\n",
        "accuracy_70_rf = accuracy_score(y_test_70, y_pred_70_rf)\n",
        "\n",
        "print(\"Random Forest Accuracy on 70:30 split (in %):\", accuracy_70_rf*100)\n",
        "\n",
        "print(\"\\nClassification Report:\\n\", classification_report(y_test_70, y_pred_70_rf))\n",
        "\n",
        "print(\"Confusion Matrix:\\n\", confusion_matrix(y_test_70, y_pred_70_rf))"
      ],
      "metadata": {
        "colab": {
          "base_uri": "https://localhost:8080/"
        },
        "id": "c2Cf4-_iI5XV",
        "outputId": "178a67af-8979-40fd-925e-fc8459a71b0e"
      },
      "execution_count": null,
      "outputs": [
        {
          "output_type": "stream",
          "name": "stdout",
          "text": [
            "Random Forest Accuracy on 70:30 split (in %): 98.33333333333333\n",
            "\n",
            "Classification Report:\n",
            "               precision    recall  f1-score   support\n",
            "\n",
            "           0       0.99      0.99      0.99        87\n",
            "           1       0.97      0.97      0.97        33\n",
            "\n",
            "    accuracy                           0.98       120\n",
            "   macro avg       0.98      0.98      0.98       120\n",
            "weighted avg       0.98      0.98      0.98       120\n",
            "\n",
            "Confusion Matrix:\n",
            " [[86  1]\n",
            " [ 1 32]]\n"
          ]
        }
      ]
    },
    {
      "cell_type": "code",
      "source": [
        "rf_train_accuracy = rf.score(X_train_70, y_train_70)\n",
        "rf_test_accuracy = rf.score(X_test_70, y_test_70)\n",
        "\n",
        "print(\"Random Forest Training Accuracy (in %):\", rf_train_accuracy*100)\n",
        "print(\"\\nRandom Forest Testing Accuracy (in %):\", rf_test_accuracy*100)"
      ],
      "metadata": {
        "colab": {
          "base_uri": "https://localhost:8080/"
        },
        "id": "DQNi8KFJMBfE",
        "outputId": "33f4f2bb-afbd-41a0-9688-5fde732802b7"
      },
      "execution_count": null,
      "outputs": [
        {
          "output_type": "stream",
          "name": "stdout",
          "text": [
            "Random Forest Training Accuracy (in %): 100.0\n",
            "\n",
            "Random Forest Testing Accuracy (in %): 98.33333333333333\n"
          ]
        }
      ]
    },
    {
      "cell_type": "markdown",
      "source": [
        "#**DECISION TREE CLASSIFIER MODEL :**"
      ],
      "metadata": {
        "id": "ocKERm_fGAEx"
      }
    },
    {
      "cell_type": "code",
      "source": [
        "# DECISION TREE CLASSIFIER:\n",
        "\n",
        "from sklearn.tree import DecisionTreeClassifier\n",
        "\n",
        "dt = DecisionTreeClassifier(random_state=42)\n",
        "# dt = DecisionTreeClassifier()\n",
        "\n",
        "# Training the model on the 70:30 split:\n",
        "dt.fit(X_train_70, y_train_70)\n",
        "\n",
        "# Predictions on the test set:\n",
        "y_pred_70_dt = dt.predict(X_test_70)\n",
        "\n",
        "accuracy_70_dt = accuracy_score(y_test_70, y_pred_70_dt)\n",
        "\n",
        "print(\"Decision Tree Accuracy on 70:30 split (in %):\", accuracy_70_dt*100)\n",
        "\n",
        "print(\"\\nClassification Report:\\n\", classification_report(y_test_70, y_pred_70_dt))\n",
        "\n",
        "print(\"Confusion Matrix:\\n\", confusion_matrix(y_test_70, y_pred_70_dt))"
      ],
      "metadata": {
        "colab": {
          "base_uri": "https://localhost:8080/"
        },
        "id": "WBhw5FnEI5di",
        "outputId": "3adce10b-4194-47ba-9dd5-b6ee2a87488b"
      },
      "execution_count": null,
      "outputs": [
        {
          "output_type": "stream",
          "name": "stdout",
          "text": [
            "Decision Tree Accuracy on 70:30 split (in %): 98.33333333333333\n",
            "\n",
            "Classification Report:\n",
            "               precision    recall  f1-score   support\n",
            "\n",
            "           0       1.00      0.98      0.99        87\n",
            "           1       0.94      1.00      0.97        33\n",
            "\n",
            "    accuracy                           0.98       120\n",
            "   macro avg       0.97      0.99      0.98       120\n",
            "weighted avg       0.98      0.98      0.98       120\n",
            "\n",
            "Confusion Matrix:\n",
            " [[85  2]\n",
            " [ 0 33]]\n"
          ]
        }
      ]
    },
    {
      "cell_type": "code",
      "source": [
        "dt_train_accuracy = dt.score(X_train_70, y_train_70)\n",
        "dt_test_accuracy = dt.score(X_test_70, y_test_70)\n",
        "\n",
        "print(\"Decision Tree Training Accuracy (in %):\", dt_train_accuracy*100)\n",
        "print(\"\\nDecision Tree Testing Accuracy (in %):\", dt_test_accuracy*100)"
      ],
      "metadata": {
        "colab": {
          "base_uri": "https://localhost:8080/"
        },
        "id": "cr7QRXyxI5jz",
        "outputId": "25cc83fe-7a9c-47df-b5b6-be6210605d28"
      },
      "execution_count": null,
      "outputs": [
        {
          "output_type": "stream",
          "name": "stdout",
          "text": [
            "Decision Tree Training Accuracy (in %): 100.0\n",
            "\n",
            "Decision Tree Testing Accuracy (in %): 98.33333333333333\n"
          ]
        }
      ]
    },
    {
      "cell_type": "markdown",
      "source": [
        "# **XGBOOST CLASSIFIER MODEL:**"
      ],
      "metadata": {
        "id": "GKzcICIDGIi2"
      }
    },
    {
      "cell_type": "code",
      "source": [
        "# XGBOOST CLASSIFIER:\n",
        "\n",
        "from xgboost import XGBClassifier\n",
        "\n",
        "# xgb = XGBClassifier(random_state=42, use_label_encoder=False, eval_metric='logloss')\n",
        "xgb = XGBClassifier()\n",
        "\n",
        "# Training the model on the 70:30 split:\n",
        "xgb.fit(X_train_70, y_train_70)\n",
        "\n",
        "# Predictions on the test set:\n",
        "y_pred_70_xgb = xgb.predict(X_test_70)\n",
        "\n",
        "# Accuracy:\n",
        "accuracy_70_xgb = accuracy_score(y_test_70, y_pred_70_xgb)\n",
        "\n",
        "print(\"XGBoost Accuracy on 70:30 split (in %):\", accuracy_70_xgb*100)\n",
        "\n",
        "print(\"\\nClassification Report:\\n\", classification_report(y_test_70, y_pred_70_xgb))\n",
        "\n",
        "print(\"Confusion Matrix:\\n\", confusion_matrix(y_test_70, y_pred_70_xgb))"
      ],
      "metadata": {
        "colab": {
          "base_uri": "https://localhost:8080/"
        },
        "id": "ntrD4oATI5pv",
        "outputId": "8d13fa07-d88e-4ac6-f934-914e2620d0db"
      },
      "execution_count": null,
      "outputs": [
        {
          "output_type": "stream",
          "name": "stdout",
          "text": [
            "XGBoost Accuracy on 70:30 split (in %): 98.33333333333333\n",
            "\n",
            "Classification Report:\n",
            "               precision    recall  f1-score   support\n",
            "\n",
            "           0       1.00      0.98      0.99        87\n",
            "           1       0.94      1.00      0.97        33\n",
            "\n",
            "    accuracy                           0.98       120\n",
            "   macro avg       0.97      0.99      0.98       120\n",
            "weighted avg       0.98      0.98      0.98       120\n",
            "\n",
            "Confusion Matrix:\n",
            " [[85  2]\n",
            " [ 0 33]]\n"
          ]
        }
      ]
    },
    {
      "cell_type": "code",
      "source": [
        "xgb_train_accuracy = xgb.score(X_train_70, y_train_70)\n",
        "xgb_test_accuracy = xgb.score(X_test_70, y_test_70)\n",
        "\n",
        "print(\"XGBoost Training Accuracy (in %):\", xgb_train_accuracy*100)\n",
        "print(\"\\nXGBoost Testing Accuracy (in %):\", xgb_test_accuracy*100)"
      ],
      "metadata": {
        "colab": {
          "base_uri": "https://localhost:8080/"
        },
        "id": "xNj4kioVI5vd",
        "outputId": "72a88905-8d73-4bf2-f8ce-45e40d152f1c"
      },
      "execution_count": null,
      "outputs": [
        {
          "output_type": "stream",
          "name": "stdout",
          "text": [
            "XGBoost Training Accuracy (in %): 100.0\n",
            "\n",
            "XGBoost Testing Accuracy (in %): 98.33333333333333\n"
          ]
        }
      ]
    },
    {
      "cell_type": "markdown",
      "source": [
        "# **ADABOOST CLASSIFIER MODEL:**"
      ],
      "metadata": {
        "id": "fQXMqNqmGMQ7"
      }
    },
    {
      "cell_type": "code",
      "source": [
        "# ADABOOST CLASSIFIER:\n",
        "\n",
        "from sklearn.ensemble import AdaBoostClassifier\n",
        "\n",
        "# ada = AdaBoostClassifier(random_state=42, n_estimators=50)\n",
        "ada = AdaBoostClassifier()\n",
        "\n",
        "# Training the model on the 70:30 split:\n",
        "ada.fit(X_train_70, y_train_70)\n",
        "\n",
        "# Predictions on the test set:\n",
        "y_pred_70_ada = ada.predict(X_test_70)\n",
        "\n",
        "# Accuracy:\n",
        "accuracy_70_ada = accuracy_score(y_test_70, y_pred_70_ada)\n",
        "\n",
        "print(\"AdaBoost Accuracy on 70:30 split (in %):\", accuracy_70_ada*100)\n",
        "\n",
        "print(\"\\nClassification Report:\\n\", classification_report(y_test_70, y_pred_70_ada))\n",
        "\n",
        "print(\"Confusion Matrix:\\n\", confusion_matrix(y_test_70, y_pred_70_ada))"
      ],
      "metadata": {
        "colab": {
          "base_uri": "https://localhost:8080/"
        },
        "id": "fvlS2uRYQDkE",
        "outputId": "886513af-c0f3-4e60-daff-e055e8c823c9"
      },
      "execution_count": null,
      "outputs": [
        {
          "output_type": "stream",
          "name": "stdout",
          "text": [
            "AdaBoost Accuracy on 70:30 split (in %): 98.33333333333333\n",
            "\n",
            "Classification Report:\n",
            "               precision    recall  f1-score   support\n",
            "\n",
            "           0       0.99      0.99      0.99        87\n",
            "           1       0.97      0.97      0.97        33\n",
            "\n",
            "    accuracy                           0.98       120\n",
            "   macro avg       0.98      0.98      0.98       120\n",
            "weighted avg       0.98      0.98      0.98       120\n",
            "\n",
            "Confusion Matrix:\n",
            " [[86  1]\n",
            " [ 1 32]]\n"
          ]
        },
        {
          "output_type": "stream",
          "name": "stderr",
          "text": [
            "/usr/local/lib/python3.10/dist-packages/sklearn/ensemble/_weight_boosting.py:527: FutureWarning: The SAMME.R algorithm (the default) is deprecated and will be removed in 1.6. Use the SAMME algorithm to circumvent this warning.\n",
            "  warnings.warn(\n"
          ]
        }
      ]
    },
    {
      "cell_type": "code",
      "source": [
        "ada_train_accuracy = ada.score(X_train_70, y_train_70)\n",
        "ada_test_accuracy = ada.score(X_test_70, y_test_70)\n",
        "\n",
        "print(\"AdaBoost Training Accuracy (in %):\", ada_train_accuracy*100)\n",
        "print(\"\\nAdaBoost Testing Accuracy (in %):\", ada_test_accuracy*100)"
      ],
      "metadata": {
        "colab": {
          "base_uri": "https://localhost:8080/"
        },
        "id": "-zYJpx5GQDqt",
        "outputId": "2edc5a8c-f456-4e46-c84e-7e8609c51253"
      },
      "execution_count": null,
      "outputs": [
        {
          "output_type": "stream",
          "name": "stdout",
          "text": [
            "AdaBoost Training Accuracy (in %): 100.0\n",
            "\n",
            "AdaBoost Testing Accuracy (in %): 98.33333333333333\n"
          ]
        }
      ]
    },
    {
      "cell_type": "markdown",
      "source": [
        "# **K NEAREST NEIGHBOURS CLASSIFIER MODEL :**"
      ],
      "metadata": {
        "id": "KNyGeQwQGSKT"
      }
    },
    {
      "cell_type": "code",
      "source": [
        "# K NEAREST NEIGHBOURS CLASSIFIER:\n",
        "\n",
        "from sklearn.neighbors import KNeighborsClassifier\n",
        "\n",
        "# Initialize KNN classifier with a chosen value of k (e.g., 5):\n",
        "knn = KNeighborsClassifier(n_neighbors=5)\n",
        "\n",
        "# Training the KNN model on the 70:30 split:\n",
        "knn.fit(X_train_70, y_train_70)\n",
        "\n",
        "# Predictions on the test set:\n",
        "y_pred_70_knn = knn.predict(X_test_70)\n",
        "\n",
        "# Accuracy of the model:\n",
        "knn_accuracy = accuracy_score(y_test_70, y_pred_70_knn)\n",
        "\n",
        "print(\"KNN Accuracy on 70:30 split (in %):\", knn_accuracy*100)\n",
        "\n",
        "print(\"\\nClassification Report:\\n\", classification_report(y_test_70, y_pred_70_knn))\n",
        "\n",
        "print(\"Confusion Matrix:\\n\", confusion_matrix(y_test_70, y_pred_70_knn))"
      ],
      "metadata": {
        "id": "4CxGzT9jQDxv",
        "colab": {
          "base_uri": "https://localhost:8080/"
        },
        "outputId": "297a2f61-99a3-4b80-f4cf-f6992f9eab0b"
      },
      "execution_count": null,
      "outputs": [
        {
          "output_type": "stream",
          "name": "stdout",
          "text": [
            "KNN Accuracy on 70:30 split (in %): 62.5\n",
            "\n",
            "Classification Report:\n",
            "               precision    recall  f1-score   support\n",
            "\n",
            "           0       0.84      0.60      0.70        87\n",
            "           1       0.40      0.70      0.51        33\n",
            "\n",
            "    accuracy                           0.62       120\n",
            "   macro avg       0.62      0.65      0.60       120\n",
            "weighted avg       0.72      0.62      0.65       120\n",
            "\n",
            "Confusion Matrix:\n",
            " [[52 35]\n",
            " [10 23]]\n"
          ]
        }
      ]
    },
    {
      "cell_type": "code",
      "source": [
        "knn_train_accuracy = knn.score(X_train_70, y_train_70)\n",
        "knn_test_accuracy = knn.score(X_test_70, y_test_70)\n",
        "\n",
        "print(\"KNN Training Accuracy (in %):\", knn_train_accuracy*100)\n",
        "print(\"\\nKNN Testing Accuracy (in %):\", knn_test_accuracy*100)"
      ],
      "metadata": {
        "id": "2-DGrVVQQD5m",
        "colab": {
          "base_uri": "https://localhost:8080/"
        },
        "outputId": "6df637af-912d-48ce-93bf-2278b3ceb1a7"
      },
      "execution_count": null,
      "outputs": [
        {
          "output_type": "stream",
          "name": "stdout",
          "text": [
            "KNN Training Accuracy (in %): 72.66187050359713\n",
            "\n",
            "KNN Testing Accuracy (in %): 62.5\n"
          ]
        }
      ]
    },
    {
      "cell_type": "markdown",
      "source": [
        "# **NAIVE BAYES CLASSIFIER MODEL :**"
      ],
      "metadata": {
        "id": "d_JMsJcyGXu4"
      }
    },
    {
      "cell_type": "code",
      "source": [
        "# NAIVE BAYES CLASSIFIER (After Scaling):\n",
        "\n",
        "from sklearn.naive_bayes import GaussianNB\n",
        "\n",
        "# Initialize Gaussian Naive Bayes classifier:\n",
        "nb = GaussianNB()\n",
        "\n",
        "# Training the Naive Bayes model on the scaled 70:30 split:\n",
        "nb.fit(X_train_70_scaled, y_train_70)\n",
        "\n",
        "# Predictions on the test set:\n",
        "y_pred_70_nb = nb.predict(X_test_70_scaled)\n",
        "\n",
        "# Accuracy:\n",
        "nb_accuracy = accuracy_score(y_test_70, y_pred_70_nb)\n",
        "\n",
        "print(\"Naive Bayes Accuracy on 70:30 split (in %):\", nb_accuracy*100)\n",
        "\n",
        "print(\"\\nClassification Report:\\n\", classification_report(y_test_70, y_pred_70_nb))\n",
        "\n",
        "print(\"Confusion Matrix:\\n\", confusion_matrix(y_test_70, y_pred_70_nb))"
      ],
      "metadata": {
        "colab": {
          "base_uri": "https://localhost:8080/"
        },
        "id": "SJOEYaxxTKxU",
        "outputId": "83636798-0606-4b03-d971-5f7e0ce68049"
      },
      "execution_count": null,
      "outputs": [
        {
          "output_type": "stream",
          "name": "stdout",
          "text": [
            "Naive Bayes Accuracy on 70:30 split (in %): 88.33333333333333\n",
            "\n",
            "Classification Report:\n",
            "               precision    recall  f1-score   support\n",
            "\n",
            "           0       0.97      0.86      0.91        87\n",
            "           1       0.72      0.94      0.82        33\n",
            "\n",
            "    accuracy                           0.88       120\n",
            "   macro avg       0.85      0.90      0.87       120\n",
            "weighted avg       0.90      0.88      0.89       120\n",
            "\n",
            "Confusion Matrix:\n",
            " [[75 12]\n",
            " [ 2 31]]\n"
          ]
        }
      ]
    },
    {
      "cell_type": "code",
      "source": [
        "nb_train_accuracy = nb.score(X_train_70_scaled, y_train_70)\n",
        "nb_test_accuracy = nb.score(X_test_70_scaled, y_test_70)\n",
        "\n",
        "print(\"Naive Bayes Training Accuracy (in %):\", nb_train_accuracy*100)\n",
        "print(\"\\nNaive Bayes Testing Accuracy (in %):\", nb_test_accuracy*100)"
      ],
      "metadata": {
        "colab": {
          "base_uri": "https://localhost:8080/"
        },
        "id": "Vfz0fGUaTK4f",
        "outputId": "a8b2ba7c-d6dd-405b-c77e-3ccda5c08c67"
      },
      "execution_count": null,
      "outputs": [
        {
          "output_type": "stream",
          "name": "stdout",
          "text": [
            "Naive Bayes Training Accuracy (in %): 89.92805755395683\n",
            "\n",
            "Naive Bayes Testing Accuracy (in %): 88.33333333333333\n"
          ]
        }
      ]
    },
    {
      "cell_type": "code",
      "source": [
        "# NAIVE BAYES CLASSIFIER (Without Scaling):\n",
        "\n",
        "from sklearn.naive_bayes import GaussianNB\n",
        "\n",
        "# Initialize Gaussian Naive Bayes classifier:\n",
        "nb = GaussianNB()\n",
        "\n",
        "# Training the Naive Bayes model on the 70:30 split:\n",
        "nb.fit(X_train_70, y_train_70)\n",
        "\n",
        "# Predictions on the test set:\n",
        "y_pred_70_nb = nb.predict(X_test_70)\n",
        "\n",
        "# Accuracy:\n",
        "nb_accuracy = accuracy_score(y_test_70, y_pred_70_nb)\n",
        "\n",
        "print(\"Naive Bayes Accuracy on 70:30 split (in %):\", nb_accuracy*100)\n",
        "\n",
        "print(\"\\nClassification Report:\\n\", classification_report(y_test_70, y_pred_70_nb))\n",
        "\n",
        "print(\"Confusion Matrix:\\n\", confusion_matrix(y_test_70, y_pred_70_nb))"
      ],
      "metadata": {
        "colab": {
          "base_uri": "https://localhost:8080/"
        },
        "id": "SjOLGch1Wntz",
        "outputId": "abb4390e-d21b-41fb-ff5e-5566d8c5dd29"
      },
      "execution_count": null,
      "outputs": [
        {
          "output_type": "stream",
          "name": "stdout",
          "text": [
            "Naive Bayes Accuracy on 70:30 split (in %): 88.33333333333333\n",
            "\n",
            "Classification Report:\n",
            "               precision    recall  f1-score   support\n",
            "\n",
            "           0       0.97      0.86      0.91        87\n",
            "           1       0.72      0.94      0.82        33\n",
            "\n",
            "    accuracy                           0.88       120\n",
            "   macro avg       0.85      0.90      0.87       120\n",
            "weighted avg       0.90      0.88      0.89       120\n",
            "\n",
            "Confusion Matrix:\n",
            " [[75 12]\n",
            " [ 2 31]]\n"
          ]
        }
      ]
    },
    {
      "cell_type": "code",
      "source": [
        "nb_train_accuracy = nb.score(X_train_70, y_train_70)\n",
        "nb_test_accuracy = nb.score(X_test_70, y_test_70)\n",
        "\n",
        "print(\"Naive Bayes Training Accuracy (in %):\", nb_train_accuracy*100)\n",
        "print(\"\\nNaive Bayes Testing Accuracy (in %):\", nb_test_accuracy*100)"
      ],
      "metadata": {
        "colab": {
          "base_uri": "https://localhost:8080/"
        },
        "id": "GE1S8zgPaSF3",
        "outputId": "7f523215-9f06-4af4-f794-9e2b13b68304"
      },
      "execution_count": null,
      "outputs": [
        {
          "output_type": "stream",
          "name": "stdout",
          "text": [
            "Naive Bayes Training Accuracy (in %): 89.92805755395683\n",
            "\n",
            "Naive Bayes Testing Accuracy (in %): 88.33333333333333\n"
          ]
        }
      ]
    },
    {
      "cell_type": "markdown",
      "source": [
        "#**MODEL ACCURACY COMPARISON :**"
      ],
      "metadata": {
        "id": "ribJ_etBGeLT"
      }
    },
    {
      "cell_type": "code",
      "source": [
        "import pandas as pd\n",
        "\n",
        "data = {\n",
        "    'Model': [\n",
        "        'Logistic Regression',\n",
        "        'Random Forest',\n",
        "        'Decision Tree',\n",
        "        'XGBoost',\n",
        "        'AdaBoost',\n",
        "        'K-Nearest Neighbors',\n",
        "        'Naive Bayes'\n",
        "    ],\n",
        "    'Training Accuracy': [\n",
        "        logreg_train_accuracy,\n",
        "        rf_train_accuracy,\n",
        "        dt_train_accuracy,\n",
        "        xgb_train_accuracy,\n",
        "        ada_train_accuracy,\n",
        "        knn_train_accuracy,\n",
        "        nb_train_accuracy\n",
        "    ],\n",
        "    'Testing Accuracy': [\n",
        "        logreg_test_accuracy,\n",
        "        rf_test_accuracy,\n",
        "        dt_test_accuracy,\n",
        "        xgb_test_accuracy,\n",
        "        ada_test_accuracy,\n",
        "        knn_test_accuracy,\n",
        "        nb_test_accuracy\n",
        "    ],\n",
        "    'Overall Accuracy': [\n",
        "        accuracy_70,\n",
        "        accuracy_70_rf,\n",
        "        accuracy_70_dt,\n",
        "        accuracy_70_xgb,\n",
        "        accuracy_70_ada,\n",
        "        knn_accuracy,\n",
        "        nb_accuracy\n",
        "    ]\n",
        "}\n",
        "\n",
        "comparison_df = pd.DataFrame(data)\n",
        "\n",
        "comparison_df['Training Accuracy'] = comparison_df['Training Accuracy'].apply(lambda x: f\"{x*100:.2f}%\")\n",
        "comparison_df['Testing Accuracy'] = comparison_df['Testing Accuracy'].apply(lambda x: f\"{x*100:.2f}%\")\n",
        "comparison_df['Overall Accuracy'] = comparison_df['Overall Accuracy'].apply(lambda x: f\"{x*100:.2f}%\")\n",
        "\n",
        "from IPython.display import display\n",
        "display(comparison_df)"
      ],
      "metadata": {
        "colab": {
          "base_uri": "https://localhost:8080/",
          "height": 269
        },
        "id": "udwJWrsnTLHO",
        "outputId": "99266e45-2e36-46cc-a9e7-ecab4a5fff5f"
      },
      "execution_count": null,
      "outputs": [
        {
          "output_type": "display_data",
          "data": {
            "text/plain": [
              "                 Model Training Accuracy Testing Accuracy Overall Accuracy\n",
              "0  Logistic Regression            58.63%           61.67%           61.67%\n",
              "1        Random Forest           100.00%           98.33%           98.33%\n",
              "2        Decision Tree           100.00%           98.33%           98.33%\n",
              "3              XGBoost           100.00%           98.33%           98.33%\n",
              "4             AdaBoost           100.00%           98.33%           98.33%\n",
              "5  K-Nearest Neighbors            72.66%           62.50%           62.50%\n",
              "6          Naive Bayes            89.93%           88.33%           88.33%"
            ],
            "text/html": [
              "\n",
              "  <div id=\"df-beac82d6-d8d3-479c-8cf1-d6b7ea33bfff\" class=\"colab-df-container\">\n",
              "    <div>\n",
              "<style scoped>\n",
              "    .dataframe tbody tr th:only-of-type {\n",
              "        vertical-align: middle;\n",
              "    }\n",
              "\n",
              "    .dataframe tbody tr th {\n",
              "        vertical-align: top;\n",
              "    }\n",
              "\n",
              "    .dataframe thead th {\n",
              "        text-align: right;\n",
              "    }\n",
              "</style>\n",
              "<table border=\"1\" class=\"dataframe\">\n",
              "  <thead>\n",
              "    <tr style=\"text-align: right;\">\n",
              "      <th></th>\n",
              "      <th>Model</th>\n",
              "      <th>Training Accuracy</th>\n",
              "      <th>Testing Accuracy</th>\n",
              "      <th>Overall Accuracy</th>\n",
              "    </tr>\n",
              "  </thead>\n",
              "  <tbody>\n",
              "    <tr>\n",
              "      <th>0</th>\n",
              "      <td>Logistic Regression</td>\n",
              "      <td>58.63%</td>\n",
              "      <td>61.67%</td>\n",
              "      <td>61.67%</td>\n",
              "    </tr>\n",
              "    <tr>\n",
              "      <th>1</th>\n",
              "      <td>Random Forest</td>\n",
              "      <td>100.00%</td>\n",
              "      <td>98.33%</td>\n",
              "      <td>98.33%</td>\n",
              "    </tr>\n",
              "    <tr>\n",
              "      <th>2</th>\n",
              "      <td>Decision Tree</td>\n",
              "      <td>100.00%</td>\n",
              "      <td>98.33%</td>\n",
              "      <td>98.33%</td>\n",
              "    </tr>\n",
              "    <tr>\n",
              "      <th>3</th>\n",
              "      <td>XGBoost</td>\n",
              "      <td>100.00%</td>\n",
              "      <td>98.33%</td>\n",
              "      <td>98.33%</td>\n",
              "    </tr>\n",
              "    <tr>\n",
              "      <th>4</th>\n",
              "      <td>AdaBoost</td>\n",
              "      <td>100.00%</td>\n",
              "      <td>98.33%</td>\n",
              "      <td>98.33%</td>\n",
              "    </tr>\n",
              "    <tr>\n",
              "      <th>5</th>\n",
              "      <td>K-Nearest Neighbors</td>\n",
              "      <td>72.66%</td>\n",
              "      <td>62.50%</td>\n",
              "      <td>62.50%</td>\n",
              "    </tr>\n",
              "    <tr>\n",
              "      <th>6</th>\n",
              "      <td>Naive Bayes</td>\n",
              "      <td>89.93%</td>\n",
              "      <td>88.33%</td>\n",
              "      <td>88.33%</td>\n",
              "    </tr>\n",
              "  </tbody>\n",
              "</table>\n",
              "</div>\n",
              "    <div class=\"colab-df-buttons\">\n",
              "\n",
              "  <div class=\"colab-df-container\">\n",
              "    <button class=\"colab-df-convert\" onclick=\"convertToInteractive('df-beac82d6-d8d3-479c-8cf1-d6b7ea33bfff')\"\n",
              "            title=\"Convert this dataframe to an interactive table.\"\n",
              "            style=\"display:none;\">\n",
              "\n",
              "  <svg xmlns=\"http://www.w3.org/2000/svg\" height=\"24px\" viewBox=\"0 -960 960 960\">\n",
              "    <path d=\"M120-120v-720h720v720H120Zm60-500h600v-160H180v160Zm220 220h160v-160H400v160Zm0 220h160v-160H400v160ZM180-400h160v-160H180v160Zm440 0h160v-160H620v160ZM180-180h160v-160H180v160Zm440 0h160v-160H620v160Z\"/>\n",
              "  </svg>\n",
              "    </button>\n",
              "\n",
              "  <style>\n",
              "    .colab-df-container {\n",
              "      display:flex;\n",
              "      gap: 12px;\n",
              "    }\n",
              "\n",
              "    .colab-df-convert {\n",
              "      background-color: #E8F0FE;\n",
              "      border: none;\n",
              "      border-radius: 50%;\n",
              "      cursor: pointer;\n",
              "      display: none;\n",
              "      fill: #1967D2;\n",
              "      height: 32px;\n",
              "      padding: 0 0 0 0;\n",
              "      width: 32px;\n",
              "    }\n",
              "\n",
              "    .colab-df-convert:hover {\n",
              "      background-color: #E2EBFA;\n",
              "      box-shadow: 0px 1px 2px rgba(60, 64, 67, 0.3), 0px 1px 3px 1px rgba(60, 64, 67, 0.15);\n",
              "      fill: #174EA6;\n",
              "    }\n",
              "\n",
              "    .colab-df-buttons div {\n",
              "      margin-bottom: 4px;\n",
              "    }\n",
              "\n",
              "    [theme=dark] .colab-df-convert {\n",
              "      background-color: #3B4455;\n",
              "      fill: #D2E3FC;\n",
              "    }\n",
              "\n",
              "    [theme=dark] .colab-df-convert:hover {\n",
              "      background-color: #434B5C;\n",
              "      box-shadow: 0px 1px 3px 1px rgba(0, 0, 0, 0.15);\n",
              "      filter: drop-shadow(0px 1px 2px rgba(0, 0, 0, 0.3));\n",
              "      fill: #FFFFFF;\n",
              "    }\n",
              "  </style>\n",
              "\n",
              "    <script>\n",
              "      const buttonEl =\n",
              "        document.querySelector('#df-beac82d6-d8d3-479c-8cf1-d6b7ea33bfff button.colab-df-convert');\n",
              "      buttonEl.style.display =\n",
              "        google.colab.kernel.accessAllowed ? 'block' : 'none';\n",
              "\n",
              "      async function convertToInteractive(key) {\n",
              "        const element = document.querySelector('#df-beac82d6-d8d3-479c-8cf1-d6b7ea33bfff');\n",
              "        const dataTable =\n",
              "          await google.colab.kernel.invokeFunction('convertToInteractive',\n",
              "                                                    [key], {});\n",
              "        if (!dataTable) return;\n",
              "\n",
              "        const docLinkHtml = 'Like what you see? Visit the ' +\n",
              "          '<a target=\"_blank\" href=https://colab.research.google.com/notebooks/data_table.ipynb>data table notebook</a>'\n",
              "          + ' to learn more about interactive tables.';\n",
              "        element.innerHTML = '';\n",
              "        dataTable['output_type'] = 'display_data';\n",
              "        await google.colab.output.renderOutput(dataTable, element);\n",
              "        const docLink = document.createElement('div');\n",
              "        docLink.innerHTML = docLinkHtml;\n",
              "        element.appendChild(docLink);\n",
              "      }\n",
              "    </script>\n",
              "  </div>\n",
              "\n",
              "\n",
              "<div id=\"df-5a5e4d3a-6ea8-4553-8a8d-c264f8018bfe\">\n",
              "  <button class=\"colab-df-quickchart\" onclick=\"quickchart('df-5a5e4d3a-6ea8-4553-8a8d-c264f8018bfe')\"\n",
              "            title=\"Suggest charts\"\n",
              "            style=\"display:none;\">\n",
              "\n",
              "<svg xmlns=\"http://www.w3.org/2000/svg\" height=\"24px\"viewBox=\"0 0 24 24\"\n",
              "     width=\"24px\">\n",
              "    <g>\n",
              "        <path d=\"M19 3H5c-1.1 0-2 .9-2 2v14c0 1.1.9 2 2 2h14c1.1 0 2-.9 2-2V5c0-1.1-.9-2-2-2zM9 17H7v-7h2v7zm4 0h-2V7h2v10zm4 0h-2v-4h2v4z\"/>\n",
              "    </g>\n",
              "</svg>\n",
              "  </button>\n",
              "\n",
              "<style>\n",
              "  .colab-df-quickchart {\n",
              "      --bg-color: #E8F0FE;\n",
              "      --fill-color: #1967D2;\n",
              "      --hover-bg-color: #E2EBFA;\n",
              "      --hover-fill-color: #174EA6;\n",
              "      --disabled-fill-color: #AAA;\n",
              "      --disabled-bg-color: #DDD;\n",
              "  }\n",
              "\n",
              "  [theme=dark] .colab-df-quickchart {\n",
              "      --bg-color: #3B4455;\n",
              "      --fill-color: #D2E3FC;\n",
              "      --hover-bg-color: #434B5C;\n",
              "      --hover-fill-color: #FFFFFF;\n",
              "      --disabled-bg-color: #3B4455;\n",
              "      --disabled-fill-color: #666;\n",
              "  }\n",
              "\n",
              "  .colab-df-quickchart {\n",
              "    background-color: var(--bg-color);\n",
              "    border: none;\n",
              "    border-radius: 50%;\n",
              "    cursor: pointer;\n",
              "    display: none;\n",
              "    fill: var(--fill-color);\n",
              "    height: 32px;\n",
              "    padding: 0;\n",
              "    width: 32px;\n",
              "  }\n",
              "\n",
              "  .colab-df-quickchart:hover {\n",
              "    background-color: var(--hover-bg-color);\n",
              "    box-shadow: 0 1px 2px rgba(60, 64, 67, 0.3), 0 1px 3px 1px rgba(60, 64, 67, 0.15);\n",
              "    fill: var(--button-hover-fill-color);\n",
              "  }\n",
              "\n",
              "  .colab-df-quickchart-complete:disabled,\n",
              "  .colab-df-quickchart-complete:disabled:hover {\n",
              "    background-color: var(--disabled-bg-color);\n",
              "    fill: var(--disabled-fill-color);\n",
              "    box-shadow: none;\n",
              "  }\n",
              "\n",
              "  .colab-df-spinner {\n",
              "    border: 2px solid var(--fill-color);\n",
              "    border-color: transparent;\n",
              "    border-bottom-color: var(--fill-color);\n",
              "    animation:\n",
              "      spin 1s steps(1) infinite;\n",
              "  }\n",
              "\n",
              "  @keyframes spin {\n",
              "    0% {\n",
              "      border-color: transparent;\n",
              "      border-bottom-color: var(--fill-color);\n",
              "      border-left-color: var(--fill-color);\n",
              "    }\n",
              "    20% {\n",
              "      border-color: transparent;\n",
              "      border-left-color: var(--fill-color);\n",
              "      border-top-color: var(--fill-color);\n",
              "    }\n",
              "    30% {\n",
              "      border-color: transparent;\n",
              "      border-left-color: var(--fill-color);\n",
              "      border-top-color: var(--fill-color);\n",
              "      border-right-color: var(--fill-color);\n",
              "    }\n",
              "    40% {\n",
              "      border-color: transparent;\n",
              "      border-right-color: var(--fill-color);\n",
              "      border-top-color: var(--fill-color);\n",
              "    }\n",
              "    60% {\n",
              "      border-color: transparent;\n",
              "      border-right-color: var(--fill-color);\n",
              "    }\n",
              "    80% {\n",
              "      border-color: transparent;\n",
              "      border-right-color: var(--fill-color);\n",
              "      border-bottom-color: var(--fill-color);\n",
              "    }\n",
              "    90% {\n",
              "      border-color: transparent;\n",
              "      border-bottom-color: var(--fill-color);\n",
              "    }\n",
              "  }\n",
              "</style>\n",
              "\n",
              "  <script>\n",
              "    async function quickchart(key) {\n",
              "      const quickchartButtonEl =\n",
              "        document.querySelector('#' + key + ' button');\n",
              "      quickchartButtonEl.disabled = true;  // To prevent multiple clicks.\n",
              "      quickchartButtonEl.classList.add('colab-df-spinner');\n",
              "      try {\n",
              "        const charts = await google.colab.kernel.invokeFunction(\n",
              "            'suggestCharts', [key], {});\n",
              "      } catch (error) {\n",
              "        console.error('Error during call to suggestCharts:', error);\n",
              "      }\n",
              "      quickchartButtonEl.classList.remove('colab-df-spinner');\n",
              "      quickchartButtonEl.classList.add('colab-df-quickchart-complete');\n",
              "    }\n",
              "    (() => {\n",
              "      let quickchartButtonEl =\n",
              "        document.querySelector('#df-5a5e4d3a-6ea8-4553-8a8d-c264f8018bfe button');\n",
              "      quickchartButtonEl.style.display =\n",
              "        google.colab.kernel.accessAllowed ? 'block' : 'none';\n",
              "    })();\n",
              "  </script>\n",
              "</div>\n",
              "\n",
              "  <div id=\"id_811660c5-403d-4cae-8511-13753328fead\">\n",
              "    <style>\n",
              "      .colab-df-generate {\n",
              "        background-color: #E8F0FE;\n",
              "        border: none;\n",
              "        border-radius: 50%;\n",
              "        cursor: pointer;\n",
              "        display: none;\n",
              "        fill: #1967D2;\n",
              "        height: 32px;\n",
              "        padding: 0 0 0 0;\n",
              "        width: 32px;\n",
              "      }\n",
              "\n",
              "      .colab-df-generate:hover {\n",
              "        background-color: #E2EBFA;\n",
              "        box-shadow: 0px 1px 2px rgba(60, 64, 67, 0.3), 0px 1px 3px 1px rgba(60, 64, 67, 0.15);\n",
              "        fill: #174EA6;\n",
              "      }\n",
              "\n",
              "      [theme=dark] .colab-df-generate {\n",
              "        background-color: #3B4455;\n",
              "        fill: #D2E3FC;\n",
              "      }\n",
              "\n",
              "      [theme=dark] .colab-df-generate:hover {\n",
              "        background-color: #434B5C;\n",
              "        box-shadow: 0px 1px 3px 1px rgba(0, 0, 0, 0.15);\n",
              "        filter: drop-shadow(0px 1px 2px rgba(0, 0, 0, 0.3));\n",
              "        fill: #FFFFFF;\n",
              "      }\n",
              "    </style>\n",
              "    <button class=\"colab-df-generate\" onclick=\"generateWithVariable('comparison_df')\"\n",
              "            title=\"Generate code using this dataframe.\"\n",
              "            style=\"display:none;\">\n",
              "\n",
              "  <svg xmlns=\"http://www.w3.org/2000/svg\" height=\"24px\"viewBox=\"0 0 24 24\"\n",
              "       width=\"24px\">\n",
              "    <path d=\"M7,19H8.4L18.45,9,17,7.55,7,17.6ZM5,21V16.75L18.45,3.32a2,2,0,0,1,2.83,0l1.4,1.43a1.91,1.91,0,0,1,.58,1.4,1.91,1.91,0,0,1-.58,1.4L9.25,21ZM18.45,9,17,7.55Zm-12,3A5.31,5.31,0,0,0,4.9,8.1,5.31,5.31,0,0,0,1,6.5,5.31,5.31,0,0,0,4.9,4.9,5.31,5.31,0,0,0,6.5,1,5.31,5.31,0,0,0,8.1,4.9,5.31,5.31,0,0,0,12,6.5,5.46,5.46,0,0,0,6.5,12Z\"/>\n",
              "  </svg>\n",
              "    </button>\n",
              "    <script>\n",
              "      (() => {\n",
              "      const buttonEl =\n",
              "        document.querySelector('#id_811660c5-403d-4cae-8511-13753328fead button.colab-df-generate');\n",
              "      buttonEl.style.display =\n",
              "        google.colab.kernel.accessAllowed ? 'block' : 'none';\n",
              "\n",
              "      buttonEl.onclick = () => {\n",
              "        google.colab.notebook.generateWithVariable('comparison_df');\n",
              "      }\n",
              "      })();\n",
              "    </script>\n",
              "  </div>\n",
              "\n",
              "    </div>\n",
              "  </div>\n"
            ],
            "application/vnd.google.colaboratory.intrinsic+json": {
              "type": "dataframe",
              "variable_name": "comparison_df",
              "summary": "{\n  \"name\": \"comparison_df\",\n  \"rows\": 7,\n  \"fields\": [\n    {\n      \"column\": \"Model\",\n      \"properties\": {\n        \"dtype\": \"string\",\n        \"num_unique_values\": 7,\n        \"samples\": [\n          \"Logistic Regression\",\n          \"Random Forest\",\n          \"K-Nearest Neighbors\"\n        ],\n        \"semantic_type\": \"\",\n        \"description\": \"\"\n      }\n    },\n    {\n      \"column\": \"Training Accuracy\",\n      \"properties\": {\n        \"dtype\": \"string\",\n        \"num_unique_values\": 4,\n        \"samples\": [\n          \"100.00%\",\n          \"89.93%\",\n          \"58.63%\"\n        ],\n        \"semantic_type\": \"\",\n        \"description\": \"\"\n      }\n    },\n    {\n      \"column\": \"Testing Accuracy\",\n      \"properties\": {\n        \"dtype\": \"string\",\n        \"num_unique_values\": 4,\n        \"samples\": [\n          \"98.33%\",\n          \"88.33%\",\n          \"61.67%\"\n        ],\n        \"semantic_type\": \"\",\n        \"description\": \"\"\n      }\n    },\n    {\n      \"column\": \"Overall Accuracy\",\n      \"properties\": {\n        \"dtype\": \"string\",\n        \"num_unique_values\": 4,\n        \"samples\": [\n          \"98.33%\",\n          \"88.33%\",\n          \"61.67%\"\n        ],\n        \"semantic_type\": \"\",\n        \"description\": \"\"\n      }\n    }\n  ]\n}"
            }
          },
          "metadata": {}
        }
      ]
    },
    {
      "cell_type": "markdown",
      "source": [
        "#**HYPERPARAMETER TUNING :**"
      ],
      "metadata": {
        "id": "MQS6dRn4GkVd"
      }
    },
    {
      "cell_type": "code",
      "source": [
        "# HYPERPARAMETER TUNING NAIVE BAYES MODEL:\n",
        "\n",
        "from sklearn.model_selection import GridSearchCV\n",
        "from sklearn.naive_bayes import GaussianNB\n",
        "from sklearn.metrics import accuracy_score, classification_report, confusion_matrix\n",
        "\n",
        "nb = GaussianNB()\n",
        "\n",
        "# Defining a parameter grid for Naive Bayes:\n",
        "param_grid = {\n",
        "    'var_smoothing': [1e-9, 1e-8, 1e-7, 1e-6, 1e-5]\n",
        "}\n",
        "\n",
        "# Setting up the GridSearchCV for hyperparameter tuning:\n",
        "grid_search_nb = GridSearchCV(estimator=nb, param_grid=param_grid, cv=5, scoring='accuracy', n_jobs=-1)\n",
        "\n",
        "# Fitting the model to the training data:\n",
        "grid_search_nb.fit(X_train_70, y_train_70)\n",
        "\n",
        "# Best parameters and Best score:\n",
        "best_nb_params = grid_search_nb.best_params_\n",
        "best_nb_model = grid_search_nb.best_estimator_\n",
        "best_nb_score = grid_search_nb.best_score_\n",
        "\n",
        "# Display the best parameter\n",
        "print(\"Best var_smoothing parameter:\", best_nb_params['var_smoothing'])\n",
        "\n",
        "# Predictions on the test set using the best model\n",
        "y_pred_70_nb_tuned = best_nb_model.predict(X_test_70)\n",
        "\n",
        "print(\"Best parameters found: \", best_nb_params)\n",
        "print(\"Best cross-validation accuracy: {:.2f}%\".format(best_nb_score * 100))"
      ],
      "metadata": {
        "colab": {
          "base_uri": "https://localhost:8080/"
        },
        "id": "sWA8rRGQaqTj",
        "outputId": "770480b4-48e6-4901-a782-ec32285970f3"
      },
      "execution_count": null,
      "outputs": [
        {
          "output_type": "stream",
          "name": "stdout",
          "text": [
            "Best var_smoothing parameter: 1e-09\n",
            "Best parameters found:  {'var_smoothing': 1e-09}\n",
            "Best cross-validation accuracy: 89.58%\n"
          ]
        }
      ]
    },
    {
      "cell_type": "code",
      "source": [
        "# Accuracy, classification report, and confusion matrix:\n",
        "nb_accuracy_tuned = accuracy_score(y_test_70, y_pred_70_nb_tuned)\n",
        "\n",
        "print(\"\\nNaive Bayes Accuracy on 70:30 split after tuning (in %):\", nb_accuracy_tuned * 100)\n",
        "print(\"\\nClassification Report:\\n\", classification_report(y_test_70, y_pred_70_nb_tuned))\n",
        "print(\"Confusion Matrix:\\n\", confusion_matrix(y_test_70, y_pred_70_nb_tuned))"
      ],
      "metadata": {
        "colab": {
          "base_uri": "https://localhost:8080/"
        },
        "id": "TsG_N8OGbfid",
        "outputId": "0a3b6077-73d4-4c9a-ec78-d7b98425e2df"
      },
      "execution_count": null,
      "outputs": [
        {
          "output_type": "stream",
          "name": "stdout",
          "text": [
            "\n",
            "Naive Bayes Accuracy on 70:30 split after tuning (in %): 88.33333333333333\n",
            "\n",
            "Classification Report:\n",
            "               precision    recall  f1-score   support\n",
            "\n",
            "           0       0.97      0.86      0.91        87\n",
            "           1       0.72      0.94      0.82        33\n",
            "\n",
            "    accuracy                           0.88       120\n",
            "   macro avg       0.85      0.90      0.87       120\n",
            "weighted avg       0.90      0.88      0.89       120\n",
            "\n",
            "Confusion Matrix:\n",
            " [[75 12]\n",
            " [ 2 31]]\n"
          ]
        }
      ]
    },
    {
      "cell_type": "code",
      "source": [
        "# HYPERPARAMETER TUNING NAIVE BAYES MODEL (COMPARISON):\n",
        "\n",
        "# --- Initial Model (Before Tuning) ---\n",
        "\n",
        "print(\"Before Tuning:\")\n",
        "print(\"Training Accuracy (initial): {:.2f} %\".format(nb_train_accuracy * 100))\n",
        "print(\"Testing Accuracy (initial): {:.2f} %\".format(nb_test_accuracy * 100))\n",
        "\n",
        "# --- Tuned Model (After Hyperparameter Tuning) ---\n",
        "\n",
        "train_accuracy_tuned_nb = accuracy_score(y_train_70, best_nb_model.predict(X_train_70))\n",
        "test_accuracy_tuned_nb = accuracy_score(y_test_70, best_nb_model.predict(X_test_70))\n",
        "\n",
        "print(\"\\nAfter Tuning:\")\n",
        "print(\"Training Accuracy (tuned): {:.2f}%\".format(train_accuracy_tuned_nb * 100))\n",
        "print(\"Testing Accuracy (tuned): {:.2f}%\".format(test_accuracy_tuned_nb * 100))"
      ],
      "metadata": {
        "id": "1c-rhYZfkFeW",
        "colab": {
          "base_uri": "https://localhost:8080/"
        },
        "outputId": "47d788eb-4972-428b-e2b6-ed3e3ca5f2f0"
      },
      "execution_count": null,
      "outputs": [
        {
          "output_type": "stream",
          "name": "stdout",
          "text": [
            "Before Tuning:\n",
            "Training Accuracy (initial): 89.93 %\n",
            "Testing Accuracy (initial): 88.33 %\n",
            "\n",
            "After Tuning:\n",
            "Training Accuracy (tuned): 89.93%\n",
            "Testing Accuracy (tuned): 88.33%\n"
          ]
        }
      ]
    },
    {
      "cell_type": "code",
      "source": [
        "# HYPERPARAMETER TUNING LOGISTIC REGRESSION:\n",
        "\n",
        "from sklearn.linear_model import LogisticRegression\n",
        "from sklearn.model_selection import GridSearchCV\n",
        "from sklearn.metrics import accuracy_score, classification_report, confusion_matrix\n",
        "\n",
        "# logreg = LogisticRegression(max_iter=1000, random_state=42)\n",
        "# Scale the features (this helps in convergence for Logistic Regression)\n",
        "# scaler = StandardScaler()\n",
        "# X_train_70_scaled = scaler.fit_transform(X_train_70)\n",
        "# X_test_70_scaled = scaler.transform(X_test_70)\n",
        "\n",
        "# Defining parameter grid for Logistic Regression:\n",
        "param_grid = {\n",
        "    'C': [0.001, 0.01, 0.1, 1, 10, 100],  # Regularization strength\n",
        "    'solver': ['liblinear', 'lbfgs', 'newton-cg', 'saga'],  # Different solvers\n",
        "    'max_iter': [100, 500, 1000]  # Iterations for convergence\n",
        "}\n",
        "\n",
        "# Setting up GridSearchCV:\n",
        "grid_search_logreg = GridSearchCV(estimator=LogisticRegression(random_state=42),\n",
        "                                  param_grid=param_grid,\n",
        "                                  cv=5,\n",
        "                                  scoring='accuracy',\n",
        "                                  n_jobs=-1)\n",
        "\n",
        "# Fitting the model on the training data:\n",
        "grid_search_logreg.fit(X_train_70_scaled, y_train_70)\n",
        "\n",
        "# Getting the best parameters and estimator from GridSearchCV:\n",
        "best_logreg_model = grid_search_logreg.best_estimator_\n",
        "best_logreg_params = grid_search_logreg.best_params_\n",
        "best_logreg_score = grid_search_logreg.best_score_\n",
        "\n",
        "# Predictions on the test set using the tuned model:\n",
        "y_pred_tuned_logreg = best_logreg_model.predict(X_test_70_scaled)\n",
        "\n",
        "# Best parameters:\n",
        "print(\"Best parameters found: \", best_logreg_params)\n",
        "print(\"Best cross-validation accuracy: {:.2f}%\".format(best_logreg_score * 100))"
      ],
      "metadata": {
        "id": "TmfAPjHpkFmF",
        "colab": {
          "base_uri": "https://localhost:8080/"
        },
        "outputId": "c52d0139-609c-4133-e494-c7fd6bcbd0d2"
      },
      "execution_count": null,
      "outputs": [
        {
          "output_type": "stream",
          "name": "stdout",
          "text": [
            "Best parameters found:  {'C': 0.001, 'max_iter': 100, 'solver': 'lbfgs'}\n",
            "Best cross-validation accuracy: 60.43%\n"
          ]
        }
      ]
    },
    {
      "cell_type": "code",
      "source": [
        "# Accuracy, Classification report and Confusion matrix:\n",
        "\n",
        "logreg_accuracy_tuned = accuracy_score(y_test_70, y_pred_tuned_logreg)\n",
        "\n",
        "print(\"Best Parameters:\", best_logreg_params)\n",
        "print(\"\\nLogistic Regression Accuracy on 70:30 split after Tuning (in %): {:.2f}%\".format(logreg_accuracy_tuned * 100))\n",
        "print(\"\\nClassification Report (70:30 split):\\n\", classification_report(y_test_70, y_pred_tuned_logreg))\n",
        "print(\"Confusion Matrix (70:30 split):\\n\", confusion_matrix(y_test_70, y_pred_tuned_logreg))"
      ],
      "metadata": {
        "id": "iymQdlhAkFso",
        "colab": {
          "base_uri": "https://localhost:8080/"
        },
        "outputId": "d1d042ab-14e6-4f92-9c2e-5e2b28c8d808"
      },
      "execution_count": null,
      "outputs": [
        {
          "output_type": "stream",
          "name": "stdout",
          "text": [
            "Best Parameters: {'C': 0.001, 'max_iter': 100, 'solver': 'lbfgs'}\n",
            "\n",
            "Logistic Regression Accuracy on 70:30 split after Tuning (in %): 72.50%\n",
            "\n",
            "Classification Report (70:30 split):\n",
            "               precision    recall  f1-score   support\n",
            "\n",
            "           0       0.72      1.00      0.84        87\n",
            "           1       0.00      0.00      0.00        33\n",
            "\n",
            "    accuracy                           0.72       120\n",
            "   macro avg       0.36      0.50      0.42       120\n",
            "weighted avg       0.53      0.72      0.61       120\n",
            "\n",
            "Confusion Matrix (70:30 split):\n",
            " [[87  0]\n",
            " [33  0]]\n"
          ]
        },
        {
          "output_type": "stream",
          "name": "stderr",
          "text": [
            "/usr/local/lib/python3.10/dist-packages/sklearn/metrics/_classification.py:1531: UndefinedMetricWarning: Precision is ill-defined and being set to 0.0 in labels with no predicted samples. Use `zero_division` parameter to control this behavior.\n",
            "  _warn_prf(average, modifier, f\"{metric.capitalize()} is\", len(result))\n",
            "/usr/local/lib/python3.10/dist-packages/sklearn/metrics/_classification.py:1531: UndefinedMetricWarning: Precision is ill-defined and being set to 0.0 in labels with no predicted samples. Use `zero_division` parameter to control this behavior.\n",
            "  _warn_prf(average, modifier, f\"{metric.capitalize()} is\", len(result))\n",
            "/usr/local/lib/python3.10/dist-packages/sklearn/metrics/_classification.py:1531: UndefinedMetricWarning: Precision is ill-defined and being set to 0.0 in labels with no predicted samples. Use `zero_division` parameter to control this behavior.\n",
            "  _warn_prf(average, modifier, f\"{metric.capitalize()} is\", len(result))\n"
          ]
        }
      ]
    },
    {
      "cell_type": "code",
      "source": [
        "# HYPERPARAMETER TUNING LOGISTIC REGRESSION (COMPARISON):\n",
        "\n",
        "# --- Initial Model (Before Tuning) ---\n",
        "\n",
        "print(\"Before Tuning:\")\n",
        "print(\"Training Accuracy (initial): {:.2f}%\".format(logreg_train_accuracy * 100))\n",
        "print(\"Testing Accuracy (initial): {:.2f}%\".format(logreg_test_accuracy * 100))\n",
        "\n",
        "# --- Tuned Model (After Hyperparameter Tuning) ---\n",
        "\n",
        "train_accuracy_tuned_logreg = accuracy_score(y_train_70, best_logreg_model.predict(X_train_70_scaled))\n",
        "test_accuracy_tuned_logreg = accuracy_score(y_test_70, best_logreg_model.predict(X_test_70_scaled))\n",
        "\n",
        "print(\"\\nAfter Tuning:\")\n",
        "print(\"Training Accuracy (tuned): {:.2f}%\".format(train_accuracy_tuned_logreg * 100))\n",
        "print(\"Testing Accuracy (tuned): {:.2f}%\".format(test_accuracy_tuned_logreg * 100))"
      ],
      "metadata": {
        "id": "OrV1hhU7kFyg",
        "colab": {
          "base_uri": "https://localhost:8080/"
        },
        "outputId": "654f845a-4c05-49f5-bec3-fb5229896ae1"
      },
      "execution_count": null,
      "outputs": [
        {
          "output_type": "stream",
          "name": "stdout",
          "text": [
            "Before Tuning:\n",
            "Training Accuracy (initial): 58.63%\n",
            "Testing Accuracy (initial): 61.67%\n",
            "\n",
            "After Tuning:\n",
            "Training Accuracy (tuned): 60.43%\n",
            "Testing Accuracy (tuned): 72.50%\n"
          ]
        }
      ]
    },
    {
      "cell_type": "code",
      "source": [
        "# HYPERPARAMETER TUNING RANDOM FOREST CLASSIFIER MODEL:\n",
        "\n",
        "from sklearn.ensemble import RandomForestClassifier\n",
        "from sklearn.model_selection import GridSearchCV\n",
        "from sklearn.metrics import accuracy_score, classification_report, confusion_matrix\n",
        "\n",
        "# Defining parameter grid for Random Forest:\n",
        "param_grid_rf = {\n",
        "    'n_estimators': [50, 100, 200],               # Number of trees in the forest\n",
        "    'max_depth': [None, 10, 20, 30],              # Maximum depth of the tree\n",
        "    'min_samples_split': [2, 5, 10],              # Minimum samples required to split an internal node\n",
        "    'min_samples_leaf': [1, 2, 4],                # Minimum samples required to be at a leaf node\n",
        "    'max_features': ['auto', 'sqrt', 'log2'],     # Number of features to consider for the best split\n",
        "    'bootstrap': [True, False]                    # Whether bootstrap samples are used when building trees\n",
        "}\n",
        "\n",
        "# Setting up GridSearchCV with 5-fold cross-validation:\n",
        "grid_search_rf = GridSearchCV(estimator=RandomForestClassifier(random_state=42),\n",
        "                              param_grid=param_grid_rf,\n",
        "                              cv=5,\n",
        "                              scoring='accuracy',\n",
        "                              n_jobs=-1)\n",
        "\n",
        "# Fitting the model to the training data:\n",
        "grid_search_rf.fit(X_train_70, y_train_70)\n",
        "\n",
        "# Best estimator and parameters from GridSearchCV\n",
        "best_rf_model = grid_search_rf.best_estimator_\n",
        "best_rf_params = grid_search_rf.best_params_\n",
        "best_rf_score = grid_search_rf.best_score_\n",
        "\n",
        "# Best parameters and cross-validation score:\n",
        "print(\"Best parameters found: \", best_rf_params)\n",
        "print(\"Best cross-validation accuracy: {:.2f}%\".format(best_rf_score * 100))\n",
        "\n",
        "# Predictions on the test set using the tuned model:\n",
        "y_pred_tuned_rf = best_rf_model.predict(X_test_70)"
      ],
      "metadata": {
        "id": "O1q7x_kNU5nY",
        "colab": {
          "base_uri": "https://localhost:8080/"
        },
        "outputId": "badc4529-f674-4b5a-9e3b-8878291ab4e5"
      },
      "execution_count": null,
      "outputs": [
        {
          "output_type": "stream",
          "name": "stderr",
          "text": [
            "/usr/local/lib/python3.10/dist-packages/sklearn/model_selection/_validation.py:540: FitFailedWarning: \n",
            "1080 fits failed out of a total of 3240.\n",
            "The score on these train-test partitions for these parameters will be set to nan.\n",
            "If these failures are not expected, you can try to debug them by setting error_score='raise'.\n",
            "\n",
            "Below are more details about the failures:\n",
            "--------------------------------------------------------------------------------\n",
            "611 fits failed with the following error:\n",
            "Traceback (most recent call last):\n",
            "  File \"/usr/local/lib/python3.10/dist-packages/sklearn/model_selection/_validation.py\", line 888, in _fit_and_score\n",
            "    estimator.fit(X_train, y_train, **fit_params)\n",
            "  File \"/usr/local/lib/python3.10/dist-packages/sklearn/base.py\", line 1466, in wrapper\n",
            "    estimator._validate_params()\n",
            "  File \"/usr/local/lib/python3.10/dist-packages/sklearn/base.py\", line 666, in _validate_params\n",
            "    validate_parameter_constraints(\n",
            "  File \"/usr/local/lib/python3.10/dist-packages/sklearn/utils/_param_validation.py\", line 95, in validate_parameter_constraints\n",
            "    raise InvalidParameterError(\n",
            "sklearn.utils._param_validation.InvalidParameterError: The 'max_features' parameter of RandomForestClassifier must be an int in the range [1, inf), a float in the range (0.0, 1.0], a str among {'log2', 'sqrt'} or None. Got 'auto' instead.\n",
            "\n",
            "--------------------------------------------------------------------------------\n",
            "469 fits failed with the following error:\n",
            "Traceback (most recent call last):\n",
            "  File \"/usr/local/lib/python3.10/dist-packages/sklearn/model_selection/_validation.py\", line 888, in _fit_and_score\n",
            "    estimator.fit(X_train, y_train, **fit_params)\n",
            "  File \"/usr/local/lib/python3.10/dist-packages/sklearn/base.py\", line 1466, in wrapper\n",
            "    estimator._validate_params()\n",
            "  File \"/usr/local/lib/python3.10/dist-packages/sklearn/base.py\", line 666, in _validate_params\n",
            "    validate_parameter_constraints(\n",
            "  File \"/usr/local/lib/python3.10/dist-packages/sklearn/utils/_param_validation.py\", line 95, in validate_parameter_constraints\n",
            "    raise InvalidParameterError(\n",
            "sklearn.utils._param_validation.InvalidParameterError: The 'max_features' parameter of RandomForestClassifier must be an int in the range [1, inf), a float in the range (0.0, 1.0], a str among {'sqrt', 'log2'} or None. Got 'auto' instead.\n",
            "\n",
            "  warnings.warn(some_fits_failed_message, FitFailedWarning)\n",
            "/usr/local/lib/python3.10/dist-packages/sklearn/model_selection/_search.py:1103: UserWarning: One or more of the test scores are non-finite: [       nan        nan        nan        nan        nan        nan\n",
            "        nan        nan        nan        nan        nan        nan\n",
            "        nan        nan        nan        nan        nan        nan\n",
            "        nan        nan        nan        nan        nan        nan\n",
            "        nan        nan        nan 0.94948052 0.95324675 0.95681818\n",
            " 0.96032468 0.95681818 0.95324675 0.94954545 0.94233766 0.94233766\n",
            " 0.95675325 0.95324675 0.95681818 0.95662338 0.96032468 0.95324675\n",
            " 0.95311688 0.95675325 0.94597403 0.94948052 0.96032468 0.95675325\n",
            " 0.94948052 0.96032468 0.95675325 0.94948052 0.94584416 0.94954545\n",
            " 0.96032468 0.96032468 0.96396104 0.95668831 0.9638961  0.96396104\n",
            " 0.9638961  0.95668831 0.95311688 0.96025974 0.96025974 0.96383117\n",
            " 0.96025974 0.95668831 0.95668831 0.96025974 0.96383117 0.96383117\n",
            " 0.9674026  0.96383117 0.96025974 0.9674026  0.96383117 0.96025974\n",
            " 0.9674026  0.96025974 0.95668831        nan        nan        nan\n",
            "        nan        nan        nan        nan        nan        nan\n",
            "        nan        nan        nan        nan        nan        nan\n",
            "        nan        nan        nan        nan        nan        nan\n",
            "        nan        nan        nan        nan        nan        nan\n",
            " 0.95305195 0.95318182 0.95681818 0.96032468 0.95681818 0.95324675\n",
            " 0.94954545 0.93876623 0.93876623 0.95681818 0.95324675 0.95681818\n",
            " 0.95305195 0.96025974 0.95324675 0.95311688 0.95675325 0.94597403\n",
            " 0.94948052 0.96032468 0.95675325 0.94948052 0.96032468 0.95675325\n",
            " 0.94948052 0.94584416 0.95311688 0.96032468 0.96032468 0.96396104\n",
            " 0.95668831 0.9638961  0.96396104 0.9638961  0.95668831 0.95311688\n",
            " 0.96025974 0.96025974 0.96383117 0.96025974 0.96025974 0.95668831\n",
            " 0.96025974 0.96025974 0.96383117 0.9674026  0.96383117 0.96025974\n",
            " 0.9674026  0.96383117 0.96025974 0.9674026  0.96025974 0.95668831\n",
            "        nan        nan        nan        nan        nan        nan\n",
            "        nan        nan        nan        nan        nan        nan\n",
            "        nan        nan        nan        nan        nan        nan\n",
            "        nan        nan        nan        nan        nan        nan\n",
            "        nan        nan        nan 0.94948052 0.95324675 0.95681818\n",
            " 0.96032468 0.95681818 0.95324675 0.94954545 0.94233766 0.94233766\n",
            " 0.95675325 0.95324675 0.95681818 0.95662338 0.96032468 0.95324675\n",
            " 0.95311688 0.95675325 0.94597403 0.94948052 0.96032468 0.95675325\n",
            " 0.94948052 0.96032468 0.95675325 0.94948052 0.94584416 0.94954545\n",
            " 0.96032468 0.96032468 0.96396104 0.95668831 0.9638961  0.96396104\n",
            " 0.9638961  0.95668831 0.95311688 0.96025974 0.96025974 0.96383117\n",
            " 0.96025974 0.95668831 0.95668831 0.96025974 0.96383117 0.96383117\n",
            " 0.9674026  0.96383117 0.96025974 0.9674026  0.96383117 0.96025974\n",
            " 0.9674026  0.96025974 0.95668831        nan        nan        nan\n",
            "        nan        nan        nan        nan        nan        nan\n",
            "        nan        nan        nan        nan        nan        nan\n",
            "        nan        nan        nan        nan        nan        nan\n",
            "        nan        nan        nan        nan        nan        nan\n",
            " 0.94948052 0.95324675 0.95681818 0.96032468 0.95681818 0.95324675\n",
            " 0.94954545 0.94233766 0.94233766 0.95675325 0.95324675 0.95681818\n",
            " 0.95662338 0.96032468 0.95324675 0.95311688 0.95675325 0.94597403\n",
            " 0.94948052 0.96032468 0.95675325 0.94948052 0.96032468 0.95675325\n",
            " 0.94948052 0.94584416 0.94954545 0.96032468 0.96032468 0.96396104\n",
            " 0.95668831 0.9638961  0.96396104 0.9638961  0.95668831 0.95311688\n",
            " 0.96025974 0.96025974 0.96383117 0.96025974 0.95668831 0.95668831\n",
            " 0.96025974 0.96383117 0.96383117 0.9674026  0.96383117 0.96025974\n",
            " 0.9674026  0.96383117 0.96025974 0.9674026  0.96025974 0.95668831\n",
            "        nan        nan        nan        nan        nan        nan\n",
            "        nan        nan        nan        nan        nan        nan\n",
            "        nan        nan        nan        nan        nan        nan\n",
            "        nan        nan        nan        nan        nan        nan\n",
            "        nan        nan        nan 0.94597403 0.94961039 0.94603896\n",
            " 0.94603896 0.94961039 0.93876623 0.93876623 0.9424026  0.94597403\n",
            " 0.9424026  0.94961039 0.94961039 0.93883117 0.93883117 0.9424026\n",
            " 0.94233766 0.94590909 0.94590909 0.92435065 0.93512987 0.93506494\n",
            " 0.92435065 0.93512987 0.93506494 0.92441558 0.93155844 0.94227273\n",
            " 0.95668831 0.95675325 0.95675325 0.9675974  0.96032468 0.9638961\n",
            " 0.95305195 0.94941558 0.94584416 0.9638961  0.96032468 0.9638961\n",
            " 0.9638961  0.9638961  0.95668831 0.95305195 0.95305195 0.94584416\n",
            " 0.94948052 0.95305195 0.94948052 0.94948052 0.95305195 0.94948052\n",
            " 0.94584416 0.95305195 0.95662338        nan        nan        nan\n",
            "        nan        nan        nan        nan        nan        nan\n",
            "        nan        nan        nan        nan        nan        nan\n",
            "        nan        nan        nan        nan        nan        nan\n",
            "        nan        nan        nan        nan        nan        nan\n",
            " 0.93876623 0.94597403 0.94603896 0.94246753 0.94603896 0.93876623\n",
            " 0.94233766 0.9424026  0.94597403 0.9424026  0.94603896 0.9424026\n",
            " 0.93883117 0.9388961  0.93883117 0.94590909 0.94590909 0.94590909\n",
            " 0.92798701 0.92798701 0.92792208 0.92798701 0.92798701 0.92792208\n",
            " 0.92798701 0.93155844 0.94227273 0.95668831 0.95675325 0.95675325\n",
            " 0.9675974  0.96032468 0.9638961  0.95305195 0.95305195 0.94584416\n",
            " 0.9638961  0.96032468 0.9638961  0.9638961  0.9638961  0.95668831\n",
            " 0.95305195 0.95305195 0.94584416 0.94948052 0.95305195 0.94948052\n",
            " 0.94948052 0.95305195 0.94948052 0.94584416 0.95305195 0.95662338\n",
            "        nan        nan        nan        nan        nan        nan\n",
            "        nan        nan        nan        nan        nan        nan\n",
            "        nan        nan        nan        nan        nan        nan\n",
            "        nan        nan        nan        nan        nan        nan\n",
            "        nan        nan        nan 0.94597403 0.94961039 0.94603896\n",
            " 0.94603896 0.94961039 0.93876623 0.93876623 0.9424026  0.94597403\n",
            " 0.9424026  0.94961039 0.94961039 0.93883117 0.93883117 0.9424026\n",
            " 0.94233766 0.94590909 0.94590909 0.92435065 0.93512987 0.93506494\n",
            " 0.92435065 0.93512987 0.93506494 0.92441558 0.93155844 0.94227273\n",
            " 0.95668831 0.95675325 0.95675325 0.9675974  0.96032468 0.9638961\n",
            " 0.95305195 0.94941558 0.94584416 0.9638961  0.96032468 0.9638961\n",
            " 0.9638961  0.9638961  0.95668831 0.95305195 0.95305195 0.94584416\n",
            " 0.94948052 0.95305195 0.94948052 0.94948052 0.95305195 0.94948052\n",
            " 0.94584416 0.95305195 0.95662338        nan        nan        nan\n",
            "        nan        nan        nan        nan        nan        nan\n",
            "        nan        nan        nan        nan        nan        nan\n",
            "        nan        nan        nan        nan        nan        nan\n",
            "        nan        nan        nan        nan        nan        nan\n",
            " 0.94597403 0.94961039 0.94603896 0.94603896 0.94961039 0.93876623\n",
            " 0.93876623 0.9424026  0.94597403 0.9424026  0.94961039 0.94961039\n",
            " 0.93883117 0.93883117 0.9424026  0.94233766 0.94590909 0.94590909\n",
            " 0.92435065 0.93512987 0.93506494 0.92435065 0.93512987 0.93506494\n",
            " 0.92441558 0.93155844 0.94227273 0.95668831 0.95675325 0.95675325\n",
            " 0.9675974  0.96032468 0.9638961  0.95305195 0.94941558 0.94584416\n",
            " 0.9638961  0.96032468 0.9638961  0.9638961  0.9638961  0.95668831\n",
            " 0.95305195 0.95305195 0.94584416 0.94948052 0.95305195 0.94948052\n",
            " 0.94948052 0.95305195 0.94948052 0.94584416 0.95305195 0.95662338]\n",
            "  warnings.warn(\n"
          ]
        },
        {
          "output_type": "stream",
          "name": "stdout",
          "text": [
            "Best parameters found:  {'bootstrap': False, 'max_depth': None, 'max_features': 'log2', 'min_samples_leaf': 1, 'min_samples_split': 5, 'n_estimators': 50}\n",
            "Best cross-validation accuracy: 96.76%\n"
          ]
        }
      ]
    },
    {
      "cell_type": "code",
      "source": [
        "# Accuracy, Classification Report, and Confusion Matrix:\n",
        "\n",
        "rf_accuracy_tuned = accuracy_score(y_test_70, y_pred_tuned_rf)\n",
        "\n",
        "print(\"\\nRandom Forest Accuracy on Test Set after tuning (in %): {:.2f} %\".format(rf_accuracy_tuned * 100))\n",
        "print(\"\\nClassification Report (Tuned Random Forest):\\n\", classification_report(y_test_70, y_pred_tuned_rf))\n",
        "print(\"Confusion Matrix (Tuned Random Forest):\\n\", confusion_matrix(y_test_70, y_pred_tuned_rf))"
      ],
      "metadata": {
        "id": "RbItB1XKU5xf",
        "colab": {
          "base_uri": "https://localhost:8080/"
        },
        "outputId": "11aed313-cd1b-4072-d391-ed915bbcb320"
      },
      "execution_count": null,
      "outputs": [
        {
          "output_type": "stream",
          "name": "stdout",
          "text": [
            "\n",
            "Random Forest Accuracy on Test Set after tuning (in %): 98.33 %\n",
            "\n",
            "Classification Report (Tuned Random Forest):\n",
            "               precision    recall  f1-score   support\n",
            "\n",
            "           0       1.00      0.98      0.99        87\n",
            "           1       0.94      1.00      0.97        33\n",
            "\n",
            "    accuracy                           0.98       120\n",
            "   macro avg       0.97      0.99      0.98       120\n",
            "weighted avg       0.98      0.98      0.98       120\n",
            "\n",
            "Confusion Matrix (Tuned Random Forest):\n",
            " [[85  2]\n",
            " [ 0 33]]\n"
          ]
        }
      ]
    },
    {
      "cell_type": "code",
      "source": [
        "# HYPERPARAMETER TUNING RANDOM FOREST (COMPARISON):\n",
        "\n",
        "# --- Initial Model (Before Tuning) ---\n",
        "\n",
        "print(\"Before Tuning:\")\n",
        "print(\"Training Accuracy (initial): {:.2f}%\".format(rf_train_accuracy * 100))\n",
        "print(\"Testing Accuracy (initial): {:.2f}%\".format(rf_test_accuracy * 100))\n",
        "\n",
        "# --- Tuned Model (After Hyperparameter Tuning) ---\n",
        "\n",
        "train_accuracy_tuned_rf = accuracy_score(y_train_70, best_rf_model.predict(X_train_70))\n",
        "test_accuracy_tuned_rf = accuracy_score(y_test_70, best_rf_model.predict(X_test_70))\n",
        "\n",
        "print(\"\\nAfter Tuning:\")\n",
        "print(\"Training Accuracy (tuned): {:.2f}%\".format(train_accuracy_tuned_rf * 100))\n",
        "print(\"Testing Accuracy (tuned): {:.2f}%\".format(test_accuracy_tuned_rf * 100))"
      ],
      "metadata": {
        "id": "66AOaIeAU55z",
        "colab": {
          "base_uri": "https://localhost:8080/"
        },
        "outputId": "e6e88a09-e288-4e92-8935-1287eafe64b7"
      },
      "execution_count": null,
      "outputs": [
        {
          "output_type": "stream",
          "name": "stdout",
          "text": [
            "Before Tuning:\n",
            "Training Accuracy (initial): 100.00%\n",
            "Testing Accuracy (initial): 98.33%\n",
            "\n",
            "After Tuning:\n",
            "Training Accuracy (tuned): 100.00%\n",
            "Testing Accuracy (tuned): 98.33%\n"
          ]
        }
      ]
    },
    {
      "cell_type": "code",
      "source": [
        "# HYPERPARAMETER TUNING DECISION TREE CLASSIFIER MODEL:\n",
        "\n",
        "from sklearn.tree import DecisionTreeClassifier\n",
        "from sklearn.model_selection import GridSearchCV\n",
        "from sklearn.metrics import accuracy_score, classification_report, confusion_matrix\n",
        "\n",
        "# Defining the parameter grid for Decision Tree:\n",
        "param_grid_dt = {\n",
        "    'criterion': ['gini', 'entropy'],                 # Criterion for splitting\n",
        "    'max_depth': [None, 10, 20, 30, 50],              # Maximum depth of the tree\n",
        "    'min_samples_split': [2, 10, 20, 30],             # Minimum samples required to split\n",
        "    'min_samples_leaf': [1, 5, 10],                   # Minimum samples required at leaf node\n",
        "    'max_features': [None, 'sqrt', 'log2']            # Number of features to consider for best split\n",
        "}\n",
        "\n",
        "grid_search_dt = GridSearchCV(estimator=DecisionTreeClassifier(random_state=42),\n",
        "                              param_grid=param_grid_dt,\n",
        "                              cv=5,\n",
        "                              scoring='accuracy',\n",
        "                              n_jobs=-1)\n",
        "\n",
        "# Fitting the model on the training data:\n",
        "grid_search_dt.fit(X_train_70, y_train_70)\n",
        "\n",
        "# Best model after hyperparameter tuning:\n",
        "best_dt_model = grid_search_dt.best_estimator_\n",
        "best_dt_params = grid_search_dt.best_params_\n",
        "best_dt_score = grid_search_dt.best_score_\n",
        "\n",
        "# Predictions on the test set using the tuned model:\n",
        "y_pred_tuned_dt = best_dt_model.predict(X_test_70)\n",
        "\n",
        "# Best parameters & cross-validation accuracy:\n",
        "print(\"Best parameters found: \", best_dt_params)\n",
        "print(\"Best cross-validation accuracy: {:.2f} %\".format(best_dt_score * 100))"
      ],
      "metadata": {
        "id": "SxjoCONBU6Bx",
        "colab": {
          "base_uri": "https://localhost:8080/"
        },
        "outputId": "5cc82b84-965c-4e75-c179-a528767fe134"
      },
      "execution_count": null,
      "outputs": [
        {
          "output_type": "stream",
          "name": "stdout",
          "text": [
            "Best parameters found:  {'criterion': 'entropy', 'max_depth': None, 'max_features': None, 'min_samples_leaf': 10, 'min_samples_split': 2}\n",
            "Best cross-validation accuracy: 97.11 %\n"
          ]
        }
      ]
    },
    {
      "cell_type": "code",
      "source": [
        "# Accuracy, Classification Report, and Confusion Matrix:\n",
        "\n",
        "dt_accuracy_tuned = accuracy_score(y_test_70, y_pred_tuned_dt)\n",
        "\n",
        "print(\"\\nDecision Tree accuracy on Test Set after tuning (in %): {:.2f} %\".format(dt_accuracy_tuned * 100))\n",
        "print(\"\\nClassification Report for Tuned Model:\\n\", classification_report(y_test_70, y_pred_tuned_dt))\n",
        "print(\"Confusion Matrix for Tuned Model:\\n\", confusion_matrix(y_test_70, y_pred_tuned_dt))"
      ],
      "metadata": {
        "id": "S6lj2bWCU6LJ",
        "colab": {
          "base_uri": "https://localhost:8080/"
        },
        "outputId": "41c75066-8fde-460b-e5d1-0cb6ba68b8de"
      },
      "execution_count": null,
      "outputs": [
        {
          "output_type": "stream",
          "name": "stdout",
          "text": [
            "\n",
            "Decision Tree accuracy on Test Set after tuning (in %): 98.33 %\n",
            "\n",
            "Classification Report for Tuned Model:\n",
            "               precision    recall  f1-score   support\n",
            "\n",
            "           0       1.00      0.98      0.99        87\n",
            "           1       0.94      1.00      0.97        33\n",
            "\n",
            "    accuracy                           0.98       120\n",
            "   macro avg       0.97      0.99      0.98       120\n",
            "weighted avg       0.98      0.98      0.98       120\n",
            "\n",
            "Confusion Matrix for Tuned Model:\n",
            " [[85  2]\n",
            " [ 0 33]]\n"
          ]
        }
      ]
    },
    {
      "cell_type": "code",
      "source": [
        "# HYPERPARAMETER TUNING DECISION TREE (COMPARISON):\n",
        "\n",
        "# --- Initial Model (Before Tuning) ---\n",
        "\n",
        "print(\"Before Tuning:\")\n",
        "print(\"Training Accuracy (initial): {:.2f}%\".format(dt_train_accuracy * 100))\n",
        "print(\"Testing Accuracy (initial): {:.2f}%\".format(dt_test_accuracy * 100))\n",
        "\n",
        "# --- Tuned Model (After Hyperparameter Tuning) ---\n",
        "\n",
        "train_accuracy_tuned_dt = accuracy_score(y_train_70, best_dt_model.predict(X_train_70))\n",
        "test_accuracy_tuned_dt = accuracy_score(y_test_70, best_dt_model.predict(X_test_70))\n",
        "\n",
        "print(\"\\nAfter Tuning:\")\n",
        "print(\"Training Accuracy (tuned): {:.2f}%\".format(train_accuracy_tuned_dt * 100))\n",
        "print(\"Testing Accuracy (tuned): {:.2f}%\".format(test_accuracy_tuned_dt * 100))"
      ],
      "metadata": {
        "id": "zDWAA0GBU6UQ",
        "colab": {
          "base_uri": "https://localhost:8080/"
        },
        "outputId": "6410d8bf-1e7b-43ba-8026-ae71a1353490"
      },
      "execution_count": null,
      "outputs": [
        {
          "output_type": "stream",
          "name": "stdout",
          "text": [
            "Before Tuning:\n",
            "Training Accuracy (initial): 100.00%\n",
            "Testing Accuracy (initial): 98.33%\n",
            "\n",
            "After Tuning:\n",
            "Training Accuracy (tuned): 98.20%\n",
            "Testing Accuracy (tuned): 98.33%\n"
          ]
        }
      ]
    },
    {
      "cell_type": "code",
      "source": [
        "# HYPERPARAMETER TUNING KNN MODEL:\n",
        "\n",
        "from sklearn.model_selection import GridSearchCV\n",
        "from sklearn.neighbors import KNeighborsClassifier\n",
        "from sklearn.metrics import accuracy_score, classification_report, confusion_matrix\n",
        "\n",
        "# Defining parameter grid for KNN:\n",
        "param_grid_knn = {\n",
        "    'n_neighbors': [3, 5, 7, 9, 11],             # Number of neighbors\n",
        "    'weights': ['uniform', 'distance'],           # Weight function\n",
        "    'metric': ['euclidean', 'manhattan', 'minkowski']  # Distance metric\n",
        "}\n",
        "\n",
        "# Setting up GridSearchCV with 5-fold cross-validation:\n",
        "grid_search_knn = GridSearchCV(estimator=KNeighborsClassifier(),\n",
        "                               param_grid=param_grid_knn,\n",
        "                               cv=5,\n",
        "                               scoring='accuracy',\n",
        "                               n_jobs=-1)\n",
        "\n",
        "# Fitting the model on the training data:\n",
        "grid_search_knn.fit(X_train_70, y_train_70)\n",
        "\n",
        "# Getting the best parameters and estimator from GridSearchCV:\n",
        "best_knn_model = grid_search_knn.best_estimator_\n",
        "best_knn_params = grid_search_knn.best_params_\n",
        "best_knn_score = grid_search_knn.best_score_\n",
        "\n",
        "# Predictions on the test set using the tuned model:\n",
        "y_pred_tuned_knn = best_knn_model.predict(X_test_70)\n",
        "\n",
        "print(\"Best parameters found: \", best_knn_params)\n",
        "print(\"Best cross-validation accuracy: {:.2f}%\".format(best_knn_score * 100))"
      ],
      "metadata": {
        "id": "ox2f9LeWU6fP",
        "colab": {
          "base_uri": "https://localhost:8080/"
        },
        "outputId": "e8b4d685-9237-4a04-bd07-9100ea3d23a3"
      },
      "execution_count": null,
      "outputs": [
        {
          "output_type": "stream",
          "name": "stdout",
          "text": [
            "Best parameters found:  {'metric': 'manhattan', 'n_neighbors': 9, 'weights': 'distance'}\n",
            "Best cross-validation accuracy: 66.89%\n"
          ]
        }
      ]
    },
    {
      "cell_type": "code",
      "source": [
        "# Accuracy, Classification Report, and Confusion Matrix:\n",
        "\n",
        "knn_accuracy_tuned = accuracy_score(y_test_70, y_pred_tuned_knn)\n",
        "\n",
        "print(\"\\nKNN accuracy on Test Set after tuning (in %): {:.2f} %\".format(knn_accuracy_tuned * 100))\n",
        "print(\"\\nClassification Report for Tuned Model:\\n\", classification_report(y_test_70, y_pred_tuned_knn))\n",
        "print(\"Confusion Matrix for Tuned Model:\\n\", confusion_matrix(y_test_70, y_pred_tuned_knn))"
      ],
      "metadata": {
        "id": "MUcu4hQ6U6mV",
        "colab": {
          "base_uri": "https://localhost:8080/"
        },
        "outputId": "be439372-c376-49a6-b458-645036f18696"
      },
      "execution_count": null,
      "outputs": [
        {
          "output_type": "stream",
          "name": "stdout",
          "text": [
            "\n",
            "KNN accuracy on Test Set after tuning (in %): 62.50 %\n",
            "\n",
            "Classification Report for Tuned Model:\n",
            "               precision    recall  f1-score   support\n",
            "\n",
            "           0       0.85      0.59      0.69        87\n",
            "           1       0.40      0.73      0.52        33\n",
            "\n",
            "    accuracy                           0.62       120\n",
            "   macro avg       0.62      0.66      0.61       120\n",
            "weighted avg       0.73      0.62      0.64       120\n",
            "\n",
            "Confusion Matrix for Tuned Model:\n",
            " [[51 36]\n",
            " [ 9 24]]\n"
          ]
        }
      ]
    },
    {
      "cell_type": "code",
      "source": [
        "# HYPERPARAMETER TUNING KNN MODEL (COMPARISON):\n",
        "\n",
        "# --- Initial Model (Before Tuning) ---\n",
        "\n",
        "print(\"Before Tuning:\")\n",
        "print(\"Training Accuracy (initial): {:.2f}%\".format(knn_train_accuracy * 100))\n",
        "print(\"Testing Accuracy (initial): {:.2f}%\".format(knn_test_accuracy * 100))\n",
        "\n",
        "# --- Tuned Model (After Hyperparameter Tuning) ---\n",
        "\n",
        "train_accuracy_tuned_knn = accuracy_score(y_train_70, best_knn_model.predict(X_train_70))\n",
        "test_accuracy_tuned_knn = accuracy_score(y_test_70, best_knn_model.predict(X_test_70))\n",
        "\n",
        "print(\"\\nAfter Tuning:\")\n",
        "print(\"Training Accuracy (tuned): {:.2f}%\".format(train_accuracy_tuned_knn * 100))\n",
        "print(\"Testing Accuracy (tuned): {:.2f}%\".format(test_accuracy_tuned_knn * 100))"
      ],
      "metadata": {
        "id": "w6q2flAvU6v7",
        "colab": {
          "base_uri": "https://localhost:8080/"
        },
        "outputId": "48f97d2c-8a56-488e-d128-34c0ba5ea478"
      },
      "execution_count": null,
      "outputs": [
        {
          "output_type": "stream",
          "name": "stdout",
          "text": [
            "Before Tuning:\n",
            "Training Accuracy (initial): 72.66%\n",
            "Testing Accuracy (initial): 62.50%\n",
            "\n",
            "After Tuning:\n",
            "Training Accuracy (tuned): 100.00%\n",
            "Testing Accuracy (tuned): 62.50%\n"
          ]
        }
      ]
    },
    {
      "cell_type": "code",
      "source": [
        "# HYPERPARAMETER TUNING XGBOOST MODEL:\n",
        "\n",
        "from sklearn.model_selection import GridSearchCV\n",
        "from xgboost import XGBClassifier\n",
        "from sklearn.metrics import accuracy_score, classification_report, confusion_matrix\n",
        "\n",
        "# Define parameter grid for XGBoost:\n",
        "param_grid_xgb = {\n",
        "    'n_estimators': [50, 100, 200],              # Number of boosting rounds\n",
        "    'learning_rate': [0.01, 0.1, 0.2, 0.3],      # Step size shrinkage\n",
        "    'max_depth': [3, 5, 7],                      # Maximum tree depth\n",
        "    'subsample': [0.6, 0.8, 1.0],                # Fraction of samples to use per tree\n",
        "    'colsample_bytree': [0.6, 0.8, 1.0],         # Fraction of features to consider per split\n",
        "    'gamma': [0, 0.1, 0.2]                       # Minimum loss reduction required to make a split\n",
        "}\n",
        "\n",
        "# Set up GridSearchCV with 5-fold cross-validation:\n",
        "grid_search_xgb = GridSearchCV(estimator=XGBClassifier(random_state=42, use_label_encoder=False, eval_metric='logloss'),\n",
        "                               param_grid=param_grid_xgb,\n",
        "                               cv=5,\n",
        "                               scoring='accuracy',\n",
        "                               n_jobs=-1)\n",
        "\n",
        "# Fitting the model on the training data:\n",
        "grid_search_xgb.fit(X_train_70, y_train_70)\n",
        "\n",
        "# Retrieve the best model, parameters, and cross-validation score:\n",
        "best_xgb_model = grid_search_xgb.best_estimator_\n",
        "best_xgb_params = grid_search_xgb.best_params_\n",
        "best_xgb_score = grid_search_xgb.best_score_\n",
        "\n",
        "# Predictions on the test set with the tuned model:\n",
        "y_pred_tuned_xgb = best_xgb_model.predict(X_test_70)\n",
        "\n",
        "# Best Parameters:\n",
        "print(\"Best parameters found: \", best_xgb_params)\n",
        "print(\"Best cross-validation accuracy: {:.2f}%\".format(best_xgb_score * 100))"
      ],
      "metadata": {
        "colab": {
          "base_uri": "https://localhost:8080/"
        },
        "id": "NYQSD9byOIvh",
        "outputId": "8cddc06d-c110-4f5c-b781-08e484b9e16a"
      },
      "execution_count": null,
      "outputs": [
        {
          "output_type": "stream",
          "name": "stdout",
          "text": [
            "Best parameters found:  {'colsample_bytree': 0.8, 'gamma': 0, 'learning_rate': 0.1, 'max_depth': 3, 'n_estimators': 200, 'subsample': 1.0}\n",
            "Best cross-validation accuracy: 97.84%\n"
          ]
        },
        {
          "output_type": "stream",
          "name": "stderr",
          "text": [
            "/usr/local/lib/python3.10/dist-packages/xgboost/core.py:158: UserWarning: [13:24:22] WARNING: /workspace/src/learner.cc:740: \n",
            "Parameters: { \"use_label_encoder\" } are not used.\n",
            "\n",
            "  warnings.warn(smsg, UserWarning)\n"
          ]
        }
      ]
    },
    {
      "cell_type": "code",
      "source": [
        "# Accuracy, Classification Report and Confusion Matrix after tuning:\n",
        "\n",
        "xgb_accuracy_tuned = accuracy_score(y_test_70, y_pred_tuned_xgb)\n",
        "\n",
        "print(\"\\nXGBoost Test Accuracy: {:.2f}%\".format(accuracy_score(y_test_70, y_pred_tuned_xgb) * 100))\n",
        "print(\"\\nClassification Report:\\n\", classification_report(y_test_70, y_pred_tuned_xgb))\n",
        "print(\"Confusion Matrix:\\n\", confusion_matrix(y_test_70, y_pred_tuned_xgb))"
      ],
      "metadata": {
        "colab": {
          "base_uri": "https://localhost:8080/"
        },
        "id": "SHZEJ1MaOI4X",
        "outputId": "1c81bc67-1046-449e-b19d-a51d1f69ec64"
      },
      "execution_count": null,
      "outputs": [
        {
          "output_type": "stream",
          "name": "stdout",
          "text": [
            "\n",
            "XGBoost Test Accuracy: 97.50%\n",
            "\n",
            "Classification Report:\n",
            "               precision    recall  f1-score   support\n",
            "\n",
            "           0       0.99      0.98      0.98        87\n",
            "           1       0.94      0.97      0.96        33\n",
            "\n",
            "    accuracy                           0.97       120\n",
            "   macro avg       0.96      0.97      0.97       120\n",
            "weighted avg       0.98      0.97      0.98       120\n",
            "\n",
            "Confusion Matrix:\n",
            " [[85  2]\n",
            " [ 1 32]]\n"
          ]
        }
      ]
    },
    {
      "cell_type": "code",
      "source": [
        "# HYPERPARAMETER TUNING XGBOOST MODEL (COMPARISON):\n",
        "\n",
        "# --- Initial Model (Before Tuning) ---\n",
        "\n",
        "print(\"Before Tuning:\")\n",
        "print(\"Training Accuracy (initial): {:.2f}%\".format(xgb_train_accuracy * 100))\n",
        "print(\"Testing Accuracy (initial): {:.2f}%\".format(xgb_test_accuracy * 100))\n",
        "\n",
        "# --- Tuned Model (After Hyperparameter Tuning) ---\n",
        "\n",
        "train_accuracy_tuned_xgb = accuracy_score(y_train_70, best_xgb_model.predict(X_train_70))\n",
        "test_accuracy_tuned_xgb = accuracy_score(y_test_70, best_xgb_model.predict(X_test_70))\n",
        "\n",
        "print(\"\\nAfter Tuning:\")\n",
        "print(\"Training Accuracy (tuned): {:.2f}%\".format(train_accuracy_tuned_xgb * 100))\n",
        "print(\"Testing Accuracy (tuned): {:.2f}%\".format(test_accuracy_tuned_xgb * 100))"
      ],
      "metadata": {
        "colab": {
          "base_uri": "https://localhost:8080/"
        },
        "id": "kyuLDC63OJAL",
        "outputId": "64bbb663-a9b0-4228-8c1a-36381952773a"
      },
      "execution_count": null,
      "outputs": [
        {
          "output_type": "stream",
          "name": "stdout",
          "text": [
            "Before Tuning:\n",
            "Training Accuracy (initial): 100.00%\n",
            "Testing Accuracy (initial): 98.33%\n",
            "\n",
            "After Tuning:\n",
            "Training Accuracy (tuned): 100.00%\n",
            "Testing Accuracy (tuned): 97.50%\n"
          ]
        }
      ]
    },
    {
      "cell_type": "markdown",
      "source": [
        "# **HYPERPARAMETER TUNING ACCURACY COMPARISON :**"
      ],
      "metadata": {
        "id": "f-UgEaDIG1aW"
      }
    },
    {
      "cell_type": "code",
      "source": [
        "from IPython.display import display, HTML\n",
        "import pandas as pd\n",
        "\n",
        "# Data for the table with actual variable names\n",
        "data = {\n",
        "    \"Model\": [\"Logistic Regression\", \"K-Nearest Neighbors\", \"Decision Tree\", \"Random Forest\", \"XGBoost\", \"Naive Bayes\"],\n",
        "    \"Training Accuracy (Before Tuning)\": [\n",
        "        logreg_train_accuracy * 100,\n",
        "        knn_train_accuracy * 100,\n",
        "        dt_train_accuracy * 100,\n",
        "        rf_train_accuracy * 100,\n",
        "        xgb_train_accuracy * 100,\n",
        "        nb_train_accuracy * 100\n",
        "    ],\n",
        "    \"Testing Accuracy (Before Tuning)\": [\n",
        "        logreg_test_accuracy * 100,\n",
        "        knn_test_accuracy * 100,\n",
        "        dt_test_accuracy * 100,\n",
        "        rf_test_accuracy * 100,\n",
        "        xgb_test_accuracy * 100,\n",
        "        nb_test_accuracy * 100\n",
        "    ],\n",
        "    \"Training Accuracy (After Tuning)\": [\n",
        "        train_accuracy_tuned_logreg * 100,\n",
        "        train_accuracy_tuned_knn * 100,\n",
        "        train_accuracy_tuned_dt * 100,\n",
        "        train_accuracy_tuned_rf * 100,\n",
        "        train_accuracy_tuned_xgb * 100,\n",
        "        train_accuracy_tuned_nb * 100\n",
        "    ],\n",
        "    \"Testing Accuracy (After Tuning)\": [\n",
        "        test_accuracy_tuned_logreg * 100,\n",
        "        test_accuracy_tuned_knn * 100,\n",
        "        test_accuracy_tuned_dt * 100,\n",
        "        test_accuracy_tuned_rf * 100,\n",
        "        test_accuracy_tuned_xgb * 100,\n",
        "        test_accuracy_tuned_nb * 100\n",
        "    ]\n",
        "}\n",
        "\n",
        "# Creating DataFrame\n",
        "vis = pd.DataFrame(data)\n",
        "\n",
        "# Displaying the table with formatted percentages\n",
        "display(HTML(vis.to_html(index=False, float_format=\"%.2f %%\")))"
      ],
      "metadata": {
        "id": "OJjBO_2_OJaI",
        "colab": {
          "base_uri": "https://localhost:8080/",
          "height": 272
        },
        "outputId": "6b591101-936e-4c00-e6a5-287a7ce60664"
      },
      "execution_count": null,
      "outputs": [
        {
          "output_type": "display_data",
          "data": {
            "text/plain": [
              "<IPython.core.display.HTML object>"
            ],
            "text/html": [
              "<table border=\"1\" class=\"dataframe\">\n",
              "  <thead>\n",
              "    <tr style=\"text-align: right;\">\n",
              "      <th>Model</th>\n",
              "      <th>Training Accuracy (Before Tuning)</th>\n",
              "      <th>Testing Accuracy (Before Tuning)</th>\n",
              "      <th>Training Accuracy (After Tuning)</th>\n",
              "      <th>Testing Accuracy (After Tuning)</th>\n",
              "    </tr>\n",
              "  </thead>\n",
              "  <tbody>\n",
              "    <tr>\n",
              "      <td>Logistic Regression</td>\n",
              "      <td>58.63 %</td>\n",
              "      <td>61.67 %</td>\n",
              "      <td>60.43 %</td>\n",
              "      <td>72.50 %</td>\n",
              "    </tr>\n",
              "    <tr>\n",
              "      <td>K-Nearest Neighbors</td>\n",
              "      <td>72.66 %</td>\n",
              "      <td>62.50 %</td>\n",
              "      <td>100.00 %</td>\n",
              "      <td>62.50 %</td>\n",
              "    </tr>\n",
              "    <tr>\n",
              "      <td>Decision Tree</td>\n",
              "      <td>100.00 %</td>\n",
              "      <td>98.33 %</td>\n",
              "      <td>98.20 %</td>\n",
              "      <td>98.33 %</td>\n",
              "    </tr>\n",
              "    <tr>\n",
              "      <td>Random Forest</td>\n",
              "      <td>100.00 %</td>\n",
              "      <td>98.33 %</td>\n",
              "      <td>100.00 %</td>\n",
              "      <td>98.33 %</td>\n",
              "    </tr>\n",
              "    <tr>\n",
              "      <td>XGBoost</td>\n",
              "      <td>100.00 %</td>\n",
              "      <td>98.33 %</td>\n",
              "      <td>100.00 %</td>\n",
              "      <td>97.50 %</td>\n",
              "    </tr>\n",
              "    <tr>\n",
              "      <td>Naive Bayes</td>\n",
              "      <td>89.93 %</td>\n",
              "      <td>88.33 %</td>\n",
              "      <td>89.93 %</td>\n",
              "      <td>88.33 %</td>\n",
              "    </tr>\n",
              "  </tbody>\n",
              "</table>"
            ]
          },
          "metadata": {}
        }
      ]
    },
    {
      "cell_type": "markdown",
      "source": [
        "# **RETRAINING SELECTED MODELS WITH BEST PARAMETERS :**"
      ],
      "metadata": {
        "id": "maY-XU0GHALz"
      }
    },
    {
      "cell_type": "code",
      "source": [
        "# RETRAINING XGBOOST MODEL USING BEST PARAMETERS:\n",
        "\n",
        "from xgboost import XGBClassifier\n",
        "from sklearn.metrics import accuracy_score, classification_report, confusion_matrix\n",
        "\n",
        "# Defining the XGBoost model with the best parameters:\n",
        "final_xgb_model = XGBClassifier(\n",
        "    colsample_bytree=0.8,\n",
        "    gamma=0,\n",
        "    learning_rate=0.1,\n",
        "    max_depth=3,\n",
        "    n_estimators=200,\n",
        "    subsample=1.0,\n",
        ")\n",
        "\n",
        "# Training the final model on the entire training dataset:\n",
        "final_xgb_model.fit(X_train_70, y_train_70)\n",
        "\n",
        "# Predictions on the test set:\n",
        "y_pred_final_xgb = final_xgb_model.predict(X_test_70)\n",
        "\n",
        "# Evaluating the model:\n",
        "final_accuracy = accuracy_score(y_test_70, y_pred_final_xgb)\n",
        "print(\"Final XGBoost Model Accuracy (in %): {:.2f}%\".format(final_accuracy * 100))\n",
        "\n",
        "# Classification report and confusion matrix:\n",
        "print(\"\\nClassification Report:\\n\", classification_report(y_test_70, y_pred_final_xgb))\n",
        "print(\"Confusion Matrix:\\n\", confusion_matrix(y_test_70, y_pred_final_xgb))"
      ],
      "metadata": {
        "id": "j2MdBRFsOJgv",
        "colab": {
          "base_uri": "https://localhost:8080/"
        },
        "outputId": "506ea830-943f-4b5e-d610-cbfa3955e80e"
      },
      "execution_count": null,
      "outputs": [
        {
          "output_type": "stream",
          "name": "stdout",
          "text": [
            "Final XGBoost Model Accuracy (in %): 97.50%\n",
            "\n",
            "Classification Report:\n",
            "               precision    recall  f1-score   support\n",
            "\n",
            "           0       0.99      0.98      0.98        87\n",
            "           1       0.94      0.97      0.96        33\n",
            "\n",
            "    accuracy                           0.97       120\n",
            "   macro avg       0.96      0.97      0.97       120\n",
            "weighted avg       0.98      0.97      0.98       120\n",
            "\n",
            "Confusion Matrix:\n",
            " [[85  2]\n",
            " [ 1 32]]\n"
          ]
        }
      ]
    },
    {
      "cell_type": "code",
      "source": [
        "# FINAL TRAINING & TESTING ACCURACY XGBOOST:\n",
        "\n",
        "train_accuracy_final_xgb = accuracy_score(y_train_70, final_xgb_model.predict(X_train_70))\n",
        "\n",
        "test_accuracy_final_xgb = accuracy_score(y_test_70, y_pred_final_xgb)\n",
        "\n",
        "print(\"Final Training Accuracy (in %): {:.2f}%\".format(train_accuracy_final_xgb * 100))\n",
        "print(\"Final Testing Accuracy (in %): {:.2f}%\".format(test_accuracy_final_xgb * 100))"
      ],
      "metadata": {
        "colab": {
          "base_uri": "https://localhost:8080/"
        },
        "id": "Je83dYbfZOKo",
        "outputId": "020af302-5a92-4be1-b961-a7fa50ab5df8"
      },
      "execution_count": null,
      "outputs": [
        {
          "output_type": "stream",
          "name": "stdout",
          "text": [
            "Final Training Accuracy (in %): 100.00%\n",
            "Final Testing Accuracy (in %): 97.50%\n"
          ]
        }
      ]
    },
    {
      "cell_type": "code",
      "source": [
        "# Saving the trained XGBoost model:\n",
        "\n",
        "import joblib\n",
        "\n",
        "joblib.dump(final_xgb_model, 'final_xgboost_model.pkl')\n",
        "\n",
        "print(\"Model saved successfully as 'final_xgboost_model.pkl'\")"
      ],
      "metadata": {
        "colab": {
          "base_uri": "https://localhost:8080/"
        },
        "id": "bu1IgmjmaCjK",
        "outputId": "289e5bc3-7f6d-45e2-a730-0ee79f476c58"
      },
      "execution_count": null,
      "outputs": [
        {
          "output_type": "stream",
          "name": "stdout",
          "text": [
            "Model saved successfully as 'final_xgboost_model.pkl'\n"
          ]
        }
      ]
    },
    {
      "cell_type": "code",
      "source": [
        "# RETRAINING DECISION TREE MODEL USING BEST PARAMETERS:\n",
        "\n",
        "from sklearn.tree import DecisionTreeClassifier\n",
        "from sklearn.metrics import accuracy_score, classification_report, confusion_matrix\n",
        "\n",
        "# Defining the Decision Tree model with the best parameters:\n",
        "final_dt_model = DecisionTreeClassifier(\n",
        "    criterion='entropy',\n",
        "    max_depth=None,\n",
        "    max_features=None,\n",
        "    min_samples_leaf=10,\n",
        "    min_samples_split=2,\n",
        ")\n",
        "\n",
        "# Training the final model on the entire training dataset:\n",
        "final_dt_model.fit(X_train_70, y_train_70)\n",
        "\n",
        "# Predictions on the test set:\n",
        "y_pred_final_dt = final_dt_model.predict(X_test_70)\n",
        "\n",
        "# Evaluating the model:\n",
        "final_accuracy_dt = accuracy_score(y_test_70, y_pred_final_dt)\n",
        "print(\"Final Decision Tree Model Accuracy (in %): {:.2f}%\".format(final_accuracy_dt * 100))\n",
        "\n",
        "# Classification report and confusion matrix:\n",
        "print(\"\\nClassification Report:\\n\", classification_report(y_test_70, y_pred_final_dt))\n",
        "print(\"Confusion Matrix:\\n\", confusion_matrix(y_test_70, y_pred_final_dt))"
      ],
      "metadata": {
        "colab": {
          "base_uri": "https://localhost:8080/"
        },
        "id": "-dHEeUiMi2Ez",
        "outputId": "5470ded0-eea7-4971-bd7f-336f716b9f1b"
      },
      "execution_count": null,
      "outputs": [
        {
          "output_type": "stream",
          "name": "stdout",
          "text": [
            "Final Decision Tree Model Accuracy (in %): 98.33%\n",
            "\n",
            "Classification Report:\n",
            "               precision    recall  f1-score   support\n",
            "\n",
            "           0       1.00      0.98      0.99        87\n",
            "           1       0.94      1.00      0.97        33\n",
            "\n",
            "    accuracy                           0.98       120\n",
            "   macro avg       0.97      0.99      0.98       120\n",
            "weighted avg       0.98      0.98      0.98       120\n",
            "\n",
            "Confusion Matrix:\n",
            " [[85  2]\n",
            " [ 0 33]]\n"
          ]
        }
      ]
    },
    {
      "cell_type": "code",
      "source": [
        "# FINAL TRAINING & TESTING ACCURACY DECISION TREE:\n",
        "\n",
        "train_accuracy_final_dt = accuracy_score(y_train_70, final_dt_model.predict(X_train_70))\n",
        "\n",
        "test_accuracy_final_dt = accuracy_score(y_test_70, y_pred_final_dt)\n",
        "\n",
        "print(\"Final Training Accuracy (in %): {:.2f}%\".format(train_accuracy_final_dt * 100))\n",
        "print(\"Final Testing Accuracy (in %): {:.2f}%\".format(test_accuracy_final_dt * 100))"
      ],
      "metadata": {
        "colab": {
          "base_uri": "https://localhost:8080/"
        },
        "id": "WFisXlZAi2M-",
        "outputId": "b07e38aa-05fb-4aad-c52c-6a137a47d212"
      },
      "execution_count": null,
      "outputs": [
        {
          "output_type": "stream",
          "name": "stdout",
          "text": [
            "Final Training Accuracy (in %): 98.20%\n",
            "Final Testing Accuracy (in %): 98.33%\n"
          ]
        }
      ]
    },
    {
      "cell_type": "code",
      "source": [
        "# Saving the trained Decision Tree model:\n",
        "\n",
        "import joblib\n",
        "\n",
        "joblib.dump(final_dt_model, 'final_dt_model.pkl')\n",
        "\n",
        "print(\"Model saved successfully as 'final_dt_model.pkl'\")"
      ],
      "metadata": {
        "colab": {
          "base_uri": "https://localhost:8080/"
        },
        "id": "H-OwWAKTi2UQ",
        "outputId": "005b71fe-1a6c-4f23-c07b-b1a83eba4598"
      },
      "execution_count": null,
      "outputs": [
        {
          "output_type": "stream",
          "name": "stdout",
          "text": [
            "Model saved successfully as 'final_dt_model.pkl'\n"
          ]
        }
      ]
    },
    {
      "cell_type": "code",
      "source": [
        "# RETRAINING RANDOM FOREST MODEL USING BEST PARAMETERS:\n",
        "\n",
        "from sklearn.ensemble import RandomForestClassifier\n",
        "from sklearn.metrics import accuracy_score, classification_report, confusion_matrix\n",
        "\n",
        "# Defining the Random Forest model with the best parameters:\n",
        "final_rf_model = RandomForestClassifier(\n",
        "    bootstrap=False,\n",
        "    max_depth=None,\n",
        "    max_features='log2',\n",
        "    min_samples_leaf=1,\n",
        "    min_samples_split=5,\n",
        "    n_estimators=50,\n",
        ")\n",
        "\n",
        "# Training the final model on the entire training dataset:\n",
        "final_rf_model.fit(X_train_70, y_train_70)\n",
        "\n",
        "# Predictions on the test set:\n",
        "y_pred_final_rf = final_rf_model.predict(X_test_70)\n",
        "\n",
        "# Evaluating the model:\n",
        "final_accuracy_rf = accuracy_score(y_test_70, y_pred_final_rf)\n",
        "print(\"Final Random Forest Model Accuracy (in %): {:.2f}%\".format(final_accuracy_rf * 100))\n",
        "\n",
        "# Classification report and confusion matrix:\n",
        "print(\"\\nClassification Report:\\n\", classification_report(y_test_70, y_pred_final_rf))\n",
        "print(\"Confusion Matrix:\\n\", confusion_matrix(y_test_70, y_pred_final_rf))"
      ],
      "metadata": {
        "colab": {
          "base_uri": "https://localhost:8080/"
        },
        "id": "f0Ps8HY-pH7X",
        "outputId": "adc734e7-8d65-4702-c7c0-f5a287ddd5e3"
      },
      "execution_count": null,
      "outputs": [
        {
          "output_type": "stream",
          "name": "stdout",
          "text": [
            "Final Random Forest Model Accuracy (in %): 97.50%\n",
            "\n",
            "Classification Report:\n",
            "               precision    recall  f1-score   support\n",
            "\n",
            "           0       0.99      0.98      0.98        87\n",
            "           1       0.94      0.97      0.96        33\n",
            "\n",
            "    accuracy                           0.97       120\n",
            "   macro avg       0.96      0.97      0.97       120\n",
            "weighted avg       0.98      0.97      0.98       120\n",
            "\n",
            "Confusion Matrix:\n",
            " [[85  2]\n",
            " [ 1 32]]\n"
          ]
        }
      ]
    },
    {
      "cell_type": "code",
      "source": [
        "# FINAL TRAINING & TESTING ACCURACY RANDOM FOREST:\n",
        "\n",
        "train_accuracy_final_rf = accuracy_score(y_train_70, final_rf_model.predict(X_train_70))\n",
        "\n",
        "test_accuracy_final_rf = accuracy_score(y_test_70, y_pred_final_rf)\n",
        "\n",
        "print(\"Final Training Accuracy (in %): {:.2f}%\".format(train_accuracy_final_rf * 100))\n",
        "print(\"Final Testing Accuracy (in %): {:.2f}%\".format(test_accuracy_final_rf * 100))"
      ],
      "metadata": {
        "colab": {
          "base_uri": "https://localhost:8080/"
        },
        "id": "cqZwu6iDpCMP",
        "outputId": "bb6f1d95-3418-4f7e-bce8-554b3a8ff01e"
      },
      "execution_count": null,
      "outputs": [
        {
          "output_type": "stream",
          "name": "stdout",
          "text": [
            "Final Training Accuracy (in %): 100.00%\n",
            "Final Testing Accuracy (in %): 97.50%\n"
          ]
        }
      ]
    },
    {
      "cell_type": "code",
      "source": [
        "# Saving the trained Random Forest model:\n",
        "\n",
        "import joblib\n",
        "\n",
        "joblib.dump(final_rf_model, 'final_rf_model.pkl')\n",
        "\n",
        "print(\"Model saved successfully as 'final_rf_model.pkl'\")"
      ],
      "metadata": {
        "colab": {
          "base_uri": "https://localhost:8080/"
        },
        "id": "iRAMxmXopCTb",
        "outputId": "a2ffe6c9-3cec-435c-8fa9-32c30e63c285"
      },
      "execution_count": null,
      "outputs": [
        {
          "output_type": "stream",
          "name": "stdout",
          "text": [
            "Model saved successfully as 'final_rf_model.pkl'\n"
          ]
        }
      ]
    },
    {
      "cell_type": "code",
      "source": [],
      "metadata": {
        "id": "-9um1Vz2pCaF"
      },
      "execution_count": null,
      "outputs": []
    }
  ]
}
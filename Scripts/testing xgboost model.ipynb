{
 "cells": [
  {
   "cell_type": "code",
   "execution_count": 11,
   "id": "a3b024f7-2c0c-4b09-872a-084399dc37d5",
   "metadata": {},
   "outputs": [],
   "source": [
    "import joblib \n",
    "import pandas as pd \n",
    "# Load the trained model and encoder\n",
    "loaded_encoder = joblib.load('ngsloo_encoder.pkl')\n",
    "loaded_xgb_model = joblib.load('ngsxgb_model.pkl')\n"
   ]
  },
  {
   "cell_type": "code",
   "execution_count": 12,
   "id": "9be00ac9-2b05-4c87-8412-aa3913a23a38",
   "metadata": {},
   "outputs": [
    {
     "name": "stdout",
     "output_type": "stream",
     "text": [
      "                 Food Product Main Ingredient      Sweetener      Fat/Oil  \\\n",
      "0  Gluten-Free Chocolate Cake    Almond flour  Coconut sugar  Coconut oil   \n",
      "1              Chocolate Cake     Wheat flour          Sugar       Butter   \n",
      "\n",
      "                Seasoning     Allergens  Price ($)  Customer rating (Out of 5)  \n",
      "0  Vanilla extract, Cocoa          None       7.50                         4.5  \n",
      "1  Vanilla extract, Cocoa  Wheat, Dairy       5.75                         4.6  \n"
     ]
    }
   ],
   "source": [
    "example_data = pd.DataFrame({\n",
    "    \"Food Product\": ['Gluten-Free Chocolate Cake', 'Chocolate Cake'],\n",
    "    \"Main Ingredient\": ['Almond flour', 'Wheat flour'],\n",
    "    \"Sweetener\": ['Coconut sugar', 'Sugar'],\n",
    "    \"Fat/Oil\": ['Coconut oil', 'Butter'],\n",
    "    \"Seasoning\": ['Vanilla extract, Cocoa', 'Vanilla extract, Cocoa'],\n",
    "    \"Allergens\": ['None', 'Wheat, Dairy'],\n",
    "    \"Price ($)\": [7.50, 5.75],\n",
    "    \"Customer rating (Out of 5)\": [4.5, 4.6]\n",
    "})\n",
    "\n",
    "print(example_data)\n"
   ]
  },
  {
   "cell_type": "code",
   "execution_count": 13,
   "id": "99cf5e37-b7de-491e-9f30-11f6bc746fa3",
   "metadata": {},
   "outputs": [],
   "source": [
    "\n",
    "# Identify categorical columns\n",
    "categorical_columns = example_data.select_dtypes(include=['object']).columns\n",
    "\n",
    "# Transform the categorical columns using the loaded encoder\n",
    "example_data_encoded = loaded_encoder.transform(example_data[categorical_columns])\n",
    "\n",
    "# Combine the transformed data back with the original DataFrame\n",
    "example_data = pd.concat([example_data.drop(categorical_columns, axis=1), example_data_encoded], axis=1)\n"
   ]
  },
  {
   "cell_type": "code",
   "execution_count": 14,
   "id": "f4189596-d919-4ed4-a02f-d3d50e52ff3b",
   "metadata": {},
   "outputs": [
    {
     "name": "stdout",
     "output_type": "stream",
     "text": [
      "Predictions on example data: [1 1]\n"
     ]
    }
   ],
   "source": [
    "predictions = loaded_xgb_model.predict(example_data)\n",
    "print(\"Predictions on example data:\", predictions)\n"
   ]
  },
  {
   "cell_type": "code",
   "execution_count": null,
   "id": "9658b4a1-e794-4692-915f-19759e7460dc",
   "metadata": {},
   "outputs": [],
   "source": []
  }
 ],
 "metadata": {
  "kernelspec": {
   "display_name": "Python 3 (ipykernel)",
   "language": "python",
   "name": "python3"
  },
  "language_info": {
   "codemirror_mode": {
    "name": "ipython",
    "version": 3
   },
   "file_extension": ".py",
   "mimetype": "text/x-python",
   "name": "python",
   "nbconvert_exporter": "python",
   "pygments_lexer": "ipython3",
   "version": "3.11.5"
  }
 },
 "nbformat": 4,
 "nbformat_minor": 5
}

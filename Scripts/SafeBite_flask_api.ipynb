{
 "cells": [
  {
   "cell_type": "code",
   "execution_count": 2,
   "id": "b19c92c1-5205-46d3-b65c-a4f31eec2db8",
   "metadata": {},
   "outputs": [
    {
     "name": "stdout",
     "output_type": "stream",
     "text": [
      " * Serving Flask app '__main__'\n",
      " * Debug mode: off\n"
     ]
    },
    {
     "name": "stderr",
     "output_type": "stream",
     "text": [
      "WARNING: This is a development server. Do not use it in a production deployment. Use a production WSGI server instead.\n",
      " * Running on http://127.0.0.1:5000\n",
      "Press CTRL+C to quit\n",
      "127.0.0.1 - - [26/Nov/2024 19:38:10] \"POST /predict HTTP/1.1\" 200 -\n"
     ]
    }
   ],
   "source": [
    "from flask import Flask, request, jsonify\n",
    "import pandas as pd\n",
    "import joblib\n",
    "\n",
    "app = Flask(__name__)\n",
    "\n",
    "encoder = joblib.load(r\"C:\\Users\\Admin\\OneDrive\\Desktop\\SafeBite\\Models\\encoder.pkl\")\n",
    "model = joblib.load(r\"C:\\Users\\Admin\\OneDrive\\Desktop\\SafeBite\\Models\\best_knn_model.pkl\")\n",
    "\n",
    "@app.route(\"/\")\n",
    "def home():\n",
    "    return jsonify({\"message\": \"Welcome to the SafeBite Allergen Detection API\"})\n",
    "\n",
    "@app.route(\"/predict\", methods=[\"POST\"])\n",
    "def predict():\n",
    "    try:\n",
    "        data = request.json\n",
    "        input_data = pd.DataFrame([data])\n",
    "\n",
    "        cat_cols = ['Food Product', 'Main Ingredient', 'Sweetener', 'Fat/Oil', 'Seasoning', 'Allergens']\n",
    "        encoded_data = encoder.transform(input_data[cat_cols])\n",
    "        input_data = pd.concat([input_data.drop(cat_cols, axis=1), pd.DataFrame(encoded_data, columns=encoder.get_feature_names_out())], axis=1)\n",
    "\n",
    "        prediction = model.predict(input_data)\n",
    "        prediction_proba = model.predict_proba(input_data)[:, 1]\n",
    "\n",
    "        result = {\n",
    "            \"prediction\": int(prediction[0]),  # 1: Contains allergens, 0: No allergens\n",
    "            \"confidence\": float(prediction_proba[0])\n",
    "        }\n",
    "\n",
    "        return jsonify(result)\n",
    "\n",
    "    except Exception as e:\n",
    "        return jsonify({\"error\": str(e)})\n",
    "\n",
    "if __name__ == \"__main__\":\n",
    "    app.run()"
   ]
  },
  {
   "cell_type": "code",
   "execution_count": null,
   "id": "57bc0a2c-2aa1-405a-8ae0-3476dcbcc869",
   "metadata": {},
   "outputs": [],
   "source": []
  }
 ],
 "metadata": {
  "kernelspec": {
   "display_name": "Python 3",
   "language": "python",
   "name": "python3"
  },
  "language_info": {
   "codemirror_mode": {
    "name": "ipython",
    "version": 3
   },
   "file_extension": ".py",
   "mimetype": "text/x-python",
   "name": "python",
   "nbconvert_exporter": "python",
   "pygments_lexer": "ipython3",
   "version": "3.13.0"
  }
 },
 "nbformat": 4,
 "nbformat_minor": 5
}

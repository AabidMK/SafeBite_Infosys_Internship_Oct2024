{
 "cells": [
  {
   "cell_type": "code",
   "execution_count": 3,
   "id": "3d744083-10ee-4d32-9bdf-6e770ac99ff7",
   "metadata": {},
   "outputs": [
    {
     "name": "stdout",
     "output_type": "stream",
     "text": [
      "Dataset Preview:\n",
      "          Food Product Main Ingredient Sweetener Fat/Oil Seasoning  \\\n",
      "0       Almond Cookies         Almonds     Sugar  Butter     Flour   \n",
      "1       Almond Cookies         Almonds     Sugar  Butter     Flour   \n",
      "2  Chicken Noodle Soup   Chicken broth      None    None      Salt   \n",
      "3  Chicken Noodle Soup   Chicken broth      None    None      Salt   \n",
      "4       Cheddar Cheese          Cheese      None    None      Salt   \n",
      "\n",
      "                Allergens  Price ($)  Customer rating (Out of 5) Prediction  \n",
      "0   Almonds, Wheat, Dairy      10.15                         3.1   Contains  \n",
      "1   Almonds, Wheat, Dairy       6.17                         4.5   Contains  \n",
      "2  Chicken, Wheat, Celery      19.65                         4.1   Contains  \n",
      "3  Chicken, Wheat, Celery      17.48                         4.7   Contains  \n",
      "4                   Dairy      10.83                         3.7   Contains  \n",
      "\n",
      "Dataset Information:\n",
      "<class 'pandas.core.frame.DataFrame'>\n",
      "RangeIndex: 399 entries, 0 to 398\n",
      "Data columns (total 9 columns):\n",
      " #   Column                      Non-Null Count  Dtype  \n",
      "---  ------                      --------------  -----  \n",
      " 0   Food Product                399 non-null    object \n",
      " 1   Main Ingredient             399 non-null    object \n",
      " 2   Sweetener                   399 non-null    object \n",
      " 3   Fat/Oil                     399 non-null    object \n",
      " 4   Seasoning                   399 non-null    object \n",
      " 5   Allergens                   399 non-null    object \n",
      " 6   Price ($)                   399 non-null    float64\n",
      " 7   Customer rating (Out of 5)  399 non-null    float64\n",
      " 8   Prediction                  398 non-null    object \n",
      "dtypes: float64(2), object(7)\n",
      "memory usage: 28.2+ KB\n",
      "None\n",
      "\n",
      "Missing Values:\n",
      "Food Product                  0\n",
      "Main Ingredient               0\n",
      "Sweetener                     0\n",
      "Fat/Oil                       0\n",
      "Seasoning                     0\n",
      "Allergens                     0\n",
      "Price ($)                     0\n",
      "Customer rating (Out of 5)    0\n",
      "Prediction                    1\n",
      "dtype: int64\n"
     ]
    }
   ],
   "source": [
    "import pandas as pd\n",
    "\n",
    "# Load the dataset\n",
    "data = pd.read_csv('info.Allergen_Status_of_Food_Products.csv' , keep_default_na=False, na_values=\"\")\n",
    "\n",
    "# Display the first few rows of the dataset\n",
    "print(\"Dataset Preview:\")\n",
    "print(data.head())\n",
    "\n",
    "# Display dataset info\n",
    "print(\"\\nDataset Information:\")\n",
    "print(data.info())\n",
    "\n",
    "# Check for missing values\n",
    "print(\"\\nMissing Values:\")\n",
    "print(data.isnull().sum())\n"
   ]
  },
  {
   "cell_type": "code",
   "execution_count": 19,
   "id": "35d0b756-a8dc-4197-b832-1e1b0ecaa0d3",
   "metadata": {},
   "outputs": [
    {
     "name": "stdout",
     "output_type": "stream",
     "text": [
      "Percentage of Missing Values:\n",
      " Food Product                  0.0\n",
      "Main Ingredient               0.0\n",
      "Sweetener                     0.0\n",
      "Fat/Oil                       0.0\n",
      "Seasoning                     0.0\n",
      "Allergens                     0.0\n",
      "Price ($)                     0.0\n",
      "Customer rating (Out of 5)    0.0\n",
      "Prediction                    0.0\n",
      "dtype: float64\n",
      "\n",
      "Columns to drop (more than 50% missing): Index([], dtype='object')\n"
     ]
    },
    {
     "ename": "IndexError",
     "evalue": "single positional indexer is out-of-bounds",
     "output_type": "error",
     "traceback": [
      "\u001b[1;31m---------------------------------------------------------------------------\u001b[0m",
      "\u001b[1;31mIndexError\u001b[0m                                Traceback (most recent call last)",
      "Cell \u001b[1;32mIn[19], line 19\u001b[0m\n\u001b[0;32m     17\u001b[0m \u001b[38;5;66;03m# Fill missing values for categorical columns with mode\u001b[39;00m\n\u001b[0;32m     18\u001b[0m categorical_cols \u001b[38;5;241m=\u001b[39m data\u001b[38;5;241m.\u001b[39mselect_dtypes(include\u001b[38;5;241m=\u001b[39m[\u001b[38;5;124m'\u001b[39m\u001b[38;5;124mobject\u001b[39m\u001b[38;5;124m'\u001b[39m])\u001b[38;5;241m.\u001b[39mcolumns\n\u001b[1;32m---> 19\u001b[0m data[categorical_cols] \u001b[38;5;241m=\u001b[39m data[categorical_cols]\u001b[38;5;241m.\u001b[39mfillna(\u001b[43mdata\u001b[49m\u001b[43m[\u001b[49m\u001b[43mcategorical_cols\u001b[49m\u001b[43m]\u001b[49m\u001b[38;5;241;43m.\u001b[39;49m\u001b[43mmode\u001b[49m\u001b[43m(\u001b[49m\u001b[43m)\u001b[49m\u001b[38;5;241;43m.\u001b[39;49m\u001b[43miloc\u001b[49m\u001b[43m[\u001b[49m\u001b[38;5;241;43m0\u001b[39;49m\u001b[43m]\u001b[49m)\n\u001b[0;32m     21\u001b[0m \u001b[38;5;66;03m# Verify no missing values remain\u001b[39;00m\n\u001b[0;32m     22\u001b[0m \u001b[38;5;28mprint\u001b[39m(\u001b[38;5;124m\"\u001b[39m\u001b[38;5;130;01m\\n\u001b[39;00m\u001b[38;5;124mMissing values after handling:\u001b[39m\u001b[38;5;124m\"\u001b[39m)\n",
      "File \u001b[1;32m~\\anaconda3\\Lib\\site-packages\\pandas\\core\\indexing.py:1191\u001b[0m, in \u001b[0;36m_LocationIndexer.__getitem__\u001b[1;34m(self, key)\u001b[0m\n\u001b[0;32m   1189\u001b[0m maybe_callable \u001b[38;5;241m=\u001b[39m com\u001b[38;5;241m.\u001b[39mapply_if_callable(key, \u001b[38;5;28mself\u001b[39m\u001b[38;5;241m.\u001b[39mobj)\n\u001b[0;32m   1190\u001b[0m maybe_callable \u001b[38;5;241m=\u001b[39m \u001b[38;5;28mself\u001b[39m\u001b[38;5;241m.\u001b[39m_check_deprecated_callable_usage(key, maybe_callable)\n\u001b[1;32m-> 1191\u001b[0m \u001b[38;5;28;01mreturn\u001b[39;00m \u001b[38;5;28;43mself\u001b[39;49m\u001b[38;5;241;43m.\u001b[39;49m\u001b[43m_getitem_axis\u001b[49m\u001b[43m(\u001b[49m\u001b[43mmaybe_callable\u001b[49m\u001b[43m,\u001b[49m\u001b[43m \u001b[49m\u001b[43maxis\u001b[49m\u001b[38;5;241;43m=\u001b[39;49m\u001b[43maxis\u001b[49m\u001b[43m)\u001b[49m\n",
      "File \u001b[1;32m~\\anaconda3\\Lib\\site-packages\\pandas\\core\\indexing.py:1752\u001b[0m, in \u001b[0;36m_iLocIndexer._getitem_axis\u001b[1;34m(self, key, axis)\u001b[0m\n\u001b[0;32m   1749\u001b[0m     \u001b[38;5;28;01mraise\u001b[39;00m \u001b[38;5;167;01mTypeError\u001b[39;00m(\u001b[38;5;124m\"\u001b[39m\u001b[38;5;124mCannot index by location index with a non-integer key\u001b[39m\u001b[38;5;124m\"\u001b[39m)\n\u001b[0;32m   1751\u001b[0m \u001b[38;5;66;03m# validate the location\u001b[39;00m\n\u001b[1;32m-> 1752\u001b[0m \u001b[38;5;28;43mself\u001b[39;49m\u001b[38;5;241;43m.\u001b[39;49m\u001b[43m_validate_integer\u001b[49m\u001b[43m(\u001b[49m\u001b[43mkey\u001b[49m\u001b[43m,\u001b[49m\u001b[43m \u001b[49m\u001b[43maxis\u001b[49m\u001b[43m)\u001b[49m\n\u001b[0;32m   1754\u001b[0m \u001b[38;5;28;01mreturn\u001b[39;00m \u001b[38;5;28mself\u001b[39m\u001b[38;5;241m.\u001b[39mobj\u001b[38;5;241m.\u001b[39m_ixs(key, axis\u001b[38;5;241m=\u001b[39maxis)\n",
      "File \u001b[1;32m~\\anaconda3\\Lib\\site-packages\\pandas\\core\\indexing.py:1685\u001b[0m, in \u001b[0;36m_iLocIndexer._validate_integer\u001b[1;34m(self, key, axis)\u001b[0m\n\u001b[0;32m   1683\u001b[0m len_axis \u001b[38;5;241m=\u001b[39m \u001b[38;5;28mlen\u001b[39m(\u001b[38;5;28mself\u001b[39m\u001b[38;5;241m.\u001b[39mobj\u001b[38;5;241m.\u001b[39m_get_axis(axis))\n\u001b[0;32m   1684\u001b[0m \u001b[38;5;28;01mif\u001b[39;00m key \u001b[38;5;241m>\u001b[39m\u001b[38;5;241m=\u001b[39m len_axis \u001b[38;5;129;01mor\u001b[39;00m key \u001b[38;5;241m<\u001b[39m \u001b[38;5;241m-\u001b[39mlen_axis:\n\u001b[1;32m-> 1685\u001b[0m     \u001b[38;5;28;01mraise\u001b[39;00m \u001b[38;5;167;01mIndexError\u001b[39;00m(\u001b[38;5;124m\"\u001b[39m\u001b[38;5;124msingle positional indexer is out-of-bounds\u001b[39m\u001b[38;5;124m\"\u001b[39m)\n",
      "\u001b[1;31mIndexError\u001b[0m: single positional indexer is out-of-bounds"
     ]
    }
   ],
   "source": [
    "# Check the percentage of missing values for each column\n",
    "missing_percentage = data.isnull().mean() * 100\n",
    "print(\"Percentage of Missing Values:\\n\", missing_percentage)\n",
    "\n",
    "# Strategy: Drop columns with >50% missing values, fill others\n",
    "threshold = 50  # Define a threshold for acceptable missing values\n",
    "columns_to_drop = missing_percentage[missing_percentage > threshold].index\n",
    "print(\"\\nColumns to drop (more than 50% missing):\", columns_to_drop)\n",
    "\n",
    "# Drop columns with too many missing values\n",
    "data.drop(columns=columns_to_drop, inplace=True)\n",
    "\n",
    "# Fill missing values for numerical columns with mean\n",
    "numerical_cols = data.select_dtypes(include=['float64', 'int64']).columns\n",
    "data[numerical_cols] = data[numerical_cols].fillna(data[numerical_cols].mean())\n",
    "\n",
    "# Fill missing values for categorical columns with mode\n",
    "categorical_cols = data.select_dtypes(include=['object']).columns\n",
    "data[categorical_cols] = data[categorical_cols].fillna(data[categorical_cols].mode().iloc[0])\n",
    "\n",
    "# Verify no missing values remain\n",
    "print(\"\\nMissing values after handling:\")\n",
    "print(data.isnull().sum())\n"
   ]
  },
  {
   "cell_type": "code",
   "execution_count": 7,
   "id": "5cae5baa-80ad-4b0e-8b0e-c68136192c69",
   "metadata": {},
   "outputs": [
    {
     "name": "stdout",
     "output_type": "stream",
     "text": [
      "Categorical Columns: Index([], dtype='object')\n",
      "\n",
      "Encoded Dataset Preview:\n",
      "    Food Product  Main Ingredient  Sweetener  Fat/Oil  Seasoning  Allergens  \\\n",
      "0              0                0          8        3         57          0   \n",
      "1              0                0          8        3         57          0   \n",
      "2             71               23          6       21        139          1   \n",
      "3             71               23          6       21        139          1   \n",
      "4             57               20          6       21        139          2   \n",
      "..           ...              ...        ...      ...        ...        ...   \n",
      "95           107               47          6       21        175          9   \n",
      "96           101               63          6        3          9          9   \n",
      "97           161               34          6        3        143         10   \n",
      "98            96               34          5       21         22         10   \n",
      "99            96               34          5       21         22         10   \n",
      "\n",
      "    Price ($)  Customer rating (Out of 5)  Prediction  \n",
      "0       10.15                         3.1           0  \n",
      "1        6.17                         4.5           0  \n",
      "2       19.65                         4.1           0  \n",
      "3       17.48                         4.7           0  \n",
      "4       10.83                         3.7           0  \n",
      "..        ...                         ...         ...  \n",
      "95       6.64                         1.8           0  \n",
      "96       6.14                         1.4           0  \n",
      "97      16.82                         1.9           0  \n",
      "98       8.21                         1.7           0  \n",
      "99       8.85                         2.3           0  \n",
      "\n",
      "[100 rows x 9 columns]\n",
      "\n",
      "Data Types After Encoding:\n",
      "Food Product                    int32\n",
      "Main Ingredient                 int32\n",
      "Sweetener                       int32\n",
      "Fat/Oil                         int32\n",
      "Seasoning                       int32\n",
      "Allergens                       int32\n",
      "Price ($)                     float64\n",
      "Customer rating (Out of 5)    float64\n",
      "Prediction                      int32\n",
      "dtype: object\n"
     ]
    }
   ],
   "source": [
    "from sklearn.preprocessing import LabelEncoder\n",
    "\n",
    "# Identify categorical columns\n",
    "categorical_cols = data.select_dtypes(include=['object']).columns\n",
    "print(\"Categorical Columns:\", categorical_cols)\n",
    "\n",
    "# Apply Label Encoding to categorical columns\n",
    "label_encoders = {}  # Store encoders for potential decoding later\n",
    "for col in categorical_cols:\n",
    "    le = LabelEncoder()\n",
    "    data[col] = le.fit_transform(data[col])\n",
    "    label_encoders[col] = le  # Save the encoder\n",
    "\n",
    "# Verify encoding\n",
    "print(\"\\nEncoded Dataset Preview:\")\n",
    "print(data.head(100))\n",
    "\n",
    "# Check data types to ensure all columns are numerical\n",
    "print(\"\\nData Types After Encoding:\")\n",
    "print(data.dtypes)\n"
   ]
  },
  {
   "cell_type": "code",
   "execution_count": 10,
   "id": "84945411-04e2-415a-a4c1-bc660aba6f52",
   "metadata": {},
   "outputs": [
    {
     "name": "stdout",
     "output_type": "stream",
     "text": [
      "Class Distribution in Target Column:\n",
      "Prediction\n",
      "0    256\n",
      "1    143\n",
      "Name: count, dtype: int64\n"
     ]
    }
   ],
   "source": [
    "# Check class distribution in the target column\n",
    "target_column = 'Prediction'  # Replace with the actual target column name\n",
    "print(\"Class Distribution in Target Column:\")\n",
    "print(data[target_column].value_counts())\n"
   ]
  },
  {
   "cell_type": "code",
   "execution_count": 11,
   "id": "8b825a80-79eb-4ba9-a63b-de54154acdcb",
   "metadata": {},
   "outputs": [
    {
     "name": "stdout",
     "output_type": "stream",
     "text": [
      "Scale Pos Weight: 1.7902097902097902\n"
     ]
    }
   ],
   "source": [
    "# Calculate scale_pos_weight\n",
    "scale_pos_weight = len(data[data['Prediction'] == 0]) / len(data[data['Prediction'] == 1])\n",
    "print(f\"Scale Pos Weight: {scale_pos_weight}\")\n",
    "\n",
    "# Pass this parameter when initializing XGBoost\n",
    "import xgboost as xgb\n",
    "\n",
    "xgb_model = xgb.XGBClassifier(scale_pos_weight=scale_pos_weight, random_state=42)\n"
   ]
  },
  {
   "cell_type": "code",
   "execution_count": 12,
   "id": "00c689c8-4dd5-42bd-8c46-e8334df8ef3e",
   "metadata": {},
   "outputs": [
    {
     "name": "stdout",
     "output_type": "stream",
     "text": [
      "Data Types:\n",
      "Food Product                    int32\n",
      "Main Ingredient                 int32\n",
      "Sweetener                       int32\n",
      "Fat/Oil                         int32\n",
      "Seasoning                       int32\n",
      "Allergens                       int32\n",
      "Price ($)                     float64\n",
      "Customer rating (Out of 5)    float64\n",
      "Prediction                      int32\n",
      "dtype: object\n"
     ]
    }
   ],
   "source": [
    "print(\"Data Types:\")\n",
    "print(data.dtypes)\n",
    "\n",
    "# Ensure no object or string types remain in the dataset\n",
    "assert data.select_dtypes(include=['object']).shape[1] == 0, \"Categorical columns are still present!\"\n"
   ]
  },
  {
   "cell_type": "code",
   "execution_count": 13,
   "id": "b999b4b5-526f-47a5-9cbf-0bcf8f7e05f6",
   "metadata": {},
   "outputs": [],
   "source": [
    "from sklearn.preprocessing import StandardScaler\n",
    "\n",
    "# Identify numerical columns\n",
    "numerical_cols = data.select_dtypes(include=['int64', 'float64']).columns\n",
    "\n",
    "# Apply scaling if necessary\n",
    "scaler = StandardScaler()\n",
    "data[numerical_cols] = scaler.fit_transform(data[numerical_cols])\n"
   ]
  },
  {
   "cell_type": "code",
   "execution_count": 14,
   "id": "78269aba-00f0-42fe-96e6-e06ec8e663a4",
   "metadata": {},
   "outputs": [
    {
     "name": "stdout",
     "output_type": "stream",
     "text": [
      "Outliers detected in Price ($): 0\n",
      "Outliers detected in Customer rating (Out of 5): 0\n"
     ]
    }
   ],
   "source": [
    "# Detect outliers using IQR\n",
    "for col in numerical_cols:\n",
    "    Q1 = data[col].quantile(0.25)\n",
    "    Q3 = data[col].quantile(0.75)\n",
    "    IQR = Q3 - Q1\n",
    "    outliers = data[(data[col] < Q1 - 1.5 * IQR) | (data[col] > Q3 + 1.5 * IQR)]\n",
    "    print(f\"Outliers detected in {col}: {len(outliers)}\")\n"
   ]
  },
  {
   "cell_type": "code",
   "execution_count": 15,
   "id": "9c602b2e-f9da-412f-9b0c-44ad0215cd8d",
   "metadata": {},
   "outputs": [
    {
     "name": "stdout",
     "output_type": "stream",
     "text": [
      "Correlation Matrix:\n",
      "                            Food Product  Main Ingredient  Sweetener  \\\n",
      "Food Product                    1.000000         0.523192  -0.004210   \n",
      "Main Ingredient                 0.523192         1.000000  -0.059914   \n",
      "Sweetener                      -0.004210        -0.059914   1.000000   \n",
      "Fat/Oil                         0.167671         0.106601  -0.210390   \n",
      "Seasoning                       0.098401         0.005409  -0.122046   \n",
      "Allergens                       0.036094         0.019861   0.179053   \n",
      "Price ($)                      -0.010911        -0.074400  -0.031587   \n",
      "Customer rating (Out of 5)     -0.085068         0.004258  -0.025218   \n",
      "Prediction                      0.048272        -0.094763  -0.141715   \n",
      "\n",
      "                             Fat/Oil  Seasoning  Allergens  Price ($)  \\\n",
      "Food Product                0.167671   0.098401   0.036094  -0.010911   \n",
      "Main Ingredient             0.106601   0.005409   0.019861  -0.074400   \n",
      "Sweetener                  -0.210390  -0.122046   0.179053  -0.031587   \n",
      "Fat/Oil                     1.000000   0.249856  -0.225741   0.008149   \n",
      "Seasoning                   0.249856   1.000000  -0.123670   0.012528   \n",
      "Allergens                  -0.225741  -0.123670   1.000000   0.072854   \n",
      "Price ($)                   0.008149   0.012528   0.072854   1.000000   \n",
      "Customer rating (Out of 5) -0.072353   0.048191   0.009011   0.069642   \n",
      "Prediction                  0.342776   0.044944   0.094671  -0.029418   \n",
      "\n",
      "                            Customer rating (Out of 5)  Prediction  \n",
      "Food Product                                 -0.085068    0.048272  \n",
      "Main Ingredient                               0.004258   -0.094763  \n",
      "Sweetener                                    -0.025218   -0.141715  \n",
      "Fat/Oil                                      -0.072353    0.342776  \n",
      "Seasoning                                     0.048191    0.044944  \n",
      "Allergens                                     0.009011    0.094671  \n",
      "Price ($)                                     0.069642   -0.029418  \n",
      "Customer rating (Out of 5)                    1.000000   -0.098962  \n",
      "Prediction                                   -0.098962    1.000000  \n",
      "Features dropped due to high correlation: set()\n"
     ]
    }
   ],
   "source": [
    "correlation_matrix = data.corr()\n",
    "print(\"Correlation Matrix:\")\n",
    "print(correlation_matrix)\n",
    "\n",
    "# Drop features with correlation > 0.9\n",
    "threshold = 0.9\n",
    "correlated_features = set(\n",
    "    correlation_matrix.columns[abs(correlation_matrix).gt(threshold).sum() > 1]\n",
    ")\n",
    "data = data.drop(columns=correlated_features)\n",
    "print(f\"Features dropped due to high correlation: {correlated_features}\")\n"
   ]
  },
  {
   "cell_type": "code",
   "execution_count": 16,
   "id": "aef37af8-a281-4cb3-9ed9-0543ac056622",
   "metadata": {},
   "outputs": [
    {
     "name": "stdout",
     "output_type": "stream",
     "text": [
      "Features Shape: (399, 8)\n",
      "Target Shape: (399,)\n"
     ]
    }
   ],
   "source": [
    "X = data.drop(columns=['Prediction'])  # Replace 'Prediction' with your actual target column\n",
    "y = data['Prediction']\n",
    "\n",
    "print(\"Features Shape:\", X.shape)\n",
    "print(\"Target Shape:\", y.shape)\n"
   ]
  },
  {
   "cell_type": "code",
   "execution_count": 17,
   "id": "67b90176-fa2e-4383-a94b-dd9066402bad",
   "metadata": {},
   "outputs": [
    {
     "name": "stdout",
     "output_type": "stream",
     "text": [
      "Processed dataset saved to processed_dataset.csv\n"
     ]
    }
   ],
   "source": [
    "# Save the processed dataset as a CSV file\n",
    "processed_file_path = 'processed_dataset.csv'\n",
    "data.to_csv(processed_file_path, index=False)\n",
    "print(f\"Processed dataset saved to {processed_file_path}\")\n"
   ]
  },
  {
   "cell_type": "code",
   "execution_count": null,
   "id": "a961b98a-d644-40f1-8605-a8ad7c0a5972",
   "metadata": {},
   "outputs": [],
   "source": []
  }
 ],
 "metadata": {
  "kernelspec": {
   "display_name": "Python 3 (ipykernel)",
   "language": "python",
   "name": "python3"
  },
  "language_info": {
   "codemirror_mode": {
    "name": "ipython",
    "version": 3
   },
   "file_extension": ".py",
   "mimetype": "text/x-python",
   "name": "python",
   "nbconvert_exporter": "python",
   "pygments_lexer": "ipython3",
   "version": "3.11.5"
  }
 },
 "nbformat": 4,
 "nbformat_minor": 5
}

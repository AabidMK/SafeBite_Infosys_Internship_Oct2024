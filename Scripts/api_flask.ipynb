{
 "cells": [
  {
   "cell_type": "code",
   "execution_count": 1,
   "id": "4a53c1f8-1f6a-44a4-a4cc-77f5050a7c2c",
   "metadata": {},
   "outputs": [
    {
     "name": "stdout",
     "output_type": "stream",
     "text": [
      " * Serving Flask app '__main__'\n",
      " * Debug mode: on\n"
     ]
    },
    {
     "name": "stderr",
     "output_type": "stream",
     "text": [
      "WARNING: This is a development server. Do not use it in a production deployment. Use a production WSGI server instead.\n",
      " * Running on all addresses (0.0.0.0)\n",
      " * Running on http://127.0.0.1:5000\n",
      " * Running on http://192.168.1.7:5000\n",
      "Press CTRL+C to quit\n",
      " * Restarting with stat\n"
     ]
    },
    {
     "ename": "SystemExit",
     "evalue": "1",
     "output_type": "error",
     "traceback": [
      "An exception has occurred, use %tb to see the full traceback.\n",
      "\u001b[1;31mSystemExit\u001b[0m\u001b[1;31m:\u001b[0m 1\n"
     ]
    },
    {
     "name": "stderr",
     "output_type": "stream",
     "text": [
      "C:\\Users\\khush\\anaconda3\\envs\\test\\Lib\\site-packages\\IPython\\core\\interactiveshell.py:3585: UserWarning: To exit: use 'exit', 'quit', or Ctrl-D.\n",
      "  warn(\"To exit: use 'exit', 'quit', or Ctrl-D.\", stacklevel=1)\n"
     ]
    }
   ],
   "source": [
    "from flask import Flask, request, jsonify\n",
    "import joblib\n",
    "import pandas as pd\n",
    "import os\n",
    "\n",
    "app = Flask(__name__)\n",
    "\n",
    "\n",
    "\n",
    "# Get the absolute path to the 'models' directory\n",
    "model_path = ('rf_model.pkl')\n",
    "\n",
    "# Now load the model\n",
    "model = joblib.load(model_path)\n",
    "\n",
    "\n",
    "\n",
    "\n",
    "\n",
    "@app.route('/')\n",
    "def home():\n",
    "    return \"Food Allergen Prediction API is running!\"\n",
    "\n",
    "@app.route('/predict', methods=['POST'])\n",
    "def predict():\n",
    "    try:\n",
    "        # Parse input JSON data\n",
    "        data = request.get_json()\n",
    "\n",
    "        # Create DataFrame from input data\n",
    "        input_data = pd.DataFrame([data])\n",
    "\n",
    "        # Reorder columns to match the model's expectations\n",
    "        expected_columns = model.named_steps['preprocessor'].transformers_[0][2]\n",
    "        input_data = input_data[expected_columns]\n",
    "\n",
    "        # Make prediction\n",
    "        predictions = model.predict(input_data)\n",
    "        prediction_value = int(predictions[0])\n",
    "\n",
    "        # Return prediction as JSON\n",
    "        return jsonify({\"prediction\": prediction_value})\n",
    "    except KeyError as key_err:\n",
    "        return jsonify({\"error\": f\"Missing columns: {key_err}\"}), 400\n",
    "    except Exception as e:\n",
    "        return jsonify({\"error\": f\"An error occurred: {e}\"}), 500\n",
    "\n",
    "if __name__ == \"__main__\":\n",
    "    port = int(os.environ.get('PORT', 5000))\n",
    "    app.run(host='0.0.0.0', port=port, debug=True)"
   ]
  },
  {
   "cell_type": "code",
   "execution_count": null,
   "id": "5879043b-dd98-4095-b2ea-5caa1a2ed499",
   "metadata": {},
   "outputs": [],
   "source": []
  }
 ],
 "metadata": {
  "kernelspec": {
   "display_name": "Python 3 (ipykernel)",
   "language": "python",
   "name": "python3"
  },
  "language_info": {
   "codemirror_mode": {
    "name": "ipython",
    "version": 3
   },
   "file_extension": ".py",
   "mimetype": "text/x-python",
   "name": "python",
   "nbconvert_exporter": "python",
   "pygments_lexer": "ipython3",
   "version": "3.12.7"
  }
 },
 "nbformat": 4,
 "nbformat_minor": 5
}

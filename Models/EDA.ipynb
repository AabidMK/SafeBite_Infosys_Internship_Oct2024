{
 "cells": [
  {
   "cell_type": "code",
   "execution_count": 1,
   "id": "e1c0daca-deda-4378-878e-e78ea277ca79",
   "metadata": {},
   "outputs": [
    {
     "name": "stdout",
     "output_type": "stream",
     "text": [
      "<class 'pandas.core.frame.DataFrame'>\n",
      "RangeIndex: 399 entries, 0 to 398\n",
      "Data columns (total 9 columns):\n",
      " #   Column                      Non-Null Count  Dtype  \n",
      "---  ------                      --------------  -----  \n",
      " 0   Food Product                399 non-null    object \n",
      " 1   Main Ingredient             399 non-null    object \n",
      " 2   Sweetener                   119 non-null    object \n",
      " 3   Fat/Oil                     341 non-null    object \n",
      " 4   Seasoning                   379 non-null    object \n",
      " 5   Allergens                   251 non-null    object \n",
      " 6   Price ($)                   399 non-null    float64\n",
      " 7   Customer rating (Out of 5)  399 non-null    float64\n",
      " 8   Prediction                  398 non-null    object \n",
      "dtypes: float64(2), object(7)\n",
      "memory usage: 28.2+ KB\n",
      "Main Ingredient\n",
      "Chicken    61\n",
      "Flour      16\n",
      "Beef       15\n",
      "Pasta      14\n",
      "Apples     12\n",
      "Name: count, dtype: int64\n"
     ]
    }
   ],
   "source": [
    "import pandas as pd\n",
    "\n",
    "# Replace 'your_dataset.csv' with the actual file name and path\n",
    "file_path = 'C:/Users/gunde/Downloads/archive.zip'\n",
    "# Load the dataset into a pandas DataFrame\n",
    "data = pd.read_csv(file_path)\n",
    "data.head()\n",
    "data.info()\n",
    "main_ingredient_counts = data['Main Ingredient'].value_counts().head()\n",
    "print(main_ingredient_counts)\n",
    "\n",
    "\n"
   ]
  },
  {
   "cell_type": "code",
   "execution_count": 5,
   "id": "b0489106-75b0-4c02-9f2e-f168b9a3698b",
   "metadata": {},
   "outputs": [
    {
     "name": "stdout",
     "output_type": "stream",
     "text": [
      "Index(['Food Product', 'Main Ingredient', 'Sweetener', 'Fat/Oil', 'Seasoning',\n",
      "       'Allergens', 'Price ($)', 'Customer rating (Out of 5)', 'Prediction'],\n",
      "      dtype='object')\n"
     ]
    }
   ],
   "source": [
    "print(data.columns)"
   ]
  },
  {
   "cell_type": "code",
   "execution_count": 7,
   "id": "30f251d7-1abd-4311-b0d0-0bd944cde5e6",
   "metadata": {},
   "outputs": [
    {
     "name": "stdout",
     "output_type": "stream",
     "text": [
      "Index(['Food Product', 'Main Ingredient', 'Sweetener', 'Fat/Oil', 'Seasoning',\n",
      "       'Allergens', 'Price ($)', 'Customer rating (Out of 5)', 'Prediction'],\n",
      "      dtype='object')\n"
     ]
    }
   ],
   "source": [
    "print(data.columns)"
   ]
  },
  {
   "cell_type": "code",
   "execution_count": 9,
   "id": "9b84b143-1ec1-457b-a8ea-152d6fd48bc6",
   "metadata": {},
   "outputs": [
    {
     "data": {
      "text/plain": [
       "Main Ingredient\n",
       "Chicken    61\n",
       "Flour      16\n",
       "Beef       15\n",
       "Pasta      14\n",
       "Apples     12\n",
       "Name: count, dtype: int64"
      ]
     },
     "execution_count": 9,
     "metadata": {},
     "output_type": "execute_result"
    }
   ],
   "source": [
    "data['Main Ingredient'].value_counts().head()"
   ]
  },
  {
   "cell_type": "code",
   "execution_count": 15,
   "id": "5cff8199-edfc-49a9-876c-edcca1dc4244",
   "metadata": {},
   "outputs": [
    {
     "name": "stdout",
     "output_type": "stream",
     "text": [
      "19.93\n",
      "5.07\n"
     ]
    }
   ],
   "source": [
    "print(data['Price ($)'].max())\n",
    "print(data['Price ($)'].min())"
   ]
  },
  {
   "cell_type": "code",
   "execution_count": 16,
   "id": "20361d6e-8a5f-47f7-b9bd-ee76622e0696",
   "metadata": {},
   "outputs": [
    {
     "data": {
      "text/plain": [
       "count       251\n",
       "unique       39\n",
       "top       Dairy\n",
       "freq         83\n",
       "Name: Allergens, dtype: object"
      ]
     },
     "execution_count": 16,
     "metadata": {},
     "output_type": "execute_result"
    }
   ],
   "source": [
    "data['Allergens'].describe()"
   ]
  },
  {
   "cell_type": "code",
   "execution_count": 18,
   "id": "c761f7fa-5c76-4c0f-9802-13fb577c159c",
   "metadata": {},
   "outputs": [
    {
     "name": "stdout",
     "output_type": "stream",
     "text": [
      "['Contains' 'Does not contain' nan]\n"
     ]
    }
   ],
   "source": [
    "print(data['Prediction'].unique())\n",
    "\n",
    "# Mapping 'Prediction' column\n",
    "data['Prediction'] = data['Prediction'].map({'Contains': 1, 'Does not contain': 0})\n",
    "\n",
    "# Renaming columns\n",
    "data = data.rename(columns={'Customer rating (Out of 5)': 'Customer rating', \n",
    "                            'Prediction': 'Is_Allergen'})"
   ]
  },
  {
   "cell_type": "code",
   "execution_count": 30,
   "id": "265be133-e5bb-4f87-b358-8d0fbbf7856d",
   "metadata": {},
   "outputs": [
    {
     "name": "stdout",
     "output_type": "stream",
     "text": [
      "<class 'pandas.core.frame.DataFrame'>\n",
      "RangeIndex: 399 entries, 0 to 398\n",
      "Data columns (total 9 columns):\n",
      " #   Column           Non-Null Count  Dtype  \n",
      "---  ------           --------------  -----  \n",
      " 0   Food Product     399 non-null    object \n",
      " 1   Main Ingredient  399 non-null    object \n",
      " 2   Sweetener        119 non-null    object \n",
      " 3   Fat/Oil          341 non-null    object \n",
      " 4   Seasoning        379 non-null    object \n",
      " 5   Allergens        251 non-null    object \n",
      " 6   Price ($)        399 non-null    float64\n",
      " 7   Customer rating  399 non-null    float64\n",
      " 8   Is_Allergen      0 non-null      float64\n",
      "dtypes: float64(3), object(6)\n",
      "memory usage: 28.2+ KB\n"
     ]
    }
   ],
   "source": [
    "data.info()"
   ]
  },
  {
   "cell_type": "code",
   "execution_count": 22,
   "id": "6afa294f-c4d6-4335-ac8e-a3f938b8735f",
   "metadata": {},
   "outputs": [
    {
     "name": "stdout",
     "output_type": "stream",
     "text": [
      "Column names: Index(['Food Product', 'Main Ingredient', 'Sweetener', 'Fat/Oil', 'Seasoning',\n",
      "       'Allergens', 'Price ($)', 'Customer rating', 'Is_Allergen'],\n",
      "      dtype='object')\n",
      "Cleaned column names: Index(['Food Product', 'Main Ingredient', 'Sweetener', 'Fat/Oil', 'Seasoning',\n",
      "       'Allergens', 'Price ($)', 'Customer rating', 'Is_Allergen'],\n",
      "      dtype='object')\n",
      "Column 'Prediction' not found.\n"
     ]
    }
   ],
   "source": [
    "# Step 1: Print column names to verify\n",
    "print(\"Column names:\", data.columns)\n",
    "\n",
    "# Step 2: Remove leading/trailing spaces from column names\n",
    "data.columns = data.columns.str.strip()\n",
    "\n",
    "# Step 3: Print cleaned column names to verify again\n",
    "print(\"Cleaned column names:\", data.columns)\n",
    "\n",
    "# Step 4: Check if 'Prediction' column exists\n",
    "if 'Prediction' in data.columns:\n",
    "    print(\"Column 'Prediction' found.\")\n",
    "    # Print unique values in the 'Prediction' column\n",
    "    print(data['Prediction'].unique())\n",
    "\n",
    "    # Apply the mapping\n",
    "    data['Prediction'] = data['Prediction'].map({'Contains': 1, 'Does not contain': 0})\n",
    "\n",
    "    # Rename the columns\n",
    "    data = data.rename(columns={'Customer rating (Out of 5)': 'Customer rating',\n",
    "                                'Prediction': 'Is_Allergen'})\n",
    "else:\n",
    "    print(\"Column 'Prediction' not found.\")\n",
    "\n"
   ]
  },
  {
   "cell_type": "code",
   "execution_count": 5,
   "id": "096953cc-6127-4b39-a240-b3d1cd7505df",
   "metadata": {},
   "outputs": [
    {
     "data": {
      "text/plain": [
       "['Allergen_Status_of_Food_Products.csv']"
      ]
     },
     "execution_count": 5,
     "metadata": {},
     "output_type": "execute_result"
    }
   ],
   "source": [
    "import zipfile\n",
    "import os\n",
    "\n",
    "# Path to the uploaded file\n",
    "zip_file_path = 'C:/Users/gunde/Downloads/archive.zip'\n",
    "extracted_folder = '/mnt/data/extracted_data'\n",
    "\n",
    "# Extract the uploaded zip file\n",
    "with zipfile.ZipFile(zip_file_path, 'r') as zip_ref:\n",
    "    zip_ref.extractall(extracted_folder)\n",
    "\n",
    "# List the contents of the extracted folder to see what files are inside\n",
    "os.listdir(extracted_folder)\n"
   ]
  },
  {
   "cell_type": "code",
   "execution_count": 7,
   "id": "535edaa7-817f-44a8-869b-2320e0389cee",
   "metadata": {},
   "outputs": [
    {
     "data": {
      "text/html": [
       "<div>\n",
       "<style scoped>\n",
       "    .dataframe tbody tr th:only-of-type {\n",
       "        vertical-align: middle;\n",
       "    }\n",
       "\n",
       "    .dataframe tbody tr th {\n",
       "        vertical-align: top;\n",
       "    }\n",
       "\n",
       "    .dataframe thead th {\n",
       "        text-align: right;\n",
       "    }\n",
       "</style>\n",
       "<table border=\"1\" class=\"dataframe\">\n",
       "  <thead>\n",
       "    <tr style=\"text-align: right;\">\n",
       "      <th></th>\n",
       "      <th>Food Product</th>\n",
       "      <th>Main Ingredient</th>\n",
       "      <th>Sweetener</th>\n",
       "      <th>Fat/Oil</th>\n",
       "      <th>Seasoning</th>\n",
       "      <th>Allergens</th>\n",
       "      <th>Price ($)</th>\n",
       "      <th>Customer rating (Out of 5)</th>\n",
       "      <th>Prediction</th>\n",
       "    </tr>\n",
       "  </thead>\n",
       "  <tbody>\n",
       "    <tr>\n",
       "      <th>0</th>\n",
       "      <td>Almond Cookies</td>\n",
       "      <td>Almonds</td>\n",
       "      <td>Sugar</td>\n",
       "      <td>Butter</td>\n",
       "      <td>Flour</td>\n",
       "      <td>Almonds, Wheat, Dairy</td>\n",
       "      <td>10.15</td>\n",
       "      <td>3.1</td>\n",
       "      <td>Contains</td>\n",
       "    </tr>\n",
       "    <tr>\n",
       "      <th>1</th>\n",
       "      <td>Almond Cookies</td>\n",
       "      <td>Almonds</td>\n",
       "      <td>Sugar</td>\n",
       "      <td>Butter</td>\n",
       "      <td>Flour</td>\n",
       "      <td>Almonds, Wheat, Dairy</td>\n",
       "      <td>6.17</td>\n",
       "      <td>4.5</td>\n",
       "      <td>Contains</td>\n",
       "    </tr>\n",
       "    <tr>\n",
       "      <th>2</th>\n",
       "      <td>Chicken Noodle Soup</td>\n",
       "      <td>Chicken broth</td>\n",
       "      <td>NaN</td>\n",
       "      <td>NaN</td>\n",
       "      <td>Salt</td>\n",
       "      <td>Chicken, Wheat, Celery</td>\n",
       "      <td>19.65</td>\n",
       "      <td>4.1</td>\n",
       "      <td>Contains</td>\n",
       "    </tr>\n",
       "    <tr>\n",
       "      <th>3</th>\n",
       "      <td>Chicken Noodle Soup</td>\n",
       "      <td>Chicken broth</td>\n",
       "      <td>NaN</td>\n",
       "      <td>NaN</td>\n",
       "      <td>Salt</td>\n",
       "      <td>Chicken, Wheat, Celery</td>\n",
       "      <td>17.48</td>\n",
       "      <td>4.7</td>\n",
       "      <td>Contains</td>\n",
       "    </tr>\n",
       "    <tr>\n",
       "      <th>4</th>\n",
       "      <td>Cheddar Cheese</td>\n",
       "      <td>Cheese</td>\n",
       "      <td>NaN</td>\n",
       "      <td>NaN</td>\n",
       "      <td>Salt</td>\n",
       "      <td>Dairy</td>\n",
       "      <td>10.83</td>\n",
       "      <td>3.7</td>\n",
       "      <td>Contains</td>\n",
       "    </tr>\n",
       "  </tbody>\n",
       "</table>\n",
       "</div>"
      ],
      "text/plain": [
       "          Food Product Main Ingredient Sweetener Fat/Oil Seasoning  \\\n",
       "0       Almond Cookies         Almonds     Sugar  Butter     Flour   \n",
       "1       Almond Cookies         Almonds     Sugar  Butter     Flour   \n",
       "2  Chicken Noodle Soup   Chicken broth       NaN     NaN      Salt   \n",
       "3  Chicken Noodle Soup   Chicken broth       NaN     NaN      Salt   \n",
       "4       Cheddar Cheese          Cheese       NaN     NaN      Salt   \n",
       "\n",
       "                Allergens  Price ($)  Customer rating (Out of 5) Prediction  \n",
       "0   Almonds, Wheat, Dairy      10.15                         3.1   Contains  \n",
       "1   Almonds, Wheat, Dairy       6.17                         4.5   Contains  \n",
       "2  Chicken, Wheat, Celery      19.65                         4.1   Contains  \n",
       "3  Chicken, Wheat, Celery      17.48                         4.7   Contains  \n",
       "4                   Dairy      10.83                         3.7   Contains  "
      ]
     },
     "execution_count": 7,
     "metadata": {},
     "output_type": "execute_result"
    }
   ],
   "source": [
    "import pandas as pd\n",
    "\n",
    "# Load the extracted CSV file to inspect the data\n",
    "csv_file_path = os.path.join(extracted_folder, 'Allergen_Status_of_Food_Products.csv')\n",
    "data = pd.read_csv(csv_file_path)\n",
    "\n",
    "# Display the first few rows of the dataset to understand its structure\n",
    "data.head()\n"
   ]
  },
  {
   "cell_type": "code",
   "execution_count": null,
   "id": "de7d9207-5161-4792-8b69-9012de752788",
   "metadata": {},
   "outputs": [],
   "source": []
  },
  {
   "cell_type": "code",
   "execution_count": 10,
   "id": "10248cbd-f665-4d16-a992-c0e3cc7b8863",
   "metadata": {},
   "outputs": [
    {
     "data": {
      "image/png": "[encoded data removed]",
      "text/plain": [
       "<Figure size 800x600 with 1 Axes>"
      ]
     },
     "metadata": {},
     "output_type": "display_data"
    }
   ],
   "source": [
    "import matplotlib.pyplot as plt\n",
    "import seaborn as sns\n",
    "\n",
    "# 1. Customer Rating Distribution: Distribution of customer ratings\n",
    "plt.figure(figsize=(8, 6))\n",
    "sns.histplot(data['Customer rating (Out of 5)'], bins=10, kde=True)\n",
    "plt.title('Customer Rating Distribution')\n",
    "plt.xlabel('Rating (Out of 5)')\n",
    "plt.ylabel('Frequency')\n",
    "plt.show()\n"
   ]
  },
  {
   "cell_type": "code",
   "execution_count": 14,
   "id": "f05f3156-234c-4db3-8938-2e41b0612fc6",
   "metadata": {},
   "outputs": [
    {
     "data": {
      "image/png": "[encoded data removed]",
      "text/plain": [
       "<Figure size 800x600 with 1 Axes>"
      ]
     },
     "metadata": {},
     "output_type": "display_data"
    }
   ],
   "source": [
    "# 2. Count of Products by Allergen Prediction: A bar chart for the number of products with and without allergens\n",
    "plt.figure(figsize=(8, 6))\n",
    "sns.countplot(data=data, x='Prediction')\n",
    "plt.title('Count of Products by Allergen Prediction')\n",
    "plt.xlabel('Allergen Prediction')\n",
    "plt.ylabel('Count')\n",
    "plt.show()\n"
   ]
  },
  {
   "cell_type": "code",
   "execution_count": 18,
   "id": "64719236-bfe9-43c0-a6e3-0768f61bddd7",
   "metadata": {},
   "outputs": [
    {
     "name": "stdout",
     "output_type": "stream",
     "text": [
      "Top 10 Most Common Ingredients:\n",
      "sugar: 7 times\n",
      "salt: 4 times\n",
      "water: 4 times\n",
      "wheat flour: 3 times\n",
      "vegetable oil: 3 times\n",
      "milk: 3 times\n",
      "corn starch: 3 times\n",
      "baking powder: 3 times\n",
      "butter: 2 times\n",
      "eggs: 2 times\n"
     ]
    }
   ],
   "source": [
    "import pandas as pd\n",
    "from collections import Counter\n",
    "\n",
    "# Sample data: Replace this with your actual data loading step\n",
    "data = {\n",
    "    'ingredients': [\n",
    "        'sugar', 'salt', 'water', 'wheat flour', 'vegetable oil',\n",
    "        'milk', 'sugar', 'corn starch', 'butter', 'eggs',\n",
    "        'baking powder', 'sugar', 'water', 'salt', 'sugar',\n",
    "        'milk', 'vegetable oil', 'butter', 'eggs', 'baking powder',\n",
    "        'corn starch', 'sugar', 'water', 'wheat flour', 'salt',\n",
    "        'milk', 'corn starch', 'sugar', 'water', 'salt',\n",
    "        'vegetable oil', 'wheat flour', 'sugar', 'baking powder',\n",
    "        # Add more ingredient entries as needed...\n",
    "    ]\n",
    "}\n",
    "\n",
    "# Convert to DataFrame\n",
    "df = pd.DataFrame(data)\n",
    "\n",
    "# Step 1: Count occurrences of each ingredient\n",
    "ingredient_counts = Counter(df['ingredients'])\n",
    "\n",
    "# Step 2: Get the top 10 most common ingredients\n",
    "top_10_ingredients = ingredient_counts.most_common(10)\n",
    "\n",
    "# Step 3: Print the results\n",
    "print(\"Top 10 Most Common Ingredients:\")\n",
    "for ingredient, count in top_10_ingredients:\n",
    "    print(f\"{ingredient}: {count} times\")\n"
   ]
  },
  {
   "cell_type": "code",
   "execution_count": null,
   "id": "2c85122b-6973-4ba9-a377-fa8383760bf4",
   "metadata": {},
   "outputs": [],
   "source": [
    "\n"
   ]
  },
  {
   "cell_type": "code",
   "execution_count": 10,
   "id": "d10e0f6b-87b9-476e-ac34-96360c27e217",
   "metadata": {},
   "outputs": [
    {
     "name": "stdout",
     "output_type": "stream",
     "text": [
      "Top 10 Most Frequent Allergens:\n",
      "dairy: 190 times\n",
      "wheat: 96 times\n",
      "fish: 20 times\n",
      "soybeans: 17 times\n",
      "shellfish: 16 times\n",
      "eggs: 13 times\n",
      "milk: 6 times\n",
      "nuts: 5 times\n",
      "peanuts: 5 times\n",
      "cocoa: 3 times\n"
     ]
    }
   ],
   "source": [
    "import pandas as pd\n",
    "from collections import Counter\n",
    "\n",
    "# Step 1: Load the dataset (assuming a CSV file)\n",
    "file_path = 'C:/Users/gunde/Downloads/archive.zip' # Replace with the actual file path\n",
    "data = pd.read_csv(file_path )\n",
    "\n",
    "# Step 2: Extract allergens (assuming the column is named 'allergens')\n",
    "# Replace 'allergens' with the actual column name in your dataset\n",
    "allergen_column = data['Allergens']\n",
    "\n",
    "# Step 3: Clean and parse the allergens\n",
    "# Split the allergens into a list for each product and remove extra spaces\n",
    "all_allergens = []\n",
    "for allergens in allergen_column:\n",
    "    if pd.notna(allergens):  # Check if the row is not empty\n",
    "        allergen_list = [allergen.strip().lower() for allergen in allergens.split(',')]\n",
    "        all_allergens.extend(allergen_list)\n",
    "\n",
    "# Step 4: Count the frequency of each allergen\n",
    "allergen_count = Counter(all_allergens)\n",
    "\n",
    "# Step 5: Get the top 10 most frequent allergens\n",
    "top_10_allergens = allergen_count.most_common(10)\n",
    "\n",
    "# Step 6: Output the top 10 allergens\n",
    "print(\"Top 10 Most Frequent Allergens:\")\n",
    "for allergen, count in top_10_allergens:\n",
    "    print(f\"{allergen}: {count} times\")\n"
   ]
  },
  {
   "cell_type": "code",
   "execution_count": 13,
   "id": "da52f1d6-3eb0-4a43-9bc6-cc35c0519b61",
   "metadata": {},
   "outputs": [
    {
     "name": "stdout",
     "output_type": "stream",
     "text": [
      "Top 10 Most Common Ingredients:\n",
      "sugar: 7 times\n",
      "salt: 4 times\n",
      "water: 4 times\n",
      "wheat flour: 3 times\n",
      "vegetable oil: 3 times\n",
      "milk: 3 times\n",
      "corn starch: 3 times\n",
      "baking powder: 3 times\n",
      "butter: 2 times\n",
      "eggs: 2 times\n"
     ]
    }
   ],
   "source": [
    "import pandas as pd\n",
    "from collections import Counter\n",
    "\n",
    "# Sample data: Replace this with your actual data loading step\n",
    "data = {\n",
    "    'ingredients': [\n",
    "        'sugar', 'salt', 'water', 'wheat flour', 'vegetable oil',\n",
    "        'milk', 'sugar', 'corn starch', 'butter', 'eggs',\n",
    "        'baking powder', 'sugar', 'water', 'salt', 'sugar',\n",
    "        'milk', 'vegetable oil', 'butter', 'eggs', 'baking powder',\n",
    "        'corn starch', 'sugar', 'water', 'wheat flour', 'salt',\n",
    "        'milk', 'corn starch', 'sugar', 'water', 'salt',\n",
    "        'vegetable oil', 'wheat flour', 'sugar', 'baking powder',\n",
    "        # Add more ingredient entries as needed...\n",
    "    ]\n",
    "}\n",
    "\n",
    "# Convert to DataFrame\n",
    "df = pd.DataFrame(data)\n",
    "\n",
    "# Step 1: Count occurrences of each ingredient\n",
    "ingredient_counts = Counter(df['ingredients'])\n",
    "\n",
    "# Step 2: Get the top 10 most common ingredients\n",
    "top_10_ingredients = ingredient_counts.most_common(10)\n",
    "\n",
    "# Step 3: Print the results\n",
    "print(\"Top 10 Most Common Ingredients:\")\n",
    "for ingredient, count in top_10_ingredients:\n",
    "    print(f\"{ingredient}: {count} times\")\n"
   ]
  },
  {
   "cell_type": "code",
   "execution_count": 35,
   "id": "724c01a8-2891-4bb0-9752-17d1d9a7db1f",
   "metadata": {},
   "outputs": [
    {
     "data": {
      "image/png": "[encoded data removed]",
      "text/plain": [
       "<Figure size 1000x600 with 1 Axes>"
      ]
     },
     "metadata": {},
     "output_type": "display_data"
    }
   ],
   "source": [
    "import pandas as pd\n",
    "import matplotlib.pyplot as plt\n",
    "import seaborn as sns\n",
    "\n",
    "# Load the dataset\n",
    "df = pd.read_csv('C:/Users/gunde/Downloads/archive.zip')  # Update with actual file path\n",
    "\n",
    "# Plotting the box plot with outlines for Price distribution by allergen presence\n",
    "plt.figure(figsize=(10, 6))\n",
    "sns.boxplot(data=df, x='Prediction', y='Price ($)', linewidth=2.5, boxprops=dict(edgecolor='black', facecolor='lightblue'))\n",
    "plt.title('Price Distribution by Allergen Presence')\n",
    "plt.xlabel('Allergen Presence (Prediction)')\n",
    "plt.ylabel('Price ($)')\n",
    "plt.show()\n"
   ]
  },
  {
   "cell_type": "code",
   "execution_count": null,
   "id": "b4444267-acd7-400c-a0f7-71037cb5dc5c",
   "metadata": {},
   "outputs": [],
   "source": []
  }
 ],
 "metadata": {
  "kernelspec": {
   "display_name": "Python 3 (ipykernel)",
   "language": "python",
   "name": "python3"
  },
  "language_info": {
   "codemirror_mode": {
    "name": "ipython",
    "version": 3
   },
   "file_extension": ".py",
   "mimetype": "text/x-python",
   "name": "python",
   "nbconvert_exporter": "python",
   "pygments_lexer": "ipython3",
   "version": "3.12.4"
  }
 },
 "nbformat": 4,
 "nbformat_minor": 5
}
